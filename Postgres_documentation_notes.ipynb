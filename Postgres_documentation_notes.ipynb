{
 "cells": [
  {
   "cell_type": "markdown",
   "id": "71ecfbb1-b4ea-4d2a-b4fa-6c52e05508e9",
   "metadata": {},
   "source": [
    "<h1>Notes From PostgreSQL Documentation (V17)</h1>"
   ]
  },
  {
   "cell_type": "markdown",
   "id": "acd05d36-9876-4e06-b0af-75013e3621c3",
   "metadata": {},
   "source": [
    "- The main repository for the notebook file is available at [https://github.com/omeraytekinn/postgresql-notes](https://github.com/omeraytekinn/postgresql-notes).\n",
    "- You can download the notebook file from this repository and run the queries locally.\n",
    "- For more details you can check [PostgreSQL Documentation](https://www.postgresql.org/docs/17/index.html).\n",
    "- If you believe there is any incorrect information, please feel free to notify me at [omeraytekin00@gmail.com](mailto:omeraytekin00@gmail.com). I appreciate your feedback!"
   ]
  },
  {
   "cell_type": "markdown",
   "id": "9b05ce78-9bab-45b4-a3c2-e6f5d6c1e4cb",
   "metadata": {},
   "source": [
    "CONTENTS\n",
    "- [Installing Dependencies](#Installing-Dependencies)  \n",
    "- [Initializing Notebook and Connections](#Initializing-Notebook-and-Connections)  \n",
    "- [Chapter 5. Data Definition](#Chapter-5.-Data-Definition)  \n",
    "  - [5.1. Table Basics](#5.1.-Table-Basics)  \n",
    "  - [5.3. Identity Columns](#5.3.-Identity-Columns)  \n",
    "  - [5.4. Generated Columns](#5.4.-Generated-Columns)  \n",
    "  - [5.5. Constraints](#5.5.-Constraints)  \n",
    "    - [5.5.1. Check Constraints](#5.5.1.-Check-Constraints)  \n",
    "    - [Constraint property DEFERRABLE (Independent from book)](#constraint-property-deferrable-independent-from-book)  \n",
    "    - [5.5.2. Not-Null Constraints](#5.5.2.-Not-Null-Constraints)  \n",
    "    - [5.5.3. Unique Constraints](#5.5.3.-Unique-Constraints)  \n",
    "    - [5.5.4. Primary Keys](#5.5.4.-Primary-Keys)  \n",
    "    - [5.5.5. Foreign Keys](#5.5.5.-Foreign-Keys)  \n",
    "    - [5.5.6. Exclusion Constraints](#5.5.6.-Exclusion-Constraints)  \n",
    "  - [5.7. Modifying Tables](#5.7.-Modifying-Tables)  \n",
    "    - [5.7.1. Adding a Column](#5.7.1.-Adding-a-Column)  \n",
    "    - [5.7.2. Removing a Column](#5.7.2.-Removing-a-Column)  \n",
    "    - [5.7.3. Adding a Constraint](#5.7.3.-Adding-a-Constraint)  \n",
    "    - [5.7.4. Removing a Constraint](#5.7.4.-Removing-a-Constraint)  \n",
    "    - [5.7.5. Changing a Column's Default Value](#5.7.5.-Changing-a-Column's-Default-Value)  \n",
    "    - [5.7.6. Changing a Column's Data Type](#5.7.6.-Changing-a-Column's-Data-Type)  \n",
    "    - [5.7.7. Renaming a Column](#5.7.7.-Renaming-a-Column)  \n",
    "    - [5.7.8. Renaming a Table](#5.7.8.-Renaming-a-Table)  \n",
    "  - [5.8. Privileges](#5.8.-Privileges) "
   ]
  },
  {
   "cell_type": "markdown",
   "id": "bb02d75e-2328-4d24-a478-3aa854c5e024",
   "metadata": {},
   "source": [
    "## Installing Dependencies"
   ]
  },
  {
   "cell_type": "markdown",
   "id": "871fac63-20be-4a6c-9b47-fd87a0a7db72",
   "metadata": {},
   "source": [
    "<b>Install dependencies and after installment finished restart the notebook.</b>"
   ]
  },
  {
   "cell_type": "code",
   "execution_count": 1,
   "id": "d27951d3-c39d-4ff8-831f-b96cf7132554",
   "metadata": {},
   "outputs": [],
   "source": [
    "#!pip install jupyter ipython-sql jupyterlab_sql_editor[all]"
   ]
  },
  {
   "cell_type": "markdown",
   "id": "80e1eb63-20a2-4928-8a04-d938e990d248",
   "metadata": {},
   "source": [
    "## Initializing Notebook and Connections"
   ]
  },
  {
   "cell_type": "markdown",
   "id": "61cb4ad7-5ffc-4729-a5db-59ac369299a4",
   "metadata": {},
   "source": [
    "**This steps must be executed every start/restart of kernel or notebook**"
   ]
  },
  {
   "cell_type": "code",
   "execution_count": 1,
   "id": "f0e4c455-c05c-4f55-a5d0-4d3793289f56",
   "metadata": {},
   "outputs": [],
   "source": [
    "%load_ext sql"
   ]
  },
  {
   "cell_type": "code",
   "execution_count": 2,
   "id": "75c51ddb-bdd9-4368-91fa-de11f2b5f22e",
   "metadata": {},
   "outputs": [],
   "source": [
    "%config SqlMagic.style = '_DEPRECATED_DEFAULT'"
   ]
  },
  {
   "cell_type": "markdown",
   "id": "d2f7a1c8-1ada-4bea-a8f2-c17a8576e463",
   "metadata": {},
   "source": [
    "Connecting to DB\n",
    "Usage: &lt;db_vendor&gt;://[username:password]@&lt;serverip&gt;/&lt;dbname&gt;"
   ]
  },
  {
   "cell_type": "code",
   "execution_count": 4,
   "id": "43803a46-1a0f-4d8f-b188-24e18c1b07ab",
   "metadata": {},
   "outputs": [],
   "source": [
    "%sql postgresql://postgres@localhost/mydb"
   ]
  },
  {
   "cell_type": "markdown",
   "id": "d404bfdb-58c1-4acc-b0c5-f0a379d344e6",
   "metadata": {},
   "source": [
    "Testing connection"
   ]
  },
  {
   "cell_type": "code",
   "execution_count": 5,
   "id": "b94d4f72-2c18-4fc1-9262-8175dec52758",
   "metadata": {},
   "outputs": [
    {
     "name": "stdout",
     "output_type": "stream",
     "text": [
      " * postgresql://postgres@localhost/mydb\n",
      "1 rows affected.\n"
     ]
    },
    {
     "data": {
      "text/html": [
       "<table>\n",
       "    <thead>\n",
       "        <tr>\n",
       "            <th>result</th>\n",
       "        </tr>\n",
       "    </thead>\n",
       "    <tbody>\n",
       "        <tr>\n",
       "            <td>CONNECTION SUCCESSFULLY INITIALIZED</td>\n",
       "        </tr>\n",
       "    </tbody>\n",
       "</table>"
      ],
      "text/plain": [
       "[('CONNECTION SUCCESSFULLY INITIALIZED',)]"
      ]
     },
     "execution_count": 5,
     "metadata": {},
     "output_type": "execute_result"
    }
   ],
   "source": [
    "%sql select 'CONNECTION SUCCESSFULLY INITIALIZED' as result"
   ]
  },
  {
   "cell_type": "markdown",
   "id": "5404170c-2c47-469a-ac4c-cd1bf177db2e",
   "metadata": {},
   "source": [
    "## Chapter 5. Data Definition"
   ]
  },
  {
   "cell_type": "markdown",
   "id": "be0c8dee-eda7-43e1-bce8-dc7e61756a79",
   "metadata": {},
   "source": [
    "### 5.1. Table Basics"
   ]
  },
  {
   "cell_type": "markdown",
   "id": "b80b1c5d-7e51-4f1f-a55e-77d6c50c9bce",
   "metadata": {},
   "source": [
    "##### a. Creating Table"
   ]
  },
  {
   "cell_type": "code",
   "execution_count": 6,
   "id": "1a097853-f3f5-4d67-b201-2decacb78bf2",
   "metadata": {},
   "outputs": [
    {
     "name": "stdout",
     "output_type": "stream",
     "text": [
      " * postgresql://postgres@localhost/mydb\n",
      "Done.\n",
      "Done.\n"
     ]
    },
    {
     "data": {
      "text/plain": [
       "[]"
      ]
     },
     "execution_count": 6,
     "metadata": {},
     "output_type": "execute_result"
    }
   ],
   "source": [
    "%%sql\n",
    "DROP TABLE IF EXISTS products CASCADE;\n",
    "CREATE TABLE products (\n",
    "\tproduct_no integer,\n",
    "\tname text,\n",
    "\tprice numeric\n",
    ");"
   ]
  },
  {
   "cell_type": "markdown",
   "id": "fb0943b0-4ac8-4b23-b5bc-d8e09b9ca451",
   "metadata": {},
   "source": [
    "##### b. Deleting Table"
   ]
  },
  {
   "cell_type": "markdown",
   "id": "d50ac4de-d94e-4e2c-9567-cde46b15d42c",
   "metadata": {},
   "source": [
    "For details check reference <a href=\"https://www.postgresql.org/docs/current/sql-droptable.html\">https://www.postgresql.org/docs/current/sql-droptable.html</a>"
   ]
  },
  {
   "cell_type": "markdown",
   "id": "2bfca6e8-c0d0-4896-b397-509ec77eb05d",
   "metadata": {},
   "source": [
    "- IF EXISTS is optional. This statement prevents throwing error when table does not exist in DB."
   ]
  },
  {
   "cell_type": "code",
   "execution_count": 7,
   "id": "c04fd27b-2957-4a34-9233-0eb3b21f9c6f",
   "metadata": {},
   "outputs": [
    {
     "name": "stdout",
     "output_type": "stream",
     "text": [
      " * postgresql://postgres@localhost/mydb\n",
      "Done.\n"
     ]
    },
    {
     "data": {
      "text/plain": [
       "[]"
      ]
     },
     "execution_count": 7,
     "metadata": {},
     "output_type": "execute_result"
    }
   ],
   "source": [
    "%%sql\n",
    "DROP TABLE IF EXISTS products CASCADE;"
   ]
  },
  {
   "cell_type": "markdown",
   "id": "6bbe8679-dc48-4283-9279-bc1f70654dd3",
   "metadata": {},
   "source": [
    "##### c. Creating Table with DEFAULT value"
   ]
  },
  {
   "cell_type": "code",
   "execution_count": 8,
   "id": "de7d7b54-0eed-49b5-9aff-092e224bf33e",
   "metadata": {},
   "outputs": [
    {
     "name": "stdout",
     "output_type": "stream",
     "text": [
      " * postgresql://postgres@localhost/mydb\n",
      "Done.\n",
      "Done.\n"
     ]
    },
    {
     "data": {
      "text/plain": [
       "[]"
      ]
     },
     "execution_count": 8,
     "metadata": {},
     "output_type": "execute_result"
    }
   ],
   "source": [
    "%%sql\n",
    "DROP TABLE IF EXISTS products CASCADE;\n",
    "CREATE TABLE products (\n",
    "\tproduct_no integer,\n",
    "\tname text,\n",
    "\tprice numeric DEFAULT 9.99,\n",
    "\tdate timestamp DEFAULT CURRENT_TIMESTAMP\n",
    ");"
   ]
  },
  {
   "cell_type": "markdown",
   "id": "8c84c175-75a8-483a-9838-fc162c9859e6",
   "metadata": {},
   "source": [
    "### 5.3. Identity Columns"
   ]
  },
  {
   "cell_type": "markdown",
   "id": "15a3972a-baad-4223-934e-e95565c7b6c1",
   "metadata": {
    "jp-MarkdownHeadingCollapsed": true
   },
   "source": [
    "##### a. Creating table with IDENTITY column"
   ]
  },
  {
   "cell_type": "markdown",
   "id": "ad1e3c70-73b0-4bd4-8bd3-8cc2d24b2481",
   "metadata": {},
   "source": [
    "- When using <i>IDENTITY</i> column with <i>GENERATED</i> it means value of column will be created automatically\n",
    "- <i>GENERATED ALWAYS</i> means you can not insert manual values when adding/updating for this field.\n",
    "- <i>GENERATED BY DEFAULT</i> means you can insert manual values when adding/updating for this field\n",
    "- When using <i>GENERATED BY DEFAULT</i> you must be careful:\n",
    "    - Generating values will be using a sequential. That means it starts from 1 and goes on.\n",
    "    - If identity column is described as UNIQUE:\n",
    "        - You insert a record without inserting a manual value for identity column.\n",
    "        - After that you give identity column value by hand and that value is 2.\n",
    "            - It will be successfully inserted.\n",
    "            - But sequence value is still remains as 2.\n",
    "        - Then you inserted a record without inserting a manual value for identity column again.\n",
    "            - Since sequence value is 2 and there is a record also has valued 2, it will throw duplicated value error.\n",
    "    - If identity column is not described as UNIQUE:\n",
    "        - You insert a record without inserting a manual value for identity column.\n",
    "        - After that you give identity column value by hand and that value is 2.\n",
    "            - It will be successfully inserted.\n",
    "            - But sequence value is still remains as 2.\n",
    "        - Then you inserted a record without inserting a manual value for identity column again.\n",
    "            - Since sequence value is 2 it will insert record with identity column has value as 2.\n",
    "            - But there are two record which their identity columns has value as 2.\n",
    "- Even when using <i>GENERATED ALWAYS</i> there are duplicated value or error risks:\n",
    "    - By using OVERRIDING SYSTEM VALUE, you can enter identity column values manually.\n",
    "    - Same cases above (GENERATED BY DEFAULT) are also effective for this. "
   ]
  },
  {
   "cell_type": "markdown",
   "id": "aebe1e63-03fb-498d-8c03-d7218b920d47",
   "metadata": {},
   "source": [
    "##### b. Example usage of <i>GENERATED ALWAYS</i>"
   ]
  },
  {
   "cell_type": "markdown",
   "id": "37e3f630-35cc-46a6-96d8-89b3c9152fa7",
   "metadata": {},
   "source": [
    "- Creating table with GENERATED ALWAYS AS IDENTITY column"
   ]
  },
  {
   "cell_type": "code",
   "execution_count": 9,
   "id": "6954220e-6395-4224-86ae-991d8620cdf7",
   "metadata": {},
   "outputs": [
    {
     "name": "stdout",
     "output_type": "stream",
     "text": [
      " * postgresql://postgres@localhost/mydb\n",
      "Done.\n",
      "Done.\n"
     ]
    },
    {
     "data": {
      "text/plain": [
       "[]"
      ]
     },
     "execution_count": 9,
     "metadata": {},
     "output_type": "execute_result"
    }
   ],
   "source": [
    "%%sql\n",
    "DROP TABLE IF EXISTS people CASCADE;\n",
    "CREATE TABLE people (\n",
    "\tid bigint GENERATED ALWAYS AS IDENTITY,\n",
    "\tname varchar(80),\n",
    "\taddress varchar(80)\n",
    ");"
   ]
  },
  {
   "cell_type": "markdown",
   "id": "23752483-84ef-45b7-ab04-72b3b68f3cd1",
   "metadata": {},
   "source": [
    "- Record will be inserted successfully and id will be automatically assigned as 1"
   ]
  },
  {
   "cell_type": "code",
   "execution_count": 10,
   "id": "393d20ec-7f12-48c5-b028-20aa4991c30c",
   "metadata": {},
   "outputs": [
    {
     "name": "stdout",
     "output_type": "stream",
     "text": [
      " * postgresql://postgres@localhost/mydb\n",
      "1 rows affected.\n",
      "1 rows affected.\n"
     ]
    },
    {
     "data": {
      "text/html": [
       "<table>\n",
       "    <thead>\n",
       "        <tr>\n",
       "            <th>id</th>\n",
       "            <th>name</th>\n",
       "            <th>address</th>\n",
       "        </tr>\n",
       "    </thead>\n",
       "    <tbody>\n",
       "        <tr>\n",
       "            <td>1</td>\n",
       "            <td>A</td>\n",
       "            <td>foo</td>\n",
       "        </tr>\n",
       "    </tbody>\n",
       "</table>"
      ],
      "text/plain": [
       "[(1, 'A', 'foo')]"
      ]
     },
     "execution_count": 10,
     "metadata": {},
     "output_type": "execute_result"
    }
   ],
   "source": [
    "%%sql \n",
    "INSERT INTO people (name, address) VALUES ('A', 'foo');\n",
    "SELECT * FROM people;"
   ]
  },
  {
   "cell_type": "markdown",
   "id": "0a7c3633-7cbd-4f9d-a9d1-9016bf765a0d",
   "metadata": {},
   "source": [
    "- Throws error because of id column is generated always and given an id value"
   ]
  },
  {
   "cell_type": "code",
   "execution_count": 11,
   "id": "f6f68156-b488-44f9-842a-a96663c9f37b",
   "metadata": {},
   "outputs": [
    {
     "name": "stdout",
     "output_type": "stream",
     "text": [
      " * postgresql://postgres@localhost/mydb\n",
      "(psycopg2.errors.GeneratedAlways) HATA:  cannot insert a non-DEFAULT value into column \"id\"\n",
      "DETAIL:  Column \"id\" is an identity column defined as GENERATED ALWAYS.\n",
      "HINT:  Geçersiz kılmak (override) için OVERRIDING SYSTEM VALUE kullanın.\n",
      "\n",
      "[SQL: INSERT INTO people (id, name, address) VALUES (2, 'B' , 'bar' );]\n",
      "(Background on this error at: https://sqlalche.me/e/20/f405)\n"
     ]
    }
   ],
   "source": [
    "%sql INSERT INTO people (id, name, address) VALUES (2, 'B', 'bar');"
   ]
  },
  {
   "cell_type": "markdown",
   "id": "613c15d4-2f8e-460d-863b-0b008c814ec3",
   "metadata": {},
   "source": [
    "- Will not throw error and insert record successfully"
   ]
  },
  {
   "cell_type": "code",
   "execution_count": 12,
   "id": "d95dd55b-26cb-49a9-908c-dd62212e9af9",
   "metadata": {},
   "outputs": [
    {
     "name": "stdout",
     "output_type": "stream",
     "text": [
      " * postgresql://postgres@localhost/mydb\n",
      "1 rows affected.\n"
     ]
    },
    {
     "data": {
      "text/plain": [
       "[]"
      ]
     },
     "execution_count": 12,
     "metadata": {},
     "output_type": "execute_result"
    }
   ],
   "source": [
    "%%sql \n",
    "INSERT INTO people (id, name, address) OVERRIDING SYSTEM VALUE VALUES (2, 'B', 'bar');"
   ]
  },
  {
   "cell_type": "markdown",
   "id": "227c43d5-f0cf-4890-aaee-11db8ae64266",
   "metadata": {},
   "source": [
    "- Insert will be successful but since sequence for id value is still 2 and there is a record which id is 2, there is two record which has id 2."
   ]
  },
  {
   "cell_type": "code",
   "execution_count": 13,
   "id": "62da32a0-45eb-42e1-be8e-24def64963a7",
   "metadata": {},
   "outputs": [
    {
     "name": "stdout",
     "output_type": "stream",
     "text": [
      " * postgresql://postgres@localhost/mydb\n",
      "1 rows affected.\n",
      "3 rows affected.\n"
     ]
    },
    {
     "data": {
      "text/html": [
       "<table>\n",
       "    <thead>\n",
       "        <tr>\n",
       "            <th>id</th>\n",
       "            <th>name</th>\n",
       "            <th>address</th>\n",
       "        </tr>\n",
       "    </thead>\n",
       "    <tbody>\n",
       "        <tr>\n",
       "            <td>1</td>\n",
       "            <td>A</td>\n",
       "            <td>foo</td>\n",
       "        </tr>\n",
       "        <tr>\n",
       "            <td>2</td>\n",
       "            <td>B</td>\n",
       "            <td>bar</td>\n",
       "        </tr>\n",
       "        <tr>\n",
       "            <td>2</td>\n",
       "            <td>C</td>\n",
       "            <td>baz</td>\n",
       "        </tr>\n",
       "    </tbody>\n",
       "</table>"
      ],
      "text/plain": [
       "[(1, 'A', 'foo'), (2, 'B', 'bar'), (2, 'C', 'baz')]"
      ]
     },
     "execution_count": 13,
     "metadata": {},
     "output_type": "execute_result"
    }
   ],
   "source": [
    "%%sql \n",
    "INSERT INTO people (name, address) VALUES ('C', 'baz');\n",
    "SELECT * FROM people;"
   ]
  },
  {
   "cell_type": "markdown",
   "id": "54568a92-08f8-47d5-bbc1-734890ce5ee0",
   "metadata": {},
   "source": [
    "##### c. Example usage of <i>GENERATED BY DEFAULT with UNIQUE descriptor</i>"
   ]
  },
  {
   "cell_type": "markdown",
   "id": "80203457-0617-4897-85c1-c532d7bbfef9",
   "metadata": {},
   "source": [
    "- Creating table with GENERATED BY DEFAULT AS IDENTITY column"
   ]
  },
  {
   "cell_type": "code",
   "execution_count": 14,
   "id": "63430648-aa29-4178-a229-1a8d10bdb335",
   "metadata": {},
   "outputs": [
    {
     "name": "stdout",
     "output_type": "stream",
     "text": [
      " * postgresql://postgres@localhost/mydb\n",
      "Done.\n",
      "Done.\n"
     ]
    },
    {
     "data": {
      "text/plain": [
       "[]"
      ]
     },
     "execution_count": 14,
     "metadata": {},
     "output_type": "execute_result"
    }
   ],
   "source": [
    "%%sql\n",
    "DROP TABLE IF EXISTS people CASCADE;\n",
    "CREATE TABLE people (\n",
    "\tid bigint UNIQUE GENERATED BY DEFAULT AS IDENTITY,\n",
    "\tname varchar(80),\n",
    "\taddress varchar(80)\n",
    ");"
   ]
  },
  {
   "cell_type": "markdown",
   "id": "4323ae66-5cca-4ee5-9920-84b4ecee051b",
   "metadata": {},
   "source": [
    "- First record will be inserted successfully and id will be automatically assigned as 1.\n",
    "- Second record will be inserted successfully."
   ]
  },
  {
   "cell_type": "code",
   "execution_count": 15,
   "id": "49746b82-8b1f-4e06-bb32-613e4ddaef42",
   "metadata": {},
   "outputs": [
    {
     "name": "stdout",
     "output_type": "stream",
     "text": [
      " * postgresql://postgres@localhost/mydb\n",
      "1 rows affected.\n",
      "1 rows affected.\n",
      "2 rows affected.\n"
     ]
    },
    {
     "data": {
      "text/html": [
       "<table>\n",
       "    <thead>\n",
       "        <tr>\n",
       "            <th>id</th>\n",
       "            <th>name</th>\n",
       "            <th>address</th>\n",
       "        </tr>\n",
       "    </thead>\n",
       "    <tbody>\n",
       "        <tr>\n",
       "            <td>1</td>\n",
       "            <td>A</td>\n",
       "            <td>foo</td>\n",
       "        </tr>\n",
       "        <tr>\n",
       "            <td>2</td>\n",
       "            <td>B</td>\n",
       "            <td>bar</td>\n",
       "        </tr>\n",
       "    </tbody>\n",
       "</table>"
      ],
      "text/plain": [
       "[(1, 'A', 'foo'), (2, 'B', 'bar')]"
      ]
     },
     "execution_count": 15,
     "metadata": {},
     "output_type": "execute_result"
    }
   ],
   "source": [
    "%%sql \n",
    "INSERT INTO people (name, address) VALUES ('A', 'foo');\n",
    "INSERT INTO people (id, name, address) VALUES (2, 'B', 'bar');\n",
    "SELECT * FROM people;"
   ]
  },
  {
   "cell_type": "markdown",
   "id": "8592f884-a409-4167-a77d-52e0fb55eeb9",
   "metadata": {},
   "source": [
    "- Error will be thrown because sequence for id value is still 2 and there is a record which id is 2"
   ]
  },
  {
   "cell_type": "code",
   "execution_count": 16,
   "id": "9c1ac9ff-d091-43a4-8dbf-dd71e968cc4e",
   "metadata": {},
   "outputs": [
    {
     "name": "stdout",
     "output_type": "stream",
     "text": [
      " * postgresql://postgres@localhost/mydb\n",
      "(psycopg2.errors.UniqueViolation) HATA:  tekrar eden kayıt, \"people_id_key\" tekil kısıtlamasını ihlal etmektedir\n",
      "DETAIL:  \"(id)=(2)\" anahtarı zaten mevcut\n",
      "\n",
      "[SQL: INSERT INTO people (name, address) VALUES ('C', 'baz');]\n",
      "(Background on this error at: https://sqlalche.me/e/20/gkpj)\n"
     ]
    }
   ],
   "source": [
    "%%sql \n",
    "INSERT INTO people (name, address) VALUES ('C', 'baz');"
   ]
  },
  {
   "cell_type": "markdown",
   "id": "7601ee48-ab03-4aad-aebf-2fcdaea2ba5e",
   "metadata": {},
   "source": [
    "##### d. Example usage of <i>GENERATED BY DEFAULT without UNIQUE descriptor</i>"
   ]
  },
  {
   "cell_type": "markdown",
   "id": "c8890b67-aa95-4cf0-8f88-dab49c5955f6",
   "metadata": {},
   "source": [
    "- Creating table with GENERATED BY DEFAULT AS IDENTITY column"
   ]
  },
  {
   "cell_type": "code",
   "execution_count": 17,
   "id": "1e03537d-d796-4345-bc7c-fb5b49c51bb5",
   "metadata": {},
   "outputs": [
    {
     "name": "stdout",
     "output_type": "stream",
     "text": [
      " * postgresql://postgres@localhost/mydb\n",
      "Done.\n",
      "Done.\n"
     ]
    },
    {
     "data": {
      "text/plain": [
       "[]"
      ]
     },
     "execution_count": 17,
     "metadata": {},
     "output_type": "execute_result"
    }
   ],
   "source": [
    "%%sql\n",
    "DROP TABLE IF EXISTS people CASCADE;\n",
    "CREATE TABLE people (\n",
    "\tid bigint GENERATED BY DEFAULT AS IDENTITY,\n",
    "\tname varchar(80),\n",
    "\taddress varchar(80)\n",
    ");"
   ]
  },
  {
   "cell_type": "markdown",
   "id": "f2a6d7ff-8239-4f89-8b09-73502383fa18",
   "metadata": {},
   "source": [
    "- First record will be inserted successfully and id will be automatically assigned as 1.\n",
    "- Second record will be inserted successfully."
   ]
  },
  {
   "cell_type": "code",
   "execution_count": 18,
   "id": "75d951cd-e141-4c41-8d6f-42f705c7e1bf",
   "metadata": {},
   "outputs": [
    {
     "name": "stdout",
     "output_type": "stream",
     "text": [
      " * postgresql://postgres@localhost/mydb\n",
      "1 rows affected.\n",
      "1 rows affected.\n",
      "2 rows affected.\n"
     ]
    },
    {
     "data": {
      "text/html": [
       "<table>\n",
       "    <thead>\n",
       "        <tr>\n",
       "            <th>id</th>\n",
       "            <th>name</th>\n",
       "            <th>address</th>\n",
       "        </tr>\n",
       "    </thead>\n",
       "    <tbody>\n",
       "        <tr>\n",
       "            <td>1</td>\n",
       "            <td>A</td>\n",
       "            <td>foo</td>\n",
       "        </tr>\n",
       "        <tr>\n",
       "            <td>2</td>\n",
       "            <td>B</td>\n",
       "            <td>bar</td>\n",
       "        </tr>\n",
       "    </tbody>\n",
       "</table>"
      ],
      "text/plain": [
       "[(1, 'A', 'foo'), (2, 'B', 'bar')]"
      ]
     },
     "execution_count": 18,
     "metadata": {},
     "output_type": "execute_result"
    }
   ],
   "source": [
    "%%sql \n",
    "INSERT INTO people (name, address) VALUES ('A', 'foo');\n",
    "INSERT INTO people (id, name, address) VALUES (2, 'B', 'bar');\n",
    "SELECT * FROM people;"
   ]
  },
  {
   "cell_type": "markdown",
   "id": "b41385c5-e451-40ee-a578-21a5d8738e17",
   "metadata": {},
   "source": [
    "- Insert will be successful but since sequence for id value is still 2 and there is a record which id is 2, there is two record which has id 2."
   ]
  },
  {
   "cell_type": "code",
   "execution_count": 19,
   "id": "68bca926-8d5d-4110-b1e5-3fadd4acc433",
   "metadata": {},
   "outputs": [
    {
     "name": "stdout",
     "output_type": "stream",
     "text": [
      " * postgresql://postgres@localhost/mydb\n",
      "1 rows affected.\n",
      "3 rows affected.\n"
     ]
    },
    {
     "data": {
      "text/html": [
       "<table>\n",
       "    <thead>\n",
       "        <tr>\n",
       "            <th>id</th>\n",
       "            <th>name</th>\n",
       "            <th>address</th>\n",
       "        </tr>\n",
       "    </thead>\n",
       "    <tbody>\n",
       "        <tr>\n",
       "            <td>1</td>\n",
       "            <td>A</td>\n",
       "            <td>foo</td>\n",
       "        </tr>\n",
       "        <tr>\n",
       "            <td>2</td>\n",
       "            <td>B</td>\n",
       "            <td>bar</td>\n",
       "        </tr>\n",
       "        <tr>\n",
       "            <td>2</td>\n",
       "            <td>C</td>\n",
       "            <td>baz</td>\n",
       "        </tr>\n",
       "    </tbody>\n",
       "</table>"
      ],
      "text/plain": [
       "[(1, 'A', 'foo'), (2, 'B', 'bar'), (2, 'C', 'baz')]"
      ]
     },
     "execution_count": 19,
     "metadata": {},
     "output_type": "execute_result"
    }
   ],
   "source": [
    "%%sql \n",
    "INSERT INTO people (name, address) VALUES ('C', 'baz');\n",
    "SELECT * FROM people;"
   ]
  },
  {
   "cell_type": "markdown",
   "id": "e1da44de-9b0c-4cbc-9a75-9040c2550a60",
   "metadata": {},
   "source": [
    "##### e. Usage of DEFAULT value"
   ]
  },
  {
   "cell_type": "markdown",
   "id": "27d11bff-0b78-4bc2-87b9-9ba85e82813b",
   "metadata": {},
   "source": [
    "- DEFAULT also can be used to specify the sequence explicitly.\n",
    "- Especially in UPDATE command when update generated column value and get it from sequence, you can use DEFAULT."
   ]
  },
  {
   "cell_type": "markdown",
   "id": "ee2b5702-8d9b-48a2-b852-49d18a7f44af",
   "metadata": {},
   "source": [
    "- Creating table has generated column"
   ]
  },
  {
   "cell_type": "code",
   "execution_count": 20,
   "id": "b31da8eb-20ad-483d-a928-43f4c9d0333a",
   "metadata": {},
   "outputs": [
    {
     "name": "stdout",
     "output_type": "stream",
     "text": [
      " * postgresql://postgres@localhost/mydb\n",
      "Done.\n",
      "Done.\n"
     ]
    },
    {
     "data": {
      "text/plain": [
       "[]"
      ]
     },
     "execution_count": 20,
     "metadata": {},
     "output_type": "execute_result"
    }
   ],
   "source": [
    "%%sql\n",
    "DROP TABLE IF EXISTS people CASCADE;\n",
    "CREATE TABLE people (\n",
    "\tid bigint GENERATED ALWAYS AS IDENTITY,\n",
    "\tname varchar(80),\n",
    "\taddress varchar(80)\n",
    ");"
   ]
  },
  {
   "cell_type": "markdown",
   "id": "9bd2631b-ff7c-475f-a5f3-1566a2bce632",
   "metadata": {},
   "source": [
    "- Inserting values.\n",
    "- When inserting values id will be fetched from a sequence.\n",
    "- First record has id 1, and second has id 2.\n",
    "- After insertions completed, current value of sequence will be 3."
   ]
  },
  {
   "cell_type": "code",
   "execution_count": 21,
   "id": "98c04427-13b9-41b3-9706-b5c0f223f515",
   "metadata": {},
   "outputs": [
    {
     "name": "stdout",
     "output_type": "stream",
     "text": [
      " * postgresql://postgres@localhost/mydb\n",
      "1 rows affected.\n",
      "1 rows affected.\n",
      "2 rows affected.\n"
     ]
    },
    {
     "data": {
      "text/html": [
       "<table>\n",
       "    <thead>\n",
       "        <tr>\n",
       "            <th>id</th>\n",
       "            <th>name</th>\n",
       "            <th>address</th>\n",
       "        </tr>\n",
       "    </thead>\n",
       "    <tbody>\n",
       "        <tr>\n",
       "            <td>1</td>\n",
       "            <td>A</td>\n",
       "            <td>foo</td>\n",
       "        </tr>\n",
       "        <tr>\n",
       "            <td>2</td>\n",
       "            <td>B</td>\n",
       "            <td>bar</td>\n",
       "        </tr>\n",
       "    </tbody>\n",
       "</table>"
      ],
      "text/plain": [
       "[(1, 'A', 'foo'), (2, 'B', 'bar')]"
      ]
     },
     "execution_count": 21,
     "metadata": {},
     "output_type": "execute_result"
    }
   ],
   "source": [
    "%%sql\n",
    "INSERT INTO people (name, address) VALUES ('A', 'foo');\n",
    "INSERT INTO people (name, address) VALUES ('B', 'bar');\n",
    "SELECT * FROM people;"
   ]
  },
  {
   "cell_type": "markdown",
   "id": "a3f668f3-1a5d-4f26-bf88-df2e269292d2",
   "metadata": {},
   "source": [
    "- Inserting value using DEFAULT.\n",
    "- Using DEFAULT means use sequence to insert value.\n",
    "- So the value will be current value of sequence (3) and current value of sequence increases."
   ]
  },
  {
   "cell_type": "code",
   "execution_count": 22,
   "id": "7d818527-3d15-4f60-a6be-4c4a58b3313d",
   "metadata": {},
   "outputs": [
    {
     "name": "stdout",
     "output_type": "stream",
     "text": [
      " * postgresql://postgres@localhost/mydb\n",
      "1 rows affected.\n",
      "3 rows affected.\n"
     ]
    },
    {
     "data": {
      "text/html": [
       "<table>\n",
       "    <thead>\n",
       "        <tr>\n",
       "            <th>id</th>\n",
       "            <th>name</th>\n",
       "            <th>address</th>\n",
       "        </tr>\n",
       "    </thead>\n",
       "    <tbody>\n",
       "        <tr>\n",
       "            <td>1</td>\n",
       "            <td>A</td>\n",
       "            <td>foo</td>\n",
       "        </tr>\n",
       "        <tr>\n",
       "            <td>2</td>\n",
       "            <td>B</td>\n",
       "            <td>bar</td>\n",
       "        </tr>\n",
       "        <tr>\n",
       "            <td>3</td>\n",
       "            <td>C</td>\n",
       "            <td>baz</td>\n",
       "        </tr>\n",
       "    </tbody>\n",
       "</table>"
      ],
      "text/plain": [
       "[(1, 'A', 'foo'), (2, 'B', 'bar'), (3, 'C', 'baz')]"
      ]
     },
     "execution_count": 22,
     "metadata": {},
     "output_type": "execute_result"
    }
   ],
   "source": [
    "%%sql \n",
    "INSERT INTO people (id, name, address) VALUES (DEFAULT, 'C', 'baz');\n",
    "SELECT * FROM people;"
   ]
  },
  {
   "cell_type": "markdown",
   "id": "0df363ab-941c-43c1-8d8e-0ea2adda6e9b",
   "metadata": {},
   "source": [
    "- DEFAULT value also can be used in UPDATE statement.\n",
    "- When using update statement, id value will be fetched from sequence still.\n",
    "- So new id of third record will be 4.\n",
    "- The other use of DEFAULT is in name column. Default value of name is NULL because it is not specified a default value."
   ]
  },
  {
   "cell_type": "code",
   "execution_count": 23,
   "id": "a4fd6cd8-0942-4adc-b430-6b0937e58332",
   "metadata": {},
   "outputs": [
    {
     "name": "stdout",
     "output_type": "stream",
     "text": [
      " * postgresql://postgres@localhost/mydb\n",
      "1 rows affected.\n",
      "3 rows affected.\n"
     ]
    },
    {
     "data": {
      "text/html": [
       "<table>\n",
       "    <thead>\n",
       "        <tr>\n",
       "            <th>id</th>\n",
       "            <th>name</th>\n",
       "            <th>address</th>\n",
       "        </tr>\n",
       "    </thead>\n",
       "    <tbody>\n",
       "        <tr>\n",
       "            <td>1</td>\n",
       "            <td>A</td>\n",
       "            <td>foo</td>\n",
       "        </tr>\n",
       "        <tr>\n",
       "            <td>2</td>\n",
       "            <td>B</td>\n",
       "            <td>bar</td>\n",
       "        </tr>\n",
       "        <tr>\n",
       "            <td>4</td>\n",
       "            <td>None</td>\n",
       "            <td>qwe</td>\n",
       "        </tr>\n",
       "    </tbody>\n",
       "</table>"
      ],
      "text/plain": [
       "[(1, 'A', 'foo'), (2, 'B', 'bar'), (4, None, 'qwe')]"
      ]
     },
     "execution_count": 23,
     "metadata": {},
     "output_type": "execute_result"
    }
   ],
   "source": [
    "%%sql\n",
    "UPDATE people SET id=DEFAULT, name=DEFAULT, address='qwe' where id = 3;\n",
    "SELECT * FROM people; "
   ]
  },
  {
   "cell_type": "markdown",
   "id": "8e211fe7-fcd5-4e80-929e-a66f5e796973",
   "metadata": {},
   "source": [
    "### 5.4. Generated Columns"
   ]
  },
  {
   "cell_type": "markdown",
   "id": "6350b0c7-1a12-4c6c-bbd0-5af766ba44f9",
   "metadata": {},
   "source": [
    "- Syntax is GENERATED [ALWAYS|BY DEFAULT] AS ... STORED\n",
    "- Creates a calculated column by using a column as base column.\n",
    "- Example usages:\n",
    "    - When you have to calculate a value using a column frequently, then you can store the calculated value in another column.\n",
    "        - By that way you can also index that column and make optimizations.\n",
    "    - When calculating, if base column is NULL then generated column will be also NULL.\n",
    "    - (From documentation) Generated columns maintain access privileges separately from their underlying base columns.\n",
    "        - So, it is possible to arrange it so that a particular role can read from a generated column but not from the underlying base columns.\n",
    "        - For example you can hide email value from users except current user is admin (for simplicity current_user used instead of role based query).\n",
    "            - To achive this there are 2 columns for email: email and visible_email\n",
    "            - visible_email will be generated using email.\n",
    "            - When getting visible_email if current user is admin email will be seen, but is not admin ***** will be seen in results.\n",
    "            - To prevent other users get email by using email column, user rights will be revoked.\n",
    "            - ```sql\n",
    "                CREATE TABLE users (\n",
    "                    id SERIAL PRIMARY KEY,\n",
    "                    email VARCHAR(200) NOT NULL,\n",
    "                    visible_email VARCHAR(200) GENERATED ALWAYS AS (\n",
    "                        CASE \n",
    "                            WHEN current_user = 'admin' THEN email\n",
    "                            ELSE '*****'\n",
    "                        END\n",
    "                    ) STORED\n",
    "                );\n",
    "                REVOKE SELECT ON users FROM PUBLIC;\n",
    "                GRANT SELECT (id, visible_email) ON users TO PUBLIC;\n",
    "                GRANT SELECT (id, email, visible_email) ON users TO admin;\n",
    "              ```\n",
    "     "
   ]
  },
  {
   "cell_type": "markdown",
   "id": "3269ff91-ace7-4d93-869b-e5b446bb12d9",
   "metadata": {},
   "source": [
    "##### a. Creating table with GENERATED column"
   ]
  },
  {
   "cell_type": "code",
   "execution_count": 24,
   "id": "28167ed0-b4b5-4fec-9bd7-d578c7ca6c9a",
   "metadata": {},
   "outputs": [
    {
     "name": "stdout",
     "output_type": "stream",
     "text": [
      " * postgresql://postgres@localhost/mydb\n",
      "Done.\n",
      "Done.\n"
     ]
    },
    {
     "data": {
      "text/plain": [
       "[]"
      ]
     },
     "execution_count": 24,
     "metadata": {},
     "output_type": "execute_result"
    }
   ],
   "source": [
    "%%sql\n",
    "DROP TABLE IF EXISTS people CASCADE;\n",
    "CREATE TABLE people (\n",
    "\tid bigint PRIMARY KEY GENERATED ALWAYS AS IDENTITY,\n",
    "\tname varchar(80),\n",
    "\taddress varchar(80),\n",
    "\theight_cm numeric,\n",
    "\theight_in numeric GENERATED ALWAYS AS (height_cm / 2.54) STORED\n",
    ");"
   ]
  },
  {
   "cell_type": "markdown",
   "id": "126e6fac-b6e6-40dd-b7b0-e104f81b10f2",
   "metadata": {},
   "source": [
    "- Inserting values to table with GENERATED column.\n",
    "- See that when height_cm is null, generated column is also null."
   ]
  },
  {
   "cell_type": "code",
   "execution_count": 25,
   "id": "5777e4a8-56ef-45a1-b4bc-e3e4d1c7ff96",
   "metadata": {},
   "outputs": [
    {
     "name": "stdout",
     "output_type": "stream",
     "text": [
      " * postgresql://postgres@localhost/mydb\n",
      "1 rows affected.\n",
      "1 rows affected.\n",
      "2 rows affected.\n"
     ]
    },
    {
     "data": {
      "text/html": [
       "<table>\n",
       "    <thead>\n",
       "        <tr>\n",
       "            <th>id</th>\n",
       "            <th>name</th>\n",
       "            <th>address</th>\n",
       "            <th>height_cm</th>\n",
       "            <th>height_in</th>\n",
       "        </tr>\n",
       "    </thead>\n",
       "    <tbody>\n",
       "        <tr>\n",
       "            <td>1</td>\n",
       "            <td>A</td>\n",
       "            <td>foo</td>\n",
       "            <td>170</td>\n",
       "            <td>66.9291338582677165</td>\n",
       "        </tr>\n",
       "        <tr>\n",
       "            <td>2</td>\n",
       "            <td>B</td>\n",
       "            <td>bar</td>\n",
       "            <td>None</td>\n",
       "            <td>None</td>\n",
       "        </tr>\n",
       "    </tbody>\n",
       "</table>"
      ],
      "text/plain": [
       "[(1, 'A', 'foo', Decimal('170'), Decimal('66.9291338582677165')),\n",
       " (2, 'B', 'bar', None, None)]"
      ]
     },
     "execution_count": 25,
     "metadata": {},
     "output_type": "execute_result"
    }
   ],
   "source": [
    "%%sql\n",
    "INSERT INTO people (name, address, height_cm) VALUES ('A', 'foo', 170); \n",
    "INSERT INTO people (name, address) VALUES ('B', 'bar');\n",
    "SELECT * FROM people;"
   ]
  },
  {
   "cell_type": "markdown",
   "id": "87e1546c-d647-4c0e-a3d4-de6f3efe0174",
   "metadata": {},
   "source": [
    "### 5.5. Constraints"
   ]
  },
  {
   "cell_type": "markdown",
   "id": "53782462-857c-42ba-9564-1450cebffeef",
   "metadata": {},
   "source": [
    "#### 5.5.1. Check Constraints"
   ]
  },
  {
   "cell_type": "markdown",
   "id": "10332056-419a-4b5b-ae1c-3a0bd29fd0d5",
   "metadata": {},
   "source": [
    "##### a. Creating table with check constraint"
   ]
  },
  {
   "cell_type": "code",
   "execution_count": 26,
   "id": "6d4f8f0c-9d89-4903-a2b0-e6c9fa858b33",
   "metadata": {},
   "outputs": [
    {
     "name": "stdout",
     "output_type": "stream",
     "text": [
      " * postgresql://postgres@localhost/mydb\n",
      "Done.\n",
      "Done.\n"
     ]
    },
    {
     "data": {
      "text/plain": [
       "[]"
      ]
     },
     "execution_count": 26,
     "metadata": {},
     "output_type": "execute_result"
    }
   ],
   "source": [
    "%%sql\n",
    "DROP TABLE IF EXISTS products CASCADE;\n",
    "CREATE TABLE products (\n",
    "\tproduct_no integer,\n",
    "\tname text,\n",
    "\tprice numeric CHECK (price > 0)\n",
    ");"
   ]
  },
  {
   "cell_type": "markdown",
   "id": "8b23cc6b-2d7b-417f-b706-ae9ecb71183a",
   "metadata": {},
   "source": [
    "- Inserting record to table has check constraint\n",
    "- Operation will throw error because of price should be greater than zero."
   ]
  },
  {
   "cell_type": "code",
   "execution_count": 27,
   "id": "d54a5857-987d-4354-bf94-583dfce670d5",
   "metadata": {},
   "outputs": [
    {
     "name": "stdout",
     "output_type": "stream",
     "text": [
      " * postgresql://postgres@localhost/mydb\n",
      "(psycopg2.errors.CheckViolation) HATA:  \"products\" tablosuna girilen yeni satır \"products_price_check\" check kısıtlamasını ihlal ediyor\n",
      "DETAIL:  Hata veren satır (1, product-1, 0) içeriyor.\n",
      "\n",
      "[SQL: INSERT INTO products VALUES (1, 'product-1' , 0);]\n",
      "(Background on this error at: https://sqlalche.me/e/20/gkpj)\n"
     ]
    }
   ],
   "source": [
    "%sql INSERT INTO products VALUES (1, 'product-1', 0);"
   ]
  },
  {
   "cell_type": "markdown",
   "id": "e105eed4-7faa-48b7-8e35-3b16f2a8d3b5",
   "metadata": {},
   "source": [
    "##### b. Creating table with check constraint which has name"
   ]
  },
  {
   "cell_type": "markdown",
   "id": "d8874c5b-1025-4fe8-87e8-555ba4813fce",
   "metadata": {},
   "source": [
    "- Giving a constraint name clarifies error messages and allows you to refer it when constraint needed to change"
   ]
  },
  {
   "cell_type": "code",
   "execution_count": 28,
   "id": "0950a081-b1af-4d9d-83fb-5be201c0a434",
   "metadata": {},
   "outputs": [
    {
     "name": "stdout",
     "output_type": "stream",
     "text": [
      " * postgresql://postgres@localhost/mydb\n",
      "Done.\n",
      "Done.\n"
     ]
    },
    {
     "data": {
      "text/plain": [
       "[]"
      ]
     },
     "execution_count": 28,
     "metadata": {},
     "output_type": "execute_result"
    }
   ],
   "source": [
    "%%sql\n",
    "DROP TABLE IF EXISTS products CASCADE;\n",
    "CREATE TABLE products (\n",
    "\tproduct_no integer,\n",
    "\tname text,\n",
    "\tprice numeric CONSTRAINT positive_price CHECK (price > 0)\n",
    ");"
   ]
  },
  {
   "cell_type": "markdown",
   "id": "7183e450-9224-4426-b282-7105315c6a02",
   "metadata": {},
   "source": [
    "- Inserting record to table has named check constraint\n",
    "- Operation will throw error because of price should be greater than zero.\n",
    "- See that error message includes constraint name (positive_price)."
   ]
  },
  {
   "cell_type": "code",
   "execution_count": 29,
   "id": "ab83c65b-17db-4ea5-92bd-fcf7b7d09997",
   "metadata": {},
   "outputs": [
    {
     "name": "stdout",
     "output_type": "stream",
     "text": [
      " * postgresql://postgres@localhost/mydb\n",
      "(psycopg2.errors.CheckViolation) HATA:  \"products\" tablosuna girilen yeni satır \"positive_price\" check kısıtlamasını ihlal ediyor\n",
      "DETAIL:  Hata veren satır (1, product-1, 0) içeriyor.\n",
      "\n",
      "[SQL: INSERT INTO products VALUES (1, 'product-1' , 0);]\n",
      "(Background on this error at: https://sqlalche.me/e/20/gkpj)\n"
     ]
    }
   ],
   "source": [
    "%sql INSERT INTO products VALUES (1, 'product-1', 0);"
   ]
  },
  {
   "cell_type": "markdown",
   "id": "806e4c4b-a3e7-4f6c-beb4-8f4b1e05f531",
   "metadata": {},
   "source": [
    "##### c. Removing constraint from table and adding new constraint"
   ]
  },
  {
   "cell_type": "markdown",
   "id": "54f5c08a-8e33-4f70-ba56-1390a381af26",
   "metadata": {},
   "source": [
    "- First creating table with constraint and give a name to constraint."
   ]
  },
  {
   "cell_type": "code",
   "execution_count": 30,
   "id": "b0437de4-6622-4433-a20d-df8f624d8842",
   "metadata": {},
   "outputs": [
    {
     "name": "stdout",
     "output_type": "stream",
     "text": [
      " * postgresql://postgres@localhost/mydb\n",
      "Done.\n",
      "Done.\n"
     ]
    },
    {
     "data": {
      "text/plain": [
       "[]"
      ]
     },
     "execution_count": 30,
     "metadata": {},
     "output_type": "execute_result"
    }
   ],
   "source": [
    "%%sql\n",
    "DROP TABLE IF EXISTS products CASCADE;\n",
    "CREATE TABLE products (\n",
    "\tproduct_no integer,\n",
    "\tname text,\n",
    "\tprice numeric CONSTRAINT positive_price CHECK (price > 0)\n",
    ");"
   ]
  },
  {
   "cell_type": "markdown",
   "id": "10b74084-defa-4380-8559-b612689a57de",
   "metadata": {},
   "source": [
    "- Removing a constraint and adding new constraint.\n",
    "- Since constraint has a name it easy to remove using name.\n",
    "- When not given a name you should find constraint int pg tables. (For more: Google -> PostgreSQL drop constraint with unknown name)"
   ]
  },
  {
   "cell_type": "code",
   "execution_count": 31,
   "id": "8d3b1e68-f9e2-42b3-8d73-3087545c5bf7",
   "metadata": {},
   "outputs": [
    {
     "name": "stdout",
     "output_type": "stream",
     "text": [
      " * postgresql://postgres@localhost/mydb\n",
      "Done.\n",
      "Done.\n"
     ]
    },
    {
     "data": {
      "text/plain": [
       "[]"
      ]
     },
     "execution_count": 31,
     "metadata": {},
     "output_type": "execute_result"
    }
   ],
   "source": [
    "%%sql\n",
    "ALTER TABLE products DROP CONSTRAINT IF EXISTS positive_price;\n",
    "ALTER TABLE products ADD CONSTRAINT minimum_price CHECK (price >= 10.0);"
   ]
  },
  {
   "cell_type": "markdown",
   "id": "d39465c7-bfba-414b-8756-06f380b1e2ae",
   "metadata": {},
   "source": [
    "##### d. Other constraint informations"
   ]
  },
  {
   "cell_type": "markdown",
   "id": "5a678110-30ae-48f4-8944-09d8b99e4ab1",
   "metadata": {},
   "source": [
    "- Check constraint can be added for multiple columns or full table.\n",
    "- When adding new constraint to non-empty table, all records should complain new constraint. Otherwise constraint is violated by some row error will be thrown. (This is not always the case; details will be provided later.)"
   ]
  },
  {
   "cell_type": "markdown",
   "id": "ef5e323e-76ef-4279-9cae-010e9c07d9e4",
   "metadata": {},
   "source": [
    "- First recreating table for cleaning constraints."
   ]
  },
  {
   "cell_type": "code",
   "execution_count": 32,
   "id": "692d8ab6-5352-4fd2-803d-f94c086b972c",
   "metadata": {},
   "outputs": [
    {
     "name": "stdout",
     "output_type": "stream",
     "text": [
      " * postgresql://postgres@localhost/mydb\n",
      "Done.\n",
      "Done.\n"
     ]
    },
    {
     "data": {
      "text/plain": [
       "[]"
      ]
     },
     "execution_count": 32,
     "metadata": {},
     "output_type": "execute_result"
    }
   ],
   "source": [
    "%%sql\n",
    "DROP TABLE IF EXISTS products CASCADE;\n",
    "CREATE TABLE products (\n",
    "\tproduct_no integer,\n",
    "\tname text,\n",
    "\tprice numeric CONSTRAINT positive_price CHECK (price > 0)\n",
    ");"
   ]
  },
  {
   "cell_type": "markdown",
   "id": "e93e2383-04d9-47ad-a7ed-1ec3f2390cd0",
   "metadata": {},
   "source": [
    "- Adding constraint using multiple columns."
   ]
  },
  {
   "cell_type": "code",
   "execution_count": 33,
   "id": "59a5c320-8e6a-45f5-b3bd-246f8944dfd9",
   "metadata": {},
   "outputs": [
    {
     "name": "stdout",
     "output_type": "stream",
     "text": [
      " * postgresql://postgres@localhost/mydb\n",
      "Done.\n"
     ]
    },
    {
     "data": {
      "text/plain": [
       "[]"
      ]
     },
     "execution_count": 33,
     "metadata": {},
     "output_type": "execute_result"
    }
   ],
   "source": [
    "%sql ALTER TABLE products ADD CONSTRAINT product_no_and_price CHECK (product_no > 0 and price > 0);"
   ]
  },
  {
   "cell_type": "markdown",
   "id": "579fb99c-0422-46df-a5d3-1383f61782a1",
   "metadata": {},
   "source": [
    "- Adding constraint for all columns."
   ]
  },
  {
   "cell_type": "code",
   "execution_count": 34,
   "id": "55f4d122-9ff3-43f2-a62d-1013c582548f",
   "metadata": {},
   "outputs": [
    {
     "name": "stdout",
     "output_type": "stream",
     "text": [
      " * postgresql://postgres@localhost/mydb\n",
      "Done.\n"
     ]
    },
    {
     "data": {
      "text/plain": [
       "[]"
      ]
     },
     "execution_count": 34,
     "metadata": {},
     "output_type": "execute_result"
    }
   ],
   "source": [
    "%sql ALTER TABLE products ADD CONSTRAINT lock_table CHECK (false);"
   ]
  },
  {
   "cell_type": "markdown",
   "id": "08881218-0323-4abf-b098-3b9cd3cb658c",
   "metadata": {},
   "source": [
    "- Check constraing can be applied only new added or modified records.\n",
    "- To achieve this NOT VALID should be used."
   ]
  },
  {
   "cell_type": "markdown",
   "id": "45f03b44-1525-4989-a6d4-0cf92c34d6a7",
   "metadata": {},
   "source": [
    "- First cleaning constraints."
   ]
  },
  {
   "cell_type": "code",
   "execution_count": 35,
   "id": "f5c32f36-3ac7-48f3-9d5e-5525d7705ba2",
   "metadata": {},
   "outputs": [
    {
     "name": "stdout",
     "output_type": "stream",
     "text": [
      " * postgresql://postgres@localhost/mydb\n",
      "Done.\n",
      "Done.\n"
     ]
    },
    {
     "data": {
      "text/plain": [
       "[]"
      ]
     },
     "execution_count": 35,
     "metadata": {},
     "output_type": "execute_result"
    }
   ],
   "source": [
    "%%sql \n",
    "ALTER TABLE products DROP CONSTRAINT IF EXISTS product_no_and_price;\n",
    "ALTER TABLE products DROP CONSTRAINT IF EXISTS lock_table;"
   ]
  },
  {
   "cell_type": "markdown",
   "id": "5e75dc43-f0ea-4532-82f8-51fc2af0febf",
   "metadata": {},
   "source": [
    "- Inserting values to product table to see effect of new constraints on old values."
   ]
  },
  {
   "cell_type": "code",
   "execution_count": 36,
   "id": "8a752ce4-4cc9-413f-8744-51c35757b32c",
   "metadata": {},
   "outputs": [
    {
     "name": "stdout",
     "output_type": "stream",
     "text": [
      " * postgresql://postgres@localhost/mydb\n",
      "1 rows affected.\n",
      "1 rows affected.\n",
      "2 rows affected.\n"
     ]
    },
    {
     "data": {
      "text/html": [
       "<table>\n",
       "    <thead>\n",
       "        <tr>\n",
       "            <th>product_no</th>\n",
       "            <th>name</th>\n",
       "            <th>price</th>\n",
       "        </tr>\n",
       "    </thead>\n",
       "    <tbody>\n",
       "        <tr>\n",
       "            <td>1</td>\n",
       "            <td>product-1</td>\n",
       "            <td>10</td>\n",
       "        </tr>\n",
       "        <tr>\n",
       "            <td>2</td>\n",
       "            <td>product-2</td>\n",
       "            <td>20</td>\n",
       "        </tr>\n",
       "    </tbody>\n",
       "</table>"
      ],
      "text/plain": [
       "[(1, 'product-1', Decimal('10')), (2, 'product-2', Decimal('20'))]"
      ]
     },
     "execution_count": 36,
     "metadata": {},
     "output_type": "execute_result"
    }
   ],
   "source": [
    "%%sql\n",
    "INSERT INTO products VALUES (1, 'product-1', 10);\n",
    "INSERT INTO products VALUES (2, 'product-2', 20);\n",
    "SELECT * FROM products;"
   ]
  },
  {
   "cell_type": "markdown",
   "id": "2b8e95b3-d48d-44a8-b8b7-68744bf8e638",
   "metadata": {},
   "source": [
    "- First see when adding new constraing without NOT VALID property.\n",
    "- It throws error because there are rows which not comply with new constraint."
   ]
  },
  {
   "cell_type": "code",
   "execution_count": 37,
   "id": "6ac5b1bd-d637-4049-acdc-ec11cb94e7ca",
   "metadata": {},
   "outputs": [
    {
     "name": "stdout",
     "output_type": "stream",
     "text": [
      " * postgresql://postgres@localhost/mydb\n",
      "(psycopg2.errors.CheckViolation) HATA:  check constraint \"lock_table\" of relation \"products\" is violated by some row\n",
      "\n",
      "[SQL: ALTER TABLE products ADD CONSTRAINT lock_table CHECK (false);]\n",
      "(Background on this error at: https://sqlalche.me/e/20/gkpj)\n"
     ]
    }
   ],
   "source": [
    "%sql ALTER TABLE products ADD CONSTRAINT lock_table CHECK (false);"
   ]
  },
  {
   "cell_type": "markdown",
   "id": "a8e069ef-8c4b-44dd-a376-b186fde7c4db",
   "metadata": {},
   "source": [
    "- Now when using NOT VALID, constraint does not check old values\n",
    "- So there will be no error thrown."
   ]
  },
  {
   "cell_type": "code",
   "execution_count": 38,
   "id": "4fc3467e-278d-44a4-b5f9-31682639510a",
   "metadata": {},
   "outputs": [
    {
     "name": "stdout",
     "output_type": "stream",
     "text": [
      " * postgresql://postgres@localhost/mydb\n",
      "Done.\n"
     ]
    },
    {
     "data": {
      "text/plain": [
       "[]"
      ]
     },
     "execution_count": 38,
     "metadata": {},
     "output_type": "execute_result"
    }
   ],
   "source": [
    "%sql ALTER TABLE products ADD CONSTRAINT lock_table CHECK (false) NOT VALID;"
   ]
  },
  {
   "cell_type": "markdown",
   "id": "09fb8a94-2244-4682-b83b-2d356d4cd1d8",
   "metadata": {},
   "source": [
    "- You can check the constraint for old values manually.\n",
    "- To do that you can use VALIDATE command.\n",
    "- This statement throws error if there is any record that violates new constraint."
   ]
  },
  {
   "cell_type": "code",
   "execution_count": 39,
   "id": "7cecc841-32ed-4174-a4b1-91930c507fd3",
   "metadata": {},
   "outputs": [
    {
     "name": "stdout",
     "output_type": "stream",
     "text": [
      " * postgresql://postgres@localhost/mydb\n",
      "(psycopg2.errors.CheckViolation) HATA:  check constraint \"lock_table\" of relation \"products\" is violated by some row\n",
      "\n",
      "[SQL: ALTER TABLE products VALIDATE CONSTRAINT lock_table;]\n",
      "(Background on this error at: https://sqlalche.me/e/20/gkpj)\n"
     ]
    }
   ],
   "source": [
    "%sql ALTER TABLE products VALIDATE CONSTRAINT lock_table;"
   ]
  },
  {
   "cell_type": "markdown",
   "id": "1f200c72-1010-495e-a985-e00d8e75f4ee",
   "metadata": {},
   "source": [
    "- Also when inserting new value to table it will throw error.\n",
    "- Because constraint does not allow new records."
   ]
  },
  {
   "cell_type": "code",
   "execution_count": 40,
   "id": "18109720-60b6-4f05-a69c-516510484718",
   "metadata": {},
   "outputs": [
    {
     "name": "stdout",
     "output_type": "stream",
     "text": [
      " * postgresql://postgres@localhost/mydb\n",
      "(psycopg2.errors.CheckViolation) HATA:  \"products\" tablosuna girilen yeni satır \"lock_table\" check kısıtlamasını ihlal ediyor\n",
      "DETAIL:  Hata veren satır (3, product-3, 30) içeriyor.\n",
      "\n",
      "[SQL: INSERT INTO products VALUES (3, 'product-3' , 30);]\n",
      "(Background on this error at: https://sqlalche.me/e/20/gkpj)\n"
     ]
    }
   ],
   "source": [
    "%sql INSERT INTO products VALUES (3, 'product-3', 30);"
   ]
  },
  {
   "cell_type": "markdown",
   "id": "f5c0d53d-6e6e-4769-80d4-858bb35dc7fe",
   "metadata": {},
   "source": [
    "#### Constraint property DEFERRABLE (Independent from book)"
   ]
  },
  {
   "cell_type": "markdown",
   "id": "706a23b2-1d57-4715-8834-68aa697b9f93",
   "metadata": {},
   "source": [
    "- For constraints there is also DEFERRABLE property is available.\n",
    "- DEFERRABLE specifies action timing for constraints.\n",
    "- It specifies will constraint applied immediately or applied end of transaction.\n",
    "- Usage is: CONSTRAINT ... [ DEFERRABLE | NOT DEFERRABLE ] [ INITIALLY DEFERRED | INITIALLY IMMEDIATE ]\n",
    "    - [ DEFERRABLE | NOT DEFERRABLE ]: default value is NOT DEFERRABLE.\n",
    "    - [ INITIALLY DEFERRED | INITIALLY IMMEDIATE ]: default value is INITIALLY IMMEDIATE.\n",
    "- INITIALLY DEFERRED means in all operations constraint will be checked immediately before insert/update.\n",
    "- INITIALLY DEFERRED means checking constraint wil be deferred until end of transaction (commit, rollback or error states).\n",
    "- Actually this cases will be initial case for DEFERRABLE. That means you can change DEFERRED or IMMEDIATE status in the transaction. But this change is only valid in transaction. Does not affect other transactions.\n",
    "    - For example when defining foreign key constraint with DEFERRABLE without specifying immediate or deferred, its default value is INITIALLY IMMEDIATE.\n",
    "        - SET CONSTRAINT ... DEFERRED\n",
    "    - So when in transaction if foreign key will be given later in the transaction, you can set status to DEFERRED and foreign key constraint will be checked end of transaction.\n",
    "        - SET CONSTRAINT ... IMMEDIATE\n",
    "    - The reverse could have also been done. A constraint can be defined INITIALLY DEFERRED and you may want to see result of an operation without waiting end of transaction. So you can change it to IMMEDIATE in the transaction. Then constraint will be checked immediately.\n",
    "- If NOT DEFERRABLE used, you can not change the defer status in the transaction temporarily.\n",
    "- Yes it can be changed by using ALTER TABLE statement but if affects all latter transactions. Since this action involves modifying the database schema, it is not recommended to use it indiscriminately.\n",
    "    - ALTER TABLE ... DROP CONSTRAINT ...;\n",
    "    - ALTER TABLE ... ADD CONSTRAINT ... FOREIGN KEY (...) REFERENCES ... DEFERRABLE INITIALLY DEFERRED;"
   ]
  },
  {
   "cell_type": "markdown",
   "id": "f10e7271-70df-4273-af5d-26718373e8f3",
   "metadata": {},
   "source": [
    "###### e.1 DEFERRABLE NOT DEFERRABLE usage"
   ]
  },
  {
   "cell_type": "markdown",
   "id": "115f322e-7e5d-4eb9-bedc-bf9243ae7768",
   "metadata": {},
   "source": [
    "- To see the effects in this section auto-commit will be disabled.\n",
    "- Do not forget to re-open for other sections."
   ]
  },
  {
   "cell_type": "code",
   "execution_count": 41,
   "id": "28d61801-7bf4-41d4-a17b-bfe9660f0184",
   "metadata": {},
   "outputs": [],
   "source": [
    "%config SqlMagic.autocommit=False"
   ]
  },
  {
   "cell_type": "markdown",
   "id": "8e02da5d-0dfb-4c36-b934-467d3ad80a6b",
   "metadata": {},
   "source": [
    "- Since default value for deferration is NOT DEFERRABLE, unique_product_no constraint will be NOT DEFERRABLE "
   ]
  },
  {
   "cell_type": "code",
   "execution_count": 42,
   "id": "851f8ad9-2f1b-4e8c-bab3-2f7e386b7448",
   "metadata": {},
   "outputs": [
    {
     "name": "stdout",
     "output_type": "stream",
     "text": [
      " * postgresql://postgres@localhost/mydb\n",
      "Done.\n",
      "Done.\n",
      "Done.\n"
     ]
    },
    {
     "data": {
      "text/plain": [
       "[]"
      ]
     },
     "execution_count": 42,
     "metadata": {},
     "output_type": "execute_result"
    }
   ],
   "source": [
    "%%sql\n",
    "DROP TABLE IF EXISTS products CASCADE;\n",
    "CREATE TABLE products (\n",
    "\tproduct_no integer CONSTRAINT unique_product_no UNIQUE,\n",
    "\tname text,\n",
    "\tprice numeric\n",
    ");\n",
    "COMMIT;"
   ]
  },
  {
   "cell_type": "markdown",
   "id": "8ec87d98-ce90-42fe-a615-0be28b858d98",
   "metadata": {},
   "source": [
    "- Second insertion will throw error immediately without waiting the transaction ends. \n",
    "- Since error thrown in transaction, it rolls back and none of the insertions will be reflected in the table."
   ]
  },
  {
   "cell_type": "code",
   "execution_count": 43,
   "id": "8642bcbe-6239-4684-bfd7-0912c193572e",
   "metadata": {},
   "outputs": [
    {
     "name": "stdout",
     "output_type": "stream",
     "text": [
      " * postgresql://postgres@localhost/mydb\n",
      "Done.\n",
      "1 rows affected.\n",
      "(psycopg2.errors.UniqueViolation) HATA:  tekrar eden kayıt, \"unique_product_no\" tekil kısıtlamasını ihlal etmektedir\n",
      "DETAIL:  \"(product_no)=(1)\" anahtarı zaten mevcut\n",
      "\n",
      "[SQL: INSERT INTO products VALUES (1, 'product-1', 10);]\n",
      "(Background on this error at: https://sqlalche.me/e/20/gkpj)\n"
     ]
    }
   ],
   "source": [
    "%%sql\n",
    "BEGIN;\n",
    "INSERT INTO products VALUES (1, 'product-1', 10);\n",
    "INSERT INTO products VALUES (1, 'product-1', 10);\n",
    "INSERT INTO products VALUES (2, 'product-2', 20);\n",
    "COMMIT;"
   ]
  },
  {
   "cell_type": "code",
   "execution_count": 44,
   "id": "ff345427-9885-4478-b289-f670e8199270",
   "metadata": {},
   "outputs": [
    {
     "name": "stdout",
     "output_type": "stream",
     "text": [
      " * postgresql://postgres@localhost/mydb\n",
      "0 rows affected.\n"
     ]
    },
    {
     "data": {
      "text/html": [
       "<table>\n",
       "    <thead>\n",
       "        <tr>\n",
       "            <th>product_no</th>\n",
       "            <th>name</th>\n",
       "            <th>price</th>\n",
       "        </tr>\n",
       "    </thead>\n",
       "    <tbody>\n",
       "    </tbody>\n",
       "</table>"
      ],
      "text/plain": [
       "[]"
      ]
     },
     "execution_count": 44,
     "metadata": {},
     "output_type": "execute_result"
    }
   ],
   "source": [
    "%sql SELECT * FROM products;"
   ]
  },
  {
   "cell_type": "code",
   "execution_count": 45,
   "id": "04632377-3af3-4251-bb22-1df0fc5c9d6d",
   "metadata": {},
   "outputs": [],
   "source": [
    "%config SqlMagic.autocommit=True"
   ]
  },
  {
   "cell_type": "markdown",
   "id": "9b26064b-c3b7-4787-90fe-3cff03218a12",
   "metadata": {},
   "source": [
    "###### e.2 DEFERRABLE INITIALLY DEFERRED usage"
   ]
  },
  {
   "cell_type": "markdown",
   "id": "b54cbc0b-3593-4aa5-a980-67ed7ff7a1f3",
   "metadata": {},
   "source": [
    "- To see the effects in this section auto-commit will be disabled.\n",
    "- Do not forget to re-open for other sections."
   ]
  },
  {
   "cell_type": "code",
   "execution_count": 46,
   "id": "7885d252-9f57-4b8e-b8f9-d35abeb775b0",
   "metadata": {},
   "outputs": [],
   "source": [
    "%config SqlMagic.autocommit=False"
   ]
  },
  {
   "cell_type": "markdown",
   "id": "582651dc-f874-41ce-97ac-b43340ac5f51",
   "metadata": {},
   "source": [
    "- Creating table with INITIALLY DEFERRED statement."
   ]
  },
  {
   "cell_type": "code",
   "execution_count": 47,
   "id": "3c28a89f-009f-4e2c-b41c-8e2a051fc094",
   "metadata": {},
   "outputs": [
    {
     "name": "stdout",
     "output_type": "stream",
     "text": [
      " * postgresql://postgres@localhost/mydb\n",
      "Done.\n",
      "Done.\n",
      "Done.\n"
     ]
    },
    {
     "data": {
      "text/plain": [
       "[]"
      ]
     },
     "execution_count": 47,
     "metadata": {},
     "output_type": "execute_result"
    }
   ],
   "source": [
    "%%sql\n",
    "DROP TABLE IF EXISTS products CASCADE;\n",
    "CREATE TABLE products (\n",
    "\tproduct_no integer CONSTRAINT unique_product_no UNIQUE DEFERRABLE INITIALLY DEFERRED,\n",
    "\tname text,\n",
    "\tprice numeric\n",
    ");\n",
    "COMMIT;"
   ]
  },
  {
   "cell_type": "markdown",
   "id": "00a254bf-a638-4140-be65-a11f15da9e89",
   "metadata": {},
   "source": [
    "- In this transaction second insertion will not throw error. Because unique constraint check deferred until transaction ends.\n",
    "- In third statement products with id 1 are deleted.\n",
    "- And in fourth statement a product with id 1 is inserted to empty table.\n",
    "- At the end of transaction there is only 1 record which has id 1.\n",
    "- So transaction commit successfully because all records comply with unique constraint."
   ]
  },
  {
   "cell_type": "code",
   "execution_count": 48,
   "id": "95e7a784-8c5c-4b79-932d-af2db90adbee",
   "metadata": {},
   "outputs": [
    {
     "name": "stdout",
     "output_type": "stream",
     "text": [
      " * postgresql://postgres@localhost/mydb\n",
      "Done.\n",
      "1 rows affected.\n",
      "1 rows affected.\n",
      "2 rows affected.\n",
      "1 rows affected.\n",
      "Done.\n"
     ]
    },
    {
     "data": {
      "text/plain": [
       "[]"
      ]
     },
     "execution_count": 48,
     "metadata": {},
     "output_type": "execute_result"
    }
   ],
   "source": [
    "%%sql\n",
    "BEGIN;\n",
    "INSERT INTO products VALUES (1, 'product-1', 10);\n",
    "INSERT INTO products VALUES (1, 'product-1', 10);\n",
    "DELETE FROM products where product_no=1;\n",
    "INSERT INTO products VALUES (1, 'product-1', 10);\n",
    "COMMIT;"
   ]
  },
  {
   "cell_type": "markdown",
   "id": "78d1d3f2-a9f2-4780-9a18-d3ea3844ff31",
   "metadata": {},
   "source": [
    "- In the end there is only 1 record in table."
   ]
  },
  {
   "cell_type": "code",
   "execution_count": 49,
   "id": "1cf05cef-f9d1-423d-a839-64f9e715dd2d",
   "metadata": {},
   "outputs": [
    {
     "name": "stdout",
     "output_type": "stream",
     "text": [
      " * postgresql://postgres@localhost/mydb\n",
      "1 rows affected.\n"
     ]
    },
    {
     "data": {
      "text/html": [
       "<table>\n",
       "    <thead>\n",
       "        <tr>\n",
       "            <th>product_no</th>\n",
       "            <th>name</th>\n",
       "            <th>price</th>\n",
       "        </tr>\n",
       "    </thead>\n",
       "    <tbody>\n",
       "        <tr>\n",
       "            <td>1</td>\n",
       "            <td>product-1</td>\n",
       "            <td>10</td>\n",
       "        </tr>\n",
       "    </tbody>\n",
       "</table>"
      ],
      "text/plain": [
       "[(1, 'product-1', Decimal('10'))]"
      ]
     },
     "execution_count": 49,
     "metadata": {},
     "output_type": "execute_result"
    }
   ],
   "source": [
    "%sql SELECT * FROM products;"
   ]
  },
  {
   "cell_type": "markdown",
   "id": "536d1ee9-8474-4150-8714-259f474e709e",
   "metadata": {},
   "source": [
    "- An example that gives an error.\n",
    "- But the error will be thrown at the end of transaction."
   ]
  },
  {
   "cell_type": "code",
   "execution_count": 50,
   "id": "bb26d390-2dde-4f53-888b-53c3d879dd37",
   "metadata": {},
   "outputs": [
    {
     "name": "stdout",
     "output_type": "stream",
     "text": [
      " * postgresql://postgres@localhost/mydb\n",
      "Done.\n",
      "1 rows affected.\n",
      "1 rows affected.\n",
      "(psycopg2.errors.UniqueViolation) HATA:  tekrar eden kayıt, \"unique_product_no\" tekil kısıtlamasını ihlal etmektedir\n",
      "DETAIL:  \"(product_no)=(2)\" anahtarı zaten mevcut\n",
      "\n",
      "[SQL: COMMIT;]\n",
      "(Background on this error at: https://sqlalche.me/e/20/gkpj)\n"
     ]
    }
   ],
   "source": [
    "%%sql\n",
    "BEGIN;\n",
    "INSERT INTO products VALUES (2, 'product-2', 10);\n",
    "INSERT INTO products VALUES (2, 'product-2', 10);\n",
    "COMMIT;"
   ]
  },
  {
   "cell_type": "code",
   "execution_count": 51,
   "id": "8e60557b-842c-4e54-9787-9451e9a211e7",
   "metadata": {},
   "outputs": [],
   "source": [
    "%config SqlMagic.autocommit=True"
   ]
  },
  {
   "cell_type": "markdown",
   "id": "3ffd5c42-3f35-4ade-bdf6-fb4ae4a8c62f",
   "metadata": {},
   "source": [
    "###### e.3 Changing DEFERRABLE status in transaction"
   ]
  },
  {
   "cell_type": "markdown",
   "id": "e3ea3be0-5657-4ea4-8f82-5d9508886ed2",
   "metadata": {},
   "source": [
    "- To see the effects in this section auto-commit will be disabled.\n",
    "- Do not forget to re-open for other sections."
   ]
  },
  {
   "cell_type": "code",
   "execution_count": 52,
   "id": "9c9ee245-d295-4316-a0e8-be25b02a71c6",
   "metadata": {},
   "outputs": [],
   "source": [
    "%config SqlMagic.autocommit=False"
   ]
  },
  {
   "cell_type": "markdown",
   "id": "4849b54e-8c92-4d05-9acb-8aa8f518dd05",
   "metadata": {},
   "source": [
    "- First creating a table with DEFERRABLE INITIALLY IMMEDIATE"
   ]
  },
  {
   "cell_type": "code",
   "execution_count": 53,
   "id": "5c0251ab-95a1-46b3-ac20-965394b08b25",
   "metadata": {},
   "outputs": [
    {
     "name": "stdout",
     "output_type": "stream",
     "text": [
      " * postgresql://postgres@localhost/mydb\n",
      "Done.\n",
      "Done.\n",
      "Done.\n"
     ]
    },
    {
     "data": {
      "text/plain": [
       "[]"
      ]
     },
     "execution_count": 53,
     "metadata": {},
     "output_type": "execute_result"
    }
   ],
   "source": [
    "%%sql\n",
    "DROP TABLE IF EXISTS products CASCADE;\n",
    "CREATE TABLE products (\n",
    "\tproduct_no integer CONSTRAINT unique_product_no UNIQUE DEFERRABLE INITIALLY IMMEDIATE,\n",
    "\tname text,\n",
    "\tprice numeric\n",
    ");\n",
    "COMMIT;"
   ]
  },
  {
   "cell_type": "markdown",
   "id": "4afd3a50-8a63-4af1-984d-b36a39f4f95e",
   "metadata": {},
   "source": [
    "- In this transaction after adding a record to table changed CONSTRAINT status to DEFERRED.\n",
    "- When trying to add new record with same id do not throw error, because constraint deferred until transaction ends.\n",
    "- Since no error thrown, deleting records with id 1, adding new records with id 2 and 1 execute successfully.\n",
    "- When transaction ends unique constraint check validates that all records.\n",
    "- Since all records comply with constraint there is 2 record in the table in the end."
   ]
  },
  {
   "cell_type": "code",
   "execution_count": 54,
   "id": "6e7cefd4-091c-44ba-bd2f-211ce27cbc9e",
   "metadata": {},
   "outputs": [
    {
     "name": "stdout",
     "output_type": "stream",
     "text": [
      " * postgresql://postgres@localhost/mydb\n",
      "Done.\n",
      "1 rows affected.\n",
      "Done.\n",
      "1 rows affected.\n",
      "2 rows affected.\n",
      "1 rows affected.\n",
      "1 rows affected.\n",
      "Done.\n"
     ]
    },
    {
     "data": {
      "text/plain": [
       "[]"
      ]
     },
     "execution_count": 54,
     "metadata": {},
     "output_type": "execute_result"
    }
   ],
   "source": [
    "%%sql\n",
    "BEGIN;\n",
    "INSERT INTO products VALUES (1, 'product-1', 10);\n",
    "SET CONSTRAINTS unique_product_no DEFERRED;\n",
    "INSERT INTO products VALUES (1, 'product-1', 10);\n",
    "DELETE FROM products WHERE product_no = 1;\n",
    "INSERT INTO products VALUES (1, 'product-1', 10);\n",
    "INSERT INTO products VALUES (2, 'product-2', 20);\n",
    "COMMIT;"
   ]
  },
  {
   "cell_type": "code",
   "execution_count": 55,
   "id": "9e01317d-e9a2-4b3b-8454-ff99e7f9a694",
   "metadata": {},
   "outputs": [
    {
     "name": "stdout",
     "output_type": "stream",
     "text": [
      " * postgresql://postgres@localhost/mydb\n",
      "2 rows affected.\n"
     ]
    },
    {
     "data": {
      "text/html": [
       "<table>\n",
       "    <thead>\n",
       "        <tr>\n",
       "            <th>product_no</th>\n",
       "            <th>name</th>\n",
       "            <th>price</th>\n",
       "        </tr>\n",
       "    </thead>\n",
       "    <tbody>\n",
       "        <tr>\n",
       "            <td>1</td>\n",
       "            <td>product-1</td>\n",
       "            <td>10</td>\n",
       "        </tr>\n",
       "        <tr>\n",
       "            <td>2</td>\n",
       "            <td>product-2</td>\n",
       "            <td>20</td>\n",
       "        </tr>\n",
       "    </tbody>\n",
       "</table>"
      ],
      "text/plain": [
       "[(1, 'product-1', Decimal('10')), (2, 'product-2', Decimal('20'))]"
      ]
     },
     "execution_count": 55,
     "metadata": {},
     "output_type": "execute_result"
    }
   ],
   "source": [
    "%sql SELECT * FROM products;"
   ]
  },
  {
   "cell_type": "code",
   "execution_count": 56,
   "id": "63b10be5-3eeb-4fd7-8cb9-f05b6df8d23d",
   "metadata": {},
   "outputs": [],
   "source": [
    "%config SqlMagic.autocommit=True"
   ]
  },
  {
   "cell_type": "markdown",
   "id": "3e352b98-b7eb-4029-91f1-1ca23be16b3c",
   "metadata": {},
   "source": [
    "###### e.4 Changing DEFERRABILITY"
   ]
  },
  {
   "cell_type": "markdown",
   "id": "fdfc3478-d944-412a-877c-e8464a28ecec",
   "metadata": {},
   "source": [
    "- To see the effects in this section auto-commit will be disabled.\n",
    "- Do not forget to re-open for other sections."
   ]
  },
  {
   "cell_type": "code",
   "execution_count": 57,
   "id": "bdb8e890-e3b0-48cf-b806-d22768d8292a",
   "metadata": {},
   "outputs": [],
   "source": [
    "%config SqlMagic.autocommit=False"
   ]
  },
  {
   "cell_type": "markdown",
   "id": "debdc511-e814-4dde-998c-653832dcb8ea",
   "metadata": {},
   "source": [
    "- Not specified deferrability so it is NOT DEFERRABLE"
   ]
  },
  {
   "cell_type": "code",
   "execution_count": 58,
   "id": "9c67b467-62bc-4c54-955a-1453fbe4e4e8",
   "metadata": {},
   "outputs": [
    {
     "name": "stdout",
     "output_type": "stream",
     "text": [
      " * postgresql://postgres@localhost/mydb\n",
      "Done.\n",
      "Done.\n",
      "Done.\n"
     ]
    },
    {
     "data": {
      "text/plain": [
       "[]"
      ]
     },
     "execution_count": 58,
     "metadata": {},
     "output_type": "execute_result"
    }
   ],
   "source": [
    "%%sql\n",
    "DROP TABLE IF EXISTS products CASCADE;\n",
    "CREATE TABLE products (\n",
    "\tproduct_no integer CONSTRAINT unique_product_no UNIQUE,\n",
    "\tname text,\n",
    "\tprice numeric\n",
    ");\n",
    "COMMIT;"
   ]
  },
  {
   "cell_type": "markdown",
   "id": "87fa0268-48ba-4239-a8e6-296700fbd08d",
   "metadata": {},
   "source": [
    "- Since unique_product_no is not deferrable, when change constraint to DEFERRED will cause error."
   ]
  },
  {
   "cell_type": "code",
   "execution_count": 59,
   "id": "fccd1d6e-23f8-4782-ac90-650bbd9f1a64",
   "metadata": {},
   "outputs": [
    {
     "name": "stdout",
     "output_type": "stream",
     "text": [
      " * postgresql://postgres@localhost/mydb\n",
      "Done.\n",
      "1 rows affected.\n",
      "(psycopg2.errors.WrongObjectType) HATA:  \"unique_product_no\" constrainti ertelenebilir constraint değildir\n",
      "\n",
      "[SQL: SET CONSTRAINTS unique_product_no DEFERRED;]\n",
      "(Background on this error at: https://sqlalche.me/e/20/f405)\n"
     ]
    }
   ],
   "source": [
    "%%sql\n",
    "BEGIN;\n",
    "INSERT INTO products VALUES (1, 'product-1', 10);\n",
    "SET CONSTRAINTS unique_product_no DEFERRED;\n",
    "COMMIT;"
   ]
  },
  {
   "cell_type": "markdown",
   "id": "97624cb9-f1f7-4bbf-a953-98d335663634",
   "metadata": {},
   "source": [
    "- To make NOT DEFERRABLE constraint to DEFERRED, ALTER TABLE used.\n",
    "- This is not temporarily in transaction and affects all latter transactions."
   ]
  },
  {
   "cell_type": "code",
   "execution_count": 60,
   "id": "01974848-00cc-4868-ac0a-18a716510c09",
   "metadata": {},
   "outputs": [
    {
     "name": "stdout",
     "output_type": "stream",
     "text": [
      " * postgresql://postgres@localhost/mydb\n",
      "Done.\n",
      "1 rows affected.\n",
      "Done.\n",
      "Done.\n",
      "1 rows affected.\n",
      "2 rows affected.\n",
      "1 rows affected.\n",
      "1 rows affected.\n",
      "Done.\n"
     ]
    },
    {
     "data": {
      "text/plain": [
       "[]"
      ]
     },
     "execution_count": 60,
     "metadata": {},
     "output_type": "execute_result"
    }
   ],
   "source": [
    "%%sql\n",
    "BEGIN;\n",
    "INSERT INTO products VALUES (1, 'product-1', 10);\n",
    "ALTER TABLE products DROP CONSTRAINT IF EXISTS unique_product_no;\n",
    "ALTER TABLE products ADD CONSTRAINT unique_product_no UNIQUE(product_no) DEFERRABLE INITIALLY DEFERRED;\n",
    "INSERT INTO products VALUES (1, 'product-1', 10);\n",
    "DELETE FROM products WHERE product_no = 1;\n",
    "INSERT INTO products VALUES (1, 'product-1', 10);\n",
    "INSERT INTO products VALUES (2, 'product-2', 20);\n",
    "COMMIT;"
   ]
  },
  {
   "cell_type": "code",
   "execution_count": 61,
   "id": "25d8745a-d270-4d9b-9b61-e6fb32a33018",
   "metadata": {},
   "outputs": [
    {
     "name": "stdout",
     "output_type": "stream",
     "text": [
      " * postgresql://postgres@localhost/mydb\n",
      "2 rows affected.\n"
     ]
    },
    {
     "data": {
      "text/html": [
       "<table>\n",
       "    <thead>\n",
       "        <tr>\n",
       "            <th>product_no</th>\n",
       "            <th>name</th>\n",
       "            <th>price</th>\n",
       "        </tr>\n",
       "    </thead>\n",
       "    <tbody>\n",
       "        <tr>\n",
       "            <td>1</td>\n",
       "            <td>product-1</td>\n",
       "            <td>10</td>\n",
       "        </tr>\n",
       "        <tr>\n",
       "            <td>2</td>\n",
       "            <td>product-2</td>\n",
       "            <td>20</td>\n",
       "        </tr>\n",
       "    </tbody>\n",
       "</table>"
      ],
      "text/plain": [
       "[(1, 'product-1', Decimal('10')), (2, 'product-2', Decimal('20'))]"
      ]
     },
     "execution_count": 61,
     "metadata": {},
     "output_type": "execute_result"
    }
   ],
   "source": [
    "%sql SELECT * FROM products;"
   ]
  },
  {
   "cell_type": "code",
   "execution_count": 62,
   "id": "def12d54-948c-4665-8d85-e262705d70af",
   "metadata": {},
   "outputs": [],
   "source": [
    "%config SqlMagic.autocommit=True"
   ]
  },
  {
   "cell_type": "markdown",
   "id": "77e521c4-6894-44f7-b618-b87ba47a901a",
   "metadata": {},
   "source": [
    "#### 5.5.2. Not-Null Constraints"
   ]
  },
  {
   "cell_type": "markdown",
   "id": "960c249a-884b-44ba-bb21-cbe511abcb06",
   "metadata": {},
   "source": [
    "- <i>NOT NULL</i> constraint is a column constraint. You can not write it as table constraint.\n",
    "    - <i>product_no integer NOT NULL</i> is correct usage.\n",
    "    - But there is no usage like this: <del><i>CONSTRAINT not_null NOT NULL (product_no)</i></del>.\n",
    "- <i>product_no integer NOT NULL</i> and <i>CONSTRAINT product_no_not_null CHECK (product_no IS NOT NULL)</i> is functionally equivalent. But NOT NULL constraint is more optimized.\n",
    "    - With using CONSTRAINT it became table constraing and while defining explicit name it can be removed bey using name.\n",
    "        - <i>ALTER TABLE ... DROP CONSTRAINT ...;</i>\n",
    "- Since <i>NOT NULL</i> is column constraint and it can not be explicitly named, you can remove it with using <i>ALTER TABLE ... ALTER COLUMN ... DROP NUT NULL;</i>\n",
    "- In column there can be multiple constraints.\n",
    "    - Example: <i>price numeric NOT NULL CHECK (price > 0)</i>"
   ]
  },
  {
   "cell_type": "markdown",
   "id": "2d91bc46-256a-4ebf-85fd-6167ba577cbf",
   "metadata": {},
   "source": [
    "- NOT NULL example"
   ]
  },
  {
   "cell_type": "code",
   "execution_count": 63,
   "id": "9ea19c4d-ab29-4944-b681-118960177330",
   "metadata": {},
   "outputs": [
    {
     "name": "stdout",
     "output_type": "stream",
     "text": [
      " * postgresql://postgres@localhost/mydb\n",
      "Done.\n",
      "Done.\n"
     ]
    },
    {
     "data": {
      "text/plain": [
       "[]"
      ]
     },
     "execution_count": 63,
     "metadata": {},
     "output_type": "execute_result"
    }
   ],
   "source": [
    "%%sql\n",
    "DROP TABLE IF EXISTS products CASCADE;\n",
    "CREATE TABLE products (\n",
    "    product_no integer NOT NULL,\n",
    "    name text NOT NULL,\n",
    "    price numeric\n",
    ");"
   ]
  },
  {
   "cell_type": "markdown",
   "id": "973d05a6-bd1e-4189-8bde-3a494cb02401",
   "metadata": {},
   "source": [
    "- Violating NOT NULL constraint"
   ]
  },
  {
   "cell_type": "code",
   "execution_count": 64,
   "id": "65f615b2-2c3f-45cc-b937-d3cbb983e45e",
   "metadata": {},
   "outputs": [
    {
     "name": "stdout",
     "output_type": "stream",
     "text": [
      " * postgresql://postgres@localhost/mydb\n",
      "(psycopg2.errors.NotNullViolation) HATA:  null value in column \"product_no\" of relation \"products\" violates not-null constraint\n",
      "DETAIL:  Hata veren satır (null, null, 10) içeriyor.\n",
      "\n",
      "[SQL: INSERT INTO products(price) VALUES (10);]\n",
      "(Background on this error at: https://sqlalche.me/e/20/gkpj)\n"
     ]
    }
   ],
   "source": [
    "%sql INSERT INTO products(price) VALUES (10);"
   ]
  },
  {
   "cell_type": "markdown",
   "id": "af3cf52a-e5da-4bb4-bddc-65efcb6e4ce5",
   "metadata": {},
   "source": [
    "- Remove not null constraint example"
   ]
  },
  {
   "cell_type": "code",
   "execution_count": 65,
   "id": "4ec41f0f-9a13-46b4-94c7-cdd54ce0bed4",
   "metadata": {},
   "outputs": [
    {
     "name": "stdout",
     "output_type": "stream",
     "text": [
      " * postgresql://postgres@localhost/mydb\n",
      "Done.\n"
     ]
    },
    {
     "data": {
      "text/plain": [
       "[]"
      ]
     },
     "execution_count": 65,
     "metadata": {},
     "output_type": "execute_result"
    }
   ],
   "source": [
    "%%sql\n",
    "ALTER TABLE products \n",
    "    ALTER COLUMN product_no DROP NOT NULL,\n",
    "    ALTER COLUMN name DROP NOT NULL;"
   ]
  },
  {
   "cell_type": "markdown",
   "id": "caa31db9-9782-4118-90b7-812d39148ef4",
   "metadata": {},
   "source": [
    "- Not violating after dropping NOT NULL constraint"
   ]
  },
  {
   "cell_type": "code",
   "execution_count": 66,
   "id": "13566793-3bf2-451a-b5dd-8b11db79872c",
   "metadata": {},
   "outputs": [
    {
     "name": "stdout",
     "output_type": "stream",
     "text": [
      " * postgresql://postgres@localhost/mydb\n",
      "1 rows affected.\n"
     ]
    },
    {
     "data": {
      "text/plain": [
       "[]"
      ]
     },
     "execution_count": 66,
     "metadata": {},
     "output_type": "execute_result"
    }
   ],
   "source": [
    "%sql INSERT INTO products(price) VALUES (10);"
   ]
  },
  {
   "cell_type": "markdown",
   "id": "b7b11881-e16e-4d66-90af-ece887425d5c",
   "metadata": {},
   "source": [
    "- Multiple constraints in column example"
   ]
  },
  {
   "cell_type": "code",
   "execution_count": 67,
   "id": "429a37f2-0393-4a94-825d-3e0b88b40dc8",
   "metadata": {},
   "outputs": [
    {
     "name": "stdout",
     "output_type": "stream",
     "text": [
      " * postgresql://postgres@localhost/mydb\n",
      "Done.\n",
      "Done.\n"
     ]
    },
    {
     "data": {
      "text/plain": [
       "[]"
      ]
     },
     "execution_count": 67,
     "metadata": {},
     "output_type": "execute_result"
    }
   ],
   "source": [
    "%%sql\n",
    "DROP TABLE IF EXISTS products;\n",
    "CREATE TABLE products (\n",
    "    product_no integer NOT NULL,\n",
    "    name text NOT NULL,\n",
    "    price numeric NOT NULL CHECK (price > 0)\n",
    ");"
   ]
  },
  {
   "cell_type": "markdown",
   "id": "b8297b60-dd81-442b-b394-51b1e273e93d",
   "metadata": {},
   "source": [
    "#### 5.5.3. Unique Constraints"
   ]
  },
  {
   "cell_type": "markdown",
   "id": "43f87696-35f0-4dbf-a388-ece673303201",
   "metadata": {},
   "source": [
    "- <i>UNIQUE</i> constraint can be written either as a column constraint or a table constraint.\n",
    "    - Table constraint: <i>product_no integer CONSTRAINT unique_product_no UNIQUE</i>\n",
    "        - Table constraint can be removed by using <i>ALTER TABLE ... DROP CONSTRAINT ...;</i>\n",
    "    - Column constraint: <i>product_no integer CONSTRAINT unique_product_no UNIQUE</i>\n",
    "        - Column constraint can not be removed by using <del><i>ALTER TABLE ... ALTER COLUMN DROP UNIQUE;</i></del>\n",
    "        - To remove constraint you first find the constraint name and remove with <i>ALTER TABLE ... DROP CONSTRAINT ...;</i>\n",
    "- <i>UNIQUE</i> constraint can be written for one column or multiple column group.\n",
    "    - For one column: <i>UNIQUE (product_no)</i>. This ensures product_no is unique.\n",
    "    - For multiple column: <i>UNIQUE (a,c)</i>. This ensures a and c pair is unique.\n",
    "        - For example when (a,c) = (1,1) (a,c) = (1,2) (a,c) = (2,1) can be inserted but (a,c) = (1,1) can not be inserted again.\n",
    "- When using UNIQUE constraint, a UNIQUE B-tree index will be added to table.\n",
    "- If you want to add UNIQUE constraint for only filtered rows you hould use partial index:\n",
    "  - <i>CREATE UNIQUE INDEX unique_active_product_no ON products (product_no) WHERE active = true;</i>\n",
    "- <i>UNIQUE</i> constraint on NULL values:\n",
    "    - NULL values will be seen as different in UNIQUE columns. So you can insert multiple NULL values for a UNIQUE column and you get no violation of constraint error.\n",
    "    - To prevent this situation you can use <i>NULLS NOT DISTINCT</i> statement: \"<i>product_no integer UNIQUE NULLS NOT DISTINCT</i>\"."
   ]
  },
  {
   "cell_type": "markdown",
   "id": "93bd7b43-3da5-47e7-9b7e-ec4f82c91594",
   "metadata": {},
   "source": [
    "##### Creating UNIQUE constraint for single column"
   ]
  },
  {
   "cell_type": "code",
   "execution_count": 68,
   "id": "016acca7-cb8d-4738-bfea-509c9c526c2f",
   "metadata": {},
   "outputs": [
    {
     "name": "stdout",
     "output_type": "stream",
     "text": [
      " * postgresql://postgres@localhost/mydb\n",
      "Done.\n",
      "Done.\n"
     ]
    },
    {
     "data": {
      "text/plain": [
       "[]"
      ]
     },
     "execution_count": 68,
     "metadata": {},
     "output_type": "execute_result"
    }
   ],
   "source": [
    "%%sql\n",
    "DROP TABLE IF EXISTS products CASCADE;\n",
    "CREATE TABLE products (\n",
    "    product_no integer UNIQUE,\n",
    "    name text,\n",
    "    price numeric\n",
    ");"
   ]
  },
  {
   "cell_type": "markdown",
   "id": "c54ca0c0-c814-4670-b491-7e0d8d8c8e28",
   "metadata": {},
   "source": [
    "- Violating unique constraint"
   ]
  },
  {
   "cell_type": "code",
   "execution_count": 69,
   "id": "37448f1c-1528-40ae-b8f8-0251d5eeca85",
   "metadata": {},
   "outputs": [
    {
     "name": "stdout",
     "output_type": "stream",
     "text": [
      " * postgresql://postgres@localhost/mydb\n",
      "1 rows affected.\n",
      "(psycopg2.errors.UniqueViolation) HATA:  tekrar eden kayıt, \"products_product_no_key\" tekil kısıtlamasını ihlal etmektedir\n",
      "DETAIL:  \"(product_no)=(1)\" anahtarı zaten mevcut\n",
      "\n",
      "[SQL: INSERT INTO products VALUES (1, 'name-1', 10);]\n",
      "(Background on this error at: https://sqlalche.me/e/20/gkpj)\n"
     ]
    }
   ],
   "source": [
    "%%sql\n",
    "INSERT INTO products VALUES (1, 'name-1', 10);\n",
    "INSERT INTO products VALUES (1, 'name-1', 10);"
   ]
  },
  {
   "cell_type": "markdown",
   "id": "0cd7533a-2a6c-4d96-8ae1-961bfbca5b7e",
   "metadata": {},
   "source": [
    "##### Creating UNIQUE constraint for column pair"
   ]
  },
  {
   "cell_type": "code",
   "execution_count": 70,
   "id": "307c01f4-b6dd-4df4-bb0f-dc32e0a2bd14",
   "metadata": {},
   "outputs": [
    {
     "name": "stdout",
     "output_type": "stream",
     "text": [
      " * postgresql://postgres@localhost/mydb\n",
      "Done.\n",
      "Done.\n"
     ]
    },
    {
     "data": {
      "text/plain": [
       "[]"
      ]
     },
     "execution_count": 70,
     "metadata": {},
     "output_type": "execute_result"
    }
   ],
   "source": [
    "%%sql\n",
    "DROP TABLE IF EXISTS example CASCADE;\n",
    "CREATE TABLE example (\n",
    "    a integer,\n",
    "    b integer,\n",
    "    c integer,\n",
    "    UNIQUE (a, c)\n",
    ");"
   ]
  },
  {
   "cell_type": "markdown",
   "id": "0ca80d60-9215-419b-90d5-980adc51e2ca",
   "metadata": {},
   "source": [
    "- Inserting values"
   ]
  },
  {
   "cell_type": "code",
   "execution_count": 71,
   "id": "8dda7159-7892-49c1-bdf9-1087724114b7",
   "metadata": {},
   "outputs": [
    {
     "name": "stdout",
     "output_type": "stream",
     "text": [
      " * postgresql://postgres@localhost/mydb\n",
      "1 rows affected.\n",
      "1 rows affected.\n",
      "1 rows affected.\n"
     ]
    },
    {
     "data": {
      "text/plain": [
       "[]"
      ]
     },
     "execution_count": 71,
     "metadata": {},
     "output_type": "execute_result"
    }
   ],
   "source": [
    "%%sql\n",
    "INSERT INTO example (a,c) VALUES ('1', '1');\n",
    "INSERT INTO example (a,c) VALUES ('1', '2');\n",
    "INSERT INTO example (a,c) VALUES ('2', '1');"
   ]
  },
  {
   "cell_type": "markdown",
   "id": "16708c4a-1f06-4149-9a5d-b392a37b67c8",
   "metadata": {},
   "source": [
    "- Violating constraint"
   ]
  },
  {
   "cell_type": "code",
   "execution_count": 72,
   "id": "d4c4bbf6-33b2-4237-b718-0ad613caa033",
   "metadata": {},
   "outputs": [
    {
     "name": "stdout",
     "output_type": "stream",
     "text": [
      " * postgresql://postgres@localhost/mydb\n",
      "(psycopg2.errors.UniqueViolation) HATA:  tekrar eden kayıt, \"example_a_c_key\" tekil kısıtlamasını ihlal etmektedir\n",
      "DETAIL:  \"(a, c)=(1, 1)\" anahtarı zaten mevcut\n",
      "\n",
      "[SQL: INSERT INTO example (a,c) VALUES ('1', '1' );]\n",
      "(Background on this error at: https://sqlalche.me/e/20/gkpj)\n"
     ]
    }
   ],
   "source": [
    "%sql INSERT INTO example (a,c) VALUES ('1', '1');"
   ]
  },
  {
   "cell_type": "markdown",
   "id": "0b41a181-6913-4354-af2e-9b6f4eecde2a",
   "metadata": {},
   "source": [
    "##### Removing UNIQUE constraint"
   ]
  },
  {
   "cell_type": "code",
   "execution_count": 73,
   "id": "98ef57a7-2171-4bc0-b68c-cefef239886b",
   "metadata": {},
   "outputs": [
    {
     "name": "stdout",
     "output_type": "stream",
     "text": [
      " * postgresql://postgres@localhost/mydb\n",
      "Done.\n",
      "Done.\n"
     ]
    },
    {
     "data": {
      "text/plain": [
       "[]"
      ]
     },
     "execution_count": 73,
     "metadata": {},
     "output_type": "execute_result"
    }
   ],
   "source": [
    "%%sql\n",
    "DROP TABLE IF EXISTS products CASCADE;\n",
    "CREATE TABLE products (\n",
    "    product_no integer,\n",
    "    name text,\n",
    "    price numeric,\n",
    "    CONSTRAINT unique_product_no UNIQUE (product_no)\n",
    ");"
   ]
  },
  {
   "cell_type": "code",
   "execution_count": 74,
   "id": "2079d842-f116-4a8b-ab3c-f0b602496963",
   "metadata": {},
   "outputs": [
    {
     "name": "stdout",
     "output_type": "stream",
     "text": [
      " * postgresql://postgres@localhost/mydb\n",
      "Done.\n"
     ]
    },
    {
     "data": {
      "text/plain": [
       "[]"
      ]
     },
     "execution_count": 74,
     "metadata": {},
     "output_type": "execute_result"
    }
   ],
   "source": [
    "%sql ALTER TABLE products DROP CONSTRAINT IF EXISTS unique_product_no;"
   ]
  },
  {
   "cell_type": "markdown",
   "id": "0fc0cfeb-a56b-41f0-ae19-85e7fc7edef7",
   "metadata": {},
   "source": [
    "##### Creating UNIQUE constraint for filtered records using partial INDEX"
   ]
  },
  {
   "cell_type": "code",
   "execution_count": 75,
   "id": "32e444e9-8e21-44ed-a805-a878ffe26800",
   "metadata": {},
   "outputs": [
    {
     "name": "stdout",
     "output_type": "stream",
     "text": [
      " * postgresql://postgres@localhost/mydb\n",
      "Done.\n",
      "Done.\n"
     ]
    },
    {
     "data": {
      "text/plain": [
       "[]"
      ]
     },
     "execution_count": 75,
     "metadata": {},
     "output_type": "execute_result"
    }
   ],
   "source": [
    "%%sql\n",
    "DROP TABLE IF EXISTS products CASCADE;\n",
    "CREATE TABLE products (\n",
    "    product_no integer,\n",
    "    name text,\n",
    "    price numeric,\n",
    "    active boolean\n",
    ");"
   ]
  },
  {
   "cell_type": "code",
   "execution_count": 76,
   "id": "70ad3062-e4a7-4385-a242-008674ee4574",
   "metadata": {},
   "outputs": [
    {
     "name": "stdout",
     "output_type": "stream",
     "text": [
      " * postgresql://postgres@localhost/mydb\n",
      "Done.\n"
     ]
    },
    {
     "data": {
      "text/plain": [
       "[]"
      ]
     },
     "execution_count": 76,
     "metadata": {},
     "output_type": "execute_result"
    }
   ],
   "source": [
    "%sql CREATE UNIQUE INDEX unique_index_products_product_no_active ON products (product_no) WHERE active = true;"
   ]
  },
  {
   "cell_type": "markdown",
   "id": "1866eaa3-9c90-455a-841e-c083a8fbc06e",
   "metadata": {},
   "source": [
    "- Violating constraint"
   ]
  },
  {
   "cell_type": "code",
   "execution_count": 77,
   "id": "e3d26e9e-0a97-42fe-9674-cb911674e601",
   "metadata": {},
   "outputs": [
    {
     "name": "stdout",
     "output_type": "stream",
     "text": [
      " * postgresql://postgres@localhost/mydb\n",
      "1 rows affected.\n",
      "1 rows affected.\n"
     ]
    },
    {
     "data": {
      "text/plain": [
       "[]"
      ]
     },
     "execution_count": 77,
     "metadata": {},
     "output_type": "execute_result"
    }
   ],
   "source": [
    "%%sql\n",
    "INSERT INTO products (product_no, active) VALUES (1, true);\n",
    "INSERT INTO products (product_no, active) VALUES (2, false);"
   ]
  },
  {
   "cell_type": "markdown",
   "id": "67c27574-b4e2-4d50-ae69-280937236c90",
   "metadata": {},
   "source": [
    "- This throws error because there is active product 1 "
   ]
  },
  {
   "cell_type": "code",
   "execution_count": 78,
   "id": "30e9f814-939f-4472-8ce1-2bf15194625e",
   "metadata": {},
   "outputs": [
    {
     "name": "stdout",
     "output_type": "stream",
     "text": [
      " * postgresql://postgres@localhost/mydb\n",
      "(psycopg2.errors.UniqueViolation) HATA:  tekrar eden kayıt, \"unique_index_products_product_no_active\" tekil kısıtlamasını ihlal etmektedir\n",
      "DETAIL:  \"(product_no)=(1)\" anahtarı zaten mevcut\n",
      "\n",
      "[SQL: INSERT INTO products (product_no, active) VALUES (1, true);]\n",
      "(Background on this error at: https://sqlalche.me/e/20/gkpj)\n"
     ]
    }
   ],
   "source": [
    "%sql INSERT INTO products (product_no, active) VALUES (1, true);"
   ]
  },
  {
   "cell_type": "markdown",
   "id": "1a1bfc03-51cf-4bd2-b84b-1f7d64b56298",
   "metadata": {},
   "source": [
    "- This is successful because there is product 2 but it is not active"
   ]
  },
  {
   "cell_type": "code",
   "execution_count": 79,
   "id": "0e5082fa-7ee8-4b53-8652-bfdab315f210",
   "metadata": {},
   "outputs": [
    {
     "name": "stdout",
     "output_type": "stream",
     "text": [
      " * postgresql://postgres@localhost/mydb\n",
      "1 rows affected.\n"
     ]
    },
    {
     "data": {
      "text/plain": [
       "[]"
      ]
     },
     "execution_count": 79,
     "metadata": {},
     "output_type": "execute_result"
    }
   ],
   "source": [
    "%sql INSERT INTO products (product_no, active) VALUES (2, true);"
   ]
  },
  {
   "cell_type": "markdown",
   "id": "e144ea85-c621-4e3a-a758-e8b00fd1b8d2",
   "metadata": {},
   "source": [
    "##### Using NULL values without DISTINCT restriction"
   ]
  },
  {
   "cell_type": "code",
   "execution_count": 80,
   "id": "8974f834-2a9a-4c77-b50b-9f89814587cb",
   "metadata": {},
   "outputs": [
    {
     "name": "stdout",
     "output_type": "stream",
     "text": [
      " * postgresql://postgres@localhost/mydb\n",
      "Done.\n",
      "Done.\n"
     ]
    },
    {
     "data": {
      "text/plain": [
       "[]"
      ]
     },
     "execution_count": 80,
     "metadata": {},
     "output_type": "execute_result"
    }
   ],
   "source": [
    "%%sql\n",
    "DROP TABLE IF EXISTS users CASCADE;\n",
    "CREATE TABLE users (\n",
    "    email TEXT UNIQUE\n",
    ");"
   ]
  },
  {
   "cell_type": "markdown",
   "id": "b09f644a-2b24-4506-8426-4dbb1505399a",
   "metadata": {},
   "source": [
    "- Inserting multiple NULL values does not throw error"
   ]
  },
  {
   "cell_type": "code",
   "execution_count": 81,
   "id": "e1281da1-c1ee-45e1-b136-65eac964b3a0",
   "metadata": {},
   "outputs": [
    {
     "name": "stdout",
     "output_type": "stream",
     "text": [
      " * postgresql://postgres@localhost/mydb\n",
      "1 rows affected.\n",
      "1 rows affected.\n"
     ]
    },
    {
     "data": {
      "text/plain": [
       "[]"
      ]
     },
     "execution_count": 81,
     "metadata": {},
     "output_type": "execute_result"
    }
   ],
   "source": [
    "%%sql\n",
    "INSERT INTO users VALUES (NULL);\n",
    "INSERT INTO users VALUES (NULL);"
   ]
  },
  {
   "cell_type": "code",
   "execution_count": 82,
   "id": "52153294-f9a0-48b6-b51c-a3f74a49e1f1",
   "metadata": {},
   "outputs": [
    {
     "name": "stdout",
     "output_type": "stream",
     "text": [
      " * postgresql://postgres@localhost/mydb\n",
      "2 rows affected.\n"
     ]
    },
    {
     "data": {
      "text/html": [
       "<table>\n",
       "    <thead>\n",
       "        <tr>\n",
       "            <th>email</th>\n",
       "        </tr>\n",
       "    </thead>\n",
       "    <tbody>\n",
       "        <tr>\n",
       "            <td>None</td>\n",
       "        </tr>\n",
       "        <tr>\n",
       "            <td>None</td>\n",
       "        </tr>\n",
       "    </tbody>\n",
       "</table>"
      ],
      "text/plain": [
       "[(None,), (None,)]"
      ]
     },
     "execution_count": 82,
     "metadata": {},
     "output_type": "execute_result"
    }
   ],
   "source": [
    "%sql SELECT * FROM users;"
   ]
  },
  {
   "cell_type": "markdown",
   "id": "c5d7538f-bb22-48c0-bf39-5607c96b2a23",
   "metadata": {},
   "source": [
    "##### Using NULL values with DISTINCT restriction"
   ]
  },
  {
   "cell_type": "code",
   "execution_count": 83,
   "id": "06357343-d2b9-4d06-8a27-67f8704af4f5",
   "metadata": {},
   "outputs": [
    {
     "name": "stdout",
     "output_type": "stream",
     "text": [
      " * postgresql://postgres@localhost/mydb\n",
      "Done.\n",
      "Done.\n"
     ]
    },
    {
     "data": {
      "text/plain": [
       "[]"
      ]
     },
     "execution_count": 83,
     "metadata": {},
     "output_type": "execute_result"
    }
   ],
   "source": [
    "%%sql\n",
    "DROP TABLE IF EXISTS users CASCADE;\n",
    "CREATE TABLE users (\n",
    "    email TEXT UNIQUE NULLS NOT DISTINCT\n",
    ");"
   ]
  },
  {
   "cell_type": "markdown",
   "id": "db098b5f-bc85-41b3-8177-94b3523aa958",
   "metadata": {},
   "source": [
    "- Violating UNIQUE constraint because NULLs are not distinct"
   ]
  },
  {
   "cell_type": "code",
   "execution_count": 84,
   "id": "bdd437b4-1456-4beb-8f5b-3bd4377e21f8",
   "metadata": {},
   "outputs": [
    {
     "name": "stdout",
     "output_type": "stream",
     "text": [
      " * postgresql://postgres@localhost/mydb\n",
      "1 rows affected.\n",
      "(psycopg2.errors.UniqueViolation) HATA:  tekrar eden kayıt, \"users_email_key\" tekil kısıtlamasını ihlal etmektedir\n",
      "DETAIL:  \"(email)=(null)\" anahtarı zaten mevcut\n",
      "\n",
      "[SQL: INSERT INTO users VALUES (NULL);]\n",
      "(Background on this error at: https://sqlalche.me/e/20/gkpj)\n"
     ]
    }
   ],
   "source": [
    "%%sql\n",
    "INSERT INTO users VALUES (NULL);\n",
    "INSERT INTO users VALUES (NULL);"
   ]
  },
  {
   "cell_type": "markdown",
   "id": "0b815f1b-359e-4272-92ab-24d2d0e275bd",
   "metadata": {},
   "source": [
    "#### 5.5.4. Primary Keys"
   ]
  },
  {
   "cell_type": "markdown",
   "id": "50b90ea2-45b2-46eb-b430-2b7b941c78f6",
   "metadata": {},
   "source": [
    "- <i>PRIMARY KEY</i> can be defined for single column or column pairs.\n",
    "    - <i>product_no integer PRIMARY KEY,</i>\n",
    "    - <i>PRIMARY KEY(a,c)</i>\n",
    "- Tables can have at most one primary key.\n",
    "- Behaviour of <i>PRIMARY KEY</i> and <i>UNIQUE NOT NULL</i> is equivalent.\n",
    "- Primary key creates B-tree index for interested column (or pair of columns)."
   ]
  },
  {
   "cell_type": "markdown",
   "id": "dea5ec47-0538-4506-a6e9-f63daedb5d42",
   "metadata": {},
   "source": [
    "##### Single column PRIMARY KEY"
   ]
  },
  {
   "cell_type": "code",
   "execution_count": 85,
   "id": "7c4cb890-dcb3-424f-a5af-5b28d1f7ee42",
   "metadata": {},
   "outputs": [
    {
     "name": "stdout",
     "output_type": "stream",
     "text": [
      " * postgresql://postgres@localhost/mydb\n",
      "Done.\n",
      "Done.\n"
     ]
    },
    {
     "data": {
      "text/plain": [
       "[]"
      ]
     },
     "execution_count": 85,
     "metadata": {},
     "output_type": "execute_result"
    }
   ],
   "source": [
    "%%sql\n",
    "DROP TABLE IF EXISTS products CASCADE;\n",
    "CREATE TABLE products (\n",
    "    product_no integer PRIMARY KEY,\n",
    "    name text,\n",
    "    price numeric\n",
    ");"
   ]
  },
  {
   "cell_type": "markdown",
   "id": "c311832a-071e-4c9e-94e9-f10236cb0cb9",
   "metadata": {},
   "source": [
    "- See index for PK"
   ]
  },
  {
   "cell_type": "code",
   "execution_count": 86,
   "id": "41c229b4-1c0d-4dd5-bcfa-9b9f9e94fa1a",
   "metadata": {},
   "outputs": [
    {
     "name": "stdout",
     "output_type": "stream",
     "text": [
      " * postgresql://postgres@localhost/mydb\n",
      "1 rows affected.\n"
     ]
    },
    {
     "data": {
      "text/html": [
       "<table>\n",
       "    <thead>\n",
       "        <tr>\n",
       "            <th>indexname</th>\n",
       "            <th>indexdef</th>\n",
       "        </tr>\n",
       "    </thead>\n",
       "    <tbody>\n",
       "        <tr>\n",
       "            <td>products_pkey1</td>\n",
       "            <td>CREATE UNIQUE INDEX products_pkey1 ON public.products USING btree (product_no)</td>\n",
       "        </tr>\n",
       "    </tbody>\n",
       "</table>"
      ],
      "text/plain": [
       "[('products_pkey1', 'CREATE UNIQUE INDEX products_pkey1 ON public.products USING btree (product_no)')]"
      ]
     },
     "execution_count": 86,
     "metadata": {},
     "output_type": "execute_result"
    }
   ],
   "source": [
    "%sql SELECT indexname, indexdef FROM pg_indexes WHERE tablename = 'products';"
   ]
  },
  {
   "cell_type": "markdown",
   "id": "2cef2a3a-4177-4392-8b0d-30c34dc7728c",
   "metadata": {},
   "source": [
    "- Violation of PK constraint"
   ]
  },
  {
   "cell_type": "code",
   "execution_count": 87,
   "id": "9028f588-1d8c-41ed-b398-0bae69732c49",
   "metadata": {},
   "outputs": [
    {
     "name": "stdout",
     "output_type": "stream",
     "text": [
      " * postgresql://postgres@localhost/mydb\n",
      "1 rows affected.\n",
      "(psycopg2.errors.UniqueViolation) HATA:  tekrar eden kayıt, \"products_pkey1\" tekil kısıtlamasını ihlal etmektedir\n",
      "DETAIL:  \"(product_no)=(1)\" anahtarı zaten mevcut\n",
      "\n",
      "[SQL: INSERT INTO products (product_no) VALUES (1);]\n",
      "(Background on this error at: https://sqlalche.me/e/20/gkpj)\n"
     ]
    }
   ],
   "source": [
    "%%sql\n",
    "INSERT INTO products (product_no) VALUES (1);\n",
    "INSERT INTO products (product_no) VALUES (1);"
   ]
  },
  {
   "cell_type": "markdown",
   "id": "d8faecca-9bd2-489a-9bb2-45d394433238",
   "metadata": {},
   "source": [
    "##### Pair of columns PRIMARY KEY"
   ]
  },
  {
   "cell_type": "code",
   "execution_count": 88,
   "id": "17f4842c-aded-4aea-9e70-f252df93a510",
   "metadata": {},
   "outputs": [
    {
     "name": "stdout",
     "output_type": "stream",
     "text": [
      " * postgresql://postgres@localhost/mydb\n",
      "Done.\n",
      "Done.\n"
     ]
    },
    {
     "data": {
      "text/plain": [
       "[]"
      ]
     },
     "execution_count": 88,
     "metadata": {},
     "output_type": "execute_result"
    }
   ],
   "source": [
    "%%sql\n",
    "DROP TABLE IF EXISTS example CASCADE;\n",
    "CREATE TABLE example (\n",
    "    a integer,\n",
    "    b integer,\n",
    "    c integer,\n",
    "    PRIMARY KEY (a,b)\n",
    ");"
   ]
  },
  {
   "cell_type": "markdown",
   "id": "b11ef161-feec-4e73-875b-e69500f33499",
   "metadata": {},
   "source": [
    "- Inserting values"
   ]
  },
  {
   "cell_type": "code",
   "execution_count": 89,
   "id": "b05607bc-f14f-4a5c-bf05-b5c72ff3e091",
   "metadata": {},
   "outputs": [
    {
     "name": "stdout",
     "output_type": "stream",
     "text": [
      " * postgresql://postgres@localhost/mydb\n",
      "1 rows affected.\n",
      "1 rows affected.\n",
      "1 rows affected.\n"
     ]
    },
    {
     "data": {
      "text/plain": [
       "[]"
      ]
     },
     "execution_count": 89,
     "metadata": {},
     "output_type": "execute_result"
    }
   ],
   "source": [
    "%%sql\n",
    "INSERT INTO example (a,b) VALUES (1,1);\n",
    "INSERT INTO example (a,b) VALUES (1,2);\n",
    "INSERT INTO example (a,b) VALUES (2,1);"
   ]
  },
  {
   "cell_type": "markdown",
   "id": "59c0ae0e-1f52-47a1-95cf-39d8cf07887e",
   "metadata": {},
   "source": [
    "- Violation of PK"
   ]
  },
  {
   "cell_type": "code",
   "execution_count": 90,
   "id": "e830cc04-71c3-48bf-9161-79ef0611e1ad",
   "metadata": {},
   "outputs": [
    {
     "name": "stdout",
     "output_type": "stream",
     "text": [
      " * postgresql://postgres@localhost/mydb\n",
      "(psycopg2.errors.UniqueViolation) HATA:  tekrar eden kayıt, \"example_pkey\" tekil kısıtlamasını ihlal etmektedir\n",
      "DETAIL:  \"(a, b)=(1, 1)\" anahtarı zaten mevcut\n",
      "\n",
      "[SQL: INSERT INTO example (a,b) VALUES (1,1);]\n",
      "(Background on this error at: https://sqlalche.me/e/20/gkpj)\n"
     ]
    }
   ],
   "source": [
    "%sql INSERT INTO example (a,b) VALUES (1,1);"
   ]
  },
  {
   "cell_type": "markdown",
   "id": "056cc473-9ac2-4d88-9168-2d8a916d9386",
   "metadata": {},
   "source": [
    "##### Adding PK with ALTER TABLE"
   ]
  },
  {
   "cell_type": "code",
   "execution_count": 91,
   "id": "5cf0a4a1-edfe-4722-b959-3827ae0005d1",
   "metadata": {},
   "outputs": [
    {
     "name": "stdout",
     "output_type": "stream",
     "text": [
      " * postgresql://postgres@localhost/mydb\n",
      "Done.\n",
      "Done.\n"
     ]
    },
    {
     "data": {
      "text/plain": [
       "[]"
      ]
     },
     "execution_count": 91,
     "metadata": {},
     "output_type": "execute_result"
    }
   ],
   "source": [
    "%%sql\n",
    "DROP TABLE IF EXISTS products;\n",
    "CREATE TABLE products (\n",
    "    product_no integer,\n",
    "    name text,\n",
    "    price numeric\n",
    ");"
   ]
  },
  {
   "cell_type": "code",
   "execution_count": 92,
   "id": "de7e3ffb-6225-4dfb-86c2-dda6b74bd7eb",
   "metadata": {},
   "outputs": [
    {
     "name": "stdout",
     "output_type": "stream",
     "text": [
      " * postgresql://postgres@localhost/mydb\n",
      "Done.\n"
     ]
    },
    {
     "data": {
      "text/plain": [
       "[]"
      ]
     },
     "execution_count": 92,
     "metadata": {},
     "output_type": "execute_result"
    }
   ],
   "source": [
    "%sql ALTER TABLE products ADD CONSTRAINT pk_products_product_no PRIMARY KEY (product_no);"
   ]
  },
  {
   "cell_type": "markdown",
   "id": "015df288-9a0b-4a91-b5df-8881935b760c",
   "metadata": {},
   "source": [
    "#### 5.5.5. Foreign Keys"
   ]
  },
  {
   "cell_type": "markdown",
   "id": "808592be-13b1-4387-b265-877420bc8182",
   "metadata": {},
   "source": [
    "- <i>FOREIGN KEY</i> constraint specifies <i>referential integrity</i> between related tables.\n",
    "- FK can be used with specifying column name or only specifying table name.\n",
    "    - <i>product_no integer REFERENCES products (product_no)</i>\n",
    "    - <i>product_no integer REFERENCES products</i>\n",
    "- FOREIGN KEY does not create index automatically for interested column. To optimize querying on foreign key columns you can create an index.\n",
    "- FK can be specified for non-primary columns. But referenced column must have UNIQUE constraint.\n",
    "- You can reference same table in FK.\n",
    "- A table can have multiple foreign key constraints.\n",
    "    - This case can be used for many-to-many relationships.\n",
    "- When deleting a record which have references there are 5 actions:\n",
    "    - NO ACTION (default action):\n",
    "        - Default action if there is is not any action specified is NO ACTION.\n",
    "        - But you can define this action explicitly.\n",
    "        - This action prevents deleting any record which has references on other tables.\n",
    "    - RESTRICT (default action):\n",
    "        - This action is like NO ACTION which prevents deleting any record which has references on other tables.\n",
    "        - The difference between NO ACTION and RESTRICT is in transaction:\n",
    "            - NO ACTION can be defined as deferrable.\n",
    "                - <i>product_no integer REFERENCES products(product_no) ON DELETE NO ACTION DEFERRABLE INITIALLY DEFERRED,</i>\n",
    "                - Waits until end of transaction to apply FK constraint.\n",
    "            - RESTRICT can not be defined as deferrable.\n",
    "                - PostgreSQL allows you to define RESTRICT with DEFERRABLE, but it is not effective. It still behaves as restricted and take action immediately.\n",
    "    - CASCADE:\n",
    "        - This action deletes record with reference records.\n",
    "    - SET NULL:\n",
    "        - This action sets value of referenced column as NULL.\n",
    "    - SET DEFAULT:\n",
    "        - This action sets value of referenced column as DEFAULT value.\n",
    "        - Using SET DEFAULT is risky.\n",
    "        - When setting default value of fk column, default value must reference any product otherwise error will be raised."
   ]
  },
  {
   "cell_type": "markdown",
   "id": "6969c87a-faba-4cfe-b08a-2d98fb74bd84",
   "metadata": {},
   "source": [
    "##### Usage of FOREIGN KEY constraint"
   ]
  },
  {
   "cell_type": "markdown",
   "id": "c365f937-02f9-4d2c-ace5-59ce17691fff",
   "metadata": {},
   "source": [
    "- Defining FK constraint"
   ]
  },
  {
   "cell_type": "code",
   "execution_count": 93,
   "id": "a44962b5-71ae-406a-8df9-d05201325944",
   "metadata": {},
   "outputs": [
    {
     "name": "stdout",
     "output_type": "stream",
     "text": [
      " * postgresql://postgres@localhost/mydb\n",
      "Done.\n",
      "Done.\n",
      "Done.\n"
     ]
    },
    {
     "data": {
      "text/plain": [
       "[]"
      ]
     },
     "execution_count": 93,
     "metadata": {},
     "output_type": "execute_result"
    }
   ],
   "source": [
    "%%sql\n",
    "DROP TABLE IF EXISTS products, orders CASCADE;\n",
    "CREATE TABLE products (\n",
    "    product_no integer PRIMARY KEY,\n",
    "    name text,\n",
    "    price numeric\n",
    ");\n",
    "CREATE TABLE orders (\n",
    "    order_id integer PRIMARY KEY,\n",
    "    product_no integer REFERENCES products (product_no),\n",
    "    quantity integer\n",
    ")"
   ]
  },
  {
   "cell_type": "markdown",
   "id": "1f75fa74-8380-4895-9dd5-0b7964a27f08",
   "metadata": {},
   "source": [
    "- Inserting product and related order "
   ]
  },
  {
   "cell_type": "code",
   "execution_count": 94,
   "id": "0b7b0498-0320-4a7e-b4f0-2e27e8df69ab",
   "metadata": {},
   "outputs": [
    {
     "name": "stdout",
     "output_type": "stream",
     "text": [
      " * postgresql://postgres@localhost/mydb\n",
      "1 rows affected.\n",
      "1 rows affected.\n"
     ]
    },
    {
     "data": {
      "text/plain": [
       "[]"
      ]
     },
     "execution_count": 94,
     "metadata": {},
     "output_type": "execute_result"
    }
   ],
   "source": [
    "%%sql\n",
    "INSERT INTO products VALUES (1, 'product-1', 10);\n",
    "INSERT INTO orders VALUES (1, 1, 10)"
   ]
  },
  {
   "cell_type": "markdown",
   "id": "31eda47c-9b70-4103-8930-04c7c7c77a37",
   "metadata": {},
   "source": [
    "- Inserting order which is not related with any product"
   ]
  },
  {
   "cell_type": "code",
   "execution_count": 95,
   "id": "9048e314-7f34-4e67-ba1c-66d498cfa8e7",
   "metadata": {},
   "outputs": [
    {
     "name": "stdout",
     "output_type": "stream",
     "text": [
      " * postgresql://postgres@localhost/mydb\n",
      "1 rows affected.\n"
     ]
    },
    {
     "data": {
      "text/plain": [
       "[]"
      ]
     },
     "execution_count": 95,
     "metadata": {},
     "output_type": "execute_result"
    }
   ],
   "source": [
    "%sql INSERT INTO orders VALUES (2, NULL, 10)"
   ]
  },
  {
   "cell_type": "markdown",
   "id": "6ba07eb1-21ed-4147-95ca-6798e9c2f55f",
   "metadata": {},
   "source": [
    "- Inserting order with a product which not exists will throw error"
   ]
  },
  {
   "cell_type": "code",
   "execution_count": 96,
   "id": "3d784ef6-118b-429a-b90f-c0b81aaa7ca9",
   "metadata": {},
   "outputs": [
    {
     "name": "stdout",
     "output_type": "stream",
     "text": [
      " * postgresql://postgres@localhost/mydb\n",
      "(psycopg2.errors.ForeignKeyViolation) HATA:  \"orders\" tablosu üzerindeki ekleme veya güncelleme işlemi \"orders_product_no_fkey\" foreign key kısıtlamasını ihlal ediyor\n",
      "DETAIL:  \"products\" tablosunda (product_no)=(2) anahtarı mevcut değildir.\n",
      "\n",
      "[SQL: INSERT INTO orders VALUES (3, 2, 10)]\n",
      "(Background on this error at: https://sqlalche.me/e/20/gkpj)\n"
     ]
    }
   ],
   "source": [
    "%sql INSERT INTO orders VALUES (3, 2, 10)"
   ]
  },
  {
   "cell_type": "markdown",
   "id": "689494ff-24fc-428a-8b92-b67f451fdcfd",
   "metadata": {},
   "source": [
    "##### Usage of FOREIGN KEY constraint as table constraint"
   ]
  },
  {
   "cell_type": "code",
   "execution_count": 97,
   "id": "bf914bd7-eda6-4289-8d57-ff06ba4c1fee",
   "metadata": {},
   "outputs": [
    {
     "name": "stdout",
     "output_type": "stream",
     "text": [
      " * postgresql://postgres@localhost/mydb\n",
      "Done.\n",
      "Done.\n",
      "Done.\n"
     ]
    },
    {
     "data": {
      "text/plain": [
       "[]"
      ]
     },
     "execution_count": 97,
     "metadata": {},
     "output_type": "execute_result"
    }
   ],
   "source": [
    "%%sql\n",
    "DROP TABLE IF EXISTS products, orders CASCADE;\n",
    "CREATE TABLE products (\n",
    "    product_no integer PRIMARY KEY,\n",
    "    name text,\n",
    "    price numeric\n",
    ");\n",
    "CREATE TABLE orders (\n",
    "    order_id integer PRIMARY KEY,\n",
    "    product_no integer ,\n",
    "    quantity integer,\n",
    "    FOREIGN KEY (product_no) REFERENCES products(product_no)\n",
    ")"
   ]
  },
  {
   "cell_type": "markdown",
   "id": "5287a769-17d2-4992-939e-3473141a8315",
   "metadata": {},
   "source": [
    "##### Usage of FOREIGN KEY constraint for non-primary columns"
   ]
  },
  {
   "cell_type": "markdown",
   "id": "f1ad253b-be37-437c-ad8e-68cd555f6df9",
   "metadata": {},
   "source": [
    "- For non-unique referenced columns, error will be thrown"
   ]
  },
  {
   "cell_type": "code",
   "execution_count": 98,
   "id": "5f99abf0-1baf-4e71-9b68-c5aa086e628c",
   "metadata": {},
   "outputs": [
    {
     "name": "stdout",
     "output_type": "stream",
     "text": [
      " * postgresql://postgres@localhost/mydb\n",
      "Done.\n",
      "Done.\n",
      "(psycopg2.errors.InvalidForeignKey) HATA:  \"products\" referans edilen tablosunda belirtilen anahtarlara uyan bir unique constraint yok\n",
      "\n",
      "[SQL: CREATE TABLE orders (\n",
      "    order_id integer PRIMARY KEY,\n",
      "    product_no integer ,\n",
      "    quantity integer,\n",
      "    FOREIGN KEY (product_no) REFERENCES products(product_no)\n",
      ")]\n",
      "(Background on this error at: https://sqlalche.me/e/20/f405)\n"
     ]
    }
   ],
   "source": [
    "%%sql\n",
    "DROP TABLE IF EXISTS products, orders CASCADE;\n",
    "CREATE TABLE products (\n",
    "    product_no integer,\n",
    "    name text,\n",
    "    price numeric\n",
    ");\n",
    "CREATE TABLE orders (\n",
    "    order_id integer PRIMARY KEY,\n",
    "    product_no integer ,\n",
    "    quantity integer,\n",
    "    FOREIGN KEY (product_no) REFERENCES products(product_no)\n",
    ")"
   ]
  },
  {
   "cell_type": "markdown",
   "id": "e9abda36-ca5f-4287-9377-ea3f7da98bf1",
   "metadata": {},
   "source": [
    "- For unique referenced columns, adding fk constraint will be successful"
   ]
  },
  {
   "cell_type": "code",
   "execution_count": 99,
   "id": "7deb66d5-178d-41a5-ba1b-c3b4d605f346",
   "metadata": {},
   "outputs": [
    {
     "name": "stdout",
     "output_type": "stream",
     "text": [
      " * postgresql://postgres@localhost/mydb\n",
      "Done.\n",
      "Done.\n",
      "Done.\n"
     ]
    },
    {
     "data": {
      "text/plain": [
       "[]"
      ]
     },
     "execution_count": 99,
     "metadata": {},
     "output_type": "execute_result"
    }
   ],
   "source": [
    "%%sql\n",
    "DROP TABLE IF EXISTS products, orders CASCADE;\n",
    "CREATE TABLE products (\n",
    "    product_no integer UNIQUE,\n",
    "    name text,\n",
    "    price numeric\n",
    ");\n",
    "CREATE TABLE orders (\n",
    "    order_id integer PRIMARY KEY,\n",
    "    product_no integer ,\n",
    "    quantity integer,\n",
    "    FOREIGN KEY (product_no) REFERENCES products(product_no)\n",
    ")"
   ]
  },
  {
   "cell_type": "markdown",
   "id": "ac5b5c7f-0d84-4c80-84cf-c2d6afef1af4",
   "metadata": {},
   "source": [
    "- In contrast to a primary key column reference, when using a non-primary column for reference, you should specify the column name.\n",
    "- In that case, an error will be thrown."
   ]
  },
  {
   "cell_type": "code",
   "execution_count": 100,
   "id": "0818cb9d-d4d1-4fa5-a913-b1accff2eccf",
   "metadata": {},
   "outputs": [
    {
     "name": "stdout",
     "output_type": "stream",
     "text": [
      " * postgresql://postgres@localhost/mydb\n",
      "Done.\n",
      "Done.\n",
      "(psycopg2.errors.UndefinedObject) HATA:  referans edilen \"products\" tablosunda primary key mevcut değil\n",
      "\n",
      "[SQL: CREATE TABLE orders (\n",
      "    order_id integer PRIMARY KEY,\n",
      "    product_no integer ,\n",
      "    quantity integer,\n",
      "    FOREIGN KEY (product_no) REFERENCES products\n",
      ")]\n",
      "(Background on this error at: https://sqlalche.me/e/20/f405)\n"
     ]
    }
   ],
   "source": [
    "%%sql\n",
    "DROP TABLE IF EXISTS products, orders CASCADE;\n",
    "CREATE TABLE products (\n",
    "    product_no integer UNIQUE,\n",
    "    name text,\n",
    "    price numeric\n",
    ");\n",
    "CREATE TABLE orders (\n",
    "    order_id integer PRIMARY KEY,\n",
    "    product_no integer ,\n",
    "    quantity integer,\n",
    "    FOREIGN KEY (product_no) REFERENCES products\n",
    ")"
   ]
  },
  {
   "cell_type": "markdown",
   "id": "997fe108-16fd-4640-aedf-64740aa4ef72",
   "metadata": {},
   "source": [
    "##### Usage of FOREIGN KEY for pair of columns"
   ]
  },
  {
   "cell_type": "code",
   "execution_count": 101,
   "id": "a9d045ed-1b5f-4c17-a1f1-bdab9708c0a9",
   "metadata": {},
   "outputs": [
    {
     "name": "stdout",
     "output_type": "stream",
     "text": [
      " * postgresql://postgres@localhost/mydb\n",
      "Done.\n",
      "Done.\n",
      "Done.\n"
     ]
    },
    {
     "data": {
      "text/plain": [
       "[]"
      ]
     },
     "execution_count": 101,
     "metadata": {},
     "output_type": "execute_result"
    }
   ],
   "source": [
    "%%sql\n",
    "DROP TABLE IF EXISTS t1, t2 CASCADE;\n",
    "CREATE TABLE t1 (\n",
    "    a integer,\n",
    "    b integer,\n",
    "    PRIMARY KEY (a,b)\n",
    ");\n",
    "CREATE TABLE t2 (\n",
    "    q integer PRIMARY KEY,\n",
    "    w integer,\n",
    "    e integer,\n",
    "    FOREIGN KEY (w, e) REFERENCES t1 (a, b)\n",
    ");"
   ]
  },
  {
   "cell_type": "markdown",
   "id": "5a37bcf5-ac8b-43e7-8278-1354faf1443f",
   "metadata": {},
   "source": [
    "- Inserting records for referenced tables"
   ]
  },
  {
   "cell_type": "code",
   "execution_count": 102,
   "id": "faf9b3e3-ffae-41a3-a902-2fa36ccebe95",
   "metadata": {},
   "outputs": [
    {
     "name": "stdout",
     "output_type": "stream",
     "text": [
      " * postgresql://postgres@localhost/mydb\n",
      "1 rows affected.\n",
      "1 rows affected.\n",
      "1 rows affected.\n",
      "1 rows affected.\n"
     ]
    },
    {
     "data": {
      "text/plain": [
       "[]"
      ]
     },
     "execution_count": 102,
     "metadata": {},
     "output_type": "execute_result"
    }
   ],
   "source": [
    "%%sql\n",
    "INSERT INTO t1 VALUES (1,1);\n",
    "INSERT INTO t1 VALUES (1,2);\n",
    "INSERT INTO t1 VALUES (2,1);\n",
    "INSERT INTO t2 VALUES (1,1,1);"
   ]
  },
  {
   "cell_type": "markdown",
   "id": "3a27322d-d431-447a-9a51-a787b4cd4676",
   "metadata": {},
   "source": [
    "- Inserting record that there is no related record for referenced table will throw error"
   ]
  },
  {
   "cell_type": "code",
   "execution_count": 103,
   "id": "e7610f02-c2a5-4ada-9e60-86a0fabbb6ad",
   "metadata": {},
   "outputs": [
    {
     "name": "stdout",
     "output_type": "stream",
     "text": [
      " * postgresql://postgres@localhost/mydb\n",
      "(psycopg2.errors.ForeignKeyViolation) HATA:  \"t2\" tablosu üzerindeki ekleme veya güncelleme işlemi \"t2_w_e_fkey\" foreign key kısıtlamasını ihlal ediyor\n",
      "DETAIL:  \"t1\" tablosunda (w, e)=(1, 3) anahtarı mevcut değildir.\n",
      "\n",
      "[SQL: INSERT INTO t2 VALUES (2,1,3);]\n",
      "(Background on this error at: https://sqlalche.me/e/20/gkpj)\n"
     ]
    }
   ],
   "source": [
    "%sql INSERT INTO t2 VALUES (2,1,3);"
   ]
  },
  {
   "cell_type": "markdown",
   "id": "52e4f741-c1e0-4374-97f4-7f7a26225652",
   "metadata": {},
   "source": [
    "##### Self referencing in FOREIGN KEY"
   ]
  },
  {
   "cell_type": "markdown",
   "id": "0f7910fc-9641-4f72-be48-1ef6dc8e99bf",
   "metadata": {},
   "source": [
    "- A table column with a foreign key can reference the same table."
   ]
  },
  {
   "cell_type": "code",
   "execution_count": 104,
   "id": "1d54d030-416c-457c-935c-cba73959b8d1",
   "metadata": {},
   "outputs": [
    {
     "name": "stdout",
     "output_type": "stream",
     "text": [
      " * postgresql://postgres@localhost/mydb\n",
      "Done.\n",
      "Done.\n"
     ]
    },
    {
     "data": {
      "text/plain": [
       "[]"
      ]
     },
     "execution_count": 104,
     "metadata": {},
     "output_type": "execute_result"
    }
   ],
   "source": [
    "%%sql\n",
    "DROP TABLE IF EXISTS tree CASCADE;\n",
    "CREATE TABLE tree (\n",
    "    node_id integer PRIMARY KEY,\n",
    "    parent_id integer REFERENCES tree,\n",
    "    name text\n",
    ");"
   ]
  },
  {
   "cell_type": "markdown",
   "id": "a7287d51-e6a5-4df6-861d-dab902d94c86",
   "metadata": {},
   "source": [
    "- In this example parent of root node will be null"
   ]
  },
  {
   "cell_type": "code",
   "execution_count": 105,
   "id": "0500f6e8-9f63-43b7-8ed4-c412e9bea772",
   "metadata": {},
   "outputs": [
    {
     "name": "stdout",
     "output_type": "stream",
     "text": [
      " * postgresql://postgres@localhost/mydb\n",
      "1 rows affected.\n",
      "1 rows affected.\n",
      "1 rows affected.\n"
     ]
    },
    {
     "data": {
      "text/plain": [
       "[]"
      ]
     },
     "execution_count": 105,
     "metadata": {},
     "output_type": "execute_result"
    }
   ],
   "source": [
    "%%sql\n",
    "INSERT INTO tree VALUES (1, NULL, 'root');\n",
    "INSERT INTO tree VALUES (2, 1, 'child-1 of 1');\n",
    "INSERT INTO tree VALUES (3, 1, 'child-2 of 2');"
   ]
  },
  {
   "cell_type": "code",
   "execution_count": 106,
   "id": "c3a2000e-a0b7-4ddd-a72d-888f767ad730",
   "metadata": {},
   "outputs": [
    {
     "name": "stdout",
     "output_type": "stream",
     "text": [
      " * postgresql://postgres@localhost/mydb\n",
      "3 rows affected.\n"
     ]
    },
    {
     "data": {
      "text/html": [
       "<table>\n",
       "    <thead>\n",
       "        <tr>\n",
       "            <th>node_id</th>\n",
       "            <th>parent_id</th>\n",
       "            <th>name</th>\n",
       "        </tr>\n",
       "    </thead>\n",
       "    <tbody>\n",
       "        <tr>\n",
       "            <td>1</td>\n",
       "            <td>None</td>\n",
       "            <td>root</td>\n",
       "        </tr>\n",
       "        <tr>\n",
       "            <td>2</td>\n",
       "            <td>1</td>\n",
       "            <td>child-1 of 1</td>\n",
       "        </tr>\n",
       "        <tr>\n",
       "            <td>3</td>\n",
       "            <td>1</td>\n",
       "            <td>child-2 of 2</td>\n",
       "        </tr>\n",
       "    </tbody>\n",
       "</table>"
      ],
      "text/plain": [
       "[(1, None, 'root'), (2, 1, 'child-1 of 1'), (3, 1, 'child-2 of 2')]"
      ]
     },
     "execution_count": 106,
     "metadata": {},
     "output_type": "execute_result"
    }
   ],
   "source": [
    "%sql SELECT * FROM tree;"
   ]
  },
  {
   "cell_type": "markdown",
   "id": "8e990dbd-899a-497f-aaed-cd17f5ae426e",
   "metadata": {},
   "source": [
    "##### Multiple FOREIGN KEY constraints"
   ]
  },
  {
   "cell_type": "markdown",
   "id": "19ba34c5-f0b8-4803-bb94-db09b2ebf60f",
   "metadata": {},
   "source": [
    "- When to establish many-to-many relationship for order and products, a middle table with referencing this tables can be used."
   ]
  },
  {
   "cell_type": "code",
   "execution_count": 107,
   "id": "245a2033-e0e8-4d0a-943a-0c8da96853fa",
   "metadata": {},
   "outputs": [
    {
     "name": "stdout",
     "output_type": "stream",
     "text": [
      " * postgresql://postgres@localhost/mydb\n",
      "Done.\n",
      "Done.\n",
      "Done.\n",
      "Done.\n"
     ]
    },
    {
     "data": {
      "text/plain": [
       "[]"
      ]
     },
     "execution_count": 107,
     "metadata": {},
     "output_type": "execute_result"
    }
   ],
   "source": [
    "%%sql\n",
    "DROP TABLE IF EXISTS products, orders, order_items CASCADE;\n",
    "CREATE TABLE products (\n",
    "    product_no integer PRIMARY KEY,\n",
    "    name text,\n",
    "    price numeric\n",
    ");\n",
    "CREATE TABLE orders (\n",
    "    order_id integer PRIMARY KEY,\n",
    "    shipping_address text\n",
    ");\n",
    "CREATE TABLE order_items (\n",
    "    product_no integer REFERENCES products,\n",
    "    order_id integer REFERENCES orders,\n",
    "    quantity integer,\n",
    "    PRIMARY KEY (product_no, order_id)\n",
    ");"
   ]
  },
  {
   "cell_type": "markdown",
   "id": "c8314004-c1de-455d-aa2f-5dc5b36c5dce",
   "metadata": {},
   "source": [
    "##### Actions when deleting referenced records"
   ]
  },
  {
   "cell_type": "markdown",
   "id": "6702a52a-3692-4e77-a7f1-cf9e49452772",
   "metadata": {},
   "source": [
    "###### Preventing delete action with NO ACTION (Default action)"
   ]
  },
  {
   "cell_type": "markdown",
   "id": "5a6dbdf5-5d4e-4e21-a45b-4146737a8a6b",
   "metadata": {},
   "source": [
    "- When not specifying delete action, it is automatically assigned as NO ACTION\n",
    "- But you can specify explicitly NO ACTION"
   ]
  },
  {
   "cell_type": "code",
   "execution_count": 108,
   "id": "7ca03445-d357-4880-8f88-bacd368557a0",
   "metadata": {},
   "outputs": [
    {
     "name": "stdout",
     "output_type": "stream",
     "text": [
      " * postgresql://postgres@localhost/mydb\n",
      "Done.\n",
      "Done.\n",
      "Done.\n"
     ]
    },
    {
     "data": {
      "text/plain": [
       "[]"
      ]
     },
     "execution_count": 108,
     "metadata": {},
     "output_type": "execute_result"
    }
   ],
   "source": [
    "%%sql\n",
    "DROP TABLE IF EXISTS products, orders CASCADE;\n",
    "CREATE TABLE products (\n",
    "    product_no integer PRIMARY KEY,\n",
    "    name text,\n",
    "    price numeric\n",
    ");\n",
    "CREATE TABLE orders (\n",
    "    order_id integer PRIMARY KEY,\n",
    "    product_no integer REFERENCES products(product_no) ON DELETE NO ACTION,\n",
    "    quantity integer\n",
    ");"
   ]
  },
  {
   "cell_type": "markdown",
   "id": "2de7998d-a4e9-4825-88c6-796b4d35aa63",
   "metadata": {},
   "source": [
    "- Inserting referenced records"
   ]
  },
  {
   "cell_type": "code",
   "execution_count": 109,
   "id": "7cdc5294-3da5-49ae-82b4-09ca88665e04",
   "metadata": {},
   "outputs": [
    {
     "name": "stdout",
     "output_type": "stream",
     "text": [
      " * postgresql://postgres@localhost/mydb\n",
      "1 rows affected.\n",
      "1 rows affected.\n"
     ]
    },
    {
     "data": {
      "text/plain": [
       "[]"
      ]
     },
     "execution_count": 109,
     "metadata": {},
     "output_type": "execute_result"
    }
   ],
   "source": [
    "%%sql\n",
    "INSERT INTO products VALUES (1, 'product-1', 10);\n",
    "INSERT INTO orders VALUES (1, 1, 10);"
   ]
  },
  {
   "cell_type": "markdown",
   "id": "6fd3c3ab-d85e-4f2b-878b-17cde3d85b0a",
   "metadata": {},
   "source": [
    "- When trying to delete a product which referenced in orders will raise error"
   ]
  },
  {
   "cell_type": "code",
   "execution_count": 110,
   "id": "3e16d499-a3bb-4e82-b8c1-683b5aceded3",
   "metadata": {},
   "outputs": [
    {
     "name": "stdout",
     "output_type": "stream",
     "text": [
      " * postgresql://postgres@localhost/mydb\n",
      "(psycopg2.errors.ForeignKeyViolation) HATA:  \"products\" tablosu üzerinde yapılan update veya delete işlemi \"orders\" tablosunun \"orders_product_no_fkey\" bütünlük kısıtlamasını ihlal ediyor\n",
      "DETAIL:  (product_no)=(1) anahtarı \"orders\" tablosundan hala referans edilmektedir.\n",
      "\n",
      "[SQL: DELETE FROM products WHERE product_no = 1;]\n",
      "(Background on this error at: https://sqlalche.me/e/20/gkpj)\n"
     ]
    }
   ],
   "source": [
    "%sql DELETE FROM products WHERE product_no = 1;"
   ]
  },
  {
   "cell_type": "markdown",
   "id": "db41f9ea-d64f-40f0-b46a-b41e7b4b19e8",
   "metadata": {},
   "source": [
    "- Deleting related orders before deleting product will be successful"
   ]
  },
  {
   "cell_type": "code",
   "execution_count": 111,
   "id": "00a49789-06d1-4dcc-8944-686cfee9ecce",
   "metadata": {},
   "outputs": [
    {
     "name": "stdout",
     "output_type": "stream",
     "text": [
      " * postgresql://postgres@localhost/mydb\n",
      "1 rows affected.\n",
      "1 rows affected.\n"
     ]
    },
    {
     "data": {
      "text/plain": [
       "[]"
      ]
     },
     "execution_count": 111,
     "metadata": {},
     "output_type": "execute_result"
    }
   ],
   "source": [
    "%%sql \n",
    "DELETE FROM orders WHERE order_id = 1;\n",
    "DELETE FROM products WHERE product_no = 1;"
   ]
  },
  {
   "cell_type": "markdown",
   "id": "3c15c563-cfbd-4708-a779-bf0132df13a0",
   "metadata": {},
   "source": [
    "###### Preventing delete action with RESTRICT"
   ]
  },
  {
   "cell_type": "code",
   "execution_count": 112,
   "id": "df924a82-7edf-46cb-bf2d-73ffc9eb306c",
   "metadata": {},
   "outputs": [
    {
     "name": "stdout",
     "output_type": "stream",
     "text": [
      " * postgresql://postgres@localhost/mydb\n",
      "Done.\n",
      "Done.\n",
      "Done.\n"
     ]
    },
    {
     "data": {
      "text/plain": [
       "[]"
      ]
     },
     "execution_count": 112,
     "metadata": {},
     "output_type": "execute_result"
    }
   ],
   "source": [
    "%%sql\n",
    "DROP TABLE IF EXISTS products, orders CASCADE;\n",
    "CREATE TABLE products (\n",
    "    product_no integer PRIMARY KEY,\n",
    "    name text,\n",
    "    price numeric\n",
    ");\n",
    "CREATE TABLE orders (\n",
    "    order_id integer PRIMARY KEY,\n",
    "    product_no integer REFERENCES products(product_no) ON DELETE RESTRICT,\n",
    "    quantity integer\n",
    ");"
   ]
  },
  {
   "cell_type": "markdown",
   "id": "2be4c280-09d3-4e66-8186-9c09350945e3",
   "metadata": {},
   "source": [
    "- Inserting referenced records"
   ]
  },
  {
   "cell_type": "code",
   "execution_count": 113,
   "id": "1849f139-7601-4729-9b11-7d4159bccef3",
   "metadata": {},
   "outputs": [
    {
     "name": "stdout",
     "output_type": "stream",
     "text": [
      " * postgresql://postgres@localhost/mydb\n",
      "1 rows affected.\n",
      "1 rows affected.\n"
     ]
    },
    {
     "data": {
      "text/plain": [
       "[]"
      ]
     },
     "execution_count": 113,
     "metadata": {},
     "output_type": "execute_result"
    }
   ],
   "source": [
    "%%sql\n",
    "INSERT INTO products VALUES (1, 'product-1', 10);\n",
    "INSERT INTO orders VALUES (1, 1, 10);"
   ]
  },
  {
   "cell_type": "markdown",
   "id": "708b563f-6ab7-4dff-b7b0-38876a98fb3a",
   "metadata": {},
   "source": [
    "- When trying to delete a product which referenced in orders will raise error"
   ]
  },
  {
   "cell_type": "code",
   "execution_count": 114,
   "id": "7c7b1301-bfa5-4288-9c11-7db27808c5e0",
   "metadata": {},
   "outputs": [
    {
     "name": "stdout",
     "output_type": "stream",
     "text": [
      " * postgresql://postgres@localhost/mydb\n",
      "(psycopg2.errors.ForeignKeyViolation) HATA:  \"products\" tablosu üzerinde yapılan update veya delete işlemi \"orders\" tablosunun \"orders_product_no_fkey\" bütünlük kısıtlamasını ihlal ediyor\n",
      "DETAIL:  (product_no)=(1) anahtarı \"orders\" tablosundan hala referans edilmektedir.\n",
      "\n",
      "[SQL: DELETE FROM products WHERE product_no = 1;]\n",
      "(Background on this error at: https://sqlalche.me/e/20/gkpj)\n"
     ]
    }
   ],
   "source": [
    "%sql DELETE FROM products WHERE product_no = 1;"
   ]
  },
  {
   "cell_type": "markdown",
   "id": "d950ed0f-4b40-491a-afd8-1dcbf68b5507",
   "metadata": {},
   "source": [
    "- Deleting related orders before deleting product will be successful"
   ]
  },
  {
   "cell_type": "code",
   "execution_count": 115,
   "id": "1beb8d1c-c1b6-413b-92f6-a13a0dfe2f98",
   "metadata": {},
   "outputs": [
    {
     "name": "stdout",
     "output_type": "stream",
     "text": [
      " * postgresql://postgres@localhost/mydb\n",
      "1 rows affected.\n",
      "1 rows affected.\n"
     ]
    },
    {
     "data": {
      "text/plain": [
       "[]"
      ]
     },
     "execution_count": 115,
     "metadata": {},
     "output_type": "execute_result"
    }
   ],
   "source": [
    "%%sql \n",
    "DELETE FROM orders WHERE order_id = 1;\n",
    "DELETE FROM products WHERE product_no = 1;"
   ]
  },
  {
   "cell_type": "markdown",
   "id": "a86ef73c-27f4-4fef-ba13-19fd0cbdeabf",
   "metadata": {},
   "source": [
    "###### Deleting related records automatically with CASCADE"
   ]
  },
  {
   "cell_type": "code",
   "execution_count": 116,
   "id": "5095e4be-42d7-4735-b314-02363d3cd40f",
   "metadata": {},
   "outputs": [
    {
     "name": "stdout",
     "output_type": "stream",
     "text": [
      " * postgresql://postgres@localhost/mydb\n",
      "Done.\n",
      "Done.\n",
      "Done.\n"
     ]
    },
    {
     "data": {
      "text/plain": [
       "[]"
      ]
     },
     "execution_count": 116,
     "metadata": {},
     "output_type": "execute_result"
    }
   ],
   "source": [
    "%%sql\n",
    "DROP TABLE IF EXISTS products, orders CASCADE;\n",
    "CREATE TABLE products (\n",
    "    product_no integer PRIMARY KEY,\n",
    "    name text,\n",
    "    price numeric\n",
    ");\n",
    "CREATE TABLE orders (\n",
    "    order_id integer PRIMARY KEY,\n",
    "    product_no integer REFERENCES products(product_no) ON DELETE CASCADE,\n",
    "    quantity integer\n",
    ");"
   ]
  },
  {
   "cell_type": "markdown",
   "id": "8d8c2952-0b87-4565-aa9f-9ee772c47721",
   "metadata": {},
   "source": [
    "- Inserting related records"
   ]
  },
  {
   "cell_type": "code",
   "execution_count": 117,
   "id": "dcdeeb7c-50a1-422c-a4be-41915e47b57e",
   "metadata": {},
   "outputs": [
    {
     "name": "stdout",
     "output_type": "stream",
     "text": [
      " * postgresql://postgres@localhost/mydb\n",
      "1 rows affected.\n",
      "1 rows affected.\n"
     ]
    },
    {
     "data": {
      "text/plain": [
       "[]"
      ]
     },
     "execution_count": 117,
     "metadata": {},
     "output_type": "execute_result"
    }
   ],
   "source": [
    "%%sql\n",
    "INSERT INTO products VALUES (1, 'product-1', 10);\n",
    "INSERT INTO orders VALUES (1, 1, 10);"
   ]
  },
  {
   "cell_type": "code",
   "execution_count": 118,
   "id": "b455e272-95a3-479e-986f-1083f65ac5b9",
   "metadata": {},
   "outputs": [
    {
     "name": "stdout",
     "output_type": "stream",
     "text": [
      " * postgresql://postgres@localhost/mydb\n",
      "1 rows affected.\n"
     ]
    },
    {
     "data": {
      "text/html": [
       "<table>\n",
       "    <thead>\n",
       "        <tr>\n",
       "            <th>product_no</th>\n",
       "            <th>name</th>\n",
       "            <th>price</th>\n",
       "        </tr>\n",
       "    </thead>\n",
       "    <tbody>\n",
       "        <tr>\n",
       "            <td>1</td>\n",
       "            <td>product-1</td>\n",
       "            <td>10</td>\n",
       "        </tr>\n",
       "    </tbody>\n",
       "</table>"
      ],
      "text/plain": [
       "[(1, 'product-1', Decimal('10'))]"
      ]
     },
     "execution_count": 118,
     "metadata": {},
     "output_type": "execute_result"
    }
   ],
   "source": [
    "%sql SELECT * FROM products;"
   ]
  },
  {
   "cell_type": "code",
   "execution_count": 119,
   "id": "3e4c5686-c031-4799-b125-44f733db5483",
   "metadata": {},
   "outputs": [
    {
     "name": "stdout",
     "output_type": "stream",
     "text": [
      " * postgresql://postgres@localhost/mydb\n",
      "1 rows affected.\n"
     ]
    },
    {
     "data": {
      "text/html": [
       "<table>\n",
       "    <thead>\n",
       "        <tr>\n",
       "            <th>order_id</th>\n",
       "            <th>product_no</th>\n",
       "            <th>quantity</th>\n",
       "        </tr>\n",
       "    </thead>\n",
       "    <tbody>\n",
       "        <tr>\n",
       "            <td>1</td>\n",
       "            <td>1</td>\n",
       "            <td>10</td>\n",
       "        </tr>\n",
       "    </tbody>\n",
       "</table>"
      ],
      "text/plain": [
       "[(1, 1, 10)]"
      ]
     },
     "execution_count": 119,
     "metadata": {},
     "output_type": "execute_result"
    }
   ],
   "source": [
    "%sql SELECT * FROM orders;"
   ]
  },
  {
   "cell_type": "markdown",
   "id": "ced2c0cc-bea3-41c5-9593-e6b73e5af93f",
   "metadata": {},
   "source": [
    "- Deleting product which has related orders will cause deleting orders"
   ]
  },
  {
   "cell_type": "code",
   "execution_count": 120,
   "id": "7459cbdd-aa3f-4d35-94c8-c1dadfd4e68e",
   "metadata": {},
   "outputs": [
    {
     "name": "stdout",
     "output_type": "stream",
     "text": [
      " * postgresql://postgres@localhost/mydb\n",
      "1 rows affected.\n"
     ]
    },
    {
     "data": {
      "text/plain": [
       "[]"
      ]
     },
     "execution_count": 120,
     "metadata": {},
     "output_type": "execute_result"
    }
   ],
   "source": [
    "%sql DELETE FROM products WHERE product_no = 1;"
   ]
  },
  {
   "cell_type": "markdown",
   "id": "e77db1be-d18d-4811-92f5-b067fc4ae573",
   "metadata": {},
   "source": [
    "- See that both product and order is deleted"
   ]
  },
  {
   "cell_type": "code",
   "execution_count": 121,
   "id": "de159c9a-ec83-4abb-be52-c92cd11b50a7",
   "metadata": {},
   "outputs": [
    {
     "name": "stdout",
     "output_type": "stream",
     "text": [
      " * postgresql://postgres@localhost/mydb\n",
      "0 rows affected.\n"
     ]
    },
    {
     "data": {
      "text/html": [
       "<table>\n",
       "    <thead>\n",
       "        <tr>\n",
       "            <th>product_no</th>\n",
       "            <th>name</th>\n",
       "            <th>price</th>\n",
       "        </tr>\n",
       "    </thead>\n",
       "    <tbody>\n",
       "    </tbody>\n",
       "</table>"
      ],
      "text/plain": [
       "[]"
      ]
     },
     "execution_count": 121,
     "metadata": {},
     "output_type": "execute_result"
    }
   ],
   "source": [
    "%sql SELECT * from products;"
   ]
  },
  {
   "cell_type": "code",
   "execution_count": 122,
   "id": "4753b503-6ff0-4865-b0c4-ae375a3f2bab",
   "metadata": {},
   "outputs": [
    {
     "name": "stdout",
     "output_type": "stream",
     "text": [
      " * postgresql://postgres@localhost/mydb\n",
      "0 rows affected.\n"
     ]
    },
    {
     "data": {
      "text/html": [
       "<table>\n",
       "    <thead>\n",
       "        <tr>\n",
       "            <th>order_id</th>\n",
       "            <th>product_no</th>\n",
       "            <th>quantity</th>\n",
       "        </tr>\n",
       "    </thead>\n",
       "    <tbody>\n",
       "    </tbody>\n",
       "</table>"
      ],
      "text/plain": [
       "[]"
      ]
     },
     "execution_count": 122,
     "metadata": {},
     "output_type": "execute_result"
    }
   ],
   "source": [
    "%sql SELECT * FROM orders;"
   ]
  },
  {
   "cell_type": "markdown",
   "id": "979b1326-926b-4000-b080-8c034bc4b08d",
   "metadata": {},
   "source": [
    "###### Deleting related records automatically with set NULL"
   ]
  },
  {
   "cell_type": "code",
   "execution_count": 123,
   "id": "2ecc1971-42da-465c-b5df-6b3a95f65cb9",
   "metadata": {},
   "outputs": [
    {
     "name": "stdout",
     "output_type": "stream",
     "text": [
      " * postgresql://postgres@localhost/mydb\n",
      "Done.\n",
      "Done.\n",
      "Done.\n"
     ]
    },
    {
     "data": {
      "text/plain": [
       "[]"
      ]
     },
     "execution_count": 123,
     "metadata": {},
     "output_type": "execute_result"
    }
   ],
   "source": [
    "%%sql\n",
    "DROP TABLE IF EXISTS products, orders CASCADE;\n",
    "CREATE TABLE products (\n",
    "    product_no integer PRIMARY KEY,\n",
    "    name text,\n",
    "    price numeric\n",
    ");\n",
    "CREATE TABLE orders (\n",
    "    order_id integer PRIMARY KEY,\n",
    "    product_no integer REFERENCES products(product_no) ON DELETE SET NULL,\n",
    "    quantity integer\n",
    ");"
   ]
  },
  {
   "cell_type": "markdown",
   "id": "4244da17-21f7-43a8-a035-c93bd3edc5e8",
   "metadata": {},
   "source": [
    "- Inserting related records"
   ]
  },
  {
   "cell_type": "code",
   "execution_count": 124,
   "id": "568b6695-b643-42cc-b572-a0470b34cbf7",
   "metadata": {},
   "outputs": [
    {
     "name": "stdout",
     "output_type": "stream",
     "text": [
      " * postgresql://postgres@localhost/mydb\n",
      "1 rows affected.\n",
      "1 rows affected.\n"
     ]
    },
    {
     "data": {
      "text/plain": [
       "[]"
      ]
     },
     "execution_count": 124,
     "metadata": {},
     "output_type": "execute_result"
    }
   ],
   "source": [
    "%%sql\n",
    "INSERT INTO products VALUES (1, 'product-1', 10);\n",
    "INSERT INTO orders VALUES (1, 1, 10);"
   ]
  },
  {
   "cell_type": "markdown",
   "id": "ce45c3ee-9c3a-4cb7-af90-084bafc81404",
   "metadata": {},
   "source": [
    "- Deleting product will cause setting product_no of related order to NULL"
   ]
  },
  {
   "cell_type": "code",
   "execution_count": 125,
   "id": "83be5d21-4216-4d02-991d-ebfb2d065d5d",
   "metadata": {},
   "outputs": [
    {
     "name": "stdout",
     "output_type": "stream",
     "text": [
      " * postgresql://postgres@localhost/mydb\n",
      "1 rows affected.\n"
     ]
    },
    {
     "data": {
      "text/plain": [
       "[]"
      ]
     },
     "execution_count": 125,
     "metadata": {},
     "output_type": "execute_result"
    }
   ],
   "source": [
    "%sql DELETE FROM products WHERE product_no = 1;"
   ]
  },
  {
   "cell_type": "markdown",
   "id": "970b2a44-9932-46cf-a345-3b8aa0f07a92",
   "metadata": {},
   "source": [
    "- See that product is deleted but order still exists"
   ]
  },
  {
   "cell_type": "code",
   "execution_count": 126,
   "id": "cc6fc46f-4df0-4ae5-96ec-d2c25762583f",
   "metadata": {},
   "outputs": [
    {
     "name": "stdout",
     "output_type": "stream",
     "text": [
      " * postgresql://postgres@localhost/mydb\n",
      "0 rows affected.\n"
     ]
    },
    {
     "data": {
      "text/html": [
       "<table>\n",
       "    <thead>\n",
       "        <tr>\n",
       "            <th>product_no</th>\n",
       "            <th>name</th>\n",
       "            <th>price</th>\n",
       "        </tr>\n",
       "    </thead>\n",
       "    <tbody>\n",
       "    </tbody>\n",
       "</table>"
      ],
      "text/plain": [
       "[]"
      ]
     },
     "execution_count": 126,
     "metadata": {},
     "output_type": "execute_result"
    }
   ],
   "source": [
    "%sql SELECT * FROM products;"
   ]
  },
  {
   "cell_type": "code",
   "execution_count": 127,
   "id": "d9362914-d72b-4369-8cf6-35449ba03109",
   "metadata": {},
   "outputs": [
    {
     "name": "stdout",
     "output_type": "stream",
     "text": [
      " * postgresql://postgres@localhost/mydb\n",
      "1 rows affected.\n"
     ]
    },
    {
     "data": {
      "text/html": [
       "<table>\n",
       "    <thead>\n",
       "        <tr>\n",
       "            <th>order_id</th>\n",
       "            <th>product_no</th>\n",
       "            <th>quantity</th>\n",
       "        </tr>\n",
       "    </thead>\n",
       "    <tbody>\n",
       "        <tr>\n",
       "            <td>1</td>\n",
       "            <td>None</td>\n",
       "            <td>10</td>\n",
       "        </tr>\n",
       "    </tbody>\n",
       "</table>"
      ],
      "text/plain": [
       "[(1, None, 10)]"
      ]
     },
     "execution_count": 127,
     "metadata": {},
     "output_type": "execute_result"
    }
   ],
   "source": [
    "%sql SELECT * FROM orders;"
   ]
  },
  {
   "cell_type": "markdown",
   "id": "18055b93-d410-4069-b704-d76adc87e022",
   "metadata": {},
   "source": [
    "###### Deleting related records automatically with SET DEFAULT"
   ]
  },
  {
   "cell_type": "markdown",
   "id": "a52dc98f-c712-4832-9bcb-15383ce34e58",
   "metadata": {},
   "source": [
    "- Using SET DEFAULT is risky.\n",
    "- When setting default value of fk column, default value must reference any product otherwise error will be raised."
   ]
  },
  {
   "cell_type": "code",
   "execution_count": 128,
   "id": "a7ac82fe-1ba1-4d58-87ac-b017b0c47d39",
   "metadata": {},
   "outputs": [
    {
     "name": "stdout",
     "output_type": "stream",
     "text": [
      " * postgresql://postgres@localhost/mydb\n",
      "Done.\n",
      "Done.\n",
      "Done.\n"
     ]
    },
    {
     "data": {
      "text/plain": [
       "[]"
      ]
     },
     "execution_count": 128,
     "metadata": {},
     "output_type": "execute_result"
    }
   ],
   "source": [
    "%%sql\n",
    "DROP TABLE IF EXISTS products, orders CASCADE;\n",
    "CREATE TABLE products (\n",
    "    product_no integer PRIMARY KEY,\n",
    "    name text,\n",
    "    price numeric\n",
    ");\n",
    "CREATE TABLE orders (\n",
    "    order_id integer PRIMARY KEY,\n",
    "    product_no integer DEFAULT 1 REFERENCES products(product_no) ON DELETE SET DEFAULT,\n",
    "    quantity integer\n",
    ");"
   ]
  },
  {
   "cell_type": "markdown",
   "id": "fd2aa4ce-f536-4881-b8ba-ab0934922ef4",
   "metadata": {},
   "source": [
    "- Inserting related records"
   ]
  },
  {
   "cell_type": "code",
   "execution_count": 129,
   "id": "6eba0b43-bf53-4dc7-95ac-c34e2964b890",
   "metadata": {},
   "outputs": [
    {
     "name": "stdout",
     "output_type": "stream",
     "text": [
      " * postgresql://postgres@localhost/mydb\n",
      "1 rows affected.\n",
      "1 rows affected.\n",
      "1 rows affected.\n",
      "1 rows affected.\n"
     ]
    },
    {
     "data": {
      "text/plain": [
       "[]"
      ]
     },
     "execution_count": 129,
     "metadata": {},
     "output_type": "execute_result"
    }
   ],
   "source": [
    "%%sql\n",
    "INSERT INTO products VALUES (1, 'product-1', 10);\n",
    "INSERT INTO products VALUES (2, 'product-2', 10);\n",
    "INSERT INTO orders VALUES (1, 1, 10);\n",
    "INSERT INTO orders VALUES (2, 2, 10);"
   ]
  },
  {
   "cell_type": "code",
   "execution_count": 130,
   "id": "a0d33cb7-743c-4dd7-9afa-41bbccbddd1d",
   "metadata": {},
   "outputs": [
    {
     "name": "stdout",
     "output_type": "stream",
     "text": [
      " * postgresql://postgres@localhost/mydb\n",
      "2 rows affected.\n"
     ]
    },
    {
     "data": {
      "text/html": [
       "<table>\n",
       "    <thead>\n",
       "        <tr>\n",
       "            <th>product_no</th>\n",
       "            <th>name</th>\n",
       "            <th>price</th>\n",
       "        </tr>\n",
       "    </thead>\n",
       "    <tbody>\n",
       "        <tr>\n",
       "            <td>1</td>\n",
       "            <td>product-1</td>\n",
       "            <td>10</td>\n",
       "        </tr>\n",
       "        <tr>\n",
       "            <td>2</td>\n",
       "            <td>product-2</td>\n",
       "            <td>10</td>\n",
       "        </tr>\n",
       "    </tbody>\n",
       "</table>"
      ],
      "text/plain": [
       "[(1, 'product-1', Decimal('10')), (2, 'product-2', Decimal('10'))]"
      ]
     },
     "execution_count": 130,
     "metadata": {},
     "output_type": "execute_result"
    }
   ],
   "source": [
    "%sql SELECT * FROM products;"
   ]
  },
  {
   "cell_type": "code",
   "execution_count": 131,
   "id": "dcb65873-60d5-4f27-8679-93255700304b",
   "metadata": {},
   "outputs": [
    {
     "name": "stdout",
     "output_type": "stream",
     "text": [
      " * postgresql://postgres@localhost/mydb\n",
      "2 rows affected.\n"
     ]
    },
    {
     "data": {
      "text/html": [
       "<table>\n",
       "    <thead>\n",
       "        <tr>\n",
       "            <th>order_id</th>\n",
       "            <th>product_no</th>\n",
       "            <th>quantity</th>\n",
       "        </tr>\n",
       "    </thead>\n",
       "    <tbody>\n",
       "        <tr>\n",
       "            <td>1</td>\n",
       "            <td>1</td>\n",
       "            <td>10</td>\n",
       "        </tr>\n",
       "        <tr>\n",
       "            <td>2</td>\n",
       "            <td>2</td>\n",
       "            <td>10</td>\n",
       "        </tr>\n",
       "    </tbody>\n",
       "</table>"
      ],
      "text/plain": [
       "[(1, 1, 10), (2, 2, 10)]"
      ]
     },
     "execution_count": 131,
     "metadata": {},
     "output_type": "execute_result"
    }
   ],
   "source": [
    "%sql SELECT * FROM orders;"
   ]
  },
  {
   "cell_type": "markdown",
   "id": "e3d7f0db-d51a-41cf-953a-b68f161854b3",
   "metadata": {},
   "source": [
    "- Deleting product with id 2 will cause the change of order with product_no 2.\n",
    "- New product_no value of order-2 will be 1. Since there is a product with product_no 1 there will be no error."
   ]
  },
  {
   "cell_type": "code",
   "execution_count": 132,
   "id": "3ad4a53b-557e-4cf6-aa72-f264d91e6683",
   "metadata": {},
   "outputs": [
    {
     "name": "stdout",
     "output_type": "stream",
     "text": [
      " * postgresql://postgres@localhost/mydb\n",
      "1 rows affected.\n"
     ]
    },
    {
     "data": {
      "text/plain": [
       "[]"
      ]
     },
     "execution_count": 132,
     "metadata": {},
     "output_type": "execute_result"
    }
   ],
   "source": [
    "%sql DELETE FROM products WHERE product_no = 2;"
   ]
  },
  {
   "cell_type": "code",
   "execution_count": 133,
   "id": "d536d723-8a9a-4356-a154-cb31c17d874c",
   "metadata": {},
   "outputs": [
    {
     "name": "stdout",
     "output_type": "stream",
     "text": [
      " * postgresql://postgres@localhost/mydb\n",
      "1 rows affected.\n"
     ]
    },
    {
     "data": {
      "text/html": [
       "<table>\n",
       "    <thead>\n",
       "        <tr>\n",
       "            <th>product_no</th>\n",
       "            <th>name</th>\n",
       "            <th>price</th>\n",
       "        </tr>\n",
       "    </thead>\n",
       "    <tbody>\n",
       "        <tr>\n",
       "            <td>1</td>\n",
       "            <td>product-1</td>\n",
       "            <td>10</td>\n",
       "        </tr>\n",
       "    </tbody>\n",
       "</table>"
      ],
      "text/plain": [
       "[(1, 'product-1', Decimal('10'))]"
      ]
     },
     "execution_count": 133,
     "metadata": {},
     "output_type": "execute_result"
    }
   ],
   "source": [
    "%sql SELECT * FROM products;"
   ]
  },
  {
   "cell_type": "code",
   "execution_count": 134,
   "id": "6e8a74c0-f80d-40fe-8efb-d8f7d3a8ed3e",
   "metadata": {},
   "outputs": [
    {
     "name": "stdout",
     "output_type": "stream",
     "text": [
      " * postgresql://postgres@localhost/mydb\n",
      "2 rows affected.\n"
     ]
    },
    {
     "data": {
      "text/html": [
       "<table>\n",
       "    <thead>\n",
       "        <tr>\n",
       "            <th>order_id</th>\n",
       "            <th>product_no</th>\n",
       "            <th>quantity</th>\n",
       "        </tr>\n",
       "    </thead>\n",
       "    <tbody>\n",
       "        <tr>\n",
       "            <td>1</td>\n",
       "            <td>1</td>\n",
       "            <td>10</td>\n",
       "        </tr>\n",
       "        <tr>\n",
       "            <td>2</td>\n",
       "            <td>1</td>\n",
       "            <td>10</td>\n",
       "        </tr>\n",
       "    </tbody>\n",
       "</table>"
      ],
      "text/plain": [
       "[(1, 1, 10), (2, 1, 10)]"
      ]
     },
     "execution_count": 134,
     "metadata": {},
     "output_type": "execute_result"
    }
   ],
   "source": [
    "%sql SELECT * FROM orders;"
   ]
  },
  {
   "cell_type": "markdown",
   "id": "ae93af6d-6168-4446-b06c-d544d68403b7",
   "metadata": {},
   "source": [
    "- Now deleting product with id 1 will cause the change of orders with product_no 1.\n",
    "- But since there is no record in products with product_no 1 an error will be raised."
   ]
  },
  {
   "cell_type": "code",
   "execution_count": 135,
   "id": "96993dcb-0d71-425e-b0db-ffe571582dc1",
   "metadata": {},
   "outputs": [
    {
     "name": "stdout",
     "output_type": "stream",
     "text": [
      " * postgresql://postgres@localhost/mydb\n",
      "(psycopg2.errors.ForeignKeyViolation) HATA:  \"products\" tablosu üzerinde yapılan update veya delete işlemi \"orders\" tablosunun \"orders_product_no_fkey\" bütünlük kısıtlamasını ihlal ediyor\n",
      "DETAIL:  (product_no)=(1) anahtarı \"orders\" tablosundan hala referans edilmektedir.\n",
      "\n",
      "[SQL: DELETE FROM products WHERE product_no = 1;]\n",
      "(Background on this error at: https://sqlalche.me/e/20/gkpj)\n"
     ]
    }
   ],
   "source": [
    "%sql DELETE FROM products WHERE product_no = 1;"
   ]
  },
  {
   "cell_type": "markdown",
   "id": "c8164eea-263c-4d2c-964a-d21317c930bb",
   "metadata": {},
   "source": [
    "###### Difference between NO ACTION and RESTRICTED"
   ]
  },
  {
   "cell_type": "markdown",
   "id": "5a442247-f07a-4146-abe3-644ac6e4f00b",
   "metadata": {},
   "source": [
    "- NO ACTION can be described as DEFERRABLE but restricted can not."
   ]
  },
  {
   "cell_type": "markdown",
   "id": "3efc4617-5b1e-43ab-b79d-11082110abf8",
   "metadata": {},
   "source": [
    "- To see the effects in this section auto-commit will be disabled.\n",
    "- Do not forget to re-open for other sections."
   ]
  },
  {
   "cell_type": "code",
   "execution_count": 136,
   "id": "7c1801ed-7728-4f60-9541-9c25ffcafd92",
   "metadata": {},
   "outputs": [],
   "source": [
    "%config SqlMagic.autocommit=False"
   ]
  },
  {
   "cell_type": "code",
   "execution_count": 137,
   "id": "3b685a24-6693-4de0-8002-deb0ea711623",
   "metadata": {},
   "outputs": [
    {
     "name": "stdout",
     "output_type": "stream",
     "text": [
      " * postgresql://postgres@localhost/mydb\n",
      "Done.\n",
      "Done.\n",
      "Done.\n",
      "Done.\n",
      "Done.\n"
     ]
    },
    {
     "data": {
      "text/plain": [
       "[]"
      ]
     },
     "execution_count": 137,
     "metadata": {},
     "output_type": "execute_result"
    }
   ],
   "source": [
    "%%sql\n",
    "BEGIN;\n",
    "DROP TABLE IF EXISTS products, orders CASCADE;\n",
    "CREATE TABLE products (\n",
    "    product_no integer PRIMARY KEY,\n",
    "    name text,\n",
    "    price numeric\n",
    ");\n",
    "CREATE TABLE orders (\n",
    "    order_id integer PRIMARY KEY,\n",
    "    product_no integer REFERENCES products(product_no) ON DELETE NO ACTION DEFERRABLE INITIALLY DEFERRED,\n",
    "    quantity integer\n",
    ");\n",
    "COMMIT;"
   ]
  },
  {
   "cell_type": "markdown",
   "id": "fc5190cd-1c1b-4e36-aa42-9fb674aac889",
   "metadata": {},
   "source": [
    "- Inserting related records"
   ]
  },
  {
   "cell_type": "code",
   "execution_count": 138,
   "id": "b49becab-898a-46ea-8fcd-ed1c81aad079",
   "metadata": {},
   "outputs": [
    {
     "name": "stdout",
     "output_type": "stream",
     "text": [
      " * postgresql://postgres@localhost/mydb\n",
      "Done.\n",
      "1 rows affected.\n",
      "1 rows affected.\n",
      "Done.\n"
     ]
    },
    {
     "data": {
      "text/plain": [
       "[]"
      ]
     },
     "execution_count": 138,
     "metadata": {},
     "output_type": "execute_result"
    }
   ],
   "source": [
    "%%sql\n",
    "BEGIN;\n",
    "INSERT INTO products VALUES (1, 'product-1', 10);\n",
    "INSERT INTO orders VALUES (1, 1, 10);\n",
    "COMMIT;"
   ]
  },
  {
   "cell_type": "markdown",
   "id": "409fcc95-6496-40cb-9ba7-d8e741c121a5",
   "metadata": {},
   "source": [
    "- In transaction first product then order can be deleted because FK check is deferred until transaction ends\n",
    "- See that both product and order deleted"
   ]
  },
  {
   "cell_type": "code",
   "execution_count": 139,
   "id": "40b62246-763d-4bf0-bb21-229debd00636",
   "metadata": {},
   "outputs": [
    {
     "name": "stdout",
     "output_type": "stream",
     "text": [
      " * postgresql://postgres@localhost/mydb\n",
      "Done.\n",
      "1 rows affected.\n",
      "1 rows affected.\n",
      "Done.\n"
     ]
    },
    {
     "data": {
      "text/plain": [
       "[]"
      ]
     },
     "execution_count": 139,
     "metadata": {},
     "output_type": "execute_result"
    }
   ],
   "source": [
    "%%sql\n",
    "BEGIN;\n",
    "DELETE FROM products WHERE product_no = 1;\n",
    "DELETE FROM orders WHERE product_no = 1;\n",
    "COMMIT;"
   ]
  },
  {
   "cell_type": "code",
   "execution_count": 140,
   "id": "a2e9bba4-35f7-4651-b3ae-02ab02bcdbad",
   "metadata": {},
   "outputs": [
    {
     "name": "stdout",
     "output_type": "stream",
     "text": [
      " * postgresql://postgres@localhost/mydb\n",
      "0 rows affected.\n"
     ]
    },
    {
     "data": {
      "text/html": [
       "<table>\n",
       "    <thead>\n",
       "        <tr>\n",
       "            <th>product_no</th>\n",
       "            <th>name</th>\n",
       "            <th>price</th>\n",
       "        </tr>\n",
       "    </thead>\n",
       "    <tbody>\n",
       "    </tbody>\n",
       "</table>"
      ],
      "text/plain": [
       "[]"
      ]
     },
     "execution_count": 140,
     "metadata": {},
     "output_type": "execute_result"
    }
   ],
   "source": [
    "%sql SELECT * FROM products;"
   ]
  },
  {
   "cell_type": "code",
   "execution_count": 141,
   "id": "ff8a58cb-e7d0-4762-a083-3faeff1fa73c",
   "metadata": {},
   "outputs": [
    {
     "name": "stdout",
     "output_type": "stream",
     "text": [
      " * postgresql://postgres@localhost/mydb\n",
      "0 rows affected.\n"
     ]
    },
    {
     "data": {
      "text/html": [
       "<table>\n",
       "    <thead>\n",
       "        <tr>\n",
       "            <th>order_id</th>\n",
       "            <th>product_no</th>\n",
       "            <th>quantity</th>\n",
       "        </tr>\n",
       "    </thead>\n",
       "    <tbody>\n",
       "    </tbody>\n",
       "</table>"
      ],
      "text/plain": [
       "[]"
      ]
     },
     "execution_count": 141,
     "metadata": {},
     "output_type": "execute_result"
    }
   ],
   "source": [
    "%sql SELECT * FROM orders;"
   ]
  },
  {
   "cell_type": "markdown",
   "id": "76759e76-2e03-4554-aa0d-d60dd0d35d85",
   "metadata": {},
   "source": [
    "- Even when defining RESTRICT as DEFERRED, it has no effect on transaction.\n",
    "- Still deleting product before delete order violates error even in transaction.\n",
    "- So it behaves as RESTRICT even if you define it as DEFERRED."
   ]
  },
  {
   "cell_type": "code",
   "execution_count": 142,
   "id": "94f7ed8a-b578-4874-81fd-87f5af3f6d48",
   "metadata": {},
   "outputs": [
    {
     "name": "stdout",
     "output_type": "stream",
     "text": [
      " * postgresql://postgres@localhost/mydb\n",
      "Done.\n",
      "Done.\n",
      "Done.\n",
      "Done.\n",
      "Done.\n"
     ]
    },
    {
     "data": {
      "text/plain": [
       "[]"
      ]
     },
     "execution_count": 142,
     "metadata": {},
     "output_type": "execute_result"
    }
   ],
   "source": [
    "%%sql\n",
    "BEGIN;\n",
    "DROP TABLE IF EXISTS products, orders CASCADE;\n",
    "CREATE TABLE products (\n",
    "    product_no integer PRIMARY KEY,\n",
    "    name text,\n",
    "    price numeric\n",
    ");\n",
    "CREATE TABLE orders (\n",
    "    order_id integer PRIMARY KEY,\n",
    "    product_no integer REFERENCES products(product_no) ON DELETE RESTRICT DEFERRABLE INITIALLY DEFERRED,\n",
    "    quantity integer\n",
    ");\n",
    "COMMIT;"
   ]
  },
  {
   "cell_type": "markdown",
   "id": "9273014f-ff9d-4dae-9de7-a713757d7355",
   "metadata": {},
   "source": [
    "- Inserting related records"
   ]
  },
  {
   "cell_type": "code",
   "execution_count": 143,
   "id": "fbed5192-366d-45ac-9999-8f3eac8cd88a",
   "metadata": {},
   "outputs": [
    {
     "name": "stdout",
     "output_type": "stream",
     "text": [
      " * postgresql://postgres@localhost/mydb\n",
      "Done.\n",
      "1 rows affected.\n",
      "1 rows affected.\n",
      "Done.\n"
     ]
    },
    {
     "data": {
      "text/plain": [
       "[]"
      ]
     },
     "execution_count": 143,
     "metadata": {},
     "output_type": "execute_result"
    }
   ],
   "source": [
    "%%sql\n",
    "BEGIN;\n",
    "INSERT INTO products VALUES (1, 'product-1', 10);\n",
    "INSERT INTO orders VALUES (1, 1, 10);\n",
    "COMMIT;"
   ]
  },
  {
   "cell_type": "markdown",
   "id": "cf393115-0d19-43e8-8cbf-b64e76aa91c6",
   "metadata": {},
   "source": [
    "- Delete product will raise error because FK constraint checks violation imeediately even if described as DEFERRED"
   ]
  },
  {
   "cell_type": "code",
   "execution_count": 144,
   "id": "26fecdef-7275-49fe-936d-8f1f44983fd8",
   "metadata": {},
   "outputs": [
    {
     "name": "stdout",
     "output_type": "stream",
     "text": [
      " * postgresql://postgres@localhost/mydb\n",
      "Done.\n",
      "(psycopg2.errors.ForeignKeyViolation) HATA:  \"products\" tablosu üzerinde yapılan update veya delete işlemi \"orders\" tablosunun \"orders_product_no_fkey\" bütünlük kısıtlamasını ihlal ediyor\n",
      "DETAIL:  (product_no)=(1) anahtarı \"orders\" tablosundan hala referans edilmektedir.\n",
      "\n",
      "[SQL: DELETE FROM products WHERE product_no = 1;]\n",
      "(Background on this error at: https://sqlalche.me/e/20/gkpj)\n"
     ]
    }
   ],
   "source": [
    "%%sql\n",
    "BEGIN;\n",
    "DELETE FROM products WHERE product_no = 1;\n",
    "DELETE FROM orders WHERE product_no = 1;\n",
    "COMMIT;"
   ]
  },
  {
   "cell_type": "code",
   "execution_count": 145,
   "id": "2c17c263-160c-4c6a-94ee-cc49dcb32381",
   "metadata": {},
   "outputs": [],
   "source": [
    "%config SqlMagic.autocommit=True"
   ]
  },
  {
   "cell_type": "markdown",
   "id": "bbf56ce8-ec56-4741-a177-7e7f6bc239e7",
   "metadata": {},
   "source": [
    "#### 5.5.6. Exclusion Constraints"
   ]
  },
  {
   "cell_type": "markdown",
   "id": "4b7715fb-c0ec-4ff3-b5f9-33cc599c4fea",
   "metadata": {},
   "source": [
    "- Exclusion constraint works like UNIQUE operator but it allows compare values to constraint other than equality operator.\n",
    "- Normally, a UNIQUE constraint prevents duplicate values in a column.\n",
    "- An Exclusion Constraint, on the other hand, enforces a \"cannot exist at the same time\" restriction using a specified operator.\n",
    "- Usage is  <i>EXCLUDE USING gist (point(lat, lon) WITH ~=)</i>\n",
    "    - When using exclude column will be indexed.\n",
    "    - In here gist specifies Generalized Search Tree algorithm will be used in indexing.\n",
    "    - Other alternatives: btree, spgist, brin.\n",
    "    - But gist is more common."
   ]
  },
  {
   "cell_type": "code",
   "execution_count": 146,
   "id": "54b330cc-b562-4f73-8a79-1f5c2acd023d",
   "metadata": {},
   "outputs": [
    {
     "name": "stdout",
     "output_type": "stream",
     "text": [
      " * postgresql://postgres@localhost/mydb\n",
      "Done.\n",
      "Done.\n"
     ]
    },
    {
     "data": {
      "text/plain": [
       "[]"
      ]
     },
     "execution_count": 146,
     "metadata": {},
     "output_type": "execute_result"
    }
   ],
   "source": [
    "%%sql\n",
    "DROP TABLE IF EXISTS locations CASCADE;\n",
    "CREATE TABLE locations (\n",
    "    id SERIAL PRIMARY KEY,\n",
    "    lat DOUBLE PRECISION NOT NULL,\n",
    "    lon DOUBLE PRECISION NOT NULL,\n",
    "    EXCLUDE USING gist (point(lat, lon) WITH ~=)\n",
    ");"
   ]
  },
  {
   "cell_type": "markdown",
   "id": "313aa5b5-b7e0-4e5a-a8da-f0e65a43ad3c",
   "metadata": {},
   "source": [
    "- Inserting same point will raise exception"
   ]
  },
  {
   "cell_type": "code",
   "execution_count": 147,
   "id": "75dce6f5-3aa4-4db0-9c81-e2fba1eb7ddd",
   "metadata": {},
   "outputs": [
    {
     "name": "stdout",
     "output_type": "stream",
     "text": [
      " * postgresql://postgres@localhost/mydb\n",
      "1 rows affected.\n",
      "(psycopg2.errors.ExclusionViolation) HATA:  uyuşmayan kayıt, \"locations_point_excl\" exclusion kısıtlamasını ihlal etmektedir\n",
      "DETAIL:  (point(lat, lon))=((10,15)) anahtarı, mevcut (point(lat, lon))=((10,15)) anahtarıyla uyuşmuyor.\n",
      "\n",
      "[SQL: INSERT INTO locations VALUES (2, 10.0, 15.0);]\n",
      "(Background on this error at: https://sqlalche.me/e/20/gkpj)\n"
     ]
    }
   ],
   "source": [
    "%%sql\n",
    "INSERT INTO locations VALUES (1, 10.0, 15.0);\n",
    "INSERT INTO locations VALUES (2, 10.0, 15.0);"
   ]
  },
  {
   "cell_type": "markdown",
   "id": "40162102-fe89-4005-b6e5-ce9ac0a42cf9",
   "metadata": {},
   "source": [
    "- Another example using date range"
   ]
  },
  {
   "cell_type": "code",
   "execution_count": 148,
   "id": "512690ea-3064-41d9-a0b6-19ed6273b7a3",
   "metadata": {},
   "outputs": [
    {
     "name": "stdout",
     "output_type": "stream",
     "text": [
      " * postgresql://postgres@localhost/mydb\n",
      "Done.\n",
      "Done.\n",
      "Done.\n"
     ]
    },
    {
     "data": {
      "text/plain": [
       "[]"
      ]
     },
     "execution_count": 148,
     "metadata": {},
     "output_type": "execute_result"
    }
   ],
   "source": [
    "%%sql\n",
    "CREATE EXTENSION IF NOT EXISTS btree_gist; \n",
    "DROP TABLE IF EXISTS reservations CASCADE;\n",
    "CREATE TABLE reservations (\n",
    "    id SERIAL PRIMARY KEY,\n",
    "    room_id INTEGER NOT NULL,\n",
    "    start_date DATE NOT NULL,\n",
    "    end_date DATE NOT NULL,\n",
    "    EXCLUDE USING gist (\n",
    "        room_id WITH =,  -- Aynı oda numarasının tekrarını engeller\n",
    "        daterange(start_date, end_date, '[]') WITH &&  -- Tarihler çakışamaz\n",
    "    )\n",
    ");"
   ]
  },
  {
   "cell_type": "markdown",
   "id": "826e1915-9889-4266-88ea-dfd82bb2929c",
   "metadata": {},
   "source": [
    "- Inserting reservations"
   ]
  },
  {
   "cell_type": "code",
   "execution_count": 149,
   "id": "f740171f-6af3-42c6-8da8-3656e7bd1420",
   "metadata": {},
   "outputs": [
    {
     "name": "stdout",
     "output_type": "stream",
     "text": [
      " * postgresql://postgres@localhost/mydb\n",
      "1 rows affected.\n",
      "1 rows affected.\n"
     ]
    },
    {
     "data": {
      "text/plain": [
       "[]"
      ]
     },
     "execution_count": 149,
     "metadata": {},
     "output_type": "execute_result"
    }
   ],
   "source": [
    "%%sql\n",
    "INSERT INTO reservations (room_id, start_date, end_date) VALUES (1, '2025-03-01', '2025-03-04');\n",
    "INSERT INTO reservations (room_id, start_date, end_date) VALUES (1, '2025-03-05', '2025-03-07');"
   ]
  },
  {
   "cell_type": "markdown",
   "id": "17a95c8b-7f13-4db3-98e7-75e15b8ccb40",
   "metadata": {},
   "source": [
    "- Inserting a record which dates collide with another record will raise error"
   ]
  },
  {
   "cell_type": "code",
   "execution_count": 150,
   "id": "eb63b6e9-5320-4104-8864-620fc1d9e37f",
   "metadata": {},
   "outputs": [
    {
     "name": "stdout",
     "output_type": "stream",
     "text": [
      " * postgresql://postgres@localhost/mydb\n",
      "(psycopg2.errors.ExclusionViolation) HATA:  uyuşmayan kayıt, \"reservations_room_id_daterange_excl\" exclusion kısıtlamasını ihlal etmektedir\n",
      "DETAIL:  (room_id, daterange(start_date, end_date, '[]'::text))=(1, [2025-03-06,2025-03-07)) anahtarı, mevcut (room_id, daterange(start_date, end_date, '[]'::text))=(1, [2025-03-05,2025-03-08)) anahtarıyla uyuşmuyor.\n",
      "\n",
      "[SQL: INSERT INTO reservations (room_id, start_date, end_date) VALUES (1, '2025-03-06' , '2025-03-06' );]\n",
      "(Background on this error at: https://sqlalche.me/e/20/gkpj)\n"
     ]
    }
   ],
   "source": [
    "%sql INSERT INTO reservations (room_id, start_date, end_date) VALUES (1, '2025-03-06', '2025-03-06');"
   ]
  },
  {
   "cell_type": "markdown",
   "id": "a79a897b-c992-4a73-a589-f5baa0c499c1",
   "metadata": {},
   "source": [
    "### 5.7. Modifying Tables"
   ]
  },
  {
   "cell_type": "markdown",
   "id": "70c41e02-1db6-4ac0-b6d0-7c53479ac957",
   "metadata": {},
   "source": [
    "#### 5.7.1. Adding a Column"
   ]
  },
  {
   "cell_type": "markdown",
   "id": "d5e9eedd-c5e6-44a5-b486-8e89bd68c75d",
   "metadata": {},
   "source": [
    "- When adding new column you can specify default value with <i>DEFAULT</i>\n",
    "- Updating column properties from documentation:\n",
    "    - From PostgreSQL 11, adding a column with a constant default value no longer means that each row of the table needs to be updated when the ALTER TABLE statement is executed. Instead, the default value will be returned the next time the row is accessed, and applied when the table is rewritten, making the ALTER TABLE very fast even on large tables.\n",
    "    - However, if the default value is volatile (e.g., clock_timestamp()) each row will need to be updated with the value calculated at the time ALTER TABLE is executed. To avoid a potentially lengthy update operation, particularly if you intend to fill the column with mostly nondefault values anyway, it may be preferable to add the column with no default, insert the correct values using UPDATE, and then add any desired default as described below."
   ]
  },
  {
   "cell_type": "code",
   "execution_count": 151,
   "id": "85979739-9fdf-4b81-b90c-6f6dd3f6189a",
   "metadata": {},
   "outputs": [
    {
     "name": "stdout",
     "output_type": "stream",
     "text": [
      " * postgresql://postgres@localhost/mydb\n",
      "Done.\n",
      "Done.\n"
     ]
    },
    {
     "data": {
      "text/plain": [
       "[]"
      ]
     },
     "execution_count": 151,
     "metadata": {},
     "output_type": "execute_result"
    }
   ],
   "source": [
    "%%sql\n",
    "DROP TABLE IF EXISTS products CASCADE;\n",
    "CREATE TABLE products (\n",
    "    product_no integer PRIMARY KEY,\n",
    "    name text,\n",
    "    price numeric,\n",
    "    insert_time timestamp\n",
    ");"
   ]
  },
  {
   "cell_type": "code",
   "execution_count": 152,
   "id": "9e5e2148-dd8e-42aa-b00f-611c9363d434",
   "metadata": {},
   "outputs": [
    {
     "name": "stdout",
     "output_type": "stream",
     "text": [
      " * postgresql://postgres@localhost/mydb\n",
      "1 rows affected.\n",
      "1 rows affected.\n",
      "1 rows affected.\n"
     ]
    },
    {
     "data": {
      "text/plain": [
       "[]"
      ]
     },
     "execution_count": 152,
     "metadata": {},
     "output_type": "execute_result"
    }
   ],
   "source": [
    "%%sql\n",
    "INSERT INTO products VALUES (1, 'product-1', 10, clock_timestamp());\n",
    "INSERT INTO products VALUES (2, 'product-2', 10, clock_timestamp());\n",
    "INSERT INTO products VALUES (3, 'product-3', 10, clock_timestamp());"
   ]
  },
  {
   "cell_type": "code",
   "execution_count": 153,
   "id": "8a7fbcc1-a0dd-46ee-ae9a-aecc7addb79f",
   "metadata": {},
   "outputs": [
    {
     "name": "stdout",
     "output_type": "stream",
     "text": [
      " * postgresql://postgres@localhost/mydb\n",
      "3 rows affected.\n"
     ]
    },
    {
     "data": {
      "text/html": [
       "<table>\n",
       "    <thead>\n",
       "        <tr>\n",
       "            <th>product_no</th>\n",
       "            <th>name</th>\n",
       "            <th>price</th>\n",
       "            <th>insert_time</th>\n",
       "        </tr>\n",
       "    </thead>\n",
       "    <tbody>\n",
       "        <tr>\n",
       "            <td>1</td>\n",
       "            <td>product-1</td>\n",
       "            <td>10</td>\n",
       "            <td>2025-03-10 21:55:05.468272</td>\n",
       "        </tr>\n",
       "        <tr>\n",
       "            <td>2</td>\n",
       "            <td>product-2</td>\n",
       "            <td>10</td>\n",
       "            <td>2025-03-10 21:55:05.470540</td>\n",
       "        </tr>\n",
       "        <tr>\n",
       "            <td>3</td>\n",
       "            <td>product-3</td>\n",
       "            <td>10</td>\n",
       "            <td>2025-03-10 21:55:05.471417</td>\n",
       "        </tr>\n",
       "    </tbody>\n",
       "</table>"
      ],
      "text/plain": [
       "[(1, 'product-1', Decimal('10'), datetime.datetime(2025, 3, 10, 21, 55, 5, 468272)),\n",
       " (2, 'product-2', Decimal('10'), datetime.datetime(2025, 3, 10, 21, 55, 5, 470540)),\n",
       " (3, 'product-3', Decimal('10'), datetime.datetime(2025, 3, 10, 21, 55, 5, 471417))]"
      ]
     },
     "execution_count": 153,
     "metadata": {},
     "output_type": "execute_result"
    }
   ],
   "source": [
    "%sql SELECT * FROM products;"
   ]
  },
  {
   "cell_type": "markdown",
   "id": "f0ce6a2b-546a-49d3-865e-d410ad478735",
   "metadata": {},
   "source": [
    "- According to documentation:\n",
    "    - modified_time will be calculated and value applied immediately.\n",
    "    - when selecting a product photo_url will be taken from DEFAULT value. The value is not applied to products until table is rewritten.\n",
    "    - category values will be NULL because any default value did not specified."
   ]
  },
  {
   "cell_type": "code",
   "execution_count": 154,
   "id": "506279f9-f64e-4b4e-ba2e-f231afe8f6fb",
   "metadata": {},
   "outputs": [
    {
     "name": "stdout",
     "output_type": "stream",
     "text": [
      " * postgresql://postgres@localhost/mydb\n",
      "Done.\n"
     ]
    },
    {
     "data": {
      "text/plain": [
       "[]"
      ]
     },
     "execution_count": 154,
     "metadata": {},
     "output_type": "execute_result"
    }
   ],
   "source": [
    "%%sql \n",
    "ALTER TABLE products\n",
    "    ADD COLUMN modified_time timestamp DEFAULT clock_timestamp(),\n",
    "    ADD COLUMN photo_url text DEFAULT 'https://placehold.co/600x400/EEE/31343C',\n",
    "    ADD COLUMN category text"
   ]
  },
  {
   "cell_type": "code",
   "execution_count": 155,
   "id": "1770ba65-d28b-4f3c-899a-03a382f77e6f",
   "metadata": {},
   "outputs": [
    {
     "name": "stdout",
     "output_type": "stream",
     "text": [
      " * postgresql://postgres@localhost/mydb\n",
      "3 rows affected.\n"
     ]
    },
    {
     "data": {
      "text/html": [
       "<table>\n",
       "    <thead>\n",
       "        <tr>\n",
       "            <th>product_no</th>\n",
       "            <th>name</th>\n",
       "            <th>price</th>\n",
       "            <th>insert_time</th>\n",
       "            <th>modified_time</th>\n",
       "            <th>photo_url</th>\n",
       "            <th>category</th>\n",
       "        </tr>\n",
       "    </thead>\n",
       "    <tbody>\n",
       "        <tr>\n",
       "            <td>1</td>\n",
       "            <td>product-1</td>\n",
       "            <td>10</td>\n",
       "            <td>2025-03-10 21:55:05.468272</td>\n",
       "            <td>2025-03-10 21:55:05.504710</td>\n",
       "            <td>https://placehold.co/600x400/EEE/31343C</td>\n",
       "            <td>None</td>\n",
       "        </tr>\n",
       "        <tr>\n",
       "            <td>2</td>\n",
       "            <td>product-2</td>\n",
       "            <td>10</td>\n",
       "            <td>2025-03-10 21:55:05.470540</td>\n",
       "            <td>2025-03-10 21:55:05.504860</td>\n",
       "            <td>https://placehold.co/600x400/EEE/31343C</td>\n",
       "            <td>None</td>\n",
       "        </tr>\n",
       "        <tr>\n",
       "            <td>3</td>\n",
       "            <td>product-3</td>\n",
       "            <td>10</td>\n",
       "            <td>2025-03-10 21:55:05.471417</td>\n",
       "            <td>2025-03-10 21:55:05.504863</td>\n",
       "            <td>https://placehold.co/600x400/EEE/31343C</td>\n",
       "            <td>None</td>\n",
       "        </tr>\n",
       "    </tbody>\n",
       "</table>"
      ],
      "text/plain": [
       "[(1, 'product-1', Decimal('10'), datetime.datetime(2025, 3, 10, 21, 55, 5, 468272), datetime.datetime(2025, 3, 10, 21, 55, 5, 504710), 'https://placehold.co/600x400/EEE/31343C', None),\n",
       " (2, 'product-2', Decimal('10'), datetime.datetime(2025, 3, 10, 21, 55, 5, 470540), datetime.datetime(2025, 3, 10, 21, 55, 5, 504860), 'https://placehold.co/600x400/EEE/31343C', None),\n",
       " (3, 'product-3', Decimal('10'), datetime.datetime(2025, 3, 10, 21, 55, 5, 471417), datetime.datetime(2025, 3, 10, 21, 55, 5, 504863), 'https://placehold.co/600x400/EEE/31343C', None)]"
      ]
     },
     "execution_count": 155,
     "metadata": {},
     "output_type": "execute_result"
    }
   ],
   "source": [
    "%sql SELECT * FROM products;"
   ]
  },
  {
   "cell_type": "markdown",
   "id": "484d311d-4560-41bf-842e-0a67c8b02cb4",
   "metadata": {},
   "source": [
    "##### Constraints with adding column"
   ]
  },
  {
   "cell_type": "markdown",
   "id": "38fdfb3b-e923-4b9a-8c50-98c84caf4736",
   "metadata": {},
   "source": [
    "- When giving constraint to new added column, you should ensure that DEFAULT value comply with constraint."
   ]
  },
  {
   "cell_type": "code",
   "execution_count": 156,
   "id": "88e442a0-1222-4f0f-af69-ea4a5b2e5b26",
   "metadata": {},
   "outputs": [
    {
     "name": "stdout",
     "output_type": "stream",
     "text": [
      " * postgresql://postgres@localhost/mydb\n",
      "Done.\n",
      "Done.\n"
     ]
    },
    {
     "data": {
      "text/plain": [
       "[]"
      ]
     },
     "execution_count": 156,
     "metadata": {},
     "output_type": "execute_result"
    }
   ],
   "source": [
    "%%sql\n",
    "DROP TABLE IF EXISTS products, orders CASCADE;\n",
    "CREATE TABLE products (\n",
    "    product_no integer PRIMARY KEY,\n",
    "    name text,\n",
    "    price numeric\n",
    ");"
   ]
  },
  {
   "cell_type": "code",
   "execution_count": 157,
   "id": "5b2dba10-30a1-4417-807f-2ef739712ebd",
   "metadata": {},
   "outputs": [
    {
     "name": "stdout",
     "output_type": "stream",
     "text": [
      " * postgresql://postgres@localhost/mydb\n",
      "1 rows affected.\n",
      "1 rows affected.\n",
      "1 rows affected.\n"
     ]
    },
    {
     "data": {
      "text/plain": [
       "[]"
      ]
     },
     "execution_count": 157,
     "metadata": {},
     "output_type": "execute_result"
    }
   ],
   "source": [
    "%%sql\n",
    "INSERT INTO products VALUES (1, 'product-1', 10);\n",
    "INSERT INTO products VALUES (2, 'product-2', 10);\n",
    "INSERT INTO products VALUES (3, 'product-3', 10);"
   ]
  },
  {
   "cell_type": "markdown",
   "id": "d13381c9-bc86-4fb0-bf2e-ec50677b6cf4",
   "metadata": {},
   "source": [
    "- Giving NOT NULL constraing without specifying DEFAULT value raises error."
   ]
  },
  {
   "cell_type": "code",
   "execution_count": 158,
   "id": "934e00f2-12e7-4b76-a7e1-48f25aff59e1",
   "metadata": {},
   "outputs": [
    {
     "name": "stdout",
     "output_type": "stream",
     "text": [
      " * postgresql://postgres@localhost/mydb\n",
      "(psycopg2.errors.NotNullViolation) HATA:  column \"category\" of relation \"products\" contains null values\n",
      "\n",
      "[SQL: ALTER TABLE products ADD COLUMN category text NOT NULL]\n",
      "(Background on this error at: https://sqlalche.me/e/20/gkpj)\n"
     ]
    }
   ],
   "source": [
    "%sql ALTER TABLE products ADD COLUMN category text NOT NULL"
   ]
  },
  {
   "cell_type": "markdown",
   "id": "77f561c8-b66f-4999-a2b5-b29fcc15d861",
   "metadata": {},
   "source": [
    "#### 5.7.2. Removing a Column"
   ]
  },
  {
   "cell_type": "markdown",
   "id": "19c52636-2375-4681-8008-8b168a19ebca",
   "metadata": {},
   "source": [
    "- Removing column will also remove the constraints defined on that column.\n",
    "- If column is referenced by another table as foreign key drop operation will raise an error.\n",
    "    - To prevent this use <i>CASCADE</i>, so FK constraint wil be dropped."
   ]
  },
  {
   "cell_type": "code",
   "execution_count": 159,
   "id": "7345c026-6611-4c2a-a178-1723045de7e1",
   "metadata": {},
   "outputs": [
    {
     "name": "stdout",
     "output_type": "stream",
     "text": [
      " * postgresql://postgres@localhost/mydb\n",
      "Done.\n",
      "Done.\n"
     ]
    },
    {
     "data": {
      "text/plain": [
       "[]"
      ]
     },
     "execution_count": 159,
     "metadata": {},
     "output_type": "execute_result"
    }
   ],
   "source": [
    "%%sql\n",
    "DROP TABLE IF EXISTS products CASCADE;\n",
    "CREATE TABLE products (\n",
    "    product_no integer PRIMARY KEY,\n",
    "    name text,\n",
    "    price numeric\n",
    ");"
   ]
  },
  {
   "cell_type": "code",
   "execution_count": 160,
   "id": "e84b6c36-951d-433a-8d3c-8363b537c346",
   "metadata": {},
   "outputs": [
    {
     "name": "stdout",
     "output_type": "stream",
     "text": [
      " * postgresql://postgres@localhost/mydb\n",
      "1 rows affected.\n",
      "1 rows affected.\n",
      "1 rows affected.\n"
     ]
    },
    {
     "data": {
      "text/plain": [
       "[]"
      ]
     },
     "execution_count": 160,
     "metadata": {},
     "output_type": "execute_result"
    }
   ],
   "source": [
    "%%sql\n",
    "INSERT INTO products VALUES (1, 'product-1', 10);\n",
    "INSERT INTO products VALUES (2, 'product-2', 10);\n",
    "INSERT INTO products VALUES (3, 'product-3', 10);"
   ]
  },
  {
   "cell_type": "code",
   "execution_count": 161,
   "id": "dcb2eac7-3b64-4a6c-a227-699504e70b44",
   "metadata": {},
   "outputs": [
    {
     "name": "stdout",
     "output_type": "stream",
     "text": [
      " * postgresql://postgres@localhost/mydb\n",
      "3 rows affected.\n"
     ]
    },
    {
     "data": {
      "text/html": [
       "<table>\n",
       "    <thead>\n",
       "        <tr>\n",
       "            <th>product_no</th>\n",
       "            <th>name</th>\n",
       "            <th>price</th>\n",
       "        </tr>\n",
       "    </thead>\n",
       "    <tbody>\n",
       "        <tr>\n",
       "            <td>1</td>\n",
       "            <td>product-1</td>\n",
       "            <td>10</td>\n",
       "        </tr>\n",
       "        <tr>\n",
       "            <td>2</td>\n",
       "            <td>product-2</td>\n",
       "            <td>10</td>\n",
       "        </tr>\n",
       "        <tr>\n",
       "            <td>3</td>\n",
       "            <td>product-3</td>\n",
       "            <td>10</td>\n",
       "        </tr>\n",
       "    </tbody>\n",
       "</table>"
      ],
      "text/plain": [
       "[(1, 'product-1', Decimal('10')),\n",
       " (2, 'product-2', Decimal('10')),\n",
       " (3, 'product-3', Decimal('10'))]"
      ]
     },
     "execution_count": 161,
     "metadata": {},
     "output_type": "execute_result"
    }
   ],
   "source": [
    "%sql SELECT * FROM products;"
   ]
  },
  {
   "cell_type": "code",
   "execution_count": 162,
   "id": "8373a1d5-1d44-4731-8b95-20ea571511b4",
   "metadata": {},
   "outputs": [
    {
     "name": "stdout",
     "output_type": "stream",
     "text": [
      " * postgresql://postgres@localhost/mydb\n",
      "Done.\n"
     ]
    },
    {
     "data": {
      "text/plain": [
       "[]"
      ]
     },
     "execution_count": 162,
     "metadata": {},
     "output_type": "execute_result"
    }
   ],
   "source": [
    "%sql ALTER TABLE products DROP COLUMN price;"
   ]
  },
  {
   "cell_type": "code",
   "execution_count": 163,
   "id": "5c80488b-c9e6-4d8e-8838-f9dc22382829",
   "metadata": {},
   "outputs": [
    {
     "name": "stdout",
     "output_type": "stream",
     "text": [
      " * postgresql://postgres@localhost/mydb\n",
      "3 rows affected.\n"
     ]
    },
    {
     "data": {
      "text/html": [
       "<table>\n",
       "    <thead>\n",
       "        <tr>\n",
       "            <th>product_no</th>\n",
       "            <th>name</th>\n",
       "        </tr>\n",
       "    </thead>\n",
       "    <tbody>\n",
       "        <tr>\n",
       "            <td>1</td>\n",
       "            <td>product-1</td>\n",
       "        </tr>\n",
       "        <tr>\n",
       "            <td>2</td>\n",
       "            <td>product-2</td>\n",
       "        </tr>\n",
       "        <tr>\n",
       "            <td>3</td>\n",
       "            <td>product-3</td>\n",
       "        </tr>\n",
       "    </tbody>\n",
       "</table>"
      ],
      "text/plain": [
       "[(1, 'product-1'), (2, 'product-2'), (3, 'product-3')]"
      ]
     },
     "execution_count": 163,
     "metadata": {},
     "output_type": "execute_result"
    }
   ],
   "source": [
    "%sql SELECT * FROM products;"
   ]
  },
  {
   "cell_type": "markdown",
   "id": "086fa60a-3df9-4f6d-ba3f-c23aa79b75cb",
   "metadata": {},
   "source": [
    "##### Remove column with constraints"
   ]
  },
  {
   "cell_type": "code",
   "execution_count": 164,
   "id": "a6e5757a-5664-4eaa-a93d-445b26e3ce0e",
   "metadata": {},
   "outputs": [
    {
     "name": "stdout",
     "output_type": "stream",
     "text": [
      " * postgresql://postgres@localhost/mydb\n",
      "Done.\n",
      "Done.\n"
     ]
    },
    {
     "data": {
      "text/plain": [
       "[]"
      ]
     },
     "execution_count": 164,
     "metadata": {},
     "output_type": "execute_result"
    }
   ],
   "source": [
    "%%sql\n",
    "DROP TABLE IF EXISTS products CASCADE;\n",
    "CREATE TABLE products (\n",
    "    product_no integer PRIMARY KEY,\n",
    "    name text,\n",
    "    price numeric CONSTRAINT constraint_price_check CHECK (price > 10)\n",
    ");"
   ]
  },
  {
   "cell_type": "markdown",
   "id": "d35836a5-3ec0-40bc-8199-b76f0de33f98",
   "metadata": {},
   "source": [
    "- See that there is a constraint named <i>constraint_price_check</i>."
   ]
  },
  {
   "cell_type": "code",
   "execution_count": 165,
   "id": "9c0d3e7f-554a-453e-8047-5b04e9297195",
   "metadata": {},
   "outputs": [
    {
     "name": "stdout",
     "output_type": "stream",
     "text": [
      " * postgresql://postgres@localhost/mydb\n",
      "2 rows affected.\n"
     ]
    },
    {
     "data": {
      "text/html": [
       "<table>\n",
       "    <thead>\n",
       "        <tr>\n",
       "            <th>constraint_name</th>\n",
       "            <th>constraint_type</th>\n",
       "        </tr>\n",
       "    </thead>\n",
       "    <tbody>\n",
       "        <tr>\n",
       "            <td>constraint_price_check</td>\n",
       "            <td>c</td>\n",
       "        </tr>\n",
       "        <tr>\n",
       "            <td>products_pkey1</td>\n",
       "            <td>p</td>\n",
       "        </tr>\n",
       "    </tbody>\n",
       "</table>"
      ],
      "text/plain": [
       "[('constraint_price_check', 'c'), ('products_pkey1', 'p')]"
      ]
     },
     "execution_count": 165,
     "metadata": {},
     "output_type": "execute_result"
    }
   ],
   "source": [
    "%%sql\n",
    "SELECT \n",
    "    conname AS constraint_name,\n",
    "    contype AS constraint_type\n",
    "FROM \n",
    "    pg_catalog.pg_constraint\n",
    "WHERE \n",
    "    conrelid = 'products'::regclass;"
   ]
  },
  {
   "cell_type": "code",
   "execution_count": 166,
   "id": "3b356c79-1b8c-4504-a64e-12c0dc4c9842",
   "metadata": {},
   "outputs": [
    {
     "name": "stdout",
     "output_type": "stream",
     "text": [
      " * postgresql://postgres@localhost/mydb\n",
      "Done.\n"
     ]
    },
    {
     "data": {
      "text/plain": [
       "[]"
      ]
     },
     "execution_count": 166,
     "metadata": {},
     "output_type": "execute_result"
    }
   ],
   "source": [
    "%sql ALTER TABLE products DROP COLUMN price;"
   ]
  },
  {
   "cell_type": "markdown",
   "id": "9060f9b4-5cce-4705-8358-da426c3c7913",
   "metadata": {},
   "source": [
    "- See that <i>constraint_price_check</i> is also dropped."
   ]
  },
  {
   "cell_type": "code",
   "execution_count": 167,
   "id": "e7ee86d5-3e61-4ac3-9206-f813ad147374",
   "metadata": {},
   "outputs": [
    {
     "name": "stdout",
     "output_type": "stream",
     "text": [
      " * postgresql://postgres@localhost/mydb\n",
      "1 rows affected.\n"
     ]
    },
    {
     "data": {
      "text/html": [
       "<table>\n",
       "    <thead>\n",
       "        <tr>\n",
       "            <th>constraint_name</th>\n",
       "            <th>constraint_type</th>\n",
       "        </tr>\n",
       "    </thead>\n",
       "    <tbody>\n",
       "        <tr>\n",
       "            <td>products_pkey1</td>\n",
       "            <td>p</td>\n",
       "        </tr>\n",
       "    </tbody>\n",
       "</table>"
      ],
      "text/plain": [
       "[('products_pkey1', 'p')]"
      ]
     },
     "execution_count": 167,
     "metadata": {},
     "output_type": "execute_result"
    }
   ],
   "source": [
    "%%sql\n",
    "SELECT \n",
    "    conname AS constraint_name,\n",
    "    contype AS constraint_type\n",
    "FROM \n",
    "    pg_catalog.pg_constraint\n",
    "WHERE \n",
    "    conrelid = 'products'::regclass;"
   ]
  },
  {
   "cell_type": "markdown",
   "id": "62cdc353-a07f-48e9-b7b5-82c18bf6a7b0",
   "metadata": {},
   "source": [
    "##### Remove column with table constraints which contains multiple column"
   ]
  },
  {
   "cell_type": "code",
   "execution_count": 168,
   "id": "e3c8ccab-d1e7-4d0a-9cde-67f7bb626eac",
   "metadata": {},
   "outputs": [
    {
     "name": "stdout",
     "output_type": "stream",
     "text": [
      " * postgresql://postgres@localhost/mydb\n",
      "Done.\n",
      "Done.\n"
     ]
    },
    {
     "data": {
      "text/plain": [
       "[]"
      ]
     },
     "execution_count": 168,
     "metadata": {},
     "output_type": "execute_result"
    }
   ],
   "source": [
    "%%sql\n",
    "DROP TABLE IF EXISTS products CASCADE;\n",
    "CREATE TABLE products (\n",
    "    product_no integer PRIMARY KEY,\n",
    "    name text,\n",
    "    price numeric,\n",
    "    CONSTRAINT constraint_name_and_price CHECK (NAME <> '' AND price > 10)\n",
    ");"
   ]
  },
  {
   "cell_type": "markdown",
   "id": "2bb91c7f-e887-4622-9ddf-89f8e55b5771",
   "metadata": {},
   "source": [
    "- See that there is a single constraint named <i>constraint_name_and_price</i>."
   ]
  },
  {
   "cell_type": "code",
   "execution_count": 169,
   "id": "27989583-9b1f-4829-bb13-6e8825a393de",
   "metadata": {},
   "outputs": [
    {
     "name": "stdout",
     "output_type": "stream",
     "text": [
      " * postgresql://postgres@localhost/mydb\n",
      "2 rows affected.\n"
     ]
    },
    {
     "data": {
      "text/html": [
       "<table>\n",
       "    <thead>\n",
       "        <tr>\n",
       "            <th>constraint_name</th>\n",
       "            <th>constraint_type</th>\n",
       "        </tr>\n",
       "    </thead>\n",
       "    <tbody>\n",
       "        <tr>\n",
       "            <td>constraint_name_and_price</td>\n",
       "            <td>c</td>\n",
       "        </tr>\n",
       "        <tr>\n",
       "            <td>products_pkey1</td>\n",
       "            <td>p</td>\n",
       "        </tr>\n",
       "    </tbody>\n",
       "</table>"
      ],
      "text/plain": [
       "[('constraint_name_and_price', 'c'), ('products_pkey1', 'p')]"
      ]
     },
     "execution_count": 169,
     "metadata": {},
     "output_type": "execute_result"
    }
   ],
   "source": [
    "%%sql\n",
    "SELECT \n",
    "    conname AS constraint_name,\n",
    "    contype AS constraint_type\n",
    "FROM \n",
    "    pg_catalog.pg_constraint\n",
    "WHERE \n",
    "    conrelid = 'products'::regclass;"
   ]
  },
  {
   "cell_type": "code",
   "execution_count": 170,
   "id": "a8a448a7-9d2a-409d-9106-aa4f583f3e1c",
   "metadata": {},
   "outputs": [
    {
     "name": "stdout",
     "output_type": "stream",
     "text": [
      " * postgresql://postgres@localhost/mydb\n",
      "Done.\n"
     ]
    },
    {
     "data": {
      "text/plain": [
       "[]"
      ]
     },
     "execution_count": 170,
     "metadata": {},
     "output_type": "execute_result"
    }
   ],
   "source": [
    "%sql ALTER TABLE products DROP COLUMN price;"
   ]
  },
  {
   "cell_type": "markdown",
   "id": "aa95a1f5-3e92-45ff-8c7c-db2f916395f8",
   "metadata": {},
   "source": [
    "- See that <i>constraint_name_and_price</i> is also dropped."
   ]
  },
  {
   "cell_type": "code",
   "execution_count": 171,
   "id": "d7e9b8b7-8447-4c42-afa9-282a4d0a678d",
   "metadata": {},
   "outputs": [
    {
     "name": "stdout",
     "output_type": "stream",
     "text": [
      " * postgresql://postgres@localhost/mydb\n",
      "1 rows affected.\n"
     ]
    },
    {
     "data": {
      "text/html": [
       "<table>\n",
       "    <thead>\n",
       "        <tr>\n",
       "            <th>constraint_name</th>\n",
       "            <th>constraint_type</th>\n",
       "        </tr>\n",
       "    </thead>\n",
       "    <tbody>\n",
       "        <tr>\n",
       "            <td>products_pkey1</td>\n",
       "            <td>p</td>\n",
       "        </tr>\n",
       "    </tbody>\n",
       "</table>"
      ],
      "text/plain": [
       "[('products_pkey1', 'p')]"
      ]
     },
     "execution_count": 171,
     "metadata": {},
     "output_type": "execute_result"
    }
   ],
   "source": [
    "%%sql\n",
    "SELECT \n",
    "    conname AS constraint_name,\n",
    "    contype AS constraint_type\n",
    "FROM \n",
    "    pg_catalog.pg_constraint\n",
    "WHERE \n",
    "    conrelid = 'products'::regclass;"
   ]
  },
  {
   "cell_type": "markdown",
   "id": "74242201-8ed9-40ee-8aa6-ab476bea3a42",
   "metadata": {},
   "source": [
    "##### Remove column with referenced by another table by FK constraint"
   ]
  },
  {
   "cell_type": "code",
   "execution_count": 172,
   "id": "6bb280e5-b823-4491-88f7-4b453945e84b",
   "metadata": {},
   "outputs": [
    {
     "name": "stdout",
     "output_type": "stream",
     "text": [
      " * postgresql://postgres@localhost/mydb\n",
      "Done.\n",
      "Done.\n",
      "Done.\n"
     ]
    },
    {
     "data": {
      "text/plain": [
       "[]"
      ]
     },
     "execution_count": 172,
     "metadata": {},
     "output_type": "execute_result"
    }
   ],
   "source": [
    "%%sql\n",
    "DROP TABLE IF EXISTS products, orders CASCADE;\n",
    "CREATE TABLE products (\n",
    "    product_no integer PRIMARY KEY,\n",
    "    name text,\n",
    "    price numeric,\n",
    "    product_ref integer UNIQUE\n",
    ");\n",
    "CREATE TABLE orders (\n",
    "    order_id integer PRIMARY KEY,\n",
    "    product_no integer REFERENCES products (product_ref),\n",
    "    quantity integer\n",
    ");"
   ]
  },
  {
   "cell_type": "markdown",
   "id": "85141b80-0017-48ba-b030-f274c4225724",
   "metadata": {},
   "source": [
    "- See that there is a foreign key constraint in orders table."
   ]
  },
  {
   "cell_type": "code",
   "execution_count": 173,
   "id": "30cf7a79-b70b-44be-9534-6de542f3a652",
   "metadata": {},
   "outputs": [
    {
     "name": "stdout",
     "output_type": "stream",
     "text": [
      " * postgresql://postgres@localhost/mydb\n",
      "4 rows affected.\n"
     ]
    },
    {
     "data": {
      "text/html": [
       "<table>\n",
       "    <thead>\n",
       "        <tr>\n",
       "            <th>constraint_name</th>\n",
       "            <th>constraint_type</th>\n",
       "            <th>table_name</th>\n",
       "        </tr>\n",
       "    </thead>\n",
       "    <tbody>\n",
       "        <tr>\n",
       "            <td>products_pkey1</td>\n",
       "            <td>p</td>\n",
       "            <td>products</td>\n",
       "        </tr>\n",
       "        <tr>\n",
       "            <td>products_product_ref_key</td>\n",
       "            <td>u</td>\n",
       "            <td>products</td>\n",
       "        </tr>\n",
       "        <tr>\n",
       "            <td>orders_pkey</td>\n",
       "            <td>p</td>\n",
       "            <td>orders</td>\n",
       "        </tr>\n",
       "        <tr>\n",
       "            <td>orders_product_no_fkey</td>\n",
       "            <td>f</td>\n",
       "            <td>orders</td>\n",
       "        </tr>\n",
       "    </tbody>\n",
       "</table>"
      ],
      "text/plain": [
       "[('products_pkey1', 'p', 'products'),\n",
       " ('products_product_ref_key', 'u', 'products'),\n",
       " ('orders_pkey', 'p', 'orders'),\n",
       " ('orders_product_no_fkey', 'f', 'orders')]"
      ]
     },
     "execution_count": 173,
     "metadata": {},
     "output_type": "execute_result"
    }
   ],
   "source": [
    "%%sql\n",
    "SELECT \n",
    "    conname AS constraint_name,\n",
    "    contype AS constraint_type,\n",
    "    conrelid::regclass AS table_name\n",
    "FROM \n",
    "    pg_catalog.pg_constraint\n",
    "WHERE \n",
    "    conrelid IN ('products'::regclass, 'orders'::regclass);"
   ]
  },
  {
   "cell_type": "markdown",
   "id": "3c966b29-02a4-4bc4-b5bd-ab99001b81a0",
   "metadata": {},
   "source": [
    "- When attempting to drop product_ref column which referenced from orders table by fk constraint, it raises error."
   ]
  },
  {
   "cell_type": "code",
   "execution_count": 174,
   "id": "cc0e02e0-f0a2-471f-aa07-1aec19e62731",
   "metadata": {},
   "outputs": [
    {
     "name": "stdout",
     "output_type": "stream",
     "text": [
      " * postgresql://postgres@localhost/mydb\n",
      "(psycopg2.errors.DependentObjectsStillExist) HATA:  diğer nesnelerin ona bağlı olması nedeniyle products tablosu'nin product_ref sütunu kaldırılamıyor\n",
      "DETAIL:  orders tablosu üzerinde orders_product_no_fkey kısıtlaması, products tablosu'nin product_ref sütunu nesnesine bağlıdır\n",
      "HINT:  Bağlı nesneleri de kaldırmak için DROP ... CASCADE kullanın.\n",
      "\n",
      "[SQL: ALTER TABLE products DROP COLUMN product_ref;]\n",
      "(Background on this error at: https://sqlalche.me/e/20/2j85)\n"
     ]
    }
   ],
   "source": [
    "%sql ALTER TABLE products DROP COLUMN product_ref;"
   ]
  },
  {
   "cell_type": "markdown",
   "id": "1b8312cd-84e5-485d-ab71-bab2a800353b",
   "metadata": {},
   "source": [
    "- By using <i>CASCADE</i> product_ref column and fk constraint will be dropped."
   ]
  },
  {
   "cell_type": "code",
   "execution_count": 175,
   "id": "133c9889-b722-46c7-90f2-ca839d889048",
   "metadata": {},
   "outputs": [
    {
     "name": "stdout",
     "output_type": "stream",
     "text": [
      " * postgresql://postgres@localhost/mydb\n",
      "Done.\n"
     ]
    },
    {
     "data": {
      "text/plain": [
       "[]"
      ]
     },
     "execution_count": 175,
     "metadata": {},
     "output_type": "execute_result"
    }
   ],
   "source": [
    "%sql ALTER TABLE products DROP COLUMN product_ref CASCADE;"
   ]
  },
  {
   "cell_type": "markdown",
   "id": "9eb5b5d8-6d7b-4167-870a-4229ac678ede",
   "metadata": {},
   "source": [
    "- See that foreign key constraint also dropped."
   ]
  },
  {
   "cell_type": "code",
   "execution_count": 176,
   "id": "7048497b-cf55-4c97-bdf2-3a2965a8f821",
   "metadata": {},
   "outputs": [
    {
     "name": "stdout",
     "output_type": "stream",
     "text": [
      " * postgresql://postgres@localhost/mydb\n",
      "2 rows affected.\n"
     ]
    },
    {
     "data": {
      "text/html": [
       "<table>\n",
       "    <thead>\n",
       "        <tr>\n",
       "            <th>constraint_name</th>\n",
       "            <th>constraint_type</th>\n",
       "            <th>table_name</th>\n",
       "        </tr>\n",
       "    </thead>\n",
       "    <tbody>\n",
       "        <tr>\n",
       "            <td>products_pkey1</td>\n",
       "            <td>p</td>\n",
       "            <td>products</td>\n",
       "        </tr>\n",
       "        <tr>\n",
       "            <td>orders_pkey</td>\n",
       "            <td>p</td>\n",
       "            <td>orders</td>\n",
       "        </tr>\n",
       "    </tbody>\n",
       "</table>"
      ],
      "text/plain": [
       "[('products_pkey1', 'p', 'products'), ('orders_pkey', 'p', 'orders')]"
      ]
     },
     "execution_count": 176,
     "metadata": {},
     "output_type": "execute_result"
    }
   ],
   "source": [
    "%%sql\n",
    "SELECT \n",
    "    conname AS constraint_name,\n",
    "    contype AS constraint_type,\n",
    "    conrelid::regclass AS table_name\n",
    "FROM \n",
    "    pg_catalog.pg_constraint\n",
    "WHERE \n",
    "    conrelid IN ('products'::regclass, 'orders'::regclass);"
   ]
  },
  {
   "cell_type": "markdown",
   "id": "dbd3c652-8e70-419d-8b03-a6e6e3c159f0",
   "metadata": {},
   "source": [
    "#### 5.7.3. Adding a Constraint"
   ]
  },
  {
   "cell_type": "markdown",
   "id": "708c1cfb-4ff9-4a53-a8ba-ad42b542f264",
   "metadata": {},
   "source": [
    "- When adding check constraints to column, constraint will check all records immediately.\n",
    "- To prevent this you can use NOT VALID\n",
    "- Constraints Supporting NOT VALID in PostgreSQL\n",
    "| Constraint Type   | Supports NOT VALID? | Description |\n",
    "|------------------|----------------------|-------------|\n",
    "| **CHECK**       | Yes | Allows adding a CHECK constraint without validating existing data. |\n",
    "| **FOREIGN KEY** | Yes | Adds a FOREIGN KEY constraint without checking existing data. |\n",
    "| **UNIQUE**      | No | NOT VALID is not supported for UNIQUE constraints. |\n",
    "| **PRIMARY KEY** | No | NOT VALID is not supported for PRIMARY KEY constraints. |\n",
    "| **EXCLUSION**   | No | NOT VALID is not applicable for EXCLUSION constraints. |\n",
    "| **NOT NULL**    | No | NOT VALID cannot be used with ALTER COLUMN ... SET NOT NULL. |"
   ]
  },
  {
   "cell_type": "code",
   "execution_count": 177,
   "id": "a2f8a965-f186-408b-aa44-2d85ce741a50",
   "metadata": {},
   "outputs": [
    {
     "name": "stdout",
     "output_type": "stream",
     "text": [
      " * postgresql://postgres@localhost/mydb\n",
      "Done.\n",
      "Done.\n"
     ]
    },
    {
     "data": {
      "text/plain": [
       "[]"
      ]
     },
     "execution_count": 177,
     "metadata": {},
     "output_type": "execute_result"
    }
   ],
   "source": [
    "%%sql\n",
    "DROP TABLE IF EXISTS products CASCADE;\n",
    "CREATE TABLE products (\n",
    "    product_no integer PRIMARY KEY,\n",
    "    name text,\n",
    "    price numeric\n",
    ");"
   ]
  },
  {
   "cell_type": "code",
   "execution_count": 178,
   "id": "f2688f03-8f67-4f9f-b154-2537d0390fb1",
   "metadata": {},
   "outputs": [
    {
     "name": "stdout",
     "output_type": "stream",
     "text": [
      " * postgresql://postgres@localhost/mydb\n",
      "1 rows affected.\n",
      "1 rows affected.\n",
      "1 rows affected.\n"
     ]
    },
    {
     "data": {
      "text/plain": [
       "[]"
      ]
     },
     "execution_count": 178,
     "metadata": {},
     "output_type": "execute_result"
    }
   ],
   "source": [
    "%%sql\n",
    "INSERT INTO products VALUES (1, 'product-1', 5);\n",
    "INSERT INTO products VALUES (2, 'product-2', 10);\n",
    "INSERT INTO products VALUES (3, 'product-3', 15);"
   ]
  },
  {
   "cell_type": "markdown",
   "id": "ee1a1270-2d57-400e-a957-d69c5a1ab24d",
   "metadata": {},
   "source": [
    "- When attempt to add constraint records checked immediately.\n",
    "- Here error will be raised because some rows is violating new constraint."
   ]
  },
  {
   "cell_type": "code",
   "execution_count": 179,
   "id": "efbfab6f-cb3d-42ad-8179-02b8b7ec33d5",
   "metadata": {},
   "outputs": [
    {
     "name": "stdout",
     "output_type": "stream",
     "text": [
      " * postgresql://postgres@localhost/mydb\n",
      "(psycopg2.errors.CheckViolation) HATA:  check constraint \"constraint_price_check\" of relation \"products\" is violated by some row\n",
      "\n",
      "[SQL: ALTER TABLE products ADD CONSTRAINT constraint_price_check CHECK (price > 10);]\n",
      "(Background on this error at: https://sqlalche.me/e/20/gkpj)\n"
     ]
    }
   ],
   "source": [
    "%sql ALTER TABLE products ADD CONSTRAINT constraint_price_check CHECK (price > 10);"
   ]
  },
  {
   "cell_type": "markdown",
   "id": "dcd7b737-f220-43e8-a45a-229a9442725e",
   "metadata": {},
   "source": [
    "- When adding constraint with NOT VALID, old records would not be checked.\n",
    "- But when adding new record, constraint will be applied."
   ]
  },
  {
   "cell_type": "code",
   "execution_count": 180,
   "id": "e2bf7429-17d0-4e6a-8778-6e5ba06f54fe",
   "metadata": {},
   "outputs": [
    {
     "name": "stdout",
     "output_type": "stream",
     "text": [
      " * postgresql://postgres@localhost/mydb\n",
      "Done.\n"
     ]
    },
    {
     "data": {
      "text/plain": [
       "[]"
      ]
     },
     "execution_count": 180,
     "metadata": {},
     "output_type": "execute_result"
    }
   ],
   "source": [
    "%sql ALTER TABLE products ADD CONSTRAINT constraint_price_check CHECK (price > 10) NOT VALID;"
   ]
  },
  {
   "cell_type": "code",
   "execution_count": 181,
   "id": "bd4bd380-4f63-46f8-9659-3ee11e8da3c8",
   "metadata": {},
   "outputs": [
    {
     "name": "stdout",
     "output_type": "stream",
     "text": [
      " * postgresql://postgres@localhost/mydb\n",
      "(psycopg2.errors.CheckViolation) HATA:  \"products\" tablosuna girilen yeni satır \"constraint_price_check\" check kısıtlamasını ihlal ediyor\n",
      "DETAIL:  Hata veren satır (4, product-4, 5) içeriyor.\n",
      "\n",
      "[SQL: INSERT INTO products VALUES (4, 'product-4' , 5);]\n",
      "(Background on this error at: https://sqlalche.me/e/20/gkpj)\n"
     ]
    }
   ],
   "source": [
    "%sql INSERT INTO products VALUES (4, 'product-4', 5);"
   ]
  },
  {
   "cell_type": "markdown",
   "id": "128203c4-65fa-4ccd-a4b2-c229d71250fe",
   "metadata": {},
   "source": [
    "- You can manually check old records with using `VALIDATE CONSTRAINT`"
   ]
  },
  {
   "cell_type": "code",
   "execution_count": 182,
   "id": "5e034f20-b96b-4ff0-b408-360bc0f16310",
   "metadata": {},
   "outputs": [
    {
     "name": "stdout",
     "output_type": "stream",
     "text": [
      " * postgresql://postgres@localhost/mydb\n",
      "(psycopg2.errors.CheckViolation) HATA:  check constraint \"constraint_price_check\" of relation \"products\" is violated by some row\n",
      "\n",
      "[SQL: ALTER TABLE products VALIDATE CONSTRAINT constraint_price_check;]\n",
      "(Background on this error at: https://sqlalche.me/e/20/gkpj)\n"
     ]
    }
   ],
   "source": [
    "%sql ALTER TABLE products VALIDATE CONSTRAINT constraint_price_check;"
   ]
  },
  {
   "cell_type": "markdown",
   "id": "bf696288-b5a4-4450-9093-28288b7803ba",
   "metadata": {},
   "source": [
    "#### 5.7.4. Removing a Constraint"
   ]
  },
  {
   "cell_type": "code",
   "execution_count": 183,
   "id": "69fd7bd4-aefc-4b27-aa76-63a967a437a4",
   "metadata": {},
   "outputs": [
    {
     "name": "stdout",
     "output_type": "stream",
     "text": [
      " * postgresql://postgres@localhost/mydb\n",
      "Done.\n",
      "Done.\n"
     ]
    },
    {
     "data": {
      "text/plain": [
       "[]"
      ]
     },
     "execution_count": 183,
     "metadata": {},
     "output_type": "execute_result"
    }
   ],
   "source": [
    "%%sql\n",
    "DROP TABLE IF EXISTS products CASCADE;\n",
    "CREATE TABLE products (\n",
    "    product_no integer PRIMARY KEY,\n",
    "    name text NOT NULL,\n",
    "    price numeric CONSTRAINT constraint_price_check CHECK (price > 10)\n",
    ");"
   ]
  },
  {
   "cell_type": "markdown",
   "id": "97424dbe-7dd2-4abd-9aac-fe9d6ccef908",
   "metadata": {},
   "source": [
    "- Drop constraint by using name."
   ]
  },
  {
   "cell_type": "code",
   "execution_count": 184,
   "id": "bdc9ef1c-7827-4f05-8632-c83b54daac29",
   "metadata": {},
   "outputs": [
    {
     "name": "stdout",
     "output_type": "stream",
     "text": [
      " * postgresql://postgres@localhost/mydb\n",
      "Done.\n"
     ]
    },
    {
     "data": {
      "text/plain": [
       "[]"
      ]
     },
     "execution_count": 184,
     "metadata": {},
     "output_type": "execute_result"
    }
   ],
   "source": [
    "%sql ALTER TABLE products DROP CONSTRAINT constraint_price_check;"
   ]
  },
  {
   "cell_type": "markdown",
   "id": "fccff346-050f-4434-b659-5406e7f3393c",
   "metadata": {},
   "source": [
    "- DROP column constraint."
   ]
  },
  {
   "cell_type": "code",
   "execution_count": 185,
   "id": "73ad2b58-cdcc-4d36-9e9e-bdabc69a31bf",
   "metadata": {},
   "outputs": [
    {
     "name": "stdout",
     "output_type": "stream",
     "text": [
      " * postgresql://postgres@localhost/mydb\n",
      "Done.\n"
     ]
    },
    {
     "data": {
      "text/plain": [
       "[]"
      ]
     },
     "execution_count": 185,
     "metadata": {},
     "output_type": "execute_result"
    }
   ],
   "source": [
    "%sql ALTER TABLE products ALTER name DROP NOT NULL;"
   ]
  },
  {
   "cell_type": "markdown",
   "id": "c1e66bfd-41ce-48ac-902c-ce47767d180d",
   "metadata": {},
   "source": [
    "#### 5.7.5. Changing a Column's Default Value"
   ]
  },
  {
   "cell_type": "code",
   "execution_count": 186,
   "id": "08583d1d-8999-4f3f-a773-f45bb8d869a4",
   "metadata": {},
   "outputs": [
    {
     "name": "stdout",
     "output_type": "stream",
     "text": [
      " * postgresql://postgres@localhost/mydb\n",
      "Done.\n",
      "Done.\n"
     ]
    },
    {
     "data": {
      "text/plain": [
       "[]"
      ]
     },
     "execution_count": 186,
     "metadata": {},
     "output_type": "execute_result"
    }
   ],
   "source": [
    "%%sql\n",
    "DROP TABLE IF EXISTS products CASCADE;\n",
    "CREATE TABLE products (\n",
    "    product_no integer PRIMARY KEY,\n",
    "    name text,\n",
    "    price numeric\n",
    ");"
   ]
  },
  {
   "cell_type": "markdown",
   "id": "64a9d060-f910-4b43-954d-a51a97d24e71",
   "metadata": {},
   "source": [
    "- Changing default value."
   ]
  },
  {
   "cell_type": "code",
   "execution_count": 187,
   "id": "834918a6-7e77-4287-b501-4af872043183",
   "metadata": {},
   "outputs": [
    {
     "name": "stdout",
     "output_type": "stream",
     "text": [
      " * postgresql://postgres@localhost/mydb\n",
      "Done.\n"
     ]
    },
    {
     "data": {
      "text/plain": [
       "[]"
      ]
     },
     "execution_count": 187,
     "metadata": {},
     "output_type": "execute_result"
    }
   ],
   "source": [
    "%sql ALTER TABLE products ALTER COLUMN name SET DEFAULT 'productX';"
   ]
  },
  {
   "cell_type": "code",
   "execution_count": 188,
   "id": "53ee7c04-4cf6-4389-ba5e-a43e7891a3c0",
   "metadata": {},
   "outputs": [
    {
     "name": "stdout",
     "output_type": "stream",
     "text": [
      " * postgresql://postgres@localhost/mydb\n",
      "3 rows affected.\n"
     ]
    },
    {
     "data": {
      "text/html": [
       "<table>\n",
       "    <thead>\n",
       "        <tr>\n",
       "            <th>column_name</th>\n",
       "            <th>column_default</th>\n",
       "        </tr>\n",
       "    </thead>\n",
       "    <tbody>\n",
       "        <tr>\n",
       "            <td>product_no</td>\n",
       "            <td>None</td>\n",
       "        </tr>\n",
       "        <tr>\n",
       "            <td>price</td>\n",
       "            <td>None</td>\n",
       "        </tr>\n",
       "        <tr>\n",
       "            <td>name</td>\n",
       "            <td>&#x27;productX&#x27;::text</td>\n",
       "        </tr>\n",
       "    </tbody>\n",
       "</table>"
      ],
      "text/plain": [
       "[('product_no', None), ('price', None), ('name', \"'productX'::text\")]"
      ]
     },
     "execution_count": 188,
     "metadata": {},
     "output_type": "execute_result"
    }
   ],
   "source": [
    "%%sql\n",
    "SELECT column_name, column_default\n",
    "FROM information_schema.columns\n",
    "WHERE table_name = 'products';"
   ]
  },
  {
   "cell_type": "markdown",
   "id": "41f2aaf2-15f9-4da6-8a86-0e114b7586c0",
   "metadata": {},
   "source": [
    "- Removing default value."
   ]
  },
  {
   "cell_type": "code",
   "execution_count": 189,
   "id": "99da45e7-55da-47da-8e3c-a2b9fcc7b664",
   "metadata": {},
   "outputs": [
    {
     "name": "stdout",
     "output_type": "stream",
     "text": [
      " * postgresql://postgres@localhost/mydb\n",
      "Done.\n"
     ]
    },
    {
     "data": {
      "text/plain": [
       "[]"
      ]
     },
     "execution_count": 189,
     "metadata": {},
     "output_type": "execute_result"
    }
   ],
   "source": [
    "%sql ALTER TABLE products ALTER COLUMN name DROP DEFAULT;"
   ]
  },
  {
   "cell_type": "code",
   "execution_count": 190,
   "id": "1690d2e6-9fa0-46ea-888e-804079f00edc",
   "metadata": {},
   "outputs": [
    {
     "name": "stdout",
     "output_type": "stream",
     "text": [
      " * postgresql://postgres@localhost/mydb\n",
      "3 rows affected.\n"
     ]
    },
    {
     "data": {
      "text/html": [
       "<table>\n",
       "    <thead>\n",
       "        <tr>\n",
       "            <th>column_name</th>\n",
       "            <th>column_default</th>\n",
       "        </tr>\n",
       "    </thead>\n",
       "    <tbody>\n",
       "        <tr>\n",
       "            <td>product_no</td>\n",
       "            <td>None</td>\n",
       "        </tr>\n",
       "        <tr>\n",
       "            <td>price</td>\n",
       "            <td>None</td>\n",
       "        </tr>\n",
       "        <tr>\n",
       "            <td>name</td>\n",
       "            <td>None</td>\n",
       "        </tr>\n",
       "    </tbody>\n",
       "</table>"
      ],
      "text/plain": [
       "[('product_no', None), ('price', None), ('name', None)]"
      ]
     },
     "execution_count": 190,
     "metadata": {},
     "output_type": "execute_result"
    }
   ],
   "source": [
    "%%sql\n",
    "SELECT column_name, column_default\n",
    "FROM information_schema.columns\n",
    "WHERE table_name = 'products';"
   ]
  },
  {
   "cell_type": "markdown",
   "id": "79297abe-5a61-42bf-8083-963a1651f1de",
   "metadata": {},
   "source": [
    "#### 5.7.6. Changing a Column's Data Type"
   ]
  },
  {
   "cell_type": "code",
   "execution_count": 191,
   "id": "8d6f3b12-2d3f-44a4-ba09-cd965740402f",
   "metadata": {},
   "outputs": [
    {
     "name": "stdout",
     "output_type": "stream",
     "text": [
      " * postgresql://postgres@localhost/mydb\n",
      "Done.\n",
      "Done.\n"
     ]
    },
    {
     "data": {
      "text/plain": [
       "[]"
      ]
     },
     "execution_count": 191,
     "metadata": {},
     "output_type": "execute_result"
    }
   ],
   "source": [
    "%%sql\n",
    "DROP TABLE IF EXISTS products CASCADE;\n",
    "CREATE TABLE products (\n",
    "    product_no integer PRIMARY KEY,\n",
    "    name text,\n",
    "    price numeric\n",
    ");"
   ]
  },
  {
   "cell_type": "code",
   "execution_count": 192,
   "id": "d40553dc-ada3-4b05-83b1-cbffe09bc587",
   "metadata": {},
   "outputs": [
    {
     "name": "stdout",
     "output_type": "stream",
     "text": [
      " * postgresql://postgres@localhost/mydb\n",
      "Done.\n"
     ]
    },
    {
     "data": {
      "text/plain": [
       "[]"
      ]
     },
     "execution_count": 192,
     "metadata": {},
     "output_type": "execute_result"
    }
   ],
   "source": [
    "%sql ALTER TABLE products ALTER COLUMN price TYPE numeric(10,2);"
   ]
  },
  {
   "cell_type": "markdown",
   "id": "efc42144-a9dd-40c0-9aff-4217ab4f8dc9",
   "metadata": {},
   "source": [
    "#### 5.7.7. Renaming a Column"
   ]
  },
  {
   "cell_type": "code",
   "execution_count": 193,
   "id": "47ef7cb6-e0c6-4c2f-a49e-3aa6db17a6e7",
   "metadata": {},
   "outputs": [
    {
     "name": "stdout",
     "output_type": "stream",
     "text": [
      " * postgresql://postgres@localhost/mydb\n",
      "Done.\n",
      "Done.\n"
     ]
    },
    {
     "data": {
      "text/plain": [
       "[]"
      ]
     },
     "execution_count": 193,
     "metadata": {},
     "output_type": "execute_result"
    }
   ],
   "source": [
    "%%sql\n",
    "DROP TABLE IF EXISTS products CASCADE;\n",
    "CREATE TABLE products (\n",
    "    product_no integer PRIMARY KEY,\n",
    "    name text,\n",
    "    price numeric\n",
    ");"
   ]
  },
  {
   "cell_type": "code",
   "execution_count": 194,
   "id": "6c918fe6-2c16-43ad-ba01-2d03d6954f40",
   "metadata": {},
   "outputs": [
    {
     "name": "stdout",
     "output_type": "stream",
     "text": [
      " * postgresql://postgres@localhost/mydb\n",
      "Done.\n"
     ]
    },
    {
     "data": {
      "text/plain": [
       "[]"
      ]
     },
     "execution_count": 194,
     "metadata": {},
     "output_type": "execute_result"
    }
   ],
   "source": [
    "%sql ALTER TABLE products RENAME COLUMN product_no TO product_number;"
   ]
  },
  {
   "cell_type": "code",
   "execution_count": 195,
   "id": "54a18072-f518-4dbb-941e-7866d1a3b08e",
   "metadata": {},
   "outputs": [
    {
     "name": "stdout",
     "output_type": "stream",
     "text": [
      " * postgresql://postgres@localhost/mydb\n",
      "0 rows affected.\n"
     ]
    },
    {
     "data": {
      "text/html": [
       "<table>\n",
       "    <thead>\n",
       "        <tr>\n",
       "            <th>product_number</th>\n",
       "            <th>name</th>\n",
       "            <th>price</th>\n",
       "        </tr>\n",
       "    </thead>\n",
       "    <tbody>\n",
       "    </tbody>\n",
       "</table>"
      ],
      "text/plain": [
       "[]"
      ]
     },
     "execution_count": 195,
     "metadata": {},
     "output_type": "execute_result"
    }
   ],
   "source": [
    "%sql SELECT * FROM products;"
   ]
  },
  {
   "cell_type": "markdown",
   "id": "fb7203e7-8209-4a86-9128-57eaec3c1a80",
   "metadata": {},
   "source": [
    "#### 5.7.8. Renaming a Table"
   ]
  },
  {
   "cell_type": "code",
   "execution_count": 196,
   "id": "bfb8e21c-319f-4f58-b624-f45c8dd932cf",
   "metadata": {},
   "outputs": [
    {
     "name": "stdout",
     "output_type": "stream",
     "text": [
      " * postgresql://postgres@localhost/mydb\n",
      "Done.\n",
      "Done.\n"
     ]
    },
    {
     "data": {
      "text/plain": [
       "[]"
      ]
     },
     "execution_count": 196,
     "metadata": {},
     "output_type": "execute_result"
    }
   ],
   "source": [
    "%%sql\n",
    "DROP TABLE IF EXISTS products CASCADE;\n",
    "CREATE TABLE products (\n",
    "    product_no integer PRIMARY KEY,\n",
    "    name text,\n",
    "    price numeric\n",
    ");"
   ]
  },
  {
   "cell_type": "code",
   "execution_count": 197,
   "id": "b22309ca-ac55-44ae-a25d-98122c800e69",
   "metadata": {},
   "outputs": [
    {
     "name": "stdout",
     "output_type": "stream",
     "text": [
      " * postgresql://postgres@localhost/mydb\n",
      "(psycopg2.errors.DuplicateTable) HATA:  \"items\" nesnesi zaten mevcut\n",
      "\n",
      "[SQL: ALTER TABLE products RENAME TO items;]\n",
      "(Background on this error at: https://sqlalche.me/e/20/f405)\n"
     ]
    }
   ],
   "source": [
    "%sql ALTER TABLE products RENAME TO items;"
   ]
  },
  {
   "cell_type": "markdown",
   "id": "7aa1da57-af6b-4ea7-a95b-dfa151aef430",
   "metadata": {},
   "source": [
    "### 5.8. Privileges"
   ]
  },
  {
   "cell_type": "markdown",
   "id": "fd523131-1558-4588-ada3-8a2c701a2ed3",
   "metadata": {},
   "source": [
    "- From documentation: `When an object is created, it is assigned an owner. The owner is normally the role that executed the\n",
    "creation statement. For most kinds of objects, the initial state is that only the owner (or a superuser)\n",
    "can do anything with the object. To allow other roles to use it, privileges must be granted.`"
   ]
  },
  {
   "cell_type": "markdown",
   "id": "eaa8433c-4218-4f84-9119-cef09359e4b0",
   "metadata": {},
   "source": [
    "- First, create a test user to perform the tests.\n",
    "- Here, `test_user` will be used as the username.\n",
    "- If you created `test_user` before (or executed later queries and return here to execute again), you can either choose another username or drop `test_user`.\n",
    "    - When removing the user, you will probably get an error because there are related privileges with `test_user`. So you should run this query first:\n",
    "        ```sql\n",
    "            REVOKE ALL PRIVILEGES ON ALL TABLES IN SCHEMA public FROM test_user;\n",
    "            REVOKE ALL PRIVILEGES ON ALL SEQUENCES IN SCHEMA public FROM test_user;\n",
    "            REVOKE ALL PRIVILEGES ON ALL FUNCTIONS IN SCHEMA public FROM test_user;\n",
    "            REVOKE ALL PRIVILEGES ON SCHEMA public FROM test_user;\n",
    "            ALTER DEFAULT PRIVILEGES IN SCHEMA public REVOKE ALL ON TABLES FROM test_user;\n",
    "            ALTER DEFAULT PRIVILEGES IN SCHEMA public REVOKE ALL ON SEQUENCES FROM test_user;\n",
    "            ALTER DEFAULT PRIVILEGES IN SCHEMA public REVOKE ALL ON FUNCTIONS FROM test_user;\n",
    "            ALTER DEFAULT PRIVILEGES IN SCHEMA public REVOKE ALL ON TYPES FROM test_user;\n",
    "        ```\n",
    "    - You may still get an error because `test_user` owns some tables. You should transfer the ownership of the tables to another user or simply drop the tables.\n",
    "    - To list the tables that `test_user` is the owner of:\n",
    "        ```sql\n",
    "            SELECT tablename \n",
    "            FROM pg_tables \n",
    "            WHERE tableowner = 'test_user' AND schemaname = 'public'; \n",
    "        ```\n",
    "    - To transfer ownership:\n",
    "        ```sql\n",
    "            ALTER TABLE schema_name.table_name\n",
    "            OWNER TO postgres; -- the username is up to you\n",
    "        ```\n",
    "- postgres user can make operations even if has no privilege granted. Because postgres is a superuser. You can give superuser privilege to other users.\n",
    "    - Beside the operations all granting operations can be performed by superuser. \n",
    "    - To check if a user is superuser:\n",
    "        ```sql\n",
    "            SELECT usename, usesuper FROM pg_user WHERE usename = 'postgres';\n",
    "        ```\n",
    "- "
   ]
  },
  {
   "cell_type": "code",
   "execution_count": 198,
   "id": "c1d91bb7-b4e3-44ac-82a0-7c36ee162490",
   "metadata": {},
   "outputs": [
    {
     "name": "stdout",
     "output_type": "stream",
     "text": [
      " * postgresql://postgres@localhost/mydb\n",
      "Done.\n",
      "(psycopg2.errors.DependentObjectsStillExist) HATA:  diğer nesnelerin ona bağlı olması nedeniyle \"test_user\" rolü kaldırılamıyor\n",
      "DETAIL:  public şeması için yetkiler\n",
      "privilege_sequence_example sequence nesnesinin sahibi\n",
      "privilege_references_example tablosu nesnesinin sahibi\n",
      "privilege_example tablosu nesnesinin sahibi\n",
      "\n",
      "[SQL: DROP ROLE IF EXISTS test_user, test_user_2, test_user_3;]\n",
      "(Background on this error at: https://sqlalche.me/e/20/2j85)\n"
     ]
    }
   ],
   "source": [
    "%%sql\n",
    "SET ROLE postgres;\n",
    "DROP ROLE IF EXISTS test_user, test_user_2, test_user_3;\n",
    "CREATE ROLE test_user;\n",
    "CREATE ROLE test_user_2;\n",
    "CREATE ROLE test_user_3;"
   ]
  },
  {
   "cell_type": "markdown",
   "id": "17d89cc2-569e-401a-bbf4-c5e0d0177df4",
   "metadata": {},
   "source": [
    "- Granting privilege on `PUBLIC SCHEMA` to test_user to create tables."
   ]
  },
  {
   "cell_type": "code",
   "execution_count": 199,
   "id": "445331eb-0c95-41cd-bfb6-aced7f6c1c9f",
   "metadata": {},
   "outputs": [
    {
     "name": "stdout",
     "output_type": "stream",
     "text": [
      " * postgresql://postgres@localhost/mydb\n",
      "Done.\n",
      "Done.\n"
     ]
    },
    {
     "data": {
      "text/plain": [
       "[]"
      ]
     },
     "execution_count": 199,
     "metadata": {},
     "output_type": "execute_result"
    }
   ],
   "source": [
    "%%sql \n",
    "GRANT ALL ON SCHEMA PUBLIC TO test_user;\n",
    "GRANT ALL ON SCHEMA PUBLIC TO test_user_2;"
   ]
  },
  {
   "cell_type": "markdown",
   "id": "544fd5be-c548-4496-9277-d69a9c158bf9",
   "metadata": {},
   "source": [
    "- Switching to test_user user (Change to test_user role)\n",
    "- From now on queries will be executed as test_user."
   ]
  },
  {
   "cell_type": "code",
   "execution_count": 200,
   "id": "5bad0a10-45ea-4e7c-8c9f-981027a32279",
   "metadata": {},
   "outputs": [
    {
     "name": "stdout",
     "output_type": "stream",
     "text": [
      " * postgresql://postgres@localhost/mydb\n",
      "Done.\n"
     ]
    },
    {
     "data": {
      "text/plain": [
       "[]"
      ]
     },
     "execution_count": 200,
     "metadata": {},
     "output_type": "execute_result"
    }
   ],
   "source": [
    "%sql SET ROLE test_user"
   ]
  },
  {
   "cell_type": "markdown",
   "id": "52fde31b-0c16-4fdf-9f36-78caefe02107",
   "metadata": {},
   "source": [
    "- See that current user is test_user;"
   ]
  },
  {
   "cell_type": "code",
   "execution_count": 201,
   "id": "bd926a68-2358-4ae8-8b40-3f7bb0e7a65d",
   "metadata": {},
   "outputs": [
    {
     "name": "stdout",
     "output_type": "stream",
     "text": [
      " * postgresql://postgres@localhost/mydb\n",
      "1 rows affected.\n"
     ]
    },
    {
     "data": {
      "text/html": [
       "<table>\n",
       "    <thead>\n",
       "        <tr>\n",
       "            <th>current_user</th>\n",
       "        </tr>\n",
       "    </thead>\n",
       "    <tbody>\n",
       "        <tr>\n",
       "            <td>test_user</td>\n",
       "        </tr>\n",
       "    </tbody>\n",
       "</table>"
      ],
      "text/plain": [
       "[('test_user',)]"
      ]
     },
     "execution_count": 201,
     "metadata": {},
     "output_type": "execute_result"
    }
   ],
   "source": [
    "%sql SELECT current_user;"
   ]
  },
  {
   "cell_type": "markdown",
   "id": "97785edb-a261-4cd5-bc11-6aaecb94ade2",
   "metadata": {},
   "source": [
    "#### Creating an object"
   ]
  },
  {
   "cell_type": "markdown",
   "id": "f377a71f-24ab-4dbb-b557-89bffffd6cc7",
   "metadata": {},
   "source": [
    "- Creating an object generally refers to creating any kind of database object which includes `tables, views, indexes, schemas, functions, and other database entities`.\n",
    "- Unless otherwise specified, examples related to creating objects will refer to tables, and the same properties will apply to other objects as well. Any exceptions to this will be explicitly mentioned.\n",
    "- `When an object is created, it is assigned an owner`: Owner will be current user (user generally referred as role).\n",
    "- Operation privileges for the table will be been assigned to test_user: `INSERT, SELECT, UPDATE, DELETE, TRUNCATE, REFERENCES and TRIGGER`"
   ]
  },
  {
   "cell_type": "code",
   "execution_count": 202,
   "id": "5d068077-e755-4c35-9340-2342ea5740cf",
   "metadata": {},
   "outputs": [
    {
     "name": "stdout",
     "output_type": "stream",
     "text": [
      " * postgresql://postgres@localhost/mydb\n",
      "Done.\n"
     ]
    },
    {
     "data": {
      "text/plain": [
       "[]"
      ]
     },
     "execution_count": 202,
     "metadata": {},
     "output_type": "execute_result"
    }
   ],
   "source": [
    "%sql SET ROLE test_user"
   ]
  },
  {
   "cell_type": "code",
   "execution_count": 203,
   "id": "3231876b-9c5b-4314-b3f9-47b7d822323e",
   "metadata": {},
   "outputs": [
    {
     "name": "stdout",
     "output_type": "stream",
     "text": [
      " * postgresql://postgres@localhost/mydb\n",
      "Done.\n",
      "Done.\n",
      "1 rows affected.\n"
     ]
    },
    {
     "data": {
      "text/plain": [
       "[]"
      ]
     },
     "execution_count": 203,
     "metadata": {},
     "output_type": "execute_result"
    }
   ],
   "source": [
    "%%sql\n",
    "DROP TABLE IF EXISTS privilege_example;\n",
    "CREATE TABLE privilege_example (\n",
    "    id integer\n",
    ");\n",
    "INSERT INTO privilege_example VALUES (1);"
   ]
  },
  {
   "cell_type": "markdown",
   "id": "f941c011-a13f-46f2-9272-1ed922ceda3b",
   "metadata": {},
   "source": [
    "- See that owner is test_user."
   ]
  },
  {
   "cell_type": "code",
   "execution_count": 204,
   "id": "36295b77-75f5-4eed-a13b-d90bfea0e71b",
   "metadata": {},
   "outputs": [
    {
     "name": "stdout",
     "output_type": "stream",
     "text": [
      " * postgresql://postgres@localhost/mydb\n",
      "1 rows affected.\n"
     ]
    },
    {
     "data": {
      "text/html": [
       "<table>\n",
       "    <thead>\n",
       "        <tr>\n",
       "            <th>tablename</th>\n",
       "            <th>tableowner</th>\n",
       "        </tr>\n",
       "    </thead>\n",
       "    <tbody>\n",
       "        <tr>\n",
       "            <td>privilege_example</td>\n",
       "            <td>test_user</td>\n",
       "        </tr>\n",
       "    </tbody>\n",
       "</table>"
      ],
      "text/plain": [
       "[('privilege_example', 'test_user')]"
      ]
     },
     "execution_count": 204,
     "metadata": {},
     "output_type": "execute_result"
    }
   ],
   "source": [
    "%sql SELECT tablename, tableowner FROM pg_tables where tablename = 'privilege_example';"
   ]
  },
  {
   "cell_type": "markdown",
   "id": "aac9ce0f-0054-45de-a5de-b1ad2d92b8e4",
   "metadata": {},
   "source": [
    "- See that grantee for operation privileges is test_user."
   ]
  },
  {
   "cell_type": "code",
   "execution_count": 205,
   "id": "4eedc554-a77f-4e92-96a4-16b6b2cbe392",
   "metadata": {},
   "outputs": [
    {
     "name": "stdout",
     "output_type": "stream",
     "text": [
      " * postgresql://postgres@localhost/mydb\n",
      "7 rows affected.\n"
     ]
    },
    {
     "data": {
      "text/html": [
       "<table>\n",
       "    <thead>\n",
       "        <tr>\n",
       "            <th>grantee</th>\n",
       "            <th>privilege_type</th>\n",
       "        </tr>\n",
       "    </thead>\n",
       "    <tbody>\n",
       "        <tr>\n",
       "            <td>test_user</td>\n",
       "            <td>INSERT</td>\n",
       "        </tr>\n",
       "        <tr>\n",
       "            <td>test_user</td>\n",
       "            <td>SELECT</td>\n",
       "        </tr>\n",
       "        <tr>\n",
       "            <td>test_user</td>\n",
       "            <td>UPDATE</td>\n",
       "        </tr>\n",
       "        <tr>\n",
       "            <td>test_user</td>\n",
       "            <td>DELETE</td>\n",
       "        </tr>\n",
       "        <tr>\n",
       "            <td>test_user</td>\n",
       "            <td>TRUNCATE</td>\n",
       "        </tr>\n",
       "        <tr>\n",
       "            <td>test_user</td>\n",
       "            <td>REFERENCES</td>\n",
       "        </tr>\n",
       "        <tr>\n",
       "            <td>test_user</td>\n",
       "            <td>TRIGGER</td>\n",
       "        </tr>\n",
       "    </tbody>\n",
       "</table>"
      ],
      "text/plain": [
       "[('test_user', 'INSERT'),\n",
       " ('test_user', 'SELECT'),\n",
       " ('test_user', 'UPDATE'),\n",
       " ('test_user', 'DELETE'),\n",
       " ('test_user', 'TRUNCATE'),\n",
       " ('test_user', 'REFERENCES'),\n",
       " ('test_user', 'TRIGGER')]"
      ]
     },
     "execution_count": 205,
     "metadata": {},
     "output_type": "execute_result"
    }
   ],
   "source": [
    "%sql SELECT grantee, privilege_type FROM information_schema.role_table_grants WHERE table_name = 'privilege_example';"
   ]
  },
  {
   "cell_type": "markdown",
   "id": "92fc2d5d-157f-43bd-9582-28c23d921b77",
   "metadata": {},
   "source": [
    "#### Granting privileges"
   ]
  },
  {
   "cell_type": "markdown",
   "id": "686b8be2-ce47-44f8-b5ba-f19e86faee58",
   "metadata": {
    "jp-MarkdownHeadingCollapsed": true
   },
   "source": [
    "##### Attempting to access with no privilege"
   ]
  },
  {
   "cell_type": "markdown",
   "id": "35380c24-5c08-4e1a-90fd-bdf7fd0bdc37",
   "metadata": {},
   "source": [
    "- Before start granting privileges, first try to the access object with different role (user) which has no privilege on object."
   ]
  },
  {
   "cell_type": "code",
   "execution_count": 206,
   "id": "8e0de57d-6034-45de-a97f-54422c4e2b62",
   "metadata": {},
   "outputs": [
    {
     "name": "stdout",
     "output_type": "stream",
     "text": [
      " * postgresql://postgres@localhost/mydb\n",
      "Done.\n"
     ]
    },
    {
     "data": {
      "text/plain": [
       "[]"
      ]
     },
     "execution_count": 206,
     "metadata": {},
     "output_type": "execute_result"
    }
   ],
   "source": [
    "%sql SET ROLE test_user;"
   ]
  },
  {
   "cell_type": "code",
   "execution_count": 207,
   "id": "836b34ec-e90b-49fd-a3a9-afb274ce0892",
   "metadata": {},
   "outputs": [
    {
     "name": "stdout",
     "output_type": "stream",
     "text": [
      " * postgresql://postgres@localhost/mydb\n",
      "Done.\n",
      "Done.\n"
     ]
    },
    {
     "data": {
      "text/plain": [
       "[]"
      ]
     },
     "execution_count": 207,
     "metadata": {},
     "output_type": "execute_result"
    }
   ],
   "source": [
    "%%sql\n",
    "DROP TABLE IF EXISTS privilege_example;\n",
    "CREATE TABLE privilege_example (\n",
    "    id integer\n",
    ");"
   ]
  },
  {
   "cell_type": "code",
   "execution_count": 208,
   "id": "9b102d2d-eed9-40fc-ac4c-ef64e05af23f",
   "metadata": {},
   "outputs": [
    {
     "name": "stdout",
     "output_type": "stream",
     "text": [
      " * postgresql://postgres@localhost/mydb\n",
      "Done.\n"
     ]
    },
    {
     "data": {
      "text/plain": [
       "[]"
      ]
     },
     "execution_count": 208,
     "metadata": {},
     "output_type": "execute_result"
    }
   ],
   "source": [
    "%sql SET ROLE test_user_2;"
   ]
  },
  {
   "cell_type": "markdown",
   "id": "eb5c640b-48c6-41cb-b3d2-5873c04da9d8",
   "metadata": {},
   "source": [
    "- See that access to privilege_example table is denied.\n",
    "- Because test_user_2 role has no privilege on table."
   ]
  },
  {
   "cell_type": "code",
   "execution_count": 209,
   "id": "82cc8298-6fb8-4584-b1ec-1a68f39e0382",
   "metadata": {},
   "outputs": [
    {
     "name": "stdout",
     "output_type": "stream",
     "text": [
      " * postgresql://postgres@localhost/mydb\n",
      "(psycopg2.errors.InsufficientPrivilege) HATA:  privilege_example tablosuna erişim engellendi\n",
      "\n",
      "[SQL: SELECT * FROM privilege_example]\n",
      "(Background on this error at: https://sqlalche.me/e/20/f405)\n"
     ]
    }
   ],
   "source": [
    "%sql SELECT * FROM privilege_example"
   ]
  },
  {
   "cell_type": "markdown",
   "id": "39b34d3c-8b19-474d-93f0-9a2c17f5090b",
   "metadata": {
    "jp-MarkdownHeadingCollapsed": true
   },
   "source": [
    "##### Granting privileges"
   ]
  },
  {
   "cell_type": "markdown",
   "id": "3b448b08-5ef6-4c65-adc0-2f4ac80fbe1b",
   "metadata": {},
   "source": [
    "- Owner can perform granting operations.\n",
    "- When owner grant privileges for another role, it does not mean grantee role can grant privileges for another roles.\n",
    "- If the owner wants to grant privileges to other roles, they must use the `WITH GRANT OPTION` clause.\n",
    "- There can be only single owner for database object."
   ]
  },
  {
   "cell_type": "markdown",
   "id": "ae2c93ca-0954-4ac2-a5fe-988aca5f72a5",
   "metadata": {
    "jp-MarkdownHeadingCollapsed": true
   },
   "source": [
    "##### Granting SELECT privileges"
   ]
  },
  {
   "cell_type": "markdown",
   "id": "39180175-4a20-432b-9299-8f1358cb22ff",
   "metadata": {},
   "source": [
    "- Select privilege also allows to use of the `COPY TO` command for exporting data.\n",
    "    - For more information check [https://www.postgresql.org/docs/17/sql-copy.html](https://www.postgresql.org/docs/17/sql-copy.html)"
   ]
  },
  {
   "cell_type": "code",
   "execution_count": 210,
   "id": "be83f88c-7a37-4441-82ad-690de57a8295",
   "metadata": {},
   "outputs": [
    {
     "name": "stdout",
     "output_type": "stream",
     "text": [
      " * postgresql://postgres@localhost/mydb\n",
      "Done.\n"
     ]
    },
    {
     "data": {
      "text/plain": [
       "[]"
      ]
     },
     "execution_count": 210,
     "metadata": {},
     "output_type": "execute_result"
    }
   ],
   "source": [
    "%sql SET ROLE test_user;"
   ]
  },
  {
   "cell_type": "code",
   "execution_count": 211,
   "id": "b60249fb-78d9-4ee0-9218-4e35272c64c5",
   "metadata": {},
   "outputs": [
    {
     "name": "stdout",
     "output_type": "stream",
     "text": [
      " * postgresql://postgres@localhost/mydb\n",
      "Done.\n",
      "Done.\n"
     ]
    },
    {
     "data": {
      "text/plain": [
       "[]"
      ]
     },
     "execution_count": 211,
     "metadata": {},
     "output_type": "execute_result"
    }
   ],
   "source": [
    "%%sql\n",
    "DROP TABLE IF EXISTS privilege_example;\n",
    "CREATE TABLE privilege_example (\n",
    "    id integer\n",
    ");"
   ]
  },
  {
   "cell_type": "code",
   "execution_count": 212,
   "id": "b4ae4c66-7100-4ee5-92a5-2dbc78856dd8",
   "metadata": {},
   "outputs": [
    {
     "name": "stdout",
     "output_type": "stream",
     "text": [
      " * postgresql://postgres@localhost/mydb\n",
      "Done.\n"
     ]
    },
    {
     "data": {
      "text/plain": [
       "[]"
      ]
     },
     "execution_count": 212,
     "metadata": {},
     "output_type": "execute_result"
    }
   ],
   "source": [
    "%sql GRANT SELECT ON privilege_example TO test_user_2;"
   ]
  },
  {
   "cell_type": "code",
   "execution_count": 213,
   "id": "e6495b1a-05f7-4eaf-8d09-f36e8df695c0",
   "metadata": {},
   "outputs": [
    {
     "name": "stdout",
     "output_type": "stream",
     "text": [
      " * postgresql://postgres@localhost/mydb\n",
      "Done.\n"
     ]
    },
    {
     "data": {
      "text/plain": [
       "[]"
      ]
     },
     "execution_count": 213,
     "metadata": {},
     "output_type": "execute_result"
    }
   ],
   "source": [
    "%sql SET ROLE test_user_2"
   ]
  },
  {
   "cell_type": "code",
   "execution_count": 214,
   "id": "71bf22d0-a68c-4cf1-b785-0fb0c15d23af",
   "metadata": {},
   "outputs": [
    {
     "name": "stdout",
     "output_type": "stream",
     "text": [
      " * postgresql://postgres@localhost/mydb\n",
      "0 rows affected.\n"
     ]
    },
    {
     "data": {
      "text/html": [
       "<table>\n",
       "    <thead>\n",
       "        <tr>\n",
       "            <th>id</th>\n",
       "        </tr>\n",
       "    </thead>\n",
       "    <tbody>\n",
       "    </tbody>\n",
       "</table>"
      ],
      "text/plain": [
       "[]"
      ]
     },
     "execution_count": 214,
     "metadata": {},
     "output_type": "execute_result"
    }
   ],
   "source": [
    "%sql SELECT * FROM privilege_example;"
   ]
  },
  {
   "cell_type": "markdown",
   "id": "63dad4c0-92cc-4a30-9838-6065bceeb0a7",
   "metadata": {
    "jp-MarkdownHeadingCollapsed": true
   },
   "source": [
    "##### Granting SELECT privileges on SEQUENCE"
   ]
  },
  {
   "cell_type": "markdown",
   "id": "ca52a1db-d783-46c6-a8c0-74d886b38350",
   "metadata": {},
   "source": [
    "- Select operation only allows `currval()` function of a sequence.\n",
    "- USage of `nextval()` and `setval()` functions  will be denied if update privilege is not given, because these functions modifies the value of sequence."
   ]
  },
  {
   "cell_type": "code",
   "execution_count": 215,
   "id": "da28d325-fbda-4c8a-a9bf-7b92991ebf61",
   "metadata": {},
   "outputs": [
    {
     "name": "stdout",
     "output_type": "stream",
     "text": [
      " * postgresql://postgres@localhost/mydb\n",
      "Done.\n"
     ]
    },
    {
     "data": {
      "text/plain": [
       "[]"
      ]
     },
     "execution_count": 215,
     "metadata": {},
     "output_type": "execute_result"
    }
   ],
   "source": [
    "%sql SET ROLE test_user;"
   ]
  },
  {
   "cell_type": "code",
   "execution_count": 216,
   "id": "006e06e9-a143-4ecc-92a7-cd67662d852b",
   "metadata": {},
   "outputs": [
    {
     "name": "stdout",
     "output_type": "stream",
     "text": [
      " * postgresql://postgres@localhost/mydb\n",
      "Done.\n",
      "Done.\n"
     ]
    },
    {
     "data": {
      "text/plain": [
       "[]"
      ]
     },
     "execution_count": 216,
     "metadata": {},
     "output_type": "execute_result"
    }
   ],
   "source": [
    "%%sql\n",
    "DROP SEQUENCE IF EXISTS privilege_sequence_example;\n",
    "CREATE SEQUENCE privilege_sequence_example;"
   ]
  },
  {
   "cell_type": "code",
   "execution_count": 217,
   "id": "686b849f-5cf0-4982-a530-0ea80deeb88a",
   "metadata": {},
   "outputs": [
    {
     "name": "stdout",
     "output_type": "stream",
     "text": [
      " * postgresql://postgres@localhost/mydb\n",
      "Done.\n"
     ]
    },
    {
     "data": {
      "text/plain": [
       "[]"
      ]
     },
     "execution_count": 217,
     "metadata": {},
     "output_type": "execute_result"
    }
   ],
   "source": [
    "%sql GRANT SELECT ON privilege_sequence_example TO test_user_2;"
   ]
  },
  {
   "cell_type": "code",
   "execution_count": 218,
   "id": "ccee16ed-2183-4a80-b5b5-4540c8fa6d68",
   "metadata": {},
   "outputs": [
    {
     "name": "stdout",
     "output_type": "stream",
     "text": [
      " * postgresql://postgres@localhost/mydb\n",
      "Done.\n"
     ]
    },
    {
     "data": {
      "text/plain": [
       "[]"
      ]
     },
     "execution_count": 218,
     "metadata": {},
     "output_type": "execute_result"
    }
   ],
   "source": [
    "%sql SET ROLE test_user_2;"
   ]
  },
  {
   "cell_type": "code",
   "execution_count": 219,
   "id": "7d107c75-8fef-426f-8fe9-21b691d647a3",
   "metadata": {},
   "outputs": [
    {
     "name": "stdout",
     "output_type": "stream",
     "text": [
      " * postgresql://postgres@localhost/mydb\n",
      "(psycopg2.errors.ObjectNotInPrerequisiteState) HATA:  bu oturumda \"privilege_sequence_example\" sequence'i için currval henüz tanımlanmamıştır\n",
      "\n",
      "[SQL: SELECT currval('privilege_sequence_example')]\n",
      "(Background on this error at: https://sqlalche.me/e/20/e3q8)\n"
     ]
    }
   ],
   "source": [
    "%sql SELECT currval('privilege_sequence_example')"
   ]
  },
  {
   "cell_type": "markdown",
   "id": "66c21fc3-4150-455d-912a-e17b52276be2",
   "metadata": {},
   "source": [
    "- See that nextval function is denied for test_user_2_role."
   ]
  },
  {
   "cell_type": "code",
   "execution_count": 220,
   "id": "452fe8fe-721f-4f74-b18f-b8549af03a7b",
   "metadata": {},
   "outputs": [
    {
     "name": "stdout",
     "output_type": "stream",
     "text": [
      " * postgresql://postgres@localhost/mydb\n",
      "(psycopg2.errors.InsufficientPrivilege) HATA:  privilege_sequence_example sequence'ine erişim izni verilmedi\n",
      "\n",
      "[SQL: SELECT nextval('privilege_sequence_example')]\n",
      "(Background on this error at: https://sqlalche.me/e/20/f405)\n"
     ]
    }
   ],
   "source": [
    "%sql SELECT nextval('privilege_sequence_example')"
   ]
  },
  {
   "cell_type": "markdown",
   "id": "f7f7a930-0e41-4a92-a3af-073a2c561585",
   "metadata": {
    "jp-MarkdownHeadingCollapsed": true
   },
   "source": [
    "##### Granting INSERT privileges"
   ]
  },
  {
   "cell_type": "markdown",
   "id": "b7ef0b1e-9495-4519-ae57-1137b26a8922",
   "metadata": {},
   "source": [
    "- `INSERT` privilege can be granted for the entire table or for specific columns.\n",
    "- If this privilege given for only selected columns, other columns will be assigned default values.\n",
    "    - `Note:` If there are constraints it may raise error inserting default values.\n",
    "- Insert privilege also allows use of `COPY FROM` command.\n",
    "    - For more information check [https://www.postgresql.org/docs/17/sql-copy.html](https://www.postgresql.org/docs/17/sql-copy.html)"
   ]
  },
  {
   "cell_type": "markdown",
   "id": "42da4d72-8bf6-427b-a4b7-5494e123730a",
   "metadata": {
    "jp-MarkdownHeadingCollapsed": true
   },
   "source": [
    "##### Granting INSERT privileges for table"
   ]
  },
  {
   "cell_type": "code",
   "execution_count": 221,
   "id": "0e052aad-ebb2-4358-a9fb-c4bfc75a1b1b",
   "metadata": {},
   "outputs": [
    {
     "name": "stdout",
     "output_type": "stream",
     "text": [
      " * postgresql://postgres@localhost/mydb\n",
      "Done.\n"
     ]
    },
    {
     "data": {
      "text/plain": [
       "[]"
      ]
     },
     "execution_count": 221,
     "metadata": {},
     "output_type": "execute_result"
    }
   ],
   "source": [
    "%sql SET ROLE test_user;"
   ]
  },
  {
   "cell_type": "code",
   "execution_count": 222,
   "id": "7fba891e-20a0-4b73-8a8a-a8bcf49663f0",
   "metadata": {},
   "outputs": [
    {
     "name": "stdout",
     "output_type": "stream",
     "text": [
      " * postgresql://postgres@localhost/mydb\n",
      "Done.\n",
      "Done.\n"
     ]
    },
    {
     "data": {
      "text/plain": [
       "[]"
      ]
     },
     "execution_count": 222,
     "metadata": {},
     "output_type": "execute_result"
    }
   ],
   "source": [
    "%%sql\n",
    "DROP TABLE IF EXISTS privilege_example CASCADE;\n",
    "CREATE TABLE privilege_example (\n",
    "    id integer,\n",
    "    username text\n",
    ");"
   ]
  },
  {
   "cell_type": "code",
   "execution_count": 223,
   "id": "5e1cf0a1-383c-43ba-a991-cf1668d0afd4",
   "metadata": {},
   "outputs": [
    {
     "name": "stdout",
     "output_type": "stream",
     "text": [
      " * postgresql://postgres@localhost/mydb\n",
      "Done.\n"
     ]
    },
    {
     "data": {
      "text/plain": [
       "[]"
      ]
     },
     "execution_count": 223,
     "metadata": {},
     "output_type": "execute_result"
    }
   ],
   "source": [
    "%sql GRANT INSERT ON privilege_example TO test_user_2;"
   ]
  },
  {
   "cell_type": "code",
   "execution_count": 224,
   "id": "4fac1d89-937e-4538-8494-5f4aa28df311",
   "metadata": {},
   "outputs": [
    {
     "name": "stdout",
     "output_type": "stream",
     "text": [
      " * postgresql://postgres@localhost/mydb\n",
      "Done.\n"
     ]
    },
    {
     "data": {
      "text/plain": [
       "[]"
      ]
     },
     "execution_count": 224,
     "metadata": {},
     "output_type": "execute_result"
    }
   ],
   "source": [
    "%sql SET ROLE test_user_2"
   ]
  },
  {
   "cell_type": "code",
   "execution_count": 225,
   "id": "9377df0e-136b-4511-a95f-2ba6d31bd299",
   "metadata": {},
   "outputs": [
    {
     "name": "stdout",
     "output_type": "stream",
     "text": [
      " * postgresql://postgres@localhost/mydb\n",
      "1 rows affected.\n"
     ]
    },
    {
     "data": {
      "text/plain": [
       "[]"
      ]
     },
     "execution_count": 225,
     "metadata": {},
     "output_type": "execute_result"
    }
   ],
   "source": [
    "%sql INSERT INTO privilege_example VALUES (1, 'example-user-1');"
   ]
  },
  {
   "cell_type": "markdown",
   "id": "b739f289-9f3e-4187-8b0c-f80eaf4d9947",
   "metadata": {
    "jp-MarkdownHeadingCollapsed": true
   },
   "source": [
    "##### Granting INSERT privileges for column"
   ]
  },
  {
   "cell_type": "code",
   "execution_count": 226,
   "id": "0305fd85-a439-4eed-8409-9bef03b8f011",
   "metadata": {},
   "outputs": [
    {
     "name": "stdout",
     "output_type": "stream",
     "text": [
      " * postgresql://postgres@localhost/mydb\n",
      "Done.\n"
     ]
    },
    {
     "data": {
      "text/plain": [
       "[]"
      ]
     },
     "execution_count": 226,
     "metadata": {},
     "output_type": "execute_result"
    }
   ],
   "source": [
    "%sql SET ROLE test_user;"
   ]
  },
  {
   "cell_type": "code",
   "execution_count": 227,
   "id": "d0a671ed-9d6a-43e3-856b-9cca1ad130ef",
   "metadata": {},
   "outputs": [
    {
     "name": "stdout",
     "output_type": "stream",
     "text": [
      " * postgresql://postgres@localhost/mydb\n",
      "Done.\n",
      "Done.\n"
     ]
    },
    {
     "data": {
      "text/plain": [
       "[]"
      ]
     },
     "execution_count": 227,
     "metadata": {},
     "output_type": "execute_result"
    }
   ],
   "source": [
    "%%sql\n",
    "DROP TABLE IF EXISTS privilege_example CASCADE;\n",
    "CREATE TABLE privilege_example (\n",
    "    id integer,\n",
    "    username text,\n",
    "    role text DEFAULT ('new-user')\n",
    ")"
   ]
  },
  {
   "cell_type": "markdown",
   "id": "819427c8-a8ef-4871-8d26-eb9683f7f990",
   "metadata": {},
   "source": [
    "- Granted also for SELECT operation to see insertion results."
   ]
  },
  {
   "cell_type": "code",
   "execution_count": 228,
   "id": "8812e4ae-d0d8-4fe3-a8e1-b3fe937791e4",
   "metadata": {},
   "outputs": [
    {
     "name": "stdout",
     "output_type": "stream",
     "text": [
      " * postgresql://postgres@localhost/mydb\n",
      "Done.\n"
     ]
    },
    {
     "data": {
      "text/plain": [
       "[]"
      ]
     },
     "execution_count": 228,
     "metadata": {},
     "output_type": "execute_result"
    }
   ],
   "source": [
    "%%sql \n",
    "GRANT SELECT, INSERT (id, username) ON privilege_example TO test_user_2;"
   ]
  },
  {
   "cell_type": "code",
   "execution_count": 229,
   "id": "e081e367-c2a8-42e6-85b2-9db8fa637c99",
   "metadata": {},
   "outputs": [
    {
     "name": "stdout",
     "output_type": "stream",
     "text": [
      " * postgresql://postgres@localhost/mydb\n",
      "Done.\n"
     ]
    },
    {
     "data": {
      "text/plain": [
       "[]"
      ]
     },
     "execution_count": 229,
     "metadata": {},
     "output_type": "execute_result"
    }
   ],
   "source": [
    "%sql SET ROLE test_user_2;"
   ]
  },
  {
   "cell_type": "code",
   "execution_count": 230,
   "id": "75aefd22-bdfb-4af0-abab-0a0f53d5d68d",
   "metadata": {},
   "outputs": [
    {
     "name": "stdout",
     "output_type": "stream",
     "text": [
      " * postgresql://postgres@localhost/mydb\n",
      "1 rows affected.\n"
     ]
    },
    {
     "data": {
      "text/plain": [
       "[]"
      ]
     },
     "execution_count": 230,
     "metadata": {},
     "output_type": "execute_result"
    }
   ],
   "source": [
    "%sql INSERT INTO privilege_example(id, username) VALUES (1, 'example-user-1');"
   ]
  },
  {
   "cell_type": "markdown",
   "id": "97dd7766-40c8-4f11-ab4a-86be60f4f4e5",
   "metadata": {},
   "source": [
    "- See that role is assigned as the DEFAULT value."
   ]
  },
  {
   "cell_type": "code",
   "execution_count": 231,
   "id": "1b447c51-f8a5-4fb3-bb47-5b00934b5a5e",
   "metadata": {},
   "outputs": [
    {
     "name": "stdout",
     "output_type": "stream",
     "text": [
      " * postgresql://postgres@localhost/mydb\n",
      "1 rows affected.\n"
     ]
    },
    {
     "data": {
      "text/html": [
       "<table>\n",
       "    <thead>\n",
       "        <tr>\n",
       "            <th>id</th>\n",
       "            <th>username</th>\n",
       "            <th>role</th>\n",
       "        </tr>\n",
       "    </thead>\n",
       "    <tbody>\n",
       "        <tr>\n",
       "            <td>1</td>\n",
       "            <td>example-user-1</td>\n",
       "            <td>new-user</td>\n",
       "        </tr>\n",
       "    </tbody>\n",
       "</table>"
      ],
      "text/plain": [
       "[(1, 'example-user-1', 'new-user')]"
      ]
     },
     "execution_count": 231,
     "metadata": {},
     "output_type": "execute_result"
    }
   ],
   "source": [
    "%sql SELECT * FROM privilege_example;"
   ]
  },
  {
   "cell_type": "markdown",
   "id": "443a5d1e-fa99-47cd-9719-476a17f5feaa",
   "metadata": {},
   "source": [
    "- See that specifying role raises error, because privilege did not granted."
   ]
  },
  {
   "cell_type": "code",
   "execution_count": 232,
   "id": "ef8cfaf1-24c9-4dbc-9081-c93cea061636",
   "metadata": {},
   "outputs": [
    {
     "name": "stdout",
     "output_type": "stream",
     "text": [
      " * postgresql://postgres@localhost/mydb\n",
      "(psycopg2.errors.InsufficientPrivilege) HATA:  privilege_example tablosuna erişim engellendi\n",
      "\n",
      "[SQL: INSERT INTO privilege_example(id, username, role) VALUES (1, 'example-user-1' , 'new-role-1' );]\n",
      "(Background on this error at: https://sqlalche.me/e/20/f405)\n"
     ]
    }
   ],
   "source": [
    "%sql INSERT INTO privilege_example(id, username, role) VALUES (1, 'example-user-1', 'new-role-1');"
   ]
  },
  {
   "cell_type": "markdown",
   "id": "b49f25c6-5f71-4862-be80-3a0512129804",
   "metadata": {
    "jp-MarkdownHeadingCollapsed": true
   },
   "source": [
    "##### Granting UPDATE privileges"
   ]
  },
  {
   "cell_type": "markdown",
   "id": "4899321c-f172-48c9-b07e-4285d1aaa0f5",
   "metadata": {},
   "source": [
    "- Granting UPDATE privilege allows update of table or columns.\n",
    "- Mostly granting UPDATE requires granting SELECT since it determines which rows will be updated and/or compute new values for columns.\n",
    "    - Even using `WHERE` clause causes error if `SELECT` operation is not granted.\n",
    "- `SELECT ... FOR UPDATE` and `SELECT ... FOR SHARE` also requires this privilege.\n",
    "    - For more information about this clauses (``) check [https://www.postgresql.org/docs/current/sql-select.html](https://www.postgresql.org/docs/current/sql-select.html#SQL-FOR-UPDATE-SHARE)"
   ]
  },
  {
   "cell_type": "markdown",
   "id": "aba56dde-2fd3-4891-8633-f4ad9c861b7c",
   "metadata": {},
   "source": [
    "###### Granting UPDATE privileges for table"
   ]
  },
  {
   "cell_type": "code",
   "execution_count": 233,
   "id": "af1c5700-6197-49f0-bce4-5dbac73eb398",
   "metadata": {},
   "outputs": [
    {
     "name": "stdout",
     "output_type": "stream",
     "text": [
      " * postgresql://postgres@localhost/mydb\n",
      "Done.\n"
     ]
    },
    {
     "data": {
      "text/plain": [
       "[]"
      ]
     },
     "execution_count": 233,
     "metadata": {},
     "output_type": "execute_result"
    }
   ],
   "source": [
    "%sql SET ROLE test_user;"
   ]
  },
  {
   "cell_type": "code",
   "execution_count": 234,
   "id": "90f17771-9cf0-41dc-9b3d-127ada338106",
   "metadata": {},
   "outputs": [
    {
     "name": "stdout",
     "output_type": "stream",
     "text": [
      " * postgresql://postgres@localhost/mydb\n",
      "Done.\n",
      "Done.\n",
      "1 rows affected.\n",
      "1 rows affected.\n"
     ]
    },
    {
     "data": {
      "text/plain": [
       "[]"
      ]
     },
     "execution_count": 234,
     "metadata": {},
     "output_type": "execute_result"
    }
   ],
   "source": [
    "%%sql\n",
    "DROP TABLE IF EXISTS privilege_example;\n",
    "CREATE TABLE privilege_example (\n",
    "    id integer,\n",
    "    username text,\n",
    "    role text\n",
    ");\n",
    "INSERT INTO privilege_example VALUES (1, 'example-user-1', 'new-user');\n",
    "INSERT INTO privilege_example VALUES (2, 'example-user-2', 'new-user');"
   ]
  },
  {
   "cell_type": "code",
   "execution_count": 235,
   "id": "d65ae2cd-6345-439d-a31c-a16dc7821ca7",
   "metadata": {},
   "outputs": [
    {
     "name": "stdout",
     "output_type": "stream",
     "text": [
      " * postgresql://postgres@localhost/mydb\n",
      "Done.\n"
     ]
    },
    {
     "data": {
      "text/plain": [
       "[]"
      ]
     },
     "execution_count": 235,
     "metadata": {},
     "output_type": "execute_result"
    }
   ],
   "source": [
    "%sql GRANT SELECT, UPDATE ON privilege_example TO test_user_2;"
   ]
  },
  {
   "cell_type": "markdown",
   "id": "9c9ea3b8-a9ea-4a44-bc9e-b7f50efa438c",
   "metadata": {},
   "source": [
    "- See that for table and automatically for all columns UPDATE privilege has been granted. "
   ]
  },
  {
   "cell_type": "code",
   "execution_count": 236,
   "id": "41ae4050-4c03-4d8a-a379-31ab0266495d",
   "metadata": {},
   "outputs": [
    {
     "name": "stdout",
     "output_type": "stream",
     "text": [
      " * postgresql://postgres@localhost/mydb\n",
      "Done.\n",
      "1 rows affected.\n"
     ]
    },
    {
     "data": {
      "text/html": [
       "<table>\n",
       "    <thead>\n",
       "        <tr>\n",
       "            <th>grantee</th>\n",
       "            <th>table_name</th>\n",
       "            <th>privilege_type</th>\n",
       "        </tr>\n",
       "    </thead>\n",
       "    <tbody>\n",
       "        <tr>\n",
       "            <td>test_user_2</td>\n",
       "            <td>privilege_example</td>\n",
       "            <td>UPDATE</td>\n",
       "        </tr>\n",
       "    </tbody>\n",
       "</table>"
      ],
      "text/plain": [
       "[('test_user_2', 'privilege_example', 'UPDATE')]"
      ]
     },
     "execution_count": 236,
     "metadata": {},
     "output_type": "execute_result"
    }
   ],
   "source": [
    "%%sql\n",
    "SET ROLE postgres;\n",
    "SELECT \n",
    "    grantee,\n",
    "    table_name,\n",
    "    privilege_type\n",
    "FROM \n",
    "    information_schema.table_privileges\n",
    "WHERE \n",
    "    table_name = 'privilege_example' and grantee = 'test_user_2' and privilege_type = 'UPDATE';"
   ]
  },
  {
   "cell_type": "code",
   "execution_count": 237,
   "id": "f91e136d-11bf-4db0-b581-e143f0bef57e",
   "metadata": {},
   "outputs": [
    {
     "name": "stdout",
     "output_type": "stream",
     "text": [
      " * postgresql://postgres@localhost/mydb\n",
      "3 rows affected.\n"
     ]
    },
    {
     "data": {
      "text/html": [
       "<table>\n",
       "    <thead>\n",
       "        <tr>\n",
       "            <th>grantee</th>\n",
       "            <th>table_name</th>\n",
       "            <th>column_name</th>\n",
       "            <th>privilege_type</th>\n",
       "        </tr>\n",
       "    </thead>\n",
       "    <tbody>\n",
       "        <tr>\n",
       "            <td>test_user_2</td>\n",
       "            <td>privilege_example</td>\n",
       "            <td>id</td>\n",
       "            <td>UPDATE</td>\n",
       "        </tr>\n",
       "        <tr>\n",
       "            <td>test_user_2</td>\n",
       "            <td>privilege_example</td>\n",
       "            <td>role</td>\n",
       "            <td>UPDATE</td>\n",
       "        </tr>\n",
       "        <tr>\n",
       "            <td>test_user_2</td>\n",
       "            <td>privilege_example</td>\n",
       "            <td>username</td>\n",
       "            <td>UPDATE</td>\n",
       "        </tr>\n",
       "    </tbody>\n",
       "</table>"
      ],
      "text/plain": [
       "[('test_user_2', 'privilege_example', 'id', 'UPDATE'),\n",
       " ('test_user_2', 'privilege_example', 'role', 'UPDATE'),\n",
       " ('test_user_2', 'privilege_example', 'username', 'UPDATE')]"
      ]
     },
     "execution_count": 237,
     "metadata": {},
     "output_type": "execute_result"
    }
   ],
   "source": [
    "%%sql\n",
    "SELECT \n",
    "    grantee,\n",
    "    table_name,\n",
    "    column_name,\n",
    "    privilege_type\n",
    "FROM \n",
    "    information_schema.column_privileges\n",
    "WHERE \n",
    "    table_name = 'privilege_example' and grantee = 'test_user_2' and privilege_type = 'UPDATE';"
   ]
  },
  {
   "cell_type": "code",
   "execution_count": 238,
   "id": "ca410a6a-57d1-49eb-a53d-bae20175dda6",
   "metadata": {},
   "outputs": [
    {
     "name": "stdout",
     "output_type": "stream",
     "text": [
      " * postgresql://postgres@localhost/mydb\n",
      "Done.\n"
     ]
    },
    {
     "data": {
      "text/plain": [
       "[]"
      ]
     },
     "execution_count": 238,
     "metadata": {},
     "output_type": "execute_result"
    }
   ],
   "source": [
    "%sql SET ROLE test_user_2;"
   ]
  },
  {
   "cell_type": "code",
   "execution_count": 239,
   "id": "758b2f58-fe1d-43fe-9222-5eb2a14c3b04",
   "metadata": {},
   "outputs": [
    {
     "name": "stdout",
     "output_type": "stream",
     "text": [
      " * postgresql://postgres@localhost/mydb\n",
      "1 rows affected.\n"
     ]
    },
    {
     "data": {
      "text/plain": [
       "[]"
      ]
     },
     "execution_count": 239,
     "metadata": {},
     "output_type": "execute_result"
    }
   ],
   "source": [
    "%sql UPDATE privilege_example SET role = 'admin' WHERE id = 1;"
   ]
  },
  {
   "cell_type": "markdown",
   "id": "cd047e51-1c3e-4d26-8adc-7014db1cb032",
   "metadata": {},
   "source": [
    "- See that new role of user with id 1 is admin. "
   ]
  },
  {
   "cell_type": "code",
   "execution_count": 240,
   "id": "f6762899-72c3-4ee9-ac92-0aa88b0e7753",
   "metadata": {},
   "outputs": [
    {
     "name": "stdout",
     "output_type": "stream",
     "text": [
      " * postgresql://postgres@localhost/mydb\n",
      "2 rows affected.\n"
     ]
    },
    {
     "data": {
      "text/html": [
       "<table>\n",
       "    <thead>\n",
       "        <tr>\n",
       "            <th>id</th>\n",
       "            <th>username</th>\n",
       "            <th>role</th>\n",
       "        </tr>\n",
       "    </thead>\n",
       "    <tbody>\n",
       "        <tr>\n",
       "            <td>2</td>\n",
       "            <td>example-user-2</td>\n",
       "            <td>new-user</td>\n",
       "        </tr>\n",
       "        <tr>\n",
       "            <td>1</td>\n",
       "            <td>example-user-1</td>\n",
       "            <td>admin</td>\n",
       "        </tr>\n",
       "    </tbody>\n",
       "</table>"
      ],
      "text/plain": [
       "[(2, 'example-user-2', 'new-user'), (1, 'example-user-1', 'admin')]"
      ]
     },
     "execution_count": 240,
     "metadata": {},
     "output_type": "execute_result"
    }
   ],
   "source": [
    "%sql SELECT * FROM privilege_example;"
   ]
  },
  {
   "cell_type": "markdown",
   "id": "b437f793-730e-4c26-b39a-e106b1a1685b",
   "metadata": {},
   "source": [
    "###### Granting UPDATE privileges for table without SELECT privilege"
   ]
  },
  {
   "cell_type": "code",
   "execution_count": 241,
   "id": "f6b8568f-3d8b-4678-8046-d73b6a462af0",
   "metadata": {},
   "outputs": [
    {
     "name": "stdout",
     "output_type": "stream",
     "text": [
      " * postgresql://postgres@localhost/mydb\n",
      "Done.\n"
     ]
    },
    {
     "data": {
      "text/plain": [
       "[]"
      ]
     },
     "execution_count": 241,
     "metadata": {},
     "output_type": "execute_result"
    }
   ],
   "source": [
    "%sql SET ROLE test_user;"
   ]
  },
  {
   "cell_type": "code",
   "execution_count": 242,
   "id": "454daaab-dd98-4b94-b836-e695341580bd",
   "metadata": {},
   "outputs": [
    {
     "name": "stdout",
     "output_type": "stream",
     "text": [
      " * postgresql://postgres@localhost/mydb\n",
      "Done.\n",
      "Done.\n",
      "1 rows affected.\n",
      "1 rows affected.\n"
     ]
    },
    {
     "data": {
      "text/plain": [
       "[]"
      ]
     },
     "execution_count": 242,
     "metadata": {},
     "output_type": "execute_result"
    }
   ],
   "source": [
    "%%sql\n",
    "DROP TABLE IF EXISTS privilege_example;\n",
    "CREATE TABLE privilege_example (\n",
    "    id integer,\n",
    "    username text,\n",
    "    role text\n",
    ");\n",
    "INSERT INTO privilege_example VALUES (1, 'example-user-1', 'new-user');\n",
    "INSERT INTO privilege_example VALUES (2, 'example-user-2', 'new-user');"
   ]
  },
  {
   "cell_type": "code",
   "execution_count": 243,
   "id": "6d8151ba-2cf3-4ba4-b85b-e756d98b85f8",
   "metadata": {},
   "outputs": [
    {
     "name": "stdout",
     "output_type": "stream",
     "text": [
      " * postgresql://postgres@localhost/mydb\n",
      "Done.\n"
     ]
    },
    {
     "data": {
      "text/plain": [
       "[]"
      ]
     },
     "execution_count": 243,
     "metadata": {},
     "output_type": "execute_result"
    }
   ],
   "source": [
    "%sql GRANT UPDATE ON privilege_example TO test_user_2;"
   ]
  },
  {
   "cell_type": "code",
   "execution_count": 244,
   "id": "05d3b9a0-bc7a-4127-9e32-2c137efb85fb",
   "metadata": {},
   "outputs": [
    {
     "name": "stdout",
     "output_type": "stream",
     "text": [
      " * postgresql://postgres@localhost/mydb\n",
      "Done.\n"
     ]
    },
    {
     "data": {
      "text/plain": [
       "[]"
      ]
     },
     "execution_count": 244,
     "metadata": {},
     "output_type": "execute_result"
    }
   ],
   "source": [
    "%sql SET ROLE test_user_2;"
   ]
  },
  {
   "cell_type": "markdown",
   "id": "a95426ba-81fd-4108-9fa0-2e985c035d96",
   "metadata": {},
   "source": [
    "- Without where condition there will be no error."
   ]
  },
  {
   "cell_type": "code",
   "execution_count": 245,
   "id": "96c3ca7a-9810-43d2-bbb1-e47c19921c71",
   "metadata": {},
   "outputs": [
    {
     "name": "stdout",
     "output_type": "stream",
     "text": [
      " * postgresql://postgres@localhost/mydb\n",
      "2 rows affected.\n"
     ]
    },
    {
     "data": {
      "text/plain": [
       "[]"
      ]
     },
     "execution_count": 245,
     "metadata": {},
     "output_type": "execute_result"
    }
   ],
   "source": [
    "%sql UPDATE privilege_example SET role = 'updated-role';"
   ]
  },
  {
   "cell_type": "markdown",
   "id": "0d2ff556-16cc-483c-a516-07a681a35daa",
   "metadata": {},
   "source": [
    "- With where condition it raises an error."
   ]
  },
  {
   "cell_type": "code",
   "execution_count": 246,
   "id": "c02a4f17-f667-4cb2-8865-a35d2dcc7155",
   "metadata": {},
   "outputs": [
    {
     "name": "stdout",
     "output_type": "stream",
     "text": [
      " * postgresql://postgres@localhost/mydb\n",
      "(psycopg2.errors.InsufficientPrivilege) HATA:  privilege_example tablosuna erişim engellendi\n",
      "\n",
      "[SQL: UPDATE privilege_example SET role = 'admin' WHERE id = 1;]\n",
      "(Background on this error at: https://sqlalche.me/e/20/f405)\n"
     ]
    }
   ],
   "source": [
    "%sql UPDATE privilege_example SET role = 'admin' WHERE id = 1;"
   ]
  },
  {
   "cell_type": "markdown",
   "id": "7a919a94-2d33-46bc-bda4-e4db457aa057",
   "metadata": {},
   "source": [
    "###### Granting UPDATE privileges for column"
   ]
  },
  {
   "cell_type": "code",
   "execution_count": 247,
   "id": "7f07c12d-2088-49d9-9fd7-661c72a7ae92",
   "metadata": {},
   "outputs": [
    {
     "name": "stdout",
     "output_type": "stream",
     "text": [
      " * postgresql://postgres@localhost/mydb\n",
      "Done.\n"
     ]
    },
    {
     "data": {
      "text/plain": [
       "[]"
      ]
     },
     "execution_count": 247,
     "metadata": {},
     "output_type": "execute_result"
    }
   ],
   "source": [
    "%sql SET ROLE test_user;"
   ]
  },
  {
   "cell_type": "code",
   "execution_count": 248,
   "id": "cff41bef-dcf3-41c9-aa7c-ccdb37588ede",
   "metadata": {},
   "outputs": [
    {
     "name": "stdout",
     "output_type": "stream",
     "text": [
      " * postgresql://postgres@localhost/mydb\n",
      "Done.\n",
      "Done.\n",
      "1 rows affected.\n",
      "1 rows affected.\n"
     ]
    },
    {
     "data": {
      "text/plain": [
       "[]"
      ]
     },
     "execution_count": 248,
     "metadata": {},
     "output_type": "execute_result"
    }
   ],
   "source": [
    "%%sql\n",
    "DROP TABLE IF EXISTS privilege_example;\n",
    "CREATE TABLE privilege_example (\n",
    "    id integer,\n",
    "    username text,\n",
    "    role text\n",
    ");\n",
    "INSERT INTO privilege_example VALUES (1, 'example-user-1', 'new-user');\n",
    "INSERT INTO privilege_example VALUES (2, 'example-user-2', 'new-user');"
   ]
  },
  {
   "cell_type": "code",
   "execution_count": 249,
   "id": "4a43faf4-9ee2-49f4-a6c4-73f4d8b911f3",
   "metadata": {},
   "outputs": [
    {
     "name": "stdout",
     "output_type": "stream",
     "text": [
      " * postgresql://postgres@localhost/mydb\n",
      "Done.\n"
     ]
    },
    {
     "data": {
      "text/plain": [
       "[]"
      ]
     },
     "execution_count": 249,
     "metadata": {},
     "output_type": "execute_result"
    }
   ],
   "source": [
    "%sql GRANT UPDATE (role) ON privilege_example TO test_user_2;"
   ]
  },
  {
   "cell_type": "code",
   "execution_count": 250,
   "id": "61158f3b-248d-4607-92ca-9786b3afcc22",
   "metadata": {},
   "outputs": [
    {
     "name": "stdout",
     "output_type": "stream",
     "text": [
      " * postgresql://postgres@localhost/mydb\n",
      "Done.\n"
     ]
    },
    {
     "data": {
      "text/plain": [
       "[]"
      ]
     },
     "execution_count": 250,
     "metadata": {},
     "output_type": "execute_result"
    }
   ],
   "source": [
    "%sql SET ROLE test_user_2;"
   ]
  },
  {
   "cell_type": "code",
   "execution_count": 251,
   "id": "6b92d72d-1e9b-4d85-b953-8374322aea71",
   "metadata": {},
   "outputs": [
    {
     "name": "stdout",
     "output_type": "stream",
     "text": [
      " * postgresql://postgres@localhost/mydb\n",
      "2 rows affected.\n"
     ]
    },
    {
     "data": {
      "text/plain": [
       "[]"
      ]
     },
     "execution_count": 251,
     "metadata": {},
     "output_type": "execute_result"
    }
   ],
   "source": [
    "%sql UPDATE privilege_example SET role = 'updated-role';"
   ]
  },
  {
   "cell_type": "markdown",
   "id": "5c9d3cfa-0b2e-4b9a-92c9-145e113012c3",
   "metadata": {},
   "source": [
    "- See that update denied and raised error."
   ]
  },
  {
   "cell_type": "code",
   "execution_count": 252,
   "id": "dee601b9-ee7c-4b36-9f10-136083874f62",
   "metadata": {},
   "outputs": [
    {
     "name": "stdout",
     "output_type": "stream",
     "text": [
      " * postgresql://postgres@localhost/mydb\n",
      "(psycopg2.errors.InsufficientPrivilege) HATA:  privilege_example tablosuna erişim engellendi\n",
      "\n",
      "[SQL: UPDATE privilege_example SET username = 'default-user' ;]\n",
      "(Background on this error at: https://sqlalche.me/e/20/f405)\n"
     ]
    }
   ],
   "source": [
    "%sql UPDATE privilege_example SET username = 'default-user';"
   ]
  },
  {
   "cell_type": "markdown",
   "id": "631a4819-ee3e-4af7-a787-7c5b646cafcc",
   "metadata": {},
   "source": [
    "###### Granting UPDATE privileges for sequence"
   ]
  },
  {
   "cell_type": "markdown",
   "id": "9af54a5f-223a-4f98-8ea4-8abb2891c6ee",
   "metadata": {},
   "source": [
    "- With UPDATE privilege you can use `nextval()` and `setval()` functions.\n",
    "- But without SELECT privilege you can not use `currval()`function."
   ]
  },
  {
   "cell_type": "code",
   "execution_count": 253,
   "id": "c9e894c7-b783-4748-8ded-3fa430965ed3",
   "metadata": {},
   "outputs": [
    {
     "name": "stdout",
     "output_type": "stream",
     "text": [
      " * postgresql://postgres@localhost/mydb\n",
      "Done.\n"
     ]
    },
    {
     "data": {
      "text/plain": [
       "[]"
      ]
     },
     "execution_count": 253,
     "metadata": {},
     "output_type": "execute_result"
    }
   ],
   "source": [
    "%sql SET ROLE test_user;"
   ]
  },
  {
   "cell_type": "code",
   "execution_count": 254,
   "id": "9e4b9057-b4df-4590-a42b-b77f9b444fe0",
   "metadata": {},
   "outputs": [
    {
     "name": "stdout",
     "output_type": "stream",
     "text": [
      " * postgresql://postgres@localhost/mydb\n",
      "Done.\n",
      "Done.\n"
     ]
    },
    {
     "data": {
      "text/plain": [
       "[]"
      ]
     },
     "execution_count": 254,
     "metadata": {},
     "output_type": "execute_result"
    }
   ],
   "source": [
    "%%sql\n",
    "DROP SEQUENCE IF EXISTS privilege_sequence_example;\n",
    "CREATE SEQUENCE privilege_sequence_example;"
   ]
  },
  {
   "cell_type": "code",
   "execution_count": 255,
   "id": "f790f455-aeb5-4529-ae13-b243a6e2a576",
   "metadata": {},
   "outputs": [
    {
     "name": "stdout",
     "output_type": "stream",
     "text": [
      " * postgresql://postgres@localhost/mydb\n",
      "Done.\n"
     ]
    },
    {
     "data": {
      "text/plain": [
       "[]"
      ]
     },
     "execution_count": 255,
     "metadata": {},
     "output_type": "execute_result"
    }
   ],
   "source": [
    "%sql GRANT UPDATE ON privilege_sequence_example TO test_user_2;"
   ]
  },
  {
   "cell_type": "code",
   "execution_count": 256,
   "id": "055dda17-55d4-46f5-8445-0e1a67a96f05",
   "metadata": {},
   "outputs": [
    {
     "name": "stdout",
     "output_type": "stream",
     "text": [
      " * postgresql://postgres@localhost/mydb\n",
      "Done.\n"
     ]
    },
    {
     "data": {
      "text/plain": [
       "[]"
      ]
     },
     "execution_count": 256,
     "metadata": {},
     "output_type": "execute_result"
    }
   ],
   "source": [
    "%sql SET ROLE test_user_2;"
   ]
  },
  {
   "cell_type": "code",
   "execution_count": 257,
   "id": "5e91f264-da45-4f8a-842a-daaad675c816",
   "metadata": {},
   "outputs": [
    {
     "name": "stdout",
     "output_type": "stream",
     "text": [
      " * postgresql://postgres@localhost/mydb\n",
      "1 rows affected.\n"
     ]
    },
    {
     "data": {
      "text/html": [
       "<table>\n",
       "    <thead>\n",
       "        <tr>\n",
       "            <th>nextval</th>\n",
       "        </tr>\n",
       "    </thead>\n",
       "    <tbody>\n",
       "        <tr>\n",
       "            <td>1</td>\n",
       "        </tr>\n",
       "    </tbody>\n",
       "</table>"
      ],
      "text/plain": [
       "[(1,)]"
      ]
     },
     "execution_count": 257,
     "metadata": {},
     "output_type": "execute_result"
    }
   ],
   "source": [
    "%sql SELECT nextval('privilege_sequence_example');"
   ]
  },
  {
   "cell_type": "markdown",
   "id": "047394a2-a963-44a1-8643-ebd5f10d2e96",
   "metadata": {},
   "source": [
    "- See that currval function raises error because SELECT privilege is not granted."
   ]
  },
  {
   "cell_type": "code",
   "execution_count": 258,
   "id": "c8f6603d-915a-4de8-ba52-3d6eb5d65113",
   "metadata": {},
   "outputs": [
    {
     "name": "stdout",
     "output_type": "stream",
     "text": [
      " * postgresql://postgres@localhost/mydb\n",
      "(psycopg2.errors.InsufficientPrivilege) HATA:  privilege_sequence_example sequence'ine erişim izni verilmedi\n",
      "\n",
      "[SQL: SELECT currval('privilege_sequence_example');]\n",
      "(Background on this error at: https://sqlalche.me/e/20/f405)\n"
     ]
    }
   ],
   "source": [
    "%sql SELECT currval('privilege_sequence_example');"
   ]
  },
  {
   "cell_type": "markdown",
   "id": "c0095e4e-ee06-4b06-aeca-7165e894d19e",
   "metadata": {
    "jp-MarkdownHeadingCollapsed": true
   },
   "source": [
    "##### Granting DELETE privileges"
   ]
  },
  {
   "cell_type": "markdown",
   "id": "a53558b2-0d81-4697-9e4d-656ab7a1eb28",
   "metadata": {},
   "source": [
    "- Mostly granting DELETE requires granting SELECT since it determines which rows will be deleted.\n",
    "    - Even using `WHERE` clause causes error if `SELECT` operation is not granted."
   ]
  },
  {
   "cell_type": "code",
   "execution_count": 259,
   "id": "19d2bed6-70b2-4c68-865e-29bb988e0397",
   "metadata": {},
   "outputs": [
    {
     "name": "stdout",
     "output_type": "stream",
     "text": [
      " * postgresql://postgres@localhost/mydb\n",
      "Done.\n"
     ]
    },
    {
     "data": {
      "text/plain": [
       "[]"
      ]
     },
     "execution_count": 259,
     "metadata": {},
     "output_type": "execute_result"
    }
   ],
   "source": [
    "%sql SET ROLE test_user;"
   ]
  },
  {
   "cell_type": "code",
   "execution_count": 260,
   "id": "2a7ddb78-95da-4495-a06d-b8a405e6ed90",
   "metadata": {},
   "outputs": [
    {
     "name": "stdout",
     "output_type": "stream",
     "text": [
      " * postgresql://postgres@localhost/mydb\n",
      "Done.\n",
      "Done.\n",
      "1 rows affected.\n",
      "1 rows affected.\n"
     ]
    },
    {
     "data": {
      "text/plain": [
       "[]"
      ]
     },
     "execution_count": 260,
     "metadata": {},
     "output_type": "execute_result"
    }
   ],
   "source": [
    "%%sql\n",
    "DROP TABLE IF EXISTS privilege_example;\n",
    "CREATE TABLE privilege_example (\n",
    "    id integer,\n",
    "    username text,\n",
    "    role text\n",
    ");\n",
    "INSERT INTO privilege_example VALUES (1, 'example-user-1', 'new-user');\n",
    "INSERT INTO privilege_example VALUES (2, 'example-user-2', 'new-user');"
   ]
  },
  {
   "cell_type": "code",
   "execution_count": 261,
   "id": "25651272-032e-41e9-b242-9f23b981dc8f",
   "metadata": {},
   "outputs": [
    {
     "name": "stdout",
     "output_type": "stream",
     "text": [
      " * postgresql://postgres@localhost/mydb\n",
      "Done.\n"
     ]
    },
    {
     "data": {
      "text/plain": [
       "[]"
      ]
     },
     "execution_count": 261,
     "metadata": {},
     "output_type": "execute_result"
    }
   ],
   "source": [
    "%sql GRANT SELECT, DELETE ON privilege_example TO test_user_2;"
   ]
  },
  {
   "cell_type": "code",
   "execution_count": 262,
   "id": "fd41b846-fdda-47a3-bbcb-b02b6d8f5494",
   "metadata": {},
   "outputs": [
    {
     "name": "stdout",
     "output_type": "stream",
     "text": [
      " * postgresql://postgres@localhost/mydb\n",
      "Done.\n"
     ]
    },
    {
     "data": {
      "text/plain": [
       "[]"
      ]
     },
     "execution_count": 262,
     "metadata": {},
     "output_type": "execute_result"
    }
   ],
   "source": [
    "%sql SET ROLE test_user_2;"
   ]
  },
  {
   "cell_type": "code",
   "execution_count": 263,
   "id": "5f00acca-e8ad-403f-8ac3-c550b28ead09",
   "metadata": {},
   "outputs": [
    {
     "name": "stdout",
     "output_type": "stream",
     "text": [
      " * postgresql://postgres@localhost/mydb\n",
      "1 rows affected.\n"
     ]
    },
    {
     "data": {
      "text/plain": [
       "[]"
      ]
     },
     "execution_count": 263,
     "metadata": {},
     "output_type": "execute_result"
    }
   ],
   "source": [
    "%sql DELETE FROM privilege_example WHERE id=2;"
   ]
  },
  {
   "cell_type": "markdown",
   "id": "dae072fe-955f-4ab0-babf-2f42eadbbffd",
   "metadata": {
    "jp-MarkdownHeadingCollapsed": true
   },
   "source": [
    "##### Granting TRUNCATE privileges"
   ]
  },
  {
   "cell_type": "code",
   "execution_count": 264,
   "id": "cac2f607-084f-4fe9-9315-382cb8b9d557",
   "metadata": {},
   "outputs": [
    {
     "name": "stdout",
     "output_type": "stream",
     "text": [
      " * postgresql://postgres@localhost/mydb\n",
      "Done.\n"
     ]
    },
    {
     "data": {
      "text/plain": [
       "[]"
      ]
     },
     "execution_count": 264,
     "metadata": {},
     "output_type": "execute_result"
    }
   ],
   "source": [
    "%sql SET ROLE test_user;"
   ]
  },
  {
   "cell_type": "code",
   "execution_count": 265,
   "id": "3df6c7a2-8b02-43a8-a017-7c1d97a2f515",
   "metadata": {},
   "outputs": [
    {
     "name": "stdout",
     "output_type": "stream",
     "text": [
      " * postgresql://postgres@localhost/mydb\n",
      "Done.\n",
      "Done.\n",
      "1 rows affected.\n",
      "1 rows affected.\n"
     ]
    },
    {
     "data": {
      "text/plain": [
       "[]"
      ]
     },
     "execution_count": 265,
     "metadata": {},
     "output_type": "execute_result"
    }
   ],
   "source": [
    "%%sql\n",
    "DROP TABLE IF EXISTS privilege_example;\n",
    "CREATE TABLE privilege_example (\n",
    "    id integer,\n",
    "    username text,\n",
    "    role text\n",
    ");\n",
    "INSERT INTO privilege_example VALUES (1, 'example-user-1', 'new-user');\n",
    "INSERT INTO privilege_example VALUES (2, 'example-user-2', 'new-user');"
   ]
  },
  {
   "cell_type": "code",
   "execution_count": 266,
   "id": "d5e24a78-3359-40c7-aadf-630447931ad5",
   "metadata": {},
   "outputs": [
    {
     "name": "stdout",
     "output_type": "stream",
     "text": [
      " * postgresql://postgres@localhost/mydb\n",
      "Done.\n"
     ]
    },
    {
     "data": {
      "text/plain": [
       "[]"
      ]
     },
     "execution_count": 266,
     "metadata": {},
     "output_type": "execute_result"
    }
   ],
   "source": [
    "%sql GRANT TRUNCATE ON privilege_example TO test_user_2;"
   ]
  },
  {
   "cell_type": "code",
   "execution_count": 267,
   "id": "46f25505-a77e-4b6e-8714-64c4a66f8bbe",
   "metadata": {},
   "outputs": [
    {
     "name": "stdout",
     "output_type": "stream",
     "text": [
      " * postgresql://postgres@localhost/mydb\n",
      "Done.\n"
     ]
    },
    {
     "data": {
      "text/plain": [
       "[]"
      ]
     },
     "execution_count": 267,
     "metadata": {},
     "output_type": "execute_result"
    }
   ],
   "source": [
    "%sql SET ROLE test_user_2;"
   ]
  },
  {
   "cell_type": "code",
   "execution_count": 268,
   "id": "c98c49f3-e449-4642-bd66-fb80e0f2ea02",
   "metadata": {},
   "outputs": [
    {
     "name": "stdout",
     "output_type": "stream",
     "text": [
      " * postgresql://postgres@localhost/mydb\n",
      "Done.\n"
     ]
    },
    {
     "data": {
      "text/plain": [
       "[]"
      ]
     },
     "execution_count": 268,
     "metadata": {},
     "output_type": "execute_result"
    }
   ],
   "source": [
    "%sql TRUNCATE TABLE privilege_example;"
   ]
  },
  {
   "cell_type": "markdown",
   "id": "ca7b4732-145c-4a36-8431-32d515dadc02",
   "metadata": {},
   "source": [
    "##### Granting REFERENCES privileges"
   ]
  },
  {
   "cell_type": "markdown",
   "id": "77aa3d1e-8710-4b1e-83c0-5884e861d729",
   "metadata": {},
   "source": [
    "- Reference privilege can be granted for table or selected columns."
   ]
  },
  {
   "cell_type": "markdown",
   "id": "4f5d1bf9-6230-413c-a2bd-82d76cadd062",
   "metadata": {
    "jp-MarkdownHeadingCollapsed": true
   },
   "source": [
    "###### Granting REFERENCES for table"
   ]
  },
  {
   "cell_type": "code",
   "execution_count": 269,
   "id": "611cf0d9-3944-4c60-ba56-29734e2271cd",
   "metadata": {},
   "outputs": [
    {
     "name": "stdout",
     "output_type": "stream",
     "text": [
      " * postgresql://postgres@localhost/mydb\n",
      "Done.\n",
      "(psycopg2.errors.InsufficientPrivilege) HATA:  privilege_references_example tablosunun sahibi olmalısınız\n",
      "\n",
      "[SQL: DROP TABLE IF EXISTS privilege_references_example;]\n",
      "(Background on this error at: https://sqlalche.me/e/20/f405)\n"
     ]
    }
   ],
   "source": [
    "%%sql\n",
    "SET ROLE test_user_2;\n",
    "DROP TABLE IF EXISTS privilege_references_example;\n",
    "SET ROLE test_user;\n",
    "DROP TABLE IF EXISTS privilege_example;\n",
    "CREATE TABLE privilege_example (\n",
    "    id integer PRIMARY KEY,\n",
    "    username text,\n",
    "    role text\n",
    ");"
   ]
  },
  {
   "cell_type": "code",
   "execution_count": 270,
   "id": "fea478cd-1fc4-4e8f-8725-2f27ba58e0ed",
   "metadata": {},
   "outputs": [
    {
     "name": "stdout",
     "output_type": "stream",
     "text": [
      " * postgresql://postgres@localhost/mydb\n",
      "Done.\n"
     ]
    },
    {
     "data": {
      "text/plain": [
       "[]"
      ]
     },
     "execution_count": 270,
     "metadata": {},
     "output_type": "execute_result"
    }
   ],
   "source": [
    "%sql GRANT REFERENCES ON privilege_example TO test_user_2;"
   ]
  },
  {
   "cell_type": "code",
   "execution_count": 271,
   "id": "5b473c13-1ce9-4de0-8eb5-cbc7a49fc371",
   "metadata": {},
   "outputs": [
    {
     "name": "stdout",
     "output_type": "stream",
     "text": [
      " * postgresql://postgres@localhost/mydb\n",
      "Done.\n"
     ]
    },
    {
     "data": {
      "text/plain": [
       "[]"
      ]
     },
     "execution_count": 271,
     "metadata": {},
     "output_type": "execute_result"
    }
   ],
   "source": [
    "%sql SET ROLE test_user_2;"
   ]
  },
  {
   "cell_type": "code",
   "execution_count": 272,
   "id": "55ef2c65-6dfc-48ab-a2e8-fdabfb2d2573",
   "metadata": {},
   "outputs": [
    {
     "name": "stdout",
     "output_type": "stream",
     "text": [
      " * postgresql://postgres@localhost/mydb\n",
      "(psycopg2.errors.InsufficientPrivilege) HATA:  privilege_references_example tablosunun sahibi olmalısınız\n",
      "\n",
      "[SQL: DROP TABLE IF EXISTS privilege_references_example;]\n",
      "(Background on this error at: https://sqlalche.me/e/20/f405)\n"
     ]
    }
   ],
   "source": [
    "%%sql\n",
    "DROP TABLE IF EXISTS privilege_references_example;\n",
    "CREATE TABLE privilege_references_example (\n",
    "    id integer,\n",
    "    privilege_example_id integer REFERENCES privilege_example(id)\n",
    ");"
   ]
  },
  {
   "cell_type": "markdown",
   "id": "15950b83-ca64-4fdb-bafc-ea9bbd95a1cf",
   "metadata": {},
   "source": [
    "###### Attempting to give reference without REFERENCES privilege"
   ]
  },
  {
   "cell_type": "code",
   "execution_count": 273,
   "id": "6902feec-17f6-48f0-9f75-2aec8090c466",
   "metadata": {},
   "outputs": [
    {
     "name": "stdout",
     "output_type": "stream",
     "text": [
      " * postgresql://postgres@localhost/mydb\n",
      "Done.\n",
      "(psycopg2.errors.InsufficientPrivilege) HATA:  privilege_references_example tablosunun sahibi olmalısınız\n",
      "\n",
      "[SQL: DROP TABLE IF EXISTS privilege_references_example;]\n",
      "(Background on this error at: https://sqlalche.me/e/20/f405)\n"
     ]
    }
   ],
   "source": [
    "%%sql\n",
    "SET ROLE test_user_2;\n",
    "DROP TABLE IF EXISTS privilege_references_example;\n",
    "SET ROLE test_user;\n",
    "DROP TABLE IF EXISTS privilege_example;\n",
    "CREATE TABLE privilege_example (\n",
    "    id integer PRIMARY KEY,\n",
    "    username text,\n",
    "    role text\n",
    ");"
   ]
  },
  {
   "cell_type": "code",
   "execution_count": 274,
   "id": "576dbbad-fc88-4370-87e1-0807c81f1c0e",
   "metadata": {},
   "outputs": [
    {
     "name": "stdout",
     "output_type": "stream",
     "text": [
      " * postgresql://postgres@localhost/mydb\n",
      "Done.\n"
     ]
    },
    {
     "data": {
      "text/plain": [
       "[]"
      ]
     },
     "execution_count": 274,
     "metadata": {},
     "output_type": "execute_result"
    }
   ],
   "source": [
    "%sql SET ROLE test_user_2;"
   ]
  },
  {
   "cell_type": "markdown",
   "id": "5ac09dba-f386-43d3-b1f5-a5f5ba0fadf3",
   "metadata": {},
   "source": [
    "- See that references raises error."
   ]
  },
  {
   "cell_type": "code",
   "execution_count": 275,
   "id": "56fd2689-634a-4813-a91a-c8fde7334c5c",
   "metadata": {},
   "outputs": [
    {
     "name": "stdout",
     "output_type": "stream",
     "text": [
      " * postgresql://postgres@localhost/mydb\n",
      "(psycopg2.errors.InsufficientPrivilege) HATA:  privilege_references_example tablosunun sahibi olmalısınız\n",
      "\n",
      "[SQL: DROP TABLE IF EXISTS privilege_references_example;]\n",
      "(Background on this error at: https://sqlalche.me/e/20/f405)\n"
     ]
    }
   ],
   "source": [
    "%%sql\n",
    "DROP TABLE IF EXISTS privilege_references_example;\n",
    "CREATE TABLE privilege_references_example (\n",
    "    id integer,\n",
    "    privilege_example_id integer REFERENCES privilege_example (id)\n",
    ");"
   ]
  },
  {
   "cell_type": "markdown",
   "id": "180b9ddf-87e1-40c9-af11-9db53b023469",
   "metadata": {},
   "source": [
    "###### Granting REFERENCES for column"
   ]
  },
  {
   "cell_type": "code",
   "execution_count": 276,
   "id": "528981c2-cc46-49a0-873c-e57f413f4470",
   "metadata": {},
   "outputs": [
    {
     "name": "stdout",
     "output_type": "stream",
     "text": [
      " * postgresql://postgres@localhost/mydb\n",
      "Done.\n",
      "(psycopg2.errors.InsufficientPrivilege) HATA:  privilege_references_example tablosunun sahibi olmalısınız\n",
      "\n",
      "[SQL: DROP TABLE IF EXISTS privilege_references_example;]\n",
      "(Background on this error at: https://sqlalche.me/e/20/f405)\n"
     ]
    }
   ],
   "source": [
    "%%sql\n",
    "SET ROLE test_user_2;\n",
    "DROP TABLE IF EXISTS privilege_references_example;\n",
    "SET ROLE test_user;\n",
    "DROP TABLE IF EXISTS privilege_example;\n",
    "CREATE TABLE privilege_example (\n",
    "    id integer PRIMARY KEY,\n",
    "    username text UNIQUE,\n",
    "    role text\n",
    ");"
   ]
  },
  {
   "cell_type": "code",
   "execution_count": 277,
   "id": "3788947b-f8f0-4dbd-b979-454fd797a8f4",
   "metadata": {},
   "outputs": [
    {
     "name": "stdout",
     "output_type": "stream",
     "text": [
      " * postgresql://postgres@localhost/mydb\n",
      "(psycopg2.errors.InsufficientPrivilege) HATA:  \"privilege_example\" nesnesinin \"id\" sütununa erişim engellendi\n",
      "\n",
      "[SQL: GRANT REFERENCES (id) ON privilege_example TO test_user_2;]\n",
      "(Background on this error at: https://sqlalche.me/e/20/f405)\n"
     ]
    }
   ],
   "source": [
    "%sql GRANT REFERENCES (id) ON privilege_example TO test_user_2;"
   ]
  },
  {
   "cell_type": "code",
   "execution_count": 278,
   "id": "e9ef9584-08f2-4337-a350-15f89a6c8515",
   "metadata": {},
   "outputs": [
    {
     "name": "stdout",
     "output_type": "stream",
     "text": [
      " * postgresql://postgres@localhost/mydb\n",
      "Done.\n"
     ]
    },
    {
     "data": {
      "text/plain": [
       "[]"
      ]
     },
     "execution_count": 278,
     "metadata": {},
     "output_type": "execute_result"
    }
   ],
   "source": [
    "%sql SET ROLE test_user_2;"
   ]
  },
  {
   "cell_type": "markdown",
   "id": "09b4e8df-7dac-49e2-a309-37dfb090b0a3",
   "metadata": {},
   "source": [
    "- Reference constraint was added without error because references were granted for the id column."
   ]
  },
  {
   "cell_type": "code",
   "execution_count": 279,
   "id": "e8edfcdf-06ab-48eb-bda3-a4c6329de16c",
   "metadata": {},
   "outputs": [
    {
     "name": "stdout",
     "output_type": "stream",
     "text": [
      " * postgresql://postgres@localhost/mydb\n",
      "(psycopg2.errors.InsufficientPrivilege) HATA:  privilege_references_example tablosunun sahibi olmalısınız\n",
      "\n",
      "[SQL: DROP TABLE IF EXISTS privilege_references_example;]\n",
      "(Background on this error at: https://sqlalche.me/e/20/f405)\n"
     ]
    }
   ],
   "source": [
    "%%sql\n",
    "DROP TABLE IF EXISTS privilege_references_example;\n",
    "CREATE TABLE privilege_references_example (\n",
    "    id integer,\n",
    "    privilege_example_id integer REFERENCES privilege_example(id)\n",
    ");"
   ]
  },
  {
   "cell_type": "markdown",
   "id": "2cae18a6-52a2-4636-b9c2-df2ad68e5c49",
   "metadata": {},
   "source": [
    "- Error raised when adding reference constraint because references were not granted for the username column."
   ]
  },
  {
   "cell_type": "code",
   "execution_count": 280,
   "id": "b9e21afe-97ea-48f4-aa88-01ab4e1b2a45",
   "metadata": {},
   "outputs": [
    {
     "name": "stdout",
     "output_type": "stream",
     "text": [
      " * postgresql://postgres@localhost/mydb\n",
      "(psycopg2.errors.InsufficientPrivilege) HATA:  privilege_references_example tablosunun sahibi olmalısınız\n",
      "\n",
      "[SQL: DROP TABLE IF EXISTS privilege_references_example;]\n",
      "(Background on this error at: https://sqlalche.me/e/20/f405)\n"
     ]
    }
   ],
   "source": [
    "%%sql\n",
    "DROP TABLE IF EXISTS privilege_references_example;\n",
    "CREATE TABLE privilege_references_example (\n",
    "    id integer,\n",
    "    privilege_example_username text REFERENCES privilege_example(username)\n",
    ");"
   ]
  },
  {
   "cell_type": "markdown",
   "id": "107d46c0-d0bb-4bad-8131-db47d6df9edf",
   "metadata": {},
   "source": [
    "##### Granting TRIGGER privileges"
   ]
  },
  {
   "cell_type": "markdown",
   "id": "9681c533-1004-4efc-8289-b078d60f43c8",
   "metadata": {},
   "source": [
    "[TBA]"
   ]
  },
  {
   "cell_type": "markdown",
   "id": "252c1ad2-d4cd-47e6-93e3-90981e327b0b",
   "metadata": {
    "jp-MarkdownHeadingCollapsed": true
   },
   "source": [
    "##### Granting CREATE privileges"
   ]
  },
  {
   "cell_type": "markdown",
   "id": "b25b6c04-a468-4104-ad32-162a1300ecb9",
   "metadata": {},
   "source": [
    "- For databases, allows new schemas and publications to be created within the database, and allows trusted extensions to be installed within the database.\n",
    "- For schemas, allows new objects to be created within the schema.\n",
    "    - To rename an existing object, you must own the object and have this privilege for the containing schema.\n",
    "- For tablespaces, allows tables, indexes, and temporary files to be created within the tablespace, and allows databases to be created that have the tablespace as their default tablespace.\n",
    "- Note that revoking this privilege will not alter the existence or location of existing objects."
   ]
  },
  {
   "cell_type": "markdown",
   "id": "765c135f-5c7c-41d4-bdac-4e692ac179e8",
   "metadata": {},
   "source": [
    "###### Granting CREATE privileges for DATABASE"
   ]
  },
  {
   "cell_type": "markdown",
   "id": "18f6966b-4ad8-4b77-85d6-0754f44c9d6f",
   "metadata": {},
   "source": [
    "[TBA]"
   ]
  },
  {
   "cell_type": "markdown",
   "id": "ba143c75-8034-46f5-bb49-bf25116ee58a",
   "metadata": {},
   "source": [
    "###### Granting CREATE privileges for SCHEMA"
   ]
  },
  {
   "cell_type": "markdown",
   "id": "9c9144a8-a538-4438-961a-782d8ad1418d",
   "metadata": {},
   "source": [
    "[TBA]"
   ]
  },
  {
   "cell_type": "markdown",
   "id": "214b585c-da5c-4656-8c95-f899f228afdf",
   "metadata": {},
   "source": [
    "###### Granting CREATE privileges for TABLESPACE"
   ]
  },
  {
   "cell_type": "markdown",
   "id": "f6a33a2e-c8c9-4b62-a342-359689a975a3",
   "metadata": {},
   "source": [
    "[TBA]"
   ]
  },
  {
   "cell_type": "markdown",
   "id": "9b8e85ce-71f1-4cd0-815c-b29d26eb7ab3",
   "metadata": {},
   "source": [
    "##### Granting TEMPORARY privileges"
   ]
  },
  {
   "cell_type": "markdown",
   "id": "faed3694-9308-4928-96d1-9cf960771e68",
   "metadata": {},
   "source": [
    "[TBA]"
   ]
  },
  {
   "cell_type": "markdown",
   "id": "74586970-6d41-4edb-a69e-e2a9b8a4eea0",
   "metadata": {},
   "source": [
    "##### Granting EXECUTE privileges"
   ]
  },
  {
   "cell_type": "markdown",
   "id": "8256c262-0edc-4f58-995a-c1ba10e32d32",
   "metadata": {},
   "source": [
    "[TBA]"
   ]
  },
  {
   "cell_type": "markdown",
   "id": "874ad2f0-e222-4bab-9841-5c4a3b870811",
   "metadata": {},
   "source": [
    "##### Granting USAGE privileges"
   ]
  },
  {
   "cell_type": "markdown",
   "id": "c25bb2b2-c66d-48d1-a663-16465e1aae11",
   "metadata": {},
   "source": [
    "[TBA]"
   ]
  },
  {
   "cell_type": "markdown",
   "id": "71c03dd7-ae91-4467-8908-cc7fbfedcbaf",
   "metadata": {},
   "source": [
    "##### Granting SET privileges"
   ]
  },
  {
   "cell_type": "markdown",
   "id": "b3161372-a43b-46c2-b21c-0c8e9ecf92c3",
   "metadata": {},
   "source": [
    "[TBA]"
   ]
  },
  {
   "cell_type": "markdown",
   "id": "9a689bdf-a3c6-48e7-9dde-d7a02fa510e3",
   "metadata": {},
   "source": [
    "##### Granting ALTER privileges"
   ]
  },
  {
   "cell_type": "markdown",
   "id": "94a4ae20-1bd2-4fea-8150-ea5472dfff0b",
   "metadata": {},
   "source": [
    "[TBA]"
   ]
  },
  {
   "cell_type": "markdown",
   "id": "fb1c8e1a-df30-4b00-b2dc-a59cbae7c31c",
   "metadata": {},
   "source": [
    "##### Granting MAINTAIN privileges"
   ]
  },
  {
   "cell_type": "markdown",
   "id": "9403ccbd-1dbf-4905-9541-1b7c31139b7c",
   "metadata": {},
   "source": [
    "[TBA]"
   ]
  },
  {
   "cell_type": "markdown",
   "id": "a3d98004-13ce-4e00-a7be-0c9e55d504e8",
   "metadata": {},
   "source": [
    "#### Revoking privileges"
   ]
  },
  {
   "cell_type": "markdown",
   "id": "39eb9334-3e41-4156-8953-4f7e24681829",
   "metadata": {},
   "source": [
    "- Ownership can not be revoked. To change ownership you must use:\n",
    "    ```sql\n",
    "        ALTER TABLE privilege_example OWNER TO postgres;\n",
    "    ```\n",
    "- If privileges are revoked, dependent objects such as views, functions and foreign keys may break.\n",
    "    - Check dependent views, functions and foreign keys before revoking.\n",
    "- If a role was granted privileges using `WITH GRANT OPTION`, they might have granted these privileges to others.\n",
    "    - In this case when you revoke privileges from a role, other roles which granted by that role also revoked cascaded.\n",
    "    - So you should be careful when revoking privileges includes `WITH GRAND OPTION`. Inspect all roles which privileged for database object.\n",
    "- If a privilege was granted to PUBLIC, revoking it from an individual user will not be effective.\n",
    "    - To remove a privilege from PUBLIC:\n",
    "    ```sql\n",
    "        REVOKE SELECT ON table_name FROM PUBLIC;\n",
    "    ```\n",
    "- If a user has superuser privileges, using REVOKE will not be effective.\n",
    "    - To remove superuser privileges:\n",
    "    ```sql\n",
    "        ALTER ROLE some_user NOSUPERUSER;\n",
    "    ```\n",
    "- You can revoke the privileges from owner table.\n",
    "    - Since the owner has grant authority, they can re-grant privileges.\n",
    "- Examples will focus on the SELECT privilege, but the same principles apply to other privileges. Special cases will be explicitly specified."
   ]
  },
  {
   "cell_type": "markdown",
   "id": "dd9a3183-a71d-414c-a414-ecfb6d75785f",
   "metadata": {},
   "source": [
    "##### Changing owner"
   ]
  },
  {
   "cell_type": "code",
   "execution_count": 281,
   "id": "10624c39-4fc2-4f1c-974a-12e575ae29e2",
   "metadata": {},
   "outputs": [
    {
     "name": "stdout",
     "output_type": "stream",
     "text": [
      " * postgresql://postgres@localhost/mydb\n",
      "Done.\n",
      "Done.\n",
      "Done.\n"
     ]
    },
    {
     "data": {
      "text/plain": [
       "[]"
      ]
     },
     "execution_count": 281,
     "metadata": {},
     "output_type": "execute_result"
    }
   ],
   "source": [
    "%%sql\n",
    "SET ROLE test_user;\n",
    "DROP TABLE IF EXISTS privilege_example;\n",
    "CREATE TABLE privilege_example (\n",
    "    id integer\n",
    ");"
   ]
  },
  {
   "cell_type": "code",
   "execution_count": 282,
   "id": "21b6c858-75f0-49db-95f9-a1d71490311d",
   "metadata": {},
   "outputs": [
    {
     "name": "stdout",
     "output_type": "stream",
     "text": [
      " * postgresql://postgres@localhost/mydb\n",
      "Done.\n",
      "1 rows affected.\n"
     ]
    },
    {
     "data": {
      "text/html": [
       "<table>\n",
       "    <thead>\n",
       "        <tr>\n",
       "            <th>tablename</th>\n",
       "            <th>tableowner</th>\n",
       "        </tr>\n",
       "    </thead>\n",
       "    <tbody>\n",
       "        <tr>\n",
       "            <td>privilege_example</td>\n",
       "            <td>test_user</td>\n",
       "        </tr>\n",
       "    </tbody>\n",
       "</table>"
      ],
      "text/plain": [
       "[('privilege_example', 'test_user')]"
      ]
     },
     "execution_count": 282,
     "metadata": {},
     "output_type": "execute_result"
    }
   ],
   "source": [
    "%%sql \n",
    "SET ROLE postgres;\n",
    "SELECT tablename, tableowner FROM pg_tables WHERE tablename = 'privilege_example' AND schemaname = 'public';"
   ]
  },
  {
   "cell_type": "markdown",
   "id": "1b6f58d5-21f5-47b9-821a-7702ef01a161",
   "metadata": {},
   "source": [
    "- See that owner changed to `test_user_2`."
   ]
  },
  {
   "cell_type": "code",
   "execution_count": 283,
   "id": "f7906751-a75f-4e08-8c69-487191f22e3e",
   "metadata": {},
   "outputs": [
    {
     "name": "stdout",
     "output_type": "stream",
     "text": [
      " * postgresql://postgres@localhost/mydb\n",
      "Done.\n",
      "Done.\n",
      "1 rows affected.\n"
     ]
    },
    {
     "data": {
      "text/html": [
       "<table>\n",
       "    <thead>\n",
       "        <tr>\n",
       "            <th>tablename</th>\n",
       "            <th>tableowner</th>\n",
       "        </tr>\n",
       "    </thead>\n",
       "    <tbody>\n",
       "        <tr>\n",
       "            <td>privilege_example</td>\n",
       "            <td>test_user_2</td>\n",
       "        </tr>\n",
       "    </tbody>\n",
       "</table>"
      ],
      "text/plain": [
       "[('privilege_example', 'test_user_2')]"
      ]
     },
     "execution_count": 283,
     "metadata": {},
     "output_type": "execute_result"
    }
   ],
   "source": [
    "%%sql \n",
    "SET ROLE postgres;\n",
    "ALTER TABLE privilege_example OWNER TO test_user_2;\n",
    "SELECT tablename, tableowner FROM pg_tables WHERE tablename = 'privilege_example' AND schemaname = 'public';"
   ]
  },
  {
   "cell_type": "markdown",
   "id": "82cbfbfa-2b50-47ae-8db6-32154b6edff9",
   "metadata": {},
   "source": [
    "##### Revoking SELECT privilege"
   ]
  },
  {
   "cell_type": "code",
   "execution_count": 284,
   "id": "9d9a1651-cb03-4312-9a9f-e4933154351f",
   "metadata": {},
   "outputs": [
    {
     "name": "stdout",
     "output_type": "stream",
     "text": [
      " * postgresql://postgres@localhost/mydb\n",
      "Done.\n",
      "Done.\n",
      "Done.\n",
      "Done.\n",
      "Done.\n"
     ]
    },
    {
     "data": {
      "text/plain": [
       "[]"
      ]
     },
     "execution_count": 284,
     "metadata": {},
     "output_type": "execute_result"
    }
   ],
   "source": [
    "%%sql\n",
    "SET ROLE postgres;\n",
    "ALTER TABLE IF EXISTS privilege_example OWNER TO test_user;\n",
    "SET ROLE test_user;\n",
    "DROP TABLE IF EXISTS privilege_example;\n",
    "CREATE TABLE privilege_example (\n",
    "    id integer\n",
    ");"
   ]
  },
  {
   "cell_type": "code",
   "execution_count": 285,
   "id": "f18c9ef5-fd32-40c7-a184-1309c19109e9",
   "metadata": {},
   "outputs": [
    {
     "name": "stdout",
     "output_type": "stream",
     "text": [
      " * postgresql://postgres@localhost/mydb\n",
      "Done.\n"
     ]
    },
    {
     "data": {
      "text/plain": [
       "[]"
      ]
     },
     "execution_count": 285,
     "metadata": {},
     "output_type": "execute_result"
    }
   ],
   "source": [
    "%sql GRANT SELECT ON privilege_example TO test_user_2;"
   ]
  },
  {
   "cell_type": "markdown",
   "id": "f3ff663f-8a06-4850-b7c2-a0e0f7fbec77",
   "metadata": {},
   "source": [
    "- See that SELECT privilege granted for `test_user_2`."
   ]
  },
  {
   "cell_type": "code",
   "execution_count": 286,
   "id": "f3f93cf2-9863-422f-8270-34701ac1027c",
   "metadata": {},
   "outputs": [
    {
     "name": "stdout",
     "output_type": "stream",
     "text": [
      " * postgresql://postgres@localhost/mydb\n",
      "1 rows affected.\n"
     ]
    },
    {
     "data": {
      "text/html": [
       "<table>\n",
       "    <thead>\n",
       "        <tr>\n",
       "            <th>grantee</th>\n",
       "            <th>privilege_type</th>\n",
       "        </tr>\n",
       "    </thead>\n",
       "    <tbody>\n",
       "        <tr>\n",
       "            <td>test_user_2</td>\n",
       "            <td>SELECT</td>\n",
       "        </tr>\n",
       "    </tbody>\n",
       "</table>"
      ],
      "text/plain": [
       "[('test_user_2', 'SELECT')]"
      ]
     },
     "execution_count": 286,
     "metadata": {},
     "output_type": "execute_result"
    }
   ],
   "source": [
    "%sql SELECT grantee, privilege_type FROM information_schema.role_table_grants WHERE table_name = 'privilege_example' AND grantee = 'test_user_2';"
   ]
  },
  {
   "cell_type": "code",
   "execution_count": 287,
   "id": "9c45c8cc-44fe-4098-827d-345dc52b0545",
   "metadata": {},
   "outputs": [
    {
     "name": "stdout",
     "output_type": "stream",
     "text": [
      " * postgresql://postgres@localhost/mydb\n",
      "Done.\n"
     ]
    },
    {
     "data": {
      "text/plain": [
       "[]"
      ]
     },
     "execution_count": 287,
     "metadata": {},
     "output_type": "execute_result"
    }
   ],
   "source": [
    "%sql REVOKE SELECT ON privilege_example FROM test_user_2;"
   ]
  },
  {
   "cell_type": "markdown",
   "id": "294ea22a-0490-4685-8a1c-086673b671b1",
   "metadata": {},
   "source": [
    "- See that privilege has been removed from `test_user_2`."
   ]
  },
  {
   "cell_type": "code",
   "execution_count": 288,
   "id": "3ae0dd14-6c72-42b2-98cc-d05ac20c5799",
   "metadata": {},
   "outputs": [
    {
     "name": "stdout",
     "output_type": "stream",
     "text": [
      " * postgresql://postgres@localhost/mydb\n",
      "0 rows affected.\n"
     ]
    },
    {
     "data": {
      "text/html": [
       "<table>\n",
       "    <thead>\n",
       "        <tr>\n",
       "            <th>grantee</th>\n",
       "            <th>privilege_type</th>\n",
       "        </tr>\n",
       "    </thead>\n",
       "    <tbody>\n",
       "    </tbody>\n",
       "</table>"
      ],
      "text/plain": [
       "[]"
      ]
     },
     "execution_count": 288,
     "metadata": {},
     "output_type": "execute_result"
    }
   ],
   "source": [
    "%sql SELECT grantee, privilege_type FROM information_schema.role_table_grants WHERE table_name = 'privilege_example' AND grantee = 'test_user_2';"
   ]
  },
  {
   "cell_type": "markdown",
   "id": "e212891f-8fa1-482c-9eeb-76197da89272",
   "metadata": {},
   "source": [
    "##### Revoking privilege with dependent view"
   ]
  },
  {
   "cell_type": "markdown",
   "id": "cf7ae453-0abb-467f-9095-b215acb85571",
   "metadata": {},
   "source": [
    "- If you created any view from table, when you want to remove table you should first remove the view.\n",
    "    - Otherwise you will get dependency error. "
   ]
  },
  {
   "cell_type": "code",
   "execution_count": 289,
   "id": "6008f101-b9b1-4774-b792-56ef325b7389",
   "metadata": {},
   "outputs": [
    {
     "name": "stdout",
     "output_type": "stream",
     "text": [
      " * postgresql://postgres@localhost/mydb\n",
      "Done.\n",
      "Done.\n",
      "Done.\n",
      "Done.\n",
      "Done.\n",
      "Done.\n"
     ]
    },
    {
     "data": {
      "text/plain": [
       "[]"
      ]
     },
     "execution_count": 289,
     "metadata": {},
     "output_type": "execute_result"
    }
   ],
   "source": [
    "%%sql\n",
    "SET ROLE postgres;\n",
    "ALTER TABLE IF EXISTS privilege_example OWNER TO test_user;\n",
    "SET ROLE test_user;\n",
    "DROP TABLE IF EXISTS privilege_example;\n",
    "CREATE TABLE privilege_example (\n",
    "    id integer\n",
    ");\n",
    "CREATE VIEW privilege_view_example AS \n",
    "    SELECT * FROM privilege_example;"
   ]
  },
  {
   "cell_type": "markdown",
   "id": "c6aec36a-abfd-43a2-a7a6-b8d34462949c",
   "metadata": {},
   "source": [
    "- To find dependent views created from table `pg_views` used."
   ]
  },
  {
   "cell_type": "code",
   "execution_count": 290,
   "id": "b14daf0d-a0eb-4c89-a6be-9b4abc10a5fe",
   "metadata": {},
   "outputs": [
    {
     "name": "stdout",
     "output_type": "stream",
     "text": [
      " * postgresql://postgres@localhost/mydb\n",
      "1 rows affected.\n"
     ]
    },
    {
     "data": {
      "text/html": [
       "<table>\n",
       "    <thead>\n",
       "        <tr>\n",
       "            <th>viewname</th>\n",
       "        </tr>\n",
       "    </thead>\n",
       "    <tbody>\n",
       "        <tr>\n",
       "            <td>privilege_view_example</td>\n",
       "        </tr>\n",
       "    </tbody>\n",
       "</table>"
      ],
      "text/plain": [
       "[('privilege_view_example',)]"
      ]
     },
     "execution_count": 290,
     "metadata": {},
     "output_type": "execute_result"
    }
   ],
   "source": [
    "%sql SELECT viewname FROM pg_views WHERE definition LIKE '%privilege_example%';"
   ]
  },
  {
   "cell_type": "markdown",
   "id": "918e2f3d-0f03-41f3-8796-4d16f4d45a23",
   "metadata": {},
   "source": [
    "- See that attempting to drop table raises error."
   ]
  },
  {
   "cell_type": "code",
   "execution_count": 291,
   "id": "e354cf62-8873-49ef-8fab-78e2187b0df5",
   "metadata": {},
   "outputs": [
    {
     "name": "stdout",
     "output_type": "stream",
     "text": [
      " * postgresql://postgres@localhost/mydb\n",
      "(psycopg2.errors.DependentObjectsStillExist) HATA:  diğer nesnelerin ona bağlı olması nedeniyle privilege_example tablosu kaldırılamıyor\n",
      "DETAIL:  privilege_view_example view, privilege_example tablosu nesnesine bağlıdır\n",
      "HINT:  Bağlı nesneleri de kaldırmak için DROP ... CASCADE kullanın.\n",
      "\n",
      "[SQL: DROP TABLE IF EXISTS privilege_example;]\n",
      "(Background on this error at: https://sqlalche.me/e/20/2j85)\n"
     ]
    }
   ],
   "source": [
    "%sql DROP TABLE IF EXISTS privilege_example;"
   ]
  },
  {
   "cell_type": "markdown",
   "id": "3425ab1f-4eec-4377-941d-b9143933f2d3",
   "metadata": {},
   "source": [
    "- When removing view first then removing table will be successful."
   ]
  },
  {
   "cell_type": "code",
   "execution_count": 292,
   "id": "7319c873-d482-4226-9965-e22ff0cbd5a8",
   "metadata": {},
   "outputs": [
    {
     "name": "stdout",
     "output_type": "stream",
     "text": [
      " * postgresql://postgres@localhost/mydb\n",
      "Done.\n",
      "Done.\n"
     ]
    },
    {
     "data": {
      "text/plain": [
       "[]"
      ]
     },
     "execution_count": 292,
     "metadata": {},
     "output_type": "execute_result"
    }
   ],
   "source": [
    "%%sql\n",
    "DROP VIEW IF EXISTS privilege_view_example;\n",
    "DROP TABLE IF EXISTS privilege_example;"
   ]
  },
  {
   "cell_type": "markdown",
   "id": "2a68bc35-430b-4348-8e16-5372a35fefad",
   "metadata": {},
   "source": [
    "##### Revoking privilege with dependent function"
   ]
  },
  {
   "cell_type": "markdown",
   "id": "a6878f11-aa6f-422d-a979-a2d1e7ce6a14",
   "metadata": {},
   "source": [
    "- Revoking a table that is used in any function does not restrict the revoking operation.\n",
    "    - You can revoke privileges or drop table without getting error.\n",
    "    - But after revoke priveileges or remove table, calling function raises error.\n",
    "- When removing a table or revoke privileges from a table to prevent errors when calling a function,\n",
    "    - You should either manually manage the functions (remove or change the referenced table):\n",
    "        - If you remove a table:\n",
    "            - You may change function body to remove usage of table or use different table.\n",
    "            - You may remove the function.\n",
    "                - You may remove function manually before removing table.\n",
    "                - You may remove table with CASCADE option.\n",
    "        - If you revoke privileges from table:\n",
    "            - You may revoke the execute privilege from function.\n",
    "                - Note in postgres functions execution granted to public as default.\n",
    "                - So you should revoke execute privilege from public.\n",
    "                - Also if there are any grant privilege on function for interested role, revoke them.\n",
    "            - You may remove the function."
   ]
  },
  {
   "cell_type": "code",
   "execution_count": 293,
   "id": "e085151f-81e0-42bc-84f7-e86289173603",
   "metadata": {},
   "outputs": [
    {
     "name": "stdout",
     "output_type": "stream",
     "text": [
      " * postgresql://postgres@localhost/mydb\n",
      "Done.\n",
      "Done.\n",
      "Done.\n",
      "Done.\n",
      "Done.\n",
      "Done.\n",
      "1 rows affected.\n",
      "Done.\n"
     ]
    },
    {
     "data": {
      "text/plain": [
       "[]"
      ]
     },
     "execution_count": 293,
     "metadata": {},
     "output_type": "execute_result"
    }
   ],
   "source": [
    "%%sql\n",
    "SET ROLE postgres;\n",
    "ALTER TABLE IF EXISTS privilege_example OWNER TO test_user;\n",
    "DROP FUNCTION IF EXISTS get_user_name;\n",
    "SET ROLE test_user;\n",
    "DROP TABLE IF EXISTS privilege_example;\n",
    "CREATE TABLE privilege_example (\n",
    "    id integer,\n",
    "    username text\n",
    ");\n",
    "INSERT INTO privilege_example VALUES (1, 'first-user');\n",
    "CREATE OR REPLACE FUNCTION get_user_name(user_id INT)\n",
    "RETURNS TEXT AS $$\n",
    "DECLARE\n",
    "    user_name TEXT;\n",
    "BEGIN\n",
    "    SELECT username INTO user_name\n",
    "    FROM privilege_example\n",
    "    WHERE id = user_id;\n",
    "\n",
    "    RETURN user_name;\n",
    "END;\n",
    "$$ LANGUAGE plpgsql;"
   ]
  },
  {
   "cell_type": "markdown",
   "id": "dfdd0f19-57b8-4d33-8d0c-42eeebca2711",
   "metadata": {},
   "source": [
    "- To find dependent function contains table `pg_proc` used."
   ]
  },
  {
   "cell_type": "code",
   "execution_count": 294,
   "id": "4fb9c86c-b7df-4dd6-bb1e-75d97af9428c",
   "metadata": {},
   "outputs": [
    {
     "name": "stdout",
     "output_type": "stream",
     "text": [
      " * postgresql://postgres@localhost/mydb\n",
      "1 rows affected.\n"
     ]
    },
    {
     "data": {
      "text/html": [
       "<table>\n",
       "    <thead>\n",
       "        <tr>\n",
       "            <th>proname</th>\n",
       "        </tr>\n",
       "    </thead>\n",
       "    <tbody>\n",
       "        <tr>\n",
       "            <td>get_user_name</td>\n",
       "        </tr>\n",
       "    </tbody>\n",
       "</table>"
      ],
      "text/plain": [
       "[('get_user_name',)]"
      ]
     },
     "execution_count": 294,
     "metadata": {},
     "output_type": "execute_result"
    }
   ],
   "source": [
    "%sql SELECT proname FROM pg_proc WHERE prosrc LIKE '%privilege_example%';"
   ]
  },
  {
   "cell_type": "markdown",
   "id": "6b9addd7-b750-4e01-9e93-96303c788068",
   "metadata": {},
   "source": [
    "- Calling function successfully."
   ]
  },
  {
   "cell_type": "code",
   "execution_count": 295,
   "id": "0dae9154-a09c-408d-9058-4205b38a423c",
   "metadata": {},
   "outputs": [
    {
     "name": "stdout",
     "output_type": "stream",
     "text": [
      " * postgresql://postgres@localhost/mydb\n",
      "1 rows affected.\n"
     ]
    },
    {
     "data": {
      "text/html": [
       "<table>\n",
       "    <thead>\n",
       "        <tr>\n",
       "            <th>get_user_name</th>\n",
       "        </tr>\n",
       "    </thead>\n",
       "    <tbody>\n",
       "        <tr>\n",
       "            <td>first-user</td>\n",
       "        </tr>\n",
       "    </tbody>\n",
       "</table>"
      ],
      "text/plain": [
       "[('first-user',)]"
      ]
     },
     "execution_count": 295,
     "metadata": {},
     "output_type": "execute_result"
    }
   ],
   "source": [
    "%sql SELECT get_user_name(1);"
   ]
  },
  {
   "cell_type": "code",
   "execution_count": 296,
   "id": "61213856-d6ee-4696-a271-d8d8a8f6bc66",
   "metadata": {},
   "outputs": [
    {
     "name": "stdout",
     "output_type": "stream",
     "text": [
      " * postgresql://postgres@localhost/mydb\n",
      "Done.\n"
     ]
    },
    {
     "data": {
      "text/plain": [
       "[]"
      ]
     },
     "execution_count": 296,
     "metadata": {},
     "output_type": "execute_result"
    }
   ],
   "source": [
    "%sql REVOKE SELECT ON privilege_example FROM test_user;"
   ]
  },
  {
   "cell_type": "markdown",
   "id": "fb9bfc8c-8e4b-4bfa-adc0-1c29689f09b3",
   "metadata": {},
   "source": [
    "- Calling function raises error because SELECT `privilege_example` privilege has been revoked from `test_user`."
   ]
  },
  {
   "cell_type": "code",
   "execution_count": 297,
   "id": "99d005b7-2e8a-40b3-ad15-b404ca9ad1ea",
   "metadata": {},
   "outputs": [
    {
     "name": "stdout",
     "output_type": "stream",
     "text": [
      " * postgresql://postgres@localhost/mydb\n",
      "(psycopg2.errors.InsufficientPrivilege) HATA:  privilege_example tablosuna erişim engellendi\n",
      "CONTEXT:  SQL deyimi: \"SELECT username                    FROM privilege_example\n",
      "    WHERE id = user_id\"\n",
      "get_user_name(integer) PL/pgSQL fonksiyonu, 5. satır, SQL ifadesi içinde\n",
      "\n",
      "[SQL: SELECT get_user_name(1);]\n",
      "(Background on this error at: https://sqlalche.me/e/20/f405)\n"
     ]
    }
   ],
   "source": [
    "%sql SELECT get_user_name(1);"
   ]
  },
  {
   "cell_type": "markdown",
   "id": "cd2a90b9-afdd-4bdd-9dfb-e739dc2d7007",
   "metadata": {},
   "source": [
    "- Listing all privileges on get_user_name function."
   ]
  },
  {
   "cell_type": "code",
   "execution_count": 298,
   "id": "535afe9c-8f2f-4383-ade8-780a96a2638c",
   "metadata": {},
   "outputs": [
    {
     "name": "stdout",
     "output_type": "stream",
     "text": [
      " * postgresql://postgres@localhost/mydb\n",
      "2 rows affected.\n"
     ]
    },
    {
     "data": {
      "text/html": [
       "<table>\n",
       "    <thead>\n",
       "        <tr>\n",
       "            <th>grantee</th>\n",
       "            <th>privilege_type</th>\n",
       "        </tr>\n",
       "    </thead>\n",
       "    <tbody>\n",
       "        <tr>\n",
       "            <td>PUBLIC</td>\n",
       "            <td>EXECUTE</td>\n",
       "        </tr>\n",
       "        <tr>\n",
       "            <td>test_user</td>\n",
       "            <td>EXECUTE</td>\n",
       "        </tr>\n",
       "    </tbody>\n",
       "</table>"
      ],
      "text/plain": [
       "[('PUBLIC', 'EXECUTE'), ('test_user', 'EXECUTE')]"
      ]
     },
     "execution_count": 298,
     "metadata": {},
     "output_type": "execute_result"
    }
   ],
   "source": [
    "%sql SELECT grantee, privilege_type FROM information_schema.role_routine_grants WHERE routine_name = 'get_user_name';"
   ]
  },
  {
   "cell_type": "markdown",
   "id": "5888a56b-0ef0-4f82-b1ab-aa44f5cd78cf",
   "metadata": {},
   "source": [
    "- Revoking privileges on get_username from public and test_user."
   ]
  },
  {
   "cell_type": "code",
   "execution_count": 299,
   "id": "ffe70164-4001-4b1e-a81f-728663169f2f",
   "metadata": {},
   "outputs": [
    {
     "name": "stdout",
     "output_type": "stream",
     "text": [
      " * postgresql://postgres@localhost/mydb\n",
      "Done.\n"
     ]
    },
    {
     "data": {
      "text/plain": [
       "[]"
      ]
     },
     "execution_count": 299,
     "metadata": {},
     "output_type": "execute_result"
    }
   ],
   "source": [
    "%sql REVOKE EXECUTE ON FUNCTION get_user_name FROM test_user, PUBLIC;"
   ]
  },
  {
   "cell_type": "markdown",
   "id": "e96f3a19-34af-4696-9e8b-5a5a5623be85",
   "metadata": {},
   "source": [
    "- When attempt to access get_user_name function access function error will be raised"
   ]
  },
  {
   "cell_type": "code",
   "execution_count": 300,
   "id": "133e9283-ea0c-4baa-a06c-d002e3c7ad66",
   "metadata": {},
   "outputs": [
    {
     "name": "stdout",
     "output_type": "stream",
     "text": [
      " * postgresql://postgres@localhost/mydb\n",
      "(psycopg2.errors.InsufficientPrivilege) HATA:  get_user_name fonksiyonuna erişim engellendi\n",
      "\n",
      "[SQL: SELECT get_user_name(1);]\n",
      "(Background on this error at: https://sqlalche.me/e/20/f405)\n"
     ]
    }
   ],
   "source": [
    "%sql SELECT get_user_name(1);"
   ]
  },
  {
   "cell_type": "markdown",
   "id": "5502777d-f6b2-435b-99b4-e4ac53722607",
   "metadata": {},
   "source": [
    "##### Revoking privilege with dependent foreign key"
   ]
  },
  {
   "cell_type": "markdown",
   "id": "f26567b8-51af-41b3-a584-80196ad5ff3c",
   "metadata": {},
   "source": [
    "- When revoking privileges on a table, if there are any foreign keys dependent on the table, it will raise an error.\n",
    "- To prevent this you may remove the foreign key constraints first.\n",
    "- When you deleting table with dependent foreign key constrainst, it also will raise an error.\n",
    "- To prevent this:\n",
    "    - You may remove the foreign key constraints first.\n",
    "    - Or you may remove the table with CASCADE option."
   ]
  },
  {
   "cell_type": "code",
   "execution_count": 301,
   "id": "5daaa46d-1c3a-4c04-bfa4-b21d440155e2",
   "metadata": {},
   "outputs": [
    {
     "name": "stdout",
     "output_type": "stream",
     "text": [
      " * postgresql://postgres@localhost/mydb\n",
      "Done.\n",
      "Done.\n",
      "Done.\n",
      "Done.\n",
      "Done.\n",
      "Done.\n",
      "Done.\n",
      "Done.\n",
      "1 rows affected.\n"
     ]
    },
    {
     "data": {
      "text/plain": [
       "[]"
      ]
     },
     "execution_count": 301,
     "metadata": {},
     "output_type": "execute_result"
    }
   ],
   "source": [
    "%%sql\n",
    "SET ROLE postgres;\n",
    "ALTER TABLE IF EXISTS privilege_example OWNER TO test_user;\n",
    "ALTER TABLE IF EXISTS privilege_references_example OWNER TO test_user;\n",
    "DROP FUNCTION IF EXISTS get_user_name;\n",
    "SET ROLE test_user;\n",
    "DROP TABLE IF EXISTS privilege_example, privilege_references_example CASCADE;\n",
    "CREATE TABLE privilege_example (\n",
    "    id integer PRIMARY KEY,\n",
    "    username text\n",
    ");\n",
    "CREATE TABLE privilege_references_example (\n",
    "    id integer,\n",
    "    privilege_example_id integer REFERENCES privilege_example(id)\n",
    ");\n",
    "INSERT INTO privilege_example VALUES (1, 'first-user');"
   ]
  },
  {
   "cell_type": "code",
   "execution_count": 302,
   "id": "5225c368-36e8-48bb-810b-c96a72a02051",
   "metadata": {},
   "outputs": [
    {
     "name": "stdout",
     "output_type": "stream",
     "text": [
      " * postgresql://postgres@localhost/mydb\n",
      "Done.\n"
     ]
    },
    {
     "data": {
      "text/plain": [
       "[]"
      ]
     },
     "execution_count": 302,
     "metadata": {},
     "output_type": "execute_result"
    }
   ],
   "source": [
    "%sql REVOKE SELECT ON privilege_example FROM test_user;"
   ]
  },
  {
   "cell_type": "markdown",
   "id": "f8cace7f-8e82-4d4b-b24d-d6ba28350e89",
   "metadata": {},
   "source": [
    "- When attempt to insert record which has foreign key value will raise error.\n",
    "- Because select privilege on privilege_example revoked for test_user."
   ]
  },
  {
   "cell_type": "code",
   "execution_count": 303,
   "id": "af548381-a311-45b0-97c3-f18894e93526",
   "metadata": {},
   "outputs": [
    {
     "name": "stdout",
     "output_type": "stream",
     "text": [
      " * postgresql://postgres@localhost/mydb\n",
      "(psycopg2.errors.InsufficientPrivilege) HATA:  privilege_example tablosuna erişim engellendi\n",
      "CONTEXT:  SQL deyimi: \"SELECT 1 FROM ONLY \"public\".\"privilege_example\" x WHERE \"id\" OPERATOR(pg_catalog.=) $1 FOR KEY SHARE OF x\"\n",
      "\n",
      "[SQL: INSERT INTO privilege_references_example VALUES (1, 1);]\n",
      "(Background on this error at: https://sqlalche.me/e/20/f405)\n"
     ]
    }
   ],
   "source": [
    "%sql INSERT INTO privilege_references_example VALUES (1, 1);"
   ]
  },
  {
   "cell_type": "markdown",
   "id": "2ae09007-7bee-4167-83ec-4cf0cc508984",
   "metadata": {},
   "source": [
    "#### DEFAULT PRIVILEGES"
   ]
  },
  {
   "cell_type": "markdown",
   "id": "3b930f9a-baeb-4bd2-8ff8-dbe8739ec941",
   "metadata": {},
   "source": [
    "- Removing default privileges do not automatically revoke privileges from existing tables. You must manually revoke privileges from database objects.\n",
    "    - For example you give INSERT privilege for all tables to a role: ```sql ALTER DEFAULT PRIVILEGES IN SCHEMA public GRANT INSERT ON TABLES TO test_user; ```\n",
    "    - After that you created some tables. Then revoked default privileges: ```sql ALTER DEFAULT PRIVILEGES IN SCHEMA public REVOKE INSERT ON TABLES TO test_user; ```\n",
    "    - Existing tables still have INSERT ON privileges, so if you want to revoke them you must do it manually."
   ]
  },
  {
   "cell_type": "markdown",
   "id": "3790a7cd-954d-4a06-bed4-76f3219df9f9",
   "metadata": {},
   "source": [
    "#### Privileges with WITH GRAND OPTION"
   ]
  },
  {
   "cell_type": "markdown",
   "id": "32983b69-0d06-41e4-9adc-47503cb5a9e2",
   "metadata": {},
   "source": [
    "- `WITH GRAND OPTION` gives user a privilege to grant another users.\n",
    "    - When `test_user` granted privilege of `test_user_2` with `WITH GRANT OPTION`, `test_user_2` have privilege to grant another roles.\n",
    "- Privilege chain case:\n",
    "    - `test_user` granted privilege for `test_user_2` with `WITH GRANT OPTION`.\n",
    "    - `test_user_2` granted privilege for `test_user_3`.\n",
    "    - When revoking `WITH GRANT OPTION` privilege or completely given privilege from `test_user_2`, it also revoke privilege from `test_user_3`."
   ]
  },
  {
   "cell_type": "markdown",
   "id": "2d369cb0-df17-4e49-b821-c7c8fa1a1728",
   "metadata": {},
   "source": [
    "###### WITH GRANT OPTION"
   ]
  },
  {
   "cell_type": "code",
   "execution_count": 304,
   "id": "3e4fd251-5565-4ea8-9b59-33f17988e241",
   "metadata": {},
   "outputs": [
    {
     "name": "stdout",
     "output_type": "stream",
     "text": [
      " * postgresql://postgres@localhost/mydb\n",
      "Done.\n",
      "Done.\n",
      "Done.\n",
      "Done.\n",
      "Done.\n",
      "Done.\n"
     ]
    },
    {
     "data": {
      "text/plain": [
       "[]"
      ]
     },
     "execution_count": 304,
     "metadata": {},
     "output_type": "execute_result"
    }
   ],
   "source": [
    "%%sql\n",
    "SET ROLE postgres;\n",
    "ALTER TABLE IF EXISTS privilege_example OWNER TO test_user;\n",
    "DROP FUNCTION IF EXISTS get_user_name;\n",
    "DROP TABLE IF EXISTS privilege_example CASCADE;\n",
    "SET ROLE test_user;\n",
    "CREATE TABLE privilege_example (\n",
    "    id integer,\n",
    "    username text\n",
    ");"
   ]
  },
  {
   "cell_type": "code",
   "execution_count": 101,
   "id": "c61819b5-e221-46c5-b89b-dbe19539c247",
   "metadata": {},
   "outputs": [
    {
     "name": "stdout",
     "output_type": "stream",
     "text": [
      " * postgresql://postgres@localhost/mydb\n",
      "(psycopg2.errors.InsufficientPrivilege) HATA:  \"test_user\" rolü ayarlanması engellendi\n",
      "\n",
      "[SQL: SET ROLE test_user;]\n",
      "(Background on this error at: https://sqlalche.me/e/20/f405)\n"
     ]
    }
   ],
   "source": [
    "%%sql\n",
    "SET ROLE test_user;\n",
    "GRANT SELECT ON privilege_example TO test_user_2 WITH GRANT OPTION;\n",
    "SET ROLE test_user_2;\n",
    "GRANT SELECT ON privilege_example TO test_user_3;\n",
    "SET ROLE postgres;"
   ]
  },
  {
   "cell_type": "markdown",
   "id": "7f955351-155d-4ddd-9329-66930c3cb09e",
   "metadata": {},
   "source": [
    "- `test_user_2` and `test_user_3` have select privileges.\n",
    "- select privilege of `test_user_2` is also grantable. "
   ]
  },
  {
   "cell_type": "code",
   "execution_count": 306,
   "id": "a8fb3b75-daa4-48d2-9435-634545dfefd1",
   "metadata": {},
   "outputs": [
    {
     "name": "stdout",
     "output_type": "stream",
     "text": [
      " * postgresql://postgres@localhost/mydb\n",
      "2 rows affected.\n"
     ]
    },
    {
     "data": {
      "text/html": [
       "<table>\n",
       "    <thead>\n",
       "        <tr>\n",
       "            <th>grantee</th>\n",
       "            <th>privilege_type</th>\n",
       "            <th>is_grantable</th>\n",
       "        </tr>\n",
       "    </thead>\n",
       "    <tbody>\n",
       "        <tr>\n",
       "            <td>test_user_2</td>\n",
       "            <td>SELECT</td>\n",
       "            <td>YES</td>\n",
       "        </tr>\n",
       "        <tr>\n",
       "            <td>test_user_3</td>\n",
       "            <td>SELECT</td>\n",
       "            <td>NO</td>\n",
       "        </tr>\n",
       "    </tbody>\n",
       "</table>"
      ],
      "text/plain": [
       "[('test_user_2', 'SELECT', 'YES'), ('test_user_3', 'SELECT', 'NO')]"
      ]
     },
     "execution_count": 306,
     "metadata": {},
     "output_type": "execute_result"
    }
   ],
   "source": [
    "%%sql \n",
    "SELECT grantee, privilege_type, is_grantable \n",
    "    FROM information_schema.role_table_grants \n",
    "    WHERE table_name = 'privilege_example' AND grantee in ('test_user_2', 'test_user_3');"
   ]
  },
  {
   "cell_type": "markdown",
   "id": "9f9d5a52-dad3-4513-ad81-d77d4c6973d3",
   "metadata": {},
   "source": [
    "- Privilege revoking from `test_user_2` also caused revoking `test_user_3` by using CASCADE."
   ]
  },
  {
   "cell_type": "code",
   "execution_count": 307,
   "id": "dec7cd89-5c40-494c-80d1-4e41c5fd75db",
   "metadata": {},
   "outputs": [
    {
     "name": "stdout",
     "output_type": "stream",
     "text": [
      " * postgresql://postgres@localhost/mydb\n",
      "Done.\n",
      "Done.\n",
      "Done.\n"
     ]
    },
    {
     "data": {
      "text/plain": [
       "[]"
      ]
     },
     "execution_count": 307,
     "metadata": {},
     "output_type": "execute_result"
    }
   ],
   "source": [
    "%%sql \n",
    "SET ROLE test_user;\n",
    "REVOKE SELECT ON privilege_example FROM test_user_2 CASCADE;\n",
    "SET ROLE postgres;"
   ]
  },
  {
   "cell_type": "markdown",
   "id": "037985ea-cd66-40c3-85f8-47db0756eab1",
   "metadata": {},
   "source": [
    "- See that privileges for both `test_user_2` and `test_user_3` removed."
   ]
  },
  {
   "cell_type": "code",
   "execution_count": 308,
   "id": "22bed3f7-b58b-475e-85c8-cfe36c0c8857",
   "metadata": {},
   "outputs": [
    {
     "name": "stdout",
     "output_type": "stream",
     "text": [
      " * postgresql://postgres@localhost/mydb\n",
      "0 rows affected.\n"
     ]
    },
    {
     "data": {
      "text/html": [
       "<table>\n",
       "    <thead>\n",
       "        <tr>\n",
       "            <th>grantee</th>\n",
       "            <th>privilege_type</th>\n",
       "            <th>is_grantable</th>\n",
       "        </tr>\n",
       "    </thead>\n",
       "    <tbody>\n",
       "    </tbody>\n",
       "</table>"
      ],
      "text/plain": [
       "[]"
      ]
     },
     "execution_count": 308,
     "metadata": {},
     "output_type": "execute_result"
    }
   ],
   "source": [
    "%%sql \n",
    "SELECT grantee, privilege_type, is_grantable \n",
    "    FROM information_schema.role_table_grants \n",
    "    WHERE table_name = 'privilege_example' AND grantee in ('test_user_2', 'test_user_3');"
   ]
  },
  {
   "cell_type": "markdown",
   "id": "57923902-9bb9-4940-9143-b01d02b74f8e",
   "metadata": {
    "jp-MarkdownHeadingCollapsed": true
   },
   "source": [
    "### 5.9. Row Security Policies"
   ]
  },
  {
   "cell_type": "markdown",
   "id": "dd87004b-51cb-4199-a7c9-1e820c93ce6f",
   "metadata": {},
   "source": [
    "- Operations that apply to the whole table, such as TRUNCATE and REFERENCES, are not subject to row security.\n",
    "- BYPASSRLS\n",
    "    - A user/role can bypass the row level security by using BYPASSRLS authority.\n",
    "    - This means even if you give row level security rules to tables, that role can bypass this and run query without restriction.\n",
    "    - For example if you want to give BYPASSRLS authority to all user which has admin role:\n",
    "        - ```sql\n",
    "          ALTER ROLE admin WITH BYPASSRLS;\n",
    "          ```\n",
    "    - superusers do not need to BYPASSRLS authority.\n",
    "        - If a user is superuser, user can bypass RLS even is BYPASSRLS is not active\n",
    "    - To see if a user has BYPASSRLS authority:\n",
    "        - ```sql\n",
    "          SELECT rolname, rolbypassrls FROM pg_roles WHERE rolname = 'test_user';\n",
    "          ```\n",
    "- For table owners\n",
    "    - Table owners normally bypass row security as well, though a table owner can choose to be subject to row security with\n",
    "        - ```sql\n",
    "          ALTER TABLE ... FORCE ROW LEVEL SECURITY.\n",
    "          ```\n",
    "- Enabling and disabling row security\n",
    "    - Enabling and disabling row security, as well as adding policies to a table, is always the privilege of the table owner only.\n",
    "    - Table owner can not give the enabling and disabling row security authority to another user.\n",
    "    - There is an exception here, superusers can enable and disable row security even if they are not the table owner.\n",
    "- Policy roles\n",
    "    - If no role is specified in the CREATE POLICY, it applies to all users by default.\n",
    "        - ```sql\n",
    "          CREATE POLICY user_policy ON users USING (user_name = current_user);\n",
    "          ```\n",
    "    - If you want the specify all users explicitly you can use `TO PUBLIC`, it will be more readable.\n",
    "        - ```sql\n",
    "          CREATE POLICY user_policy ON users TO PUBLIC USING (user_name = current_user);\n",
    "          ```\n",
    "    - Those two usage are equivalent.\n",
    "    - You can check the roles by:\n",
    "        - ```sql\n",
    "          SELECT tablename, policyname, roles FROM pg_policies WHERE policyname = 'user_policy';\n",
    "          ```\n",
    "        - In both scenario roles are public.\n",
    "- Permissive and restrictive policies\n",
    "    - Permissive policies combined by or operator.\n",
    "    - Restrictive policies combined by and operator.\n",
    "    - If there are both permissive and restrictive policies\n",
    "        - policy1 permissive, policy2 permissive, policy3 restrictive, policy4 restrictive\n",
    "        - `(policy1 OR policy2) AND (policy3 AND policy4)`\n",
    "    - By default all policies are permissive."
   ]
  },
  {
   "cell_type": "markdown",
   "id": "163b62a9-d42d-4dae-b3fa-438fea80b10d",
   "metadata": {
    "jp-MarkdownHeadingCollapsed": true
   },
   "source": [
    "#### Roles Preperation"
   ]
  },
  {
   "cell_type": "code",
   "execution_count": 102,
   "id": "b8ce8b85-220c-47ce-932c-b8ab39f99f8c",
   "metadata": {},
   "outputs": [
    {
     "name": "stdout",
     "output_type": "stream",
     "text": [
      " * postgresql://postgres@localhost/mydb\n",
      "Done.\n",
      "(psycopg2.errors.DependentObjectsStillExist) HATA:  diğer nesnelerin ona bağlı olması nedeniyle \"user_role\" rolü kaldırılamıyor\n",
      "DETAIL:  rls_example tablosu için yetkiler\n",
      "rls_example tablosu üzerinde user_policy politikası 'nin hedefi\n",
      "\n",
      "[SQL: DROP ROLE IF EXISTS rls_test_admin, rls_test_user1, rls_test_user2, user_role, admin_role;]\n",
      "(Background on this error at: https://sqlalche.me/e/20/2j85)\n"
     ]
    }
   ],
   "source": [
    "%%sql\n",
    "SET SESSION AUTHORIZATION 'postgres';\n",
    "DROP ROLE IF EXISTS rls_test_admin, rls_test_user1, rls_test_user2, user_role, admin_role;\n",
    "CREATE ROLE user_role;\n",
    "CREATE ROLE admin_role;\n",
    "CREATE ROLE rls_test_user1;\n",
    "CREATE ROLE rls_test_user2;\n",
    "CREATE ROLE rls_test_admin;\n",
    "GRANT user_role TO rls_test_user1, rls_test_user2;\n",
    "GRANT admin_role TO rls_test_admin;"
   ]
  },
  {
   "cell_type": "markdown",
   "id": "8d8a9ca9-498e-49f2-becd-9a5855171a8c",
   "metadata": {
    "jp-MarkdownHeadingCollapsed": true
   },
   "source": [
    "#### Row Security Policies Usage"
   ]
  },
  {
   "cell_type": "markdown",
   "id": "4a228bad-0321-4a75-9cc6-54e9c1784d8d",
   "metadata": {},
   "source": [
    "- Creating table rls_example and grant select privilege to users and admins\n",
    "- Created policies:\n",
    "    - user_role can read only if username is current user.\n",
    "    - admin role can read whole table."
   ]
  },
  {
   "cell_type": "code",
   "execution_count": 108,
   "id": "365bac9d-b54a-471c-a9a0-ce81c04c166e",
   "metadata": {},
   "outputs": [
    {
     "name": "stdout",
     "output_type": "stream",
     "text": [
      " * postgresql://postgres@localhost/mydb\n",
      "Done.\n",
      "Done.\n",
      "Done.\n",
      "1 rows affected.\n",
      "1 rows affected.\n",
      "1 rows affected.\n",
      "Done.\n",
      "Done.\n",
      "Done.\n",
      "Done.\n"
     ]
    },
    {
     "data": {
      "text/plain": [
       "[]"
      ]
     },
     "execution_count": 108,
     "metadata": {},
     "output_type": "execute_result"
    }
   ],
   "source": [
    "%%sql\n",
    "SET SESSION AUTHORIZATION 'postgres';\n",
    "DROP TABLE IF EXISTS rls_example CASCADE;\n",
    "CREATE TABLE rls_example (\n",
    "    id integer PRIMARY KEY,\n",
    "    username text\n",
    ");\n",
    "INSERT INTO rls_example VALUES (1, 'admin');\n",
    "INSERT INTO rls_example VALUES (2, 'rls_test_user1');\n",
    "INSERT INTO rls_example VALUES (3, 'rls_test_user2');\n",
    "GRANT SELECT ON rls_example TO user_role, admin_role;\n",
    "\n",
    "ALTER TABLE rls_example ENABLE ROW LEVEL SECURITY;\n",
    "CREATE POLICY user_policy ON rls_example TO user_role USING (username = current_user); \n",
    "CREATE POLICY admin_policy ON rls_example TO admin_role USING (TRUE);"
   ]
  },
  {
   "cell_type": "markdown",
   "id": "7dee9c13-7fe9-4947-bea1-8f714490356f",
   "metadata": {},
   "source": [
    "- Testing with a user with user_role.\n",
    "- rls_test_user1 is an user and user can see only record with same username."
   ]
  },
  {
   "cell_type": "code",
   "execution_count": 109,
   "id": "c7986c85-64e2-40ba-95a6-6e480db46d07",
   "metadata": {},
   "outputs": [
    {
     "name": "stdout",
     "output_type": "stream",
     "text": [
      " * postgresql://postgres@localhost/mydb\n",
      "Done.\n",
      "1 rows affected.\n"
     ]
    },
    {
     "data": {
      "text/html": [
       "<table>\n",
       "    <thead>\n",
       "        <tr>\n",
       "            <th>id</th>\n",
       "            <th>username</th>\n",
       "        </tr>\n",
       "    </thead>\n",
       "    <tbody>\n",
       "        <tr>\n",
       "            <td>2</td>\n",
       "            <td>rls_test_user1</td>\n",
       "        </tr>\n",
       "    </tbody>\n",
       "</table>"
      ],
      "text/plain": [
       "[(2, 'rls_test_user1')]"
      ]
     },
     "execution_count": 109,
     "metadata": {},
     "output_type": "execute_result"
    }
   ],
   "source": [
    "%%sql \n",
    "SET SESSION AUTHORIZATION rls_test_user1;\n",
    "SELECT * FROM rls_example;"
   ]
  },
  {
   "cell_type": "markdown",
   "id": "c4a6b77c-3fd1-45d9-b2ea-91f5cfd69746",
   "metadata": {},
   "source": [
    "- Testing with a user with admin_role.\n",
    "- rls_test_admin is an admin and admin can see all records."
   ]
  },
  {
   "cell_type": "code",
   "execution_count": 110,
   "id": "12e463c6-f939-403b-8057-cc95d4c238ce",
   "metadata": {},
   "outputs": [
    {
     "name": "stdout",
     "output_type": "stream",
     "text": [
      " * postgresql://postgres@localhost/mydb\n",
      "Done.\n",
      "3 rows affected.\n"
     ]
    },
    {
     "data": {
      "text/html": [
       "<table>\n",
       "    <thead>\n",
       "        <tr>\n",
       "            <th>id</th>\n",
       "            <th>username</th>\n",
       "        </tr>\n",
       "    </thead>\n",
       "    <tbody>\n",
       "        <tr>\n",
       "            <td>1</td>\n",
       "            <td>admin</td>\n",
       "        </tr>\n",
       "        <tr>\n",
       "            <td>2</td>\n",
       "            <td>rls_test_user1</td>\n",
       "        </tr>\n",
       "        <tr>\n",
       "            <td>3</td>\n",
       "            <td>rls_test_user2</td>\n",
       "        </tr>\n",
       "    </tbody>\n",
       "</table>"
      ],
      "text/plain": [
       "[(1, 'admin'), (2, 'rls_test_user1'), (3, 'rls_test_user2')]"
      ]
     },
     "execution_count": 110,
     "metadata": {},
     "output_type": "execute_result"
    }
   ],
   "source": [
    "%%sql \n",
    "SET SESSION AUTHORIZATION rls_test_admin;\n",
    "SELECT * FROM rls_example;"
   ]
  },
  {
   "cell_type": "markdown",
   "id": "5fcd8a0a-739c-42da-8b34-fe84ec5e5fb8",
   "metadata": {},
   "source": [
    "- Disabling RLS"
   ]
  },
  {
   "cell_type": "code",
   "execution_count": 113,
   "id": "6085a44f-a658-46e0-bad5-13eca7664006",
   "metadata": {},
   "outputs": [
    {
     "name": "stdout",
     "output_type": "stream",
     "text": [
      " * postgresql://postgres@localhost/mydb\n",
      "Done.\n",
      "Done.\n"
     ]
    },
    {
     "data": {
      "text/plain": [
       "[]"
      ]
     },
     "execution_count": 113,
     "metadata": {},
     "output_type": "execute_result"
    }
   ],
   "source": [
    "%%sql \n",
    "SET SESSION AUTHORIZATION postgres;\n",
    "ALTER TABLE rls_example DISABLE ROW LEVEL SECURITY;"
   ]
  },
  {
   "cell_type": "markdown",
   "id": "6abaa2c8-1c07-428c-809b-f59c589d8a6e",
   "metadata": {},
   "source": [
    "- After disabling rls, all users can read all records."
   ]
  },
  {
   "cell_type": "code",
   "execution_count": 114,
   "id": "e049fd0d-a66c-48aa-a054-40eae1626ee4",
   "metadata": {},
   "outputs": [
    {
     "name": "stdout",
     "output_type": "stream",
     "text": [
      " * postgresql://postgres@localhost/mydb\n",
      "Done.\n",
      "3 rows affected.\n"
     ]
    },
    {
     "data": {
      "text/html": [
       "<table>\n",
       "    <thead>\n",
       "        <tr>\n",
       "            <th>id</th>\n",
       "            <th>username</th>\n",
       "        </tr>\n",
       "    </thead>\n",
       "    <tbody>\n",
       "        <tr>\n",
       "            <td>1</td>\n",
       "            <td>admin</td>\n",
       "        </tr>\n",
       "        <tr>\n",
       "            <td>2</td>\n",
       "            <td>rls_test_user1</td>\n",
       "        </tr>\n",
       "        <tr>\n",
       "            <td>3</td>\n",
       "            <td>rls_test_user2</td>\n",
       "        </tr>\n",
       "    </tbody>\n",
       "</table>"
      ],
      "text/plain": [
       "[(1, 'admin'), (2, 'rls_test_user1'), (3, 'rls_test_user2')]"
      ]
     },
     "execution_count": 114,
     "metadata": {},
     "output_type": "execute_result"
    }
   ],
   "source": [
    "%%sql \n",
    "SET SESSION AUTHORIZATION rls_test_user1;\n",
    "SELECT * FROM rls_example;"
   ]
  },
  {
   "cell_type": "markdown",
   "id": "e9adb673-6fe4-4061-830c-dfc0d7654886",
   "metadata": {
    "jp-MarkdownHeadingCollapsed": true
   },
   "source": [
    "#### BYPASSRLS Usage"
   ]
  },
  {
   "cell_type": "markdown",
   "id": "ba22465b-678e-453e-bf7c-2aef5eb614d5",
   "metadata": {},
   "source": [
    "- Creating table rls_example and grant select privilege to users and admins\n",
    "- Created policies:\n",
    "    - user_role can read only if username is current user.\n",
    "- Giving admin_role BYPASSRLS authority instead of creating permissive policy."
   ]
  },
  {
   "cell_type": "code",
   "execution_count": 104,
   "id": "7f83cd9a-727a-4a6d-adc3-699efe5e500d",
   "metadata": {},
   "outputs": [
    {
     "name": "stdout",
     "output_type": "stream",
     "text": [
      " * postgresql://postgres@localhost/mydb\n",
      "Done.\n",
      "Done.\n",
      "Done.\n",
      "1 rows affected.\n",
      "1 rows affected.\n",
      "1 rows affected.\n",
      "Done.\n",
      "Done.\n",
      "Done.\n",
      "Done.\n"
     ]
    },
    {
     "data": {
      "text/plain": [
       "[]"
      ]
     },
     "execution_count": 104,
     "metadata": {},
     "output_type": "execute_result"
    }
   ],
   "source": [
    "%%sql\n",
    "SET SESSION AUTHORIZATION 'postgres';\n",
    "DROP TABLE IF EXISTS rls_example CASCADE;\n",
    "CREATE TABLE rls_example (\n",
    "    id integer PRIMARY KEY,\n",
    "    username text\n",
    ");\n",
    "INSERT INTO rls_example VALUES (1, 'admin');\n",
    "INSERT INTO rls_example VALUES (2, 'rls_test_user1');\n",
    "INSERT INTO rls_example VALUES (3, 'rls_test_user2');\n",
    "GRANT SELECT ON rls_example TO user_role, admin_role;\n",
    "\n",
    "ALTER TABLE rls_example ENABLE ROW LEVEL SECURITY;\n",
    "CREATE POLICY user_policy ON rls_example TO user_role USING (username = current_user); \n",
    "ALTER ROLE admin_role WITH BYPASSRLS;"
   ]
  },
  {
   "cell_type": "markdown",
   "id": "99bc4307-72c2-4880-99c5-4348510df046",
   "metadata": {},
   "source": [
    "- See admin_role has BYPASSRLS authority"
   ]
  },
  {
   "cell_type": "code",
   "execution_count": 107,
   "id": "949e84f2-2bea-45e6-91d5-f75e2cfbe2b4",
   "metadata": {},
   "outputs": [
    {
     "name": "stdout",
     "output_type": "stream",
     "text": [
      " * postgresql://postgres@localhost/mydb\n",
      "1 rows affected.\n"
     ]
    },
    {
     "data": {
      "text/html": [
       "<table>\n",
       "    <thead>\n",
       "        <tr>\n",
       "            <th>rolname</th>\n",
       "            <th>rolbypassrls</th>\n",
       "        </tr>\n",
       "    </thead>\n",
       "    <tbody>\n",
       "        <tr>\n",
       "            <td>admin_role</td>\n",
       "            <td>True</td>\n",
       "        </tr>\n",
       "    </tbody>\n",
       "</table>"
      ],
      "text/plain": [
       "[('admin_role', True)]"
      ]
     },
     "execution_count": 107,
     "metadata": {},
     "output_type": "execute_result"
    }
   ],
   "source": [
    "%sql SELECT rolname, rolbypassrls FROM pg_roles WHERE rolname = 'admin_role';"
   ]
  },
  {
   "cell_type": "markdown",
   "id": "a7554088-51f1-4a3b-8a8e-d3755c2a07f2",
   "metadata": {},
   "source": [
    "- Testing with a user with admin_role.\n",
    "- rls_test_admin has admin_role and admin_role has bypass authority on RLS."
   ]
  },
  {
   "cell_type": "code",
   "execution_count": 106,
   "id": "42b39c62-7b00-4c06-8b6f-e0d4718205f2",
   "metadata": {},
   "outputs": [
    {
     "name": "stdout",
     "output_type": "stream",
     "text": [
      " * postgresql://postgres@localhost/mydb\n",
      "Done.\n",
      "3 rows affected.\n"
     ]
    },
    {
     "data": {
      "text/html": [
       "<table>\n",
       "    <thead>\n",
       "        <tr>\n",
       "            <th>id</th>\n",
       "            <th>username</th>\n",
       "        </tr>\n",
       "    </thead>\n",
       "    <tbody>\n",
       "        <tr>\n",
       "            <td>1</td>\n",
       "            <td>admin</td>\n",
       "        </tr>\n",
       "        <tr>\n",
       "            <td>2</td>\n",
       "            <td>rls_test_user1</td>\n",
       "        </tr>\n",
       "        <tr>\n",
       "            <td>3</td>\n",
       "            <td>rls_test_user2</td>\n",
       "        </tr>\n",
       "    </tbody>\n",
       "</table>"
      ],
      "text/plain": [
       "[(1, 'admin'), (2, 'rls_test_user1'), (3, 'rls_test_user2')]"
      ]
     },
     "execution_count": 106,
     "metadata": {},
     "output_type": "execute_result"
    }
   ],
   "source": [
    "%%sql \n",
    "SET SESSION AUTHORIZATION rls_test_admin;\n",
    "SELECT * FROM rls_example;"
   ]
  },
  {
   "cell_type": "markdown",
   "id": "3c9b8167-ae6b-4b27-9251-21912e893282",
   "metadata": {},
   "source": [
    "- Testing with a superuser.\n",
    "- postgres is a superuser and superuser can bypass row level security and see all records."
   ]
  },
  {
   "cell_type": "code",
   "execution_count": 97,
   "id": "a9be9d84-75ad-406f-ab03-e00e7d6eb3d8",
   "metadata": {},
   "outputs": [
    {
     "name": "stdout",
     "output_type": "stream",
     "text": [
      " * postgresql://postgres@localhost/mydb\n",
      "Done.\n",
      "3 rows affected.\n"
     ]
    },
    {
     "data": {
      "text/html": [
       "<table>\n",
       "    <thead>\n",
       "        <tr>\n",
       "            <th>id</th>\n",
       "            <th>username</th>\n",
       "        </tr>\n",
       "    </thead>\n",
       "    <tbody>\n",
       "        <tr>\n",
       "            <td>1</td>\n",
       "            <td>admin</td>\n",
       "        </tr>\n",
       "        <tr>\n",
       "            <td>2</td>\n",
       "            <td>rls_test_user1</td>\n",
       "        </tr>\n",
       "        <tr>\n",
       "            <td>3</td>\n",
       "            <td>rls_test_user2</td>\n",
       "        </tr>\n",
       "    </tbody>\n",
       "</table>"
      ],
      "text/plain": [
       "[(1, 'admin'), (2, 'rls_test_user1'), (3, 'rls_test_user2')]"
      ]
     },
     "execution_count": 97,
     "metadata": {},
     "output_type": "execute_result"
    }
   ],
   "source": [
    "%%sql \n",
    "SET SESSION AUTHORIZATION postgres;\n",
    "SELECT * FROM rls_example;"
   ]
  },
  {
   "cell_type": "markdown",
   "id": "86207bdd-2c8d-4bbc-bd4e-6d818ae5366e",
   "metadata": {
    "jp-MarkdownHeadingCollapsed": true
   },
   "source": [
    "#### Permissive and Restrictive RLS"
   ]
  },
  {
   "cell_type": "code",
   "execution_count": 115,
   "id": "67c88f6c-6b2f-4637-a0cc-7e087a24779c",
   "metadata": {},
   "outputs": [
    {
     "name": "stdout",
     "output_type": "stream",
     "text": [
      " * postgresql://postgres@localhost/mydb\n",
      "Done.\n",
      "Done.\n",
      "Done.\n",
      "1 rows affected.\n",
      "1 rows affected.\n",
      "1 rows affected.\n",
      "1 rows affected.\n",
      "1 rows affected.\n",
      "1 rows affected.\n",
      "1 rows affected.\n",
      "1 rows affected.\n",
      "1 rows affected.\n",
      "1 rows affected.\n",
      "1 rows affected.\n",
      "1 rows affected.\n",
      "Done.\n",
      "Done.\n",
      "Done.\n",
      "Done.\n",
      "Done.\n",
      "Done.\n"
     ]
    },
    {
     "data": {
      "text/plain": [
       "[]"
      ]
     },
     "execution_count": 115,
     "metadata": {},
     "output_type": "execute_result"
    }
   ],
   "source": [
    "%%sql\n",
    "SET SESSION AUTHORIZATION 'postgres';\n",
    "DROP TABLE IF EXISTS rls_example_employee CASCADE;\n",
    "CREATE TABLE rls_example_employee (\n",
    "    employee_id SERIAL PRIMARY KEY,\n",
    "    name TEXT,\n",
    "    department TEXT,\n",
    "    is_active BOOLEAN,\n",
    "    has_signed_nondisclosure BOOLEAN\n",
    ");\n",
    "INSERT INTO rls_example_employee VALUES (1, 'employee-1', 'HR', TRUE, TRUE);\n",
    "INSERT INTO rls_example_employee VALUES (2, 'employee-2', 'HR', TRUE, FALSE);\n",
    "INSERT INTO rls_example_employee VALUES (3, 'employee-3', 'HR', FALSE, TRUE);\n",
    "INSERT INTO rls_example_employee VALUES (4, 'employee-4', 'HR', FALSE, FALSE);\n",
    "INSERT INTO rls_example_employee VALUES (5, 'employee-5', 'FINANCE', TRUE, TRUE);\n",
    "INSERT INTO rls_example_employee VALUES (6, 'employee-6', 'FINANCE', TRUE, FALSE);\n",
    "INSERT INTO rls_example_employee VALUES (7, 'employee-7', 'FINANCE', FALSE, TRUE);\n",
    "INSERT INTO rls_example_employee VALUES (8, 'employee-8', 'FINANCE', FALSE, FALSE);\n",
    "INSERT INTO rls_example_employee VALUES (9, 'employee-9', 'ENGINEERING', TRUE, TRUE);\n",
    "INSERT INTO rls_example_employee VALUES (10, 'employee-10', 'ENGINEERING', TRUE, FALSE);\n",
    "INSERT INTO rls_example_employee VALUES (11, 'employee-11', 'ENGINEERING', FALSE, TRUE);\n",
    "INSERT INTO rls_example_employee VALUES (12, 'employee-12', 'ENGINEERING', FALSE, FALSE);\n",
    "GRANT SELECT ON rls_example_employee TO user_role, admin_role;\n",
    "\n",
    "ALTER TABLE rls_example_employee ENABLE ROW LEVEL SECURITY;\n",
    "CREATE POLICY hr_department_policy ON rls_example_employee TO PUBLIC USING (department = 'HR'); \n",
    "CREATE POLICY finance_department_policy ON rls_example_employee TO PUBLIC USING (department = 'FINANCE'); \n",
    "CREATE POLICY active_employee_policy ON rls_example_employee AS RESTRICTIVE TO PUBLIC USING (is_active = TRUE); \n",
    "CREATE POLICY signed_nondisclosure_policy ON rls_example_employee AS RESTRICTIVE TO PUBLIC USING (has_signed_nondisclosure = TRUE); "
   ]
  },
  {
   "cell_type": "markdown",
   "id": "af993673-9d29-4d4c-83e4-e2bbb3d14035",
   "metadata": {},
   "source": [
    "- Evaluation policies is like:\n",
    "    - `(hr_department_policy OR finance_department_policy) AND (active_employee_policy AND signed_nondisclosure_policy)`.\n",
    "    - So employees only active and signed nondisclosure policy employees which are in HR or FINANCE department will be selected."
   ]
  },
  {
   "cell_type": "code",
   "execution_count": 116,
   "id": "2fc1eaf2-77f6-48ba-beac-56ca97e8c826",
   "metadata": {},
   "outputs": [
    {
     "name": "stdout",
     "output_type": "stream",
     "text": [
      " * postgresql://postgres@localhost/mydb\n",
      "Done.\n",
      "2 rows affected.\n"
     ]
    },
    {
     "data": {
      "text/html": [
       "<table>\n",
       "    <thead>\n",
       "        <tr>\n",
       "            <th>employee_id</th>\n",
       "            <th>name</th>\n",
       "            <th>department</th>\n",
       "            <th>is_active</th>\n",
       "            <th>has_signed_nondisclosure</th>\n",
       "        </tr>\n",
       "    </thead>\n",
       "    <tbody>\n",
       "        <tr>\n",
       "            <td>1</td>\n",
       "            <td>employee-1</td>\n",
       "            <td>HR</td>\n",
       "            <td>True</td>\n",
       "            <td>True</td>\n",
       "        </tr>\n",
       "        <tr>\n",
       "            <td>5</td>\n",
       "            <td>employee-5</td>\n",
       "            <td>FINANCE</td>\n",
       "            <td>True</td>\n",
       "            <td>True</td>\n",
       "        </tr>\n",
       "    </tbody>\n",
       "</table>"
      ],
      "text/plain": [
       "[(1, 'employee-1', 'HR', True, True), (5, 'employee-5', 'FINANCE', True, True)]"
      ]
     },
     "execution_count": 116,
     "metadata": {},
     "output_type": "execute_result"
    }
   ],
   "source": [
    "%%sql \n",
    "SET SESSION AUTHORIZATION rls_test_user1;\n",
    "SELECT * FROM rls_example_employee;"
   ]
  },
  {
   "cell_type": "markdown",
   "id": "368e139d-f131-4708-a98c-7ce227de8cc4",
   "metadata": {},
   "source": [
    "### 5.10. Schemas"
   ]
  },
  {
   "cell_type": "markdown",
   "id": "d6820521-e4d1-4ebe-a1ab-20a95cf82c44",
   "metadata": {},
   "source": [
    "[TBA]"
   ]
  },
  {
   "cell_type": "code",
   "execution_count": null,
   "id": "d6d0525f-2341-4344-bee6-6b46b99f4434",
   "metadata": {},
   "outputs": [],
   "source": []
  }
 ],
 "metadata": {
  "kernelspec": {
   "display_name": "Python 3 (ipykernel)",
   "language": "python",
   "name": "python3"
  },
  "language_info": {
   "codemirror_mode": {
    "name": "ipython",
    "version": 3
   },
   "file_extension": ".py",
   "mimetype": "text/x-python",
   "name": "python",
   "nbconvert_exporter": "python",
   "pygments_lexer": "ipython3",
   "version": "3.12.3"
  }
 },
 "nbformat": 4,
 "nbformat_minor": 5
}
