{
 "cells": [
  {
   "cell_type": "markdown",
   "id": "71ecfbb1-b4ea-4d2a-b4fa-6c52e05508e9",
   "metadata": {},
   "source": [
    "<h1>Notes From PostgreSQL Documentation</h1>"
   ]
  },
  {
   "cell_type": "markdown",
   "id": "bb02d75e-2328-4d24-a478-3aa854c5e024",
   "metadata": {
    "jp-MarkdownHeadingCollapsed": true
   },
   "source": [
    "<h3>Installing Dependencies</h3>"
   ]
  },
  {
   "cell_type": "markdown",
   "id": "871fac63-20be-4a6c-9b47-fd87a0a7db72",
   "metadata": {},
   "source": [
    "<b>Install dependencies and after installment finished restart the notebook.</b>"
   ]
  },
  {
   "cell_type": "code",
   "execution_count": 1,
   "id": "d27951d3-c39d-4ff8-831f-b96cf7132554",
   "metadata": {},
   "outputs": [],
   "source": [
    "#!pip install jupyter ipython-sql jupyterlab_sql_editor[all]"
   ]
  },
  {
   "cell_type": "markdown",
   "id": "80e1eb63-20a2-4928-8a04-d938e990d248",
   "metadata": {
    "jp-MarkdownHeadingCollapsed": true
   },
   "source": [
    "<h3>Initializing Notebook and Connections</h3>"
   ]
  },
  {
   "cell_type": "markdown",
   "id": "61cb4ad7-5ffc-4729-a5db-59ac369299a4",
   "metadata": {},
   "source": [
    "<b>This steps will be executed every start/restart of kernel or notebook</b>"
   ]
  },
  {
   "cell_type": "code",
   "execution_count": 2,
   "id": "f0e4c455-c05c-4f55-a5d0-4d3793289f56",
   "metadata": {},
   "outputs": [],
   "source": [
    "%load_ext sql"
   ]
  },
  {
   "cell_type": "code",
   "execution_count": 3,
   "id": "75c51ddb-bdd9-4368-91fa-de11f2b5f22e",
   "metadata": {},
   "outputs": [],
   "source": [
    "%config SqlMagic.style = '_DEPRECATED_DEFAULT'"
   ]
  },
  {
   "cell_type": "markdown",
   "id": "d2f7a1c8-1ada-4bea-a8f2-c17a8576e463",
   "metadata": {},
   "source": [
    "Connecting to DB\n",
    "Usage: &lt;db_vendor&gt;://[username:password]@&lt;serverip&gt;/&lt;dbname&gt;"
   ]
  },
  {
   "cell_type": "code",
   "execution_count": 4,
   "id": "43803a46-1a0f-4d8f-b188-24e18c1b07ab",
   "metadata": {},
   "outputs": [],
   "source": [
    "%sql postgresql://postgres@localhost/mydb"
   ]
  },
  {
   "cell_type": "markdown",
   "id": "d404bfdb-58c1-4acc-b0c5-f0a379d344e6",
   "metadata": {},
   "source": [
    "Testing connection"
   ]
  },
  {
   "cell_type": "code",
   "execution_count": 5,
   "id": "b94d4f72-2c18-4fc1-9262-8175dec52758",
   "metadata": {},
   "outputs": [
    {
     "name": "stdout",
     "output_type": "stream",
     "text": [
      " * postgresql://postgres@localhost/mydb\n",
      "1 rows affected.\n"
     ]
    },
    {
     "data": {
      "text/html": [
       "<table>\n",
       "    <thead>\n",
       "        <tr>\n",
       "            <th>result</th>\n",
       "        </tr>\n",
       "    </thead>\n",
       "    <tbody>\n",
       "        <tr>\n",
       "            <td>CONNECTION SUCCESSFULLY INITIALIZED</td>\n",
       "        </tr>\n",
       "    </tbody>\n",
       "</table>"
      ],
      "text/plain": [
       "[('CONNECTION SUCCESSFULLY INITIALIZED',)]"
      ]
     },
     "execution_count": 5,
     "metadata": {},
     "output_type": "execute_result"
    }
   ],
   "source": [
    "%sql select 'CONNECTION SUCCESSFULLY INITIALIZED' as result"
   ]
  },
  {
   "cell_type": "markdown",
   "id": "5404170c-2c47-469a-ac4c-cd1bf177db2e",
   "metadata": {},
   "source": [
    "<h2>Chapter 5. Data Definition</h2>"
   ]
  },
  {
   "cell_type": "markdown",
   "id": "be0c8dee-eda7-43e1-bce8-dc7e61756a79",
   "metadata": {},
   "source": [
    "### 5.1. Table Basics"
   ]
  },
  {
   "cell_type": "markdown",
   "id": "b80b1c5d-7e51-4f1f-a55e-77d6c50c9bce",
   "metadata": {},
   "source": [
    "##### a. Creating Table"
   ]
  },
  {
   "cell_type": "markdown",
   "id": "498d56a6-1e9c-45e9-b556-2747439fe12f",
   "metadata": {},
   "source": [
    "For details check reference <a href=\"https://www.postgresql.org/docs/current/sql-createtable.html\">https://www.postgresql.org/docs/current/sql-createtable.html</a>"
   ]
  },
  {
   "cell_type": "code",
   "execution_count": 6,
   "id": "1a097853-f3f5-4d67-b201-2decacb78bf2",
   "metadata": {},
   "outputs": [
    {
     "name": "stdout",
     "output_type": "stream",
     "text": [
      " * postgresql://postgres@localhost/mydb\n",
      "(psycopg2.errors.DependentObjectsStillExist) HATA:  diğer nesnelerin ona bağlı olması nedeniyle products tablosu kaldırılamıyor\n",
      "DETAIL:  orders tablosu üzerinde orders_product_no_fkey kısıtlaması, products tablosu nesnesine bağlıdır\n",
      "HINT:  Bağlı nesneleri de kaldırmak için DROP ... CASCADE kullanın.\n",
      "\n",
      "[SQL: DROP TABLE IF EXISTS products;]\n",
      "(Background on this error at: https://sqlalche.me/e/20/2j85)\n"
     ]
    }
   ],
   "source": [
    "%%sql\n",
    "DROP TABLE IF EXISTS products;\n",
    "CREATE TABLE products (\n",
    "\tproduct_no integer,\n",
    "\tname text,\n",
    "\tprice numeric\n",
    ");"
   ]
  },
  {
   "cell_type": "markdown",
   "id": "fb0943b0-4ac8-4b23-b5bc-d8e09b9ca451",
   "metadata": {},
   "source": [
    "##### b. Deleting Table"
   ]
  },
  {
   "cell_type": "markdown",
   "id": "d50ac4de-d94e-4e2c-9567-cde46b15d42c",
   "metadata": {},
   "source": [
    "For details check reference <a href=\"https://www.postgresql.org/docs/current/sql-droptable.html\">https://www.postgresql.org/docs/current/sql-droptable.html</a>"
   ]
  },
  {
   "cell_type": "markdown",
   "id": "2bfca6e8-c0d0-4896-b397-509ec77eb05d",
   "metadata": {},
   "source": [
    "- IF EXISTS is optional. This statement prevents throwing error when table does not exist in DB."
   ]
  },
  {
   "cell_type": "code",
   "execution_count": 7,
   "id": "c04fd27b-2957-4a34-9233-0eb3b21f9c6f",
   "metadata": {},
   "outputs": [
    {
     "name": "stdout",
     "output_type": "stream",
     "text": [
      " * postgresql://postgres@localhost/mydb\n",
      "(psycopg2.errors.DependentObjectsStillExist) HATA:  diğer nesnelerin ona bağlı olması nedeniyle products tablosu kaldırılamıyor\n",
      "DETAIL:  orders tablosu üzerinde orders_product_no_fkey kısıtlaması, products tablosu nesnesine bağlıdır\n",
      "HINT:  Bağlı nesneleri de kaldırmak için DROP ... CASCADE kullanın.\n",
      "\n",
      "[SQL: DROP TABLE IF EXISTS products;]\n",
      "(Background on this error at: https://sqlalche.me/e/20/2j85)\n"
     ]
    }
   ],
   "source": [
    "%%sql\n",
    "DROP TABLE IF EXISTS products;"
   ]
  },
  {
   "cell_type": "markdown",
   "id": "6bbe8679-dc48-4283-9279-bc1f70654dd3",
   "metadata": {},
   "source": [
    "##### c. Creating Table with DEFAULT value"
   ]
  },
  {
   "cell_type": "code",
   "execution_count": 8,
   "id": "de7d7b54-0eed-49b5-9aff-092e224bf33e",
   "metadata": {},
   "outputs": [
    {
     "name": "stdout",
     "output_type": "stream",
     "text": [
      " * postgresql://postgres@localhost/mydb\n",
      "(psycopg2.errors.DependentObjectsStillExist) HATA:  diğer nesnelerin ona bağlı olması nedeniyle products tablosu kaldırılamıyor\n",
      "DETAIL:  orders tablosu üzerinde orders_product_no_fkey kısıtlaması, products tablosu nesnesine bağlıdır\n",
      "HINT:  Bağlı nesneleri de kaldırmak için DROP ... CASCADE kullanın.\n",
      "\n",
      "[SQL: DROP TABLE IF EXISTS products;]\n",
      "(Background on this error at: https://sqlalche.me/e/20/2j85)\n"
     ]
    }
   ],
   "source": [
    "%%sql\n",
    "DROP TABLE IF EXISTS products;\n",
    "CREATE TABLE products (\n",
    "\tproduct_no integer,\n",
    "\tname text,\n",
    "\tprice numeric DEFAULT 9.99,\n",
    "\tdate timestamp DEFAULT CURRENT_TIMESTAMP\n",
    ");"
   ]
  },
  {
   "cell_type": "markdown",
   "id": "8c84c175-75a8-483a-9838-fc162c9859e6",
   "metadata": {
    "jp-MarkdownHeadingCollapsed": true
   },
   "source": [
    "### 5.3. Identity Columns"
   ]
  },
  {
   "cell_type": "markdown",
   "id": "15a3972a-baad-4223-934e-e95565c7b6c1",
   "metadata": {
    "jp-MarkdownHeadingCollapsed": true
   },
   "source": [
    "##### a. Creating table with IDENTITY column"
   ]
  },
  {
   "cell_type": "markdown",
   "id": "ad1e3c70-73b0-4bd4-8bd3-8cc2d24b2481",
   "metadata": {},
   "source": [
    "- When using <i>IDENTITY</i> column with <i>GENERATED</i> it means value of column will be created automatically\n",
    "- <i>GENERATED ALWAYS</i> means you can not insert manual values when adding/updating for this field.\n",
    "- <i>GENERATED BY DEFAULT</i> means you can insert manual values when adding/updating for this field\n",
    "- When using <i>GENERATED BY DEFAULT</i> you must be careful:\n",
    "    - Generating values will be using a sequential. That means it starts from 1 and goes on.\n",
    "    - If identity column is described as UNIQUE:\n",
    "        - You insert a record without inserting a manual value for identity column.\n",
    "        - After that you give identity column value by hand and that value is 2.\n",
    "            - It will be successfully inserted.\n",
    "            - But sequence value is still remains as 2.\n",
    "        - Then you inserted a record without inserting a manual value for identity column again.\n",
    "            - Since sequence value is 2 and there is a record also has valued 2, it will throw duplicated value error.\n",
    "    - If identity column is not described as UNIQUE:\n",
    "        - You insert a record without inserting a manual value for identity column.\n",
    "        - After that you give identity column value by hand and that value is 2.\n",
    "            - It will be successfully inserted.\n",
    "            - But sequence value is still remains as 2.\n",
    "        - Then you inserted a record without inserting a manual value for identity column again.\n",
    "            - Since sequence value is 2 it will insert record with identity column has value as 2.\n",
    "            - But there are two record which their identity columns has value as 2.\n",
    "- Even when using <i>GENERATED ALWAYS</i> there are duplicated value or error risks:\n",
    "    - By using OVERRIDING SYSTEM VALUE, you can enter identity column values manually.\n",
    "    - Same cases above (GENERATED BY DEFAULT) are also effective for this. "
   ]
  },
  {
   "cell_type": "markdown",
   "id": "aebe1e63-03fb-498d-8c03-d7218b920d47",
   "metadata": {
    "jp-MarkdownHeadingCollapsed": true
   },
   "source": [
    "##### b. Example usage of <i>GENERATED ALWAYS</i>"
   ]
  },
  {
   "cell_type": "markdown",
   "id": "37e3f630-35cc-46a6-96d8-89b3c9152fa7",
   "metadata": {},
   "source": [
    "- Creating table with GENERATED ALWAYS AS IDENTITY column"
   ]
  },
  {
   "cell_type": "code",
   "execution_count": 9,
   "id": "6954220e-6395-4224-86ae-991d8620cdf7",
   "metadata": {},
   "outputs": [
    {
     "name": "stdout",
     "output_type": "stream",
     "text": [
      " * postgresql://postgres@localhost/mydb\n",
      "Done.\n",
      "Done.\n"
     ]
    },
    {
     "data": {
      "text/plain": [
       "[]"
      ]
     },
     "execution_count": 9,
     "metadata": {},
     "output_type": "execute_result"
    }
   ],
   "source": [
    "%%sql\n",
    "DROP TABLE IF EXISTS people;\n",
    "CREATE TABLE people (\n",
    "\tid bigint GENERATED ALWAYS AS IDENTITY,\n",
    "\tname varchar(80),\n",
    "\taddress varchar(80)\n",
    ");"
   ]
  },
  {
   "cell_type": "markdown",
   "id": "23752483-84ef-45b7-ab04-72b3b68f3cd1",
   "metadata": {},
   "source": [
    "- Record will be inserted successfully and id will be automatically assigned as 1"
   ]
  },
  {
   "cell_type": "code",
   "execution_count": 10,
   "id": "393d20ec-7f12-48c5-b028-20aa4991c30c",
   "metadata": {},
   "outputs": [
    {
     "name": "stdout",
     "output_type": "stream",
     "text": [
      " * postgresql://postgres@localhost/mydb\n",
      "1 rows affected.\n",
      "1 rows affected.\n"
     ]
    },
    {
     "data": {
      "text/html": [
       "<table>\n",
       "    <thead>\n",
       "        <tr>\n",
       "            <th>id</th>\n",
       "            <th>name</th>\n",
       "            <th>address</th>\n",
       "        </tr>\n",
       "    </thead>\n",
       "    <tbody>\n",
       "        <tr>\n",
       "            <td>1</td>\n",
       "            <td>A</td>\n",
       "            <td>foo</td>\n",
       "        </tr>\n",
       "    </tbody>\n",
       "</table>"
      ],
      "text/plain": [
       "[(1, 'A', 'foo')]"
      ]
     },
     "execution_count": 10,
     "metadata": {},
     "output_type": "execute_result"
    }
   ],
   "source": [
    "%%sql \n",
    "INSERT INTO people (name, address) VALUES ('A', 'foo');\n",
    "SELECT * FROM people;"
   ]
  },
  {
   "cell_type": "markdown",
   "id": "0a7c3633-7cbd-4f9d-a9d1-9016bf765a0d",
   "metadata": {},
   "source": [
    "- Throws error because of id column is generated always and given an id value"
   ]
  },
  {
   "cell_type": "code",
   "execution_count": 11,
   "id": "f6f68156-b488-44f9-842a-a96663c9f37b",
   "metadata": {},
   "outputs": [
    {
     "name": "stdout",
     "output_type": "stream",
     "text": [
      " * postgresql://postgres@localhost/mydb\n",
      "(psycopg2.errors.GeneratedAlways) HATA:  cannot insert a non-DEFAULT value into column \"id\"\n",
      "DETAIL:  Column \"id\" is an identity column defined as GENERATED ALWAYS.\n",
      "HINT:  Geçersiz kılmak (override) için OVERRIDING SYSTEM VALUE kullanın.\n",
      "\n",
      "[SQL: INSERT INTO people (id, name, address) VALUES (2, 'B' , 'bar' );]\n",
      "(Background on this error at: https://sqlalche.me/e/20/f405)\n"
     ]
    }
   ],
   "source": [
    "%sql INSERT INTO people (id, name, address) VALUES (2, 'B', 'bar');"
   ]
  },
  {
   "cell_type": "markdown",
   "id": "613c15d4-2f8e-460d-863b-0b008c814ec3",
   "metadata": {},
   "source": [
    "- Will not throw error and insert record successfully"
   ]
  },
  {
   "cell_type": "code",
   "execution_count": 12,
   "id": "d95dd55b-26cb-49a9-908c-dd62212e9af9",
   "metadata": {},
   "outputs": [
    {
     "name": "stdout",
     "output_type": "stream",
     "text": [
      " * postgresql://postgres@localhost/mydb\n",
      "1 rows affected.\n"
     ]
    },
    {
     "data": {
      "text/plain": [
       "[]"
      ]
     },
     "execution_count": 12,
     "metadata": {},
     "output_type": "execute_result"
    }
   ],
   "source": [
    "%%sql \n",
    "INSERT INTO people (id, name, address) OVERRIDING SYSTEM VALUE VALUES (2, 'B', 'bar');"
   ]
  },
  {
   "cell_type": "markdown",
   "id": "227c43d5-f0cf-4890-aaee-11db8ae64266",
   "metadata": {},
   "source": [
    "- Insert will be successful but since sequence for id value is still 2 and there is a record which id is 2, there is two record which has id 2."
   ]
  },
  {
   "cell_type": "code",
   "execution_count": 13,
   "id": "62da32a0-45eb-42e1-be8e-24def64963a7",
   "metadata": {},
   "outputs": [
    {
     "name": "stdout",
     "output_type": "stream",
     "text": [
      " * postgresql://postgres@localhost/mydb\n",
      "1 rows affected.\n",
      "3 rows affected.\n"
     ]
    },
    {
     "data": {
      "text/html": [
       "<table>\n",
       "    <thead>\n",
       "        <tr>\n",
       "            <th>id</th>\n",
       "            <th>name</th>\n",
       "            <th>address</th>\n",
       "        </tr>\n",
       "    </thead>\n",
       "    <tbody>\n",
       "        <tr>\n",
       "            <td>1</td>\n",
       "            <td>A</td>\n",
       "            <td>foo</td>\n",
       "        </tr>\n",
       "        <tr>\n",
       "            <td>2</td>\n",
       "            <td>B</td>\n",
       "            <td>bar</td>\n",
       "        </tr>\n",
       "        <tr>\n",
       "            <td>2</td>\n",
       "            <td>C</td>\n",
       "            <td>baz</td>\n",
       "        </tr>\n",
       "    </tbody>\n",
       "</table>"
      ],
      "text/plain": [
       "[(1, 'A', 'foo'), (2, 'B', 'bar'), (2, 'C', 'baz')]"
      ]
     },
     "execution_count": 13,
     "metadata": {},
     "output_type": "execute_result"
    }
   ],
   "source": [
    "%%sql \n",
    "INSERT INTO people (name, address) VALUES ('C', 'baz');\n",
    "SELECT * FROM people;"
   ]
  },
  {
   "cell_type": "markdown",
   "id": "54568a92-08f8-47d5-bbc1-734890ce5ee0",
   "metadata": {
    "jp-MarkdownHeadingCollapsed": true
   },
   "source": [
    "##### c. Example usage of <i>GENERATED BY DEFAULT with UNIQUE descriptor</i>"
   ]
  },
  {
   "cell_type": "markdown",
   "id": "80203457-0617-4897-85c1-c532d7bbfef9",
   "metadata": {},
   "source": [
    "- Creating table with GENERATED BY DEFAULT AS IDENTITY column"
   ]
  },
  {
   "cell_type": "code",
   "execution_count": 14,
   "id": "63430648-aa29-4178-a229-1a8d10bdb335",
   "metadata": {},
   "outputs": [
    {
     "name": "stdout",
     "output_type": "stream",
     "text": [
      " * postgresql://postgres@localhost/mydb\n",
      "Done.\n",
      "Done.\n"
     ]
    },
    {
     "data": {
      "text/plain": [
       "[]"
      ]
     },
     "execution_count": 14,
     "metadata": {},
     "output_type": "execute_result"
    }
   ],
   "source": [
    "%%sql\n",
    "DROP TABLE IF EXISTS people;\n",
    "CREATE TABLE people (\n",
    "\tid bigint UNIQUE GENERATED BY DEFAULT AS IDENTITY,\n",
    "\tname varchar(80),\n",
    "\taddress varchar(80)\n",
    ");"
   ]
  },
  {
   "cell_type": "markdown",
   "id": "4323ae66-5cca-4ee5-9920-84b4ecee051b",
   "metadata": {},
   "source": [
    "- First record will be inserted successfully and id will be automatically assigned as 1.\n",
    "- Second record will be inserted successfully."
   ]
  },
  {
   "cell_type": "code",
   "execution_count": 15,
   "id": "49746b82-8b1f-4e06-bb32-613e4ddaef42",
   "metadata": {},
   "outputs": [
    {
     "name": "stdout",
     "output_type": "stream",
     "text": [
      " * postgresql://postgres@localhost/mydb\n",
      "1 rows affected.\n",
      "1 rows affected.\n",
      "2 rows affected.\n"
     ]
    },
    {
     "data": {
      "text/html": [
       "<table>\n",
       "    <thead>\n",
       "        <tr>\n",
       "            <th>id</th>\n",
       "            <th>name</th>\n",
       "            <th>address</th>\n",
       "        </tr>\n",
       "    </thead>\n",
       "    <tbody>\n",
       "        <tr>\n",
       "            <td>1</td>\n",
       "            <td>A</td>\n",
       "            <td>foo</td>\n",
       "        </tr>\n",
       "        <tr>\n",
       "            <td>2</td>\n",
       "            <td>B</td>\n",
       "            <td>bar</td>\n",
       "        </tr>\n",
       "    </tbody>\n",
       "</table>"
      ],
      "text/plain": [
       "[(1, 'A', 'foo'), (2, 'B', 'bar')]"
      ]
     },
     "execution_count": 15,
     "metadata": {},
     "output_type": "execute_result"
    }
   ],
   "source": [
    "%%sql \n",
    "INSERT INTO people (name, address) VALUES ('A', 'foo');\n",
    "INSERT INTO people (id, name, address) VALUES (2, 'B', 'bar');\n",
    "SELECT * FROM people;"
   ]
  },
  {
   "cell_type": "markdown",
   "id": "8592f884-a409-4167-a77d-52e0fb55eeb9",
   "metadata": {},
   "source": [
    "- Error will be thrown because sequence for id value is still 2 and there is a record which id is 2"
   ]
  },
  {
   "cell_type": "code",
   "execution_count": 16,
   "id": "9c1ac9ff-d091-43a4-8dbf-dd71e968cc4e",
   "metadata": {},
   "outputs": [
    {
     "name": "stdout",
     "output_type": "stream",
     "text": [
      " * postgresql://postgres@localhost/mydb\n",
      "(psycopg2.errors.UniqueViolation) HATA:  tekrar eden kayıt, \"people_id_key\" tekil kısıtlamasını ihlal etmektedir\n",
      "DETAIL:  \"(id)=(2)\" anahtarı zaten mevcut\n",
      "\n",
      "[SQL: INSERT INTO people (name, address) VALUES ('C', 'baz');]\n",
      "(Background on this error at: https://sqlalche.me/e/20/gkpj)\n"
     ]
    }
   ],
   "source": [
    "%%sql \n",
    "INSERT INTO people (name, address) VALUES ('C', 'baz');"
   ]
  },
  {
   "cell_type": "markdown",
   "id": "7601ee48-ab03-4aad-aebf-2fcdaea2ba5e",
   "metadata": {
    "jp-MarkdownHeadingCollapsed": true
   },
   "source": [
    "##### d. Example usage of <i>GENERATED BY DEFAULT without UNIQUE descriptor</i>"
   ]
  },
  {
   "cell_type": "markdown",
   "id": "c8890b67-aa95-4cf0-8f88-dab49c5955f6",
   "metadata": {},
   "source": [
    "- Creating table with GENERATED BY DEFAULT AS IDENTITY column"
   ]
  },
  {
   "cell_type": "code",
   "execution_count": 17,
   "id": "1e03537d-d796-4345-bc7c-fb5b49c51bb5",
   "metadata": {},
   "outputs": [
    {
     "name": "stdout",
     "output_type": "stream",
     "text": [
      " * postgresql://postgres@localhost/mydb\n",
      "Done.\n",
      "Done.\n"
     ]
    },
    {
     "data": {
      "text/plain": [
       "[]"
      ]
     },
     "execution_count": 17,
     "metadata": {},
     "output_type": "execute_result"
    }
   ],
   "source": [
    "%%sql\n",
    "DROP TABLE IF EXISTS people;\n",
    "CREATE TABLE people (\n",
    "\tid bigint GENERATED BY DEFAULT AS IDENTITY,\n",
    "\tname varchar(80),\n",
    "\taddress varchar(80)\n",
    ");"
   ]
  },
  {
   "cell_type": "markdown",
   "id": "f2a6d7ff-8239-4f89-8b09-73502383fa18",
   "metadata": {},
   "source": [
    "- First record will be inserted successfully and id will be automatically assigned as 1.\n",
    "- Second record will be inserted successfully."
   ]
  },
  {
   "cell_type": "code",
   "execution_count": 18,
   "id": "75d951cd-e141-4c41-8d6f-42f705c7e1bf",
   "metadata": {},
   "outputs": [
    {
     "name": "stdout",
     "output_type": "stream",
     "text": [
      " * postgresql://postgres@localhost/mydb\n",
      "1 rows affected.\n",
      "1 rows affected.\n",
      "2 rows affected.\n"
     ]
    },
    {
     "data": {
      "text/html": [
       "<table>\n",
       "    <thead>\n",
       "        <tr>\n",
       "            <th>id</th>\n",
       "            <th>name</th>\n",
       "            <th>address</th>\n",
       "        </tr>\n",
       "    </thead>\n",
       "    <tbody>\n",
       "        <tr>\n",
       "            <td>1</td>\n",
       "            <td>A</td>\n",
       "            <td>foo</td>\n",
       "        </tr>\n",
       "        <tr>\n",
       "            <td>2</td>\n",
       "            <td>B</td>\n",
       "            <td>bar</td>\n",
       "        </tr>\n",
       "    </tbody>\n",
       "</table>"
      ],
      "text/plain": [
       "[(1, 'A', 'foo'), (2, 'B', 'bar')]"
      ]
     },
     "execution_count": 18,
     "metadata": {},
     "output_type": "execute_result"
    }
   ],
   "source": [
    "%%sql \n",
    "INSERT INTO people (name, address) VALUES ('A', 'foo');\n",
    "INSERT INTO people (id, name, address) VALUES (2, 'B', 'bar');\n",
    "SELECT * FROM people;"
   ]
  },
  {
   "cell_type": "markdown",
   "id": "b41385c5-e451-40ee-a578-21a5d8738e17",
   "metadata": {},
   "source": [
    "- Insert will be successful but since sequence for id value is still 2 and there is a record which id is 2, there is two record which has id 2."
   ]
  },
  {
   "cell_type": "code",
   "execution_count": 19,
   "id": "68bca926-8d5d-4110-b1e5-3fadd4acc433",
   "metadata": {},
   "outputs": [
    {
     "name": "stdout",
     "output_type": "stream",
     "text": [
      " * postgresql://postgres@localhost/mydb\n",
      "1 rows affected.\n",
      "3 rows affected.\n"
     ]
    },
    {
     "data": {
      "text/html": [
       "<table>\n",
       "    <thead>\n",
       "        <tr>\n",
       "            <th>id</th>\n",
       "            <th>name</th>\n",
       "            <th>address</th>\n",
       "        </tr>\n",
       "    </thead>\n",
       "    <tbody>\n",
       "        <tr>\n",
       "            <td>1</td>\n",
       "            <td>A</td>\n",
       "            <td>foo</td>\n",
       "        </tr>\n",
       "        <tr>\n",
       "            <td>2</td>\n",
       "            <td>B</td>\n",
       "            <td>bar</td>\n",
       "        </tr>\n",
       "        <tr>\n",
       "            <td>2</td>\n",
       "            <td>C</td>\n",
       "            <td>baz</td>\n",
       "        </tr>\n",
       "    </tbody>\n",
       "</table>"
      ],
      "text/plain": [
       "[(1, 'A', 'foo'), (2, 'B', 'bar'), (2, 'C', 'baz')]"
      ]
     },
     "execution_count": 19,
     "metadata": {},
     "output_type": "execute_result"
    }
   ],
   "source": [
    "%%sql \n",
    "INSERT INTO people (name, address) VALUES ('C', 'baz');\n",
    "SELECT * FROM people;"
   ]
  },
  {
   "cell_type": "markdown",
   "id": "e1da44de-9b0c-4cbc-9a75-9040c2550a60",
   "metadata": {
    "jp-MarkdownHeadingCollapsed": true
   },
   "source": [
    "##### e. Usage of DEFAULT value"
   ]
  },
  {
   "cell_type": "markdown",
   "id": "27d11bff-0b78-4bc2-87b9-9ba85e82813b",
   "metadata": {},
   "source": [
    "- DEFAULT also can be used to specify the sequence explicitly.\n",
    "- Especially in UPDATE command when update generated column value and get it from sequence, you can use DEFAULT."
   ]
  },
  {
   "cell_type": "markdown",
   "id": "ee2b5702-8d9b-48a2-b852-49d18a7f44af",
   "metadata": {},
   "source": [
    "- Creating table has generated column"
   ]
  },
  {
   "cell_type": "code",
   "execution_count": 20,
   "id": "b31da8eb-20ad-483d-a928-43f4c9d0333a",
   "metadata": {},
   "outputs": [
    {
     "name": "stdout",
     "output_type": "stream",
     "text": [
      " * postgresql://postgres@localhost/mydb\n",
      "Done.\n",
      "Done.\n"
     ]
    },
    {
     "data": {
      "text/plain": [
       "[]"
      ]
     },
     "execution_count": 20,
     "metadata": {},
     "output_type": "execute_result"
    }
   ],
   "source": [
    "%%sql\n",
    "DROP TABLE IF EXISTS people;\n",
    "CREATE TABLE people (\n",
    "\tid bigint GENERATED ALWAYS AS IDENTITY,\n",
    "\tname varchar(80),\n",
    "\taddress varchar(80)\n",
    ");"
   ]
  },
  {
   "cell_type": "markdown",
   "id": "9bd2631b-ff7c-475f-a5f3-1566a2bce632",
   "metadata": {},
   "source": [
    "- Inserting values.\n",
    "- When inserting values id will be fetched from a sequence.\n",
    "- First record has id 1, and second has id 2.\n",
    "- After insertions completed, current value of sequence will be 3."
   ]
  },
  {
   "cell_type": "code",
   "execution_count": 21,
   "id": "98c04427-13b9-41b3-9706-b5c0f223f515",
   "metadata": {},
   "outputs": [
    {
     "name": "stdout",
     "output_type": "stream",
     "text": [
      " * postgresql://postgres@localhost/mydb\n",
      "1 rows affected.\n",
      "1 rows affected.\n",
      "2 rows affected.\n"
     ]
    },
    {
     "data": {
      "text/html": [
       "<table>\n",
       "    <thead>\n",
       "        <tr>\n",
       "            <th>id</th>\n",
       "            <th>name</th>\n",
       "            <th>address</th>\n",
       "        </tr>\n",
       "    </thead>\n",
       "    <tbody>\n",
       "        <tr>\n",
       "            <td>1</td>\n",
       "            <td>A</td>\n",
       "            <td>foo</td>\n",
       "        </tr>\n",
       "        <tr>\n",
       "            <td>2</td>\n",
       "            <td>B</td>\n",
       "            <td>bar</td>\n",
       "        </tr>\n",
       "    </tbody>\n",
       "</table>"
      ],
      "text/plain": [
       "[(1, 'A', 'foo'), (2, 'B', 'bar')]"
      ]
     },
     "execution_count": 21,
     "metadata": {},
     "output_type": "execute_result"
    }
   ],
   "source": [
    "%%sql\n",
    "INSERT INTO people (name, address) VALUES ('A', 'foo');\n",
    "INSERT INTO people (name, address) VALUES ('B', 'bar');\n",
    "SELECT * FROM people;"
   ]
  },
  {
   "cell_type": "markdown",
   "id": "a3f668f3-1a5d-4f26-bf88-df2e269292d2",
   "metadata": {},
   "source": [
    "- Inserting value using DEFAULT.\n",
    "- Using DEFAULT means use sequence to insert value.\n",
    "- So the value will be current value of sequence (3) and current value of sequence increases."
   ]
  },
  {
   "cell_type": "code",
   "execution_count": 22,
   "id": "7d818527-3d15-4f60-a6be-4c4a58b3313d",
   "metadata": {},
   "outputs": [
    {
     "name": "stdout",
     "output_type": "stream",
     "text": [
      " * postgresql://postgres@localhost/mydb\n",
      "1 rows affected.\n",
      "3 rows affected.\n"
     ]
    },
    {
     "data": {
      "text/html": [
       "<table>\n",
       "    <thead>\n",
       "        <tr>\n",
       "            <th>id</th>\n",
       "            <th>name</th>\n",
       "            <th>address</th>\n",
       "        </tr>\n",
       "    </thead>\n",
       "    <tbody>\n",
       "        <tr>\n",
       "            <td>1</td>\n",
       "            <td>A</td>\n",
       "            <td>foo</td>\n",
       "        </tr>\n",
       "        <tr>\n",
       "            <td>2</td>\n",
       "            <td>B</td>\n",
       "            <td>bar</td>\n",
       "        </tr>\n",
       "        <tr>\n",
       "            <td>3</td>\n",
       "            <td>C</td>\n",
       "            <td>baz</td>\n",
       "        </tr>\n",
       "    </tbody>\n",
       "</table>"
      ],
      "text/plain": [
       "[(1, 'A', 'foo'), (2, 'B', 'bar'), (3, 'C', 'baz')]"
      ]
     },
     "execution_count": 22,
     "metadata": {},
     "output_type": "execute_result"
    }
   ],
   "source": [
    "%%sql \n",
    "INSERT INTO people (id, name, address) VALUES (DEFAULT, 'C', 'baz');\n",
    "SELECT * FROM people;"
   ]
  },
  {
   "cell_type": "markdown",
   "id": "0df363ab-941c-43c1-8d8e-0ea2adda6e9b",
   "metadata": {},
   "source": [
    "- DEFAULT value also can be used in UPDATE statement.\n",
    "- When using update statement, id value will be fetched from sequence still.\n",
    "- So new id of third record will be 4.\n",
    "- The other use of DEFAULT is in name column. Default value of name is NULL because it is not specified a default value."
   ]
  },
  {
   "cell_type": "code",
   "execution_count": 23,
   "id": "a4fd6cd8-0942-4adc-b430-6b0937e58332",
   "metadata": {},
   "outputs": [
    {
     "name": "stdout",
     "output_type": "stream",
     "text": [
      " * postgresql://postgres@localhost/mydb\n",
      "1 rows affected.\n",
      "3 rows affected.\n"
     ]
    },
    {
     "data": {
      "text/html": [
       "<table>\n",
       "    <thead>\n",
       "        <tr>\n",
       "            <th>id</th>\n",
       "            <th>name</th>\n",
       "            <th>address</th>\n",
       "        </tr>\n",
       "    </thead>\n",
       "    <tbody>\n",
       "        <tr>\n",
       "            <td>1</td>\n",
       "            <td>A</td>\n",
       "            <td>foo</td>\n",
       "        </tr>\n",
       "        <tr>\n",
       "            <td>2</td>\n",
       "            <td>B</td>\n",
       "            <td>bar</td>\n",
       "        </tr>\n",
       "        <tr>\n",
       "            <td>4</td>\n",
       "            <td>None</td>\n",
       "            <td>qwe</td>\n",
       "        </tr>\n",
       "    </tbody>\n",
       "</table>"
      ],
      "text/plain": [
       "[(1, 'A', 'foo'), (2, 'B', 'bar'), (4, None, 'qwe')]"
      ]
     },
     "execution_count": 23,
     "metadata": {},
     "output_type": "execute_result"
    }
   ],
   "source": [
    "%%sql\n",
    "UPDATE people SET id=DEFAULT, name=DEFAULT, address='qwe' where id = 3;\n",
    "SELECT * FROM people; "
   ]
  },
  {
   "cell_type": "markdown",
   "id": "8e211fe7-fcd5-4e80-929e-a66f5e796973",
   "metadata": {
    "jp-MarkdownHeadingCollapsed": true
   },
   "source": [
    "### 5.4. Generated Columns"
   ]
  },
  {
   "cell_type": "markdown",
   "id": "6350b0c7-1a12-4c6c-bbd0-5af766ba44f9",
   "metadata": {},
   "source": [
    "- Syntax is GENERATED [ALWAYS|BY DEFAULT] AS ... STORED\n",
    "- Creates a calculated column by using a column as base column.\n",
    "- Example usages:\n",
    "    - When you have to calculate a value using a column frequently, then you can store the calculated value in another column.\n",
    "        - By that way you can also index that column and make optimizations.\n",
    "    - When calculating, if base column is NULL then generated column will be also NULL.\n",
    "    - (From documentation) Generated columns maintain access privileges separately from their underlying base columns.\n",
    "        - So, it is possible to arrange it so that a particular role can read from a generated column but not from the underlying base columns.\n",
    "        - For example you can hide email value from users except current user is admin (for simplicity current_user used instead of role based query).\n",
    "            - To achive this there are 2 columns for email: email and visible_email\n",
    "            - visible_email will be generated using email.\n",
    "            - When getting visible_email if current user is admin email will be seen, but is not admin ***** will be seen in results.\n",
    "            - To prevent other users get email by using email column, user rights will be revoked.\n",
    "            - ```sql\n",
    "                CREATE TABLE users (\n",
    "                    id SERIAL PRIMARY KEY,\n",
    "                    email VARCHAR(200) NOT NULL,\n",
    "                    visible_email VARCHAR(200) GENERATED ALWAYS AS (\n",
    "                        CASE \n",
    "                            WHEN current_user = 'admin' THEN email\n",
    "                            ELSE '*****'\n",
    "                        END\n",
    "                    ) STORED\n",
    "                );\n",
    "                REVOKE SELECT ON users FROM PUBLIC;\n",
    "                GRANT SELECT (id, visible_email) ON users TO PUBLIC;\n",
    "                GRANT SELECT (id, email, visible_email) ON users TO admin;\n",
    "              ```\n",
    "     "
   ]
  },
  {
   "cell_type": "markdown",
   "id": "3269ff91-ace7-4d93-869b-e5b446bb12d9",
   "metadata": {
    "jp-MarkdownHeadingCollapsed": true
   },
   "source": [
    "##### a. Creating table with GENERATED column"
   ]
  },
  {
   "cell_type": "code",
   "execution_count": 24,
   "id": "28167ed0-b4b5-4fec-9bd7-d578c7ca6c9a",
   "metadata": {},
   "outputs": [
    {
     "name": "stdout",
     "output_type": "stream",
     "text": [
      " * postgresql://postgres@localhost/mydb\n",
      "Done.\n",
      "Done.\n"
     ]
    },
    {
     "data": {
      "text/plain": [
       "[]"
      ]
     },
     "execution_count": 24,
     "metadata": {},
     "output_type": "execute_result"
    }
   ],
   "source": [
    "%%sql\n",
    "DROP TABLE IF EXISTS people;\n",
    "CREATE TABLE people (\n",
    "\tid bigint PRIMARY KEY GENERATED ALWAYS AS IDENTITY,\n",
    "\tname varchar(80),\n",
    "\taddress varchar(80),\n",
    "\theight_cm numeric,\n",
    "\theight_in numeric GENERATED ALWAYS AS (height_cm / 2.54) STORED\n",
    ");"
   ]
  },
  {
   "cell_type": "markdown",
   "id": "126e6fac-b6e6-40dd-b7b0-e104f81b10f2",
   "metadata": {},
   "source": [
    "- Inserting values to table with GENERATED column.\n",
    "- See that when height_cm is null, generated column is also null."
   ]
  },
  {
   "cell_type": "code",
   "execution_count": 25,
   "id": "5777e4a8-56ef-45a1-b4bc-e3e4d1c7ff96",
   "metadata": {},
   "outputs": [
    {
     "name": "stdout",
     "output_type": "stream",
     "text": [
      " * postgresql://postgres@localhost/mydb\n",
      "1 rows affected.\n",
      "1 rows affected.\n",
      "2 rows affected.\n"
     ]
    },
    {
     "data": {
      "text/html": [
       "<table>\n",
       "    <thead>\n",
       "        <tr>\n",
       "            <th>id</th>\n",
       "            <th>name</th>\n",
       "            <th>address</th>\n",
       "            <th>height_cm</th>\n",
       "            <th>height_in</th>\n",
       "        </tr>\n",
       "    </thead>\n",
       "    <tbody>\n",
       "        <tr>\n",
       "            <td>1</td>\n",
       "            <td>A</td>\n",
       "            <td>foo</td>\n",
       "            <td>170</td>\n",
       "            <td>66.9291338582677165</td>\n",
       "        </tr>\n",
       "        <tr>\n",
       "            <td>2</td>\n",
       "            <td>B</td>\n",
       "            <td>bar</td>\n",
       "            <td>None</td>\n",
       "            <td>None</td>\n",
       "        </tr>\n",
       "    </tbody>\n",
       "</table>"
      ],
      "text/plain": [
       "[(1, 'A', 'foo', Decimal('170'), Decimal('66.9291338582677165')),\n",
       " (2, 'B', 'bar', None, None)]"
      ]
     },
     "execution_count": 25,
     "metadata": {},
     "output_type": "execute_result"
    }
   ],
   "source": [
    "%%sql\n",
    "INSERT INTO people (name, address, height_cm) VALUES ('A', 'foo', 170); \n",
    "INSERT INTO people (name, address) VALUES ('B', 'bar');\n",
    "SELECT * FROM people;"
   ]
  },
  {
   "cell_type": "markdown",
   "id": "87e1546c-d647-4c0e-a3d4-de6f3efe0174",
   "metadata": {},
   "source": [
    "### 5.5. Constraints"
   ]
  },
  {
   "cell_type": "markdown",
   "id": "53782462-857c-42ba-9564-1450cebffeef",
   "metadata": {
    "jp-MarkdownHeadingCollapsed": true
   },
   "source": [
    "#### 5.5.1. Check Constraints"
   ]
  },
  {
   "cell_type": "markdown",
   "id": "10332056-419a-4b5b-ae1c-3a0bd29fd0d5",
   "metadata": {
    "jp-MarkdownHeadingCollapsed": true
   },
   "source": [
    "##### a. Creating table with check constraint"
   ]
  },
  {
   "cell_type": "code",
   "execution_count": 26,
   "id": "6d4f8f0c-9d89-4903-a2b0-e6c9fa858b33",
   "metadata": {},
   "outputs": [
    {
     "name": "stdout",
     "output_type": "stream",
     "text": [
      " * postgresql://postgres@localhost/mydb\n",
      "(psycopg2.errors.DependentObjectsStillExist) HATA:  diğer nesnelerin ona bağlı olması nedeniyle products tablosu kaldırılamıyor\n",
      "DETAIL:  orders tablosu üzerinde orders_product_no_fkey kısıtlaması, products tablosu nesnesine bağlıdır\n",
      "HINT:  Bağlı nesneleri de kaldırmak için DROP ... CASCADE kullanın.\n",
      "\n",
      "[SQL: DROP TABLE IF EXISTS products;]\n",
      "(Background on this error at: https://sqlalche.me/e/20/2j85)\n"
     ]
    }
   ],
   "source": [
    "%%sql\n",
    "DROP TABLE IF EXISTS products;\n",
    "CREATE TABLE products (\n",
    "\tproduct_no integer,\n",
    "\tname text,\n",
    "\tprice numeric CHECK (price > 0)\n",
    ");"
   ]
  },
  {
   "cell_type": "markdown",
   "id": "8b23cc6b-2d7b-417f-b706-ae9ecb71183a",
   "metadata": {},
   "source": [
    "- Inserting record to table has check constraint\n",
    "- Operation will throw error because of price should be greater than zero."
   ]
  },
  {
   "cell_type": "code",
   "execution_count": 27,
   "id": "d54a5857-987d-4354-bf94-583dfce670d5",
   "metadata": {},
   "outputs": [
    {
     "name": "stdout",
     "output_type": "stream",
     "text": [
      " * postgresql://postgres@localhost/mydb\n",
      "(psycopg2.errors.UniqueViolation) HATA:  tekrar eden kayıt, \"products_pkey\" tekil kısıtlamasını ihlal etmektedir\n",
      "DETAIL:  \"(product_no)=(1)\" anahtarı zaten mevcut\n",
      "\n",
      "[SQL: INSERT INTO products VALUES (1, 'product-1' , 0);]\n",
      "(Background on this error at: https://sqlalche.me/e/20/gkpj)\n"
     ]
    }
   ],
   "source": [
    "%sql INSERT INTO products VALUES (1, 'product-1', 0);"
   ]
  },
  {
   "cell_type": "markdown",
   "id": "e105eed4-7faa-48b7-8e35-3b16f2a8d3b5",
   "metadata": {
    "jp-MarkdownHeadingCollapsed": true
   },
   "source": [
    "##### b. Creating table with check constraint which has name"
   ]
  },
  {
   "cell_type": "markdown",
   "id": "d8874c5b-1025-4fe8-87e8-555ba4813fce",
   "metadata": {},
   "source": [
    "- Giving a constraint name clarifies error messages and allows you to refer it when constraint needed to change"
   ]
  },
  {
   "cell_type": "code",
   "execution_count": 28,
   "id": "0950a081-b1af-4d9d-83fb-5be201c0a434",
   "metadata": {},
   "outputs": [
    {
     "name": "stdout",
     "output_type": "stream",
     "text": [
      " * postgresql://postgres@localhost/mydb\n",
      "(psycopg2.errors.DependentObjectsStillExist) HATA:  diğer nesnelerin ona bağlı olması nedeniyle products tablosu kaldırılamıyor\n",
      "DETAIL:  orders tablosu üzerinde orders_product_no_fkey kısıtlaması, products tablosu nesnesine bağlıdır\n",
      "HINT:  Bağlı nesneleri de kaldırmak için DROP ... CASCADE kullanın.\n",
      "\n",
      "[SQL: DROP TABLE IF EXISTS products;]\n",
      "(Background on this error at: https://sqlalche.me/e/20/2j85)\n"
     ]
    }
   ],
   "source": [
    "%%sql\n",
    "DROP TABLE IF EXISTS products;\n",
    "CREATE TABLE products (\n",
    "\tproduct_no integer,\n",
    "\tname text,\n",
    "\tprice numeric CONSTRAINT positive_price CHECK (price > 0)\n",
    ");"
   ]
  },
  {
   "cell_type": "markdown",
   "id": "7183e450-9224-4426-b282-7105315c6a02",
   "metadata": {},
   "source": [
    "- Inserting record to table has named check constraint\n",
    "- Operation will throw error because of price should be greater than zero.\n",
    "- See that error message includes constraint name (positive_price)."
   ]
  },
  {
   "cell_type": "code",
   "execution_count": 29,
   "id": "ab83c65b-17db-4ea5-92bd-fcf7b7d09997",
   "metadata": {},
   "outputs": [
    {
     "name": "stdout",
     "output_type": "stream",
     "text": [
      " * postgresql://postgres@localhost/mydb\n",
      "(psycopg2.errors.UniqueViolation) HATA:  tekrar eden kayıt, \"products_pkey\" tekil kısıtlamasını ihlal etmektedir\n",
      "DETAIL:  \"(product_no)=(1)\" anahtarı zaten mevcut\n",
      "\n",
      "[SQL: INSERT INTO products VALUES (1, 'product-1' , 0);]\n",
      "(Background on this error at: https://sqlalche.me/e/20/gkpj)\n"
     ]
    }
   ],
   "source": [
    "%sql INSERT INTO products VALUES (1, 'product-1', 0);"
   ]
  },
  {
   "cell_type": "markdown",
   "id": "806e4c4b-a3e7-4f6c-beb4-8f4b1e05f531",
   "metadata": {
    "jp-MarkdownHeadingCollapsed": true
   },
   "source": [
    "##### c. Removing constraint from table and adding new constraint"
   ]
  },
  {
   "cell_type": "markdown",
   "id": "54f5c08a-8e33-4f70-ba56-1390a381af26",
   "metadata": {},
   "source": [
    "- First creating table with constraint and give a name to constraint."
   ]
  },
  {
   "cell_type": "code",
   "execution_count": 30,
   "id": "b0437de4-6622-4433-a20d-df8f624d8842",
   "metadata": {},
   "outputs": [
    {
     "name": "stdout",
     "output_type": "stream",
     "text": [
      " * postgresql://postgres@localhost/mydb\n",
      "(psycopg2.errors.DependentObjectsStillExist) HATA:  diğer nesnelerin ona bağlı olması nedeniyle products tablosu kaldırılamıyor\n",
      "DETAIL:  orders tablosu üzerinde orders_product_no_fkey kısıtlaması, products tablosu nesnesine bağlıdır\n",
      "HINT:  Bağlı nesneleri de kaldırmak için DROP ... CASCADE kullanın.\n",
      "\n",
      "[SQL: DROP TABLE IF EXISTS products;]\n",
      "(Background on this error at: https://sqlalche.me/e/20/2j85)\n"
     ]
    }
   ],
   "source": [
    "%%sql\n",
    "DROP TABLE IF EXISTS products;\n",
    "CREATE TABLE products (\n",
    "\tproduct_no integer,\n",
    "\tname text,\n",
    "\tprice numeric CONSTRAINT positive_price CHECK (price > 0)\n",
    ");"
   ]
  },
  {
   "cell_type": "markdown",
   "id": "10b74084-defa-4380-8559-b612689a57de",
   "metadata": {},
   "source": [
    "- Removing a constraint and adding new constraint.\n",
    "- Since constraint has a name it easy to remove using name.\n",
    "- When not given a name you should find constraint int pg tables. (For more: Google -> PostgreSQL drop constraint with unknown name)"
   ]
  },
  {
   "cell_type": "code",
   "execution_count": 31,
   "id": "8d3b1e68-f9e2-42b3-8d73-3087545c5bf7",
   "metadata": {},
   "outputs": [
    {
     "name": "stdout",
     "output_type": "stream",
     "text": [
      " * postgresql://postgres@localhost/mydb\n",
      "(psycopg2.errors.UndefinedObject) HATA:  \"positive_price\" kısıtlaması \"products\" nesnesinde mevcut değil\n",
      "\n",
      "[SQL: ALTER TABLE products DROP CONSTRAINT positive_price;]\n",
      "(Background on this error at: https://sqlalche.me/e/20/f405)\n"
     ]
    }
   ],
   "source": [
    "%%sql\n",
    "ALTER TABLE products DROP CONSTRAINT positive_price;\n",
    "ALTER TABLE products ADD CONSTRAINT minimum_price CHECK (price >= 10.0);"
   ]
  },
  {
   "cell_type": "markdown",
   "id": "d39465c7-bfba-414b-8756-06f380b1e2ae",
   "metadata": {},
   "source": [
    "##### d. Other constraint informations"
   ]
  },
  {
   "cell_type": "markdown",
   "id": "5a678110-30ae-48f4-8944-09d8b99e4ab1",
   "metadata": {},
   "source": [
    "- Check constraint can be added for multiple columns or full table.\n",
    "- When adding new constraint to non-empty table, all records should complain new constraint. Otherwise constraint is violated by some row error will be thrown. (This is not always the case; details will be provided later.)"
   ]
  },
  {
   "cell_type": "markdown",
   "id": "ef5e323e-76ef-4279-9cae-010e9c07d9e4",
   "metadata": {},
   "source": [
    "- First recreating table for cleaning constraints."
   ]
  },
  {
   "cell_type": "code",
   "execution_count": 32,
   "id": "692d8ab6-5352-4fd2-803d-f94c086b972c",
   "metadata": {},
   "outputs": [
    {
     "name": "stdout",
     "output_type": "stream",
     "text": [
      " * postgresql://postgres@localhost/mydb\n",
      "(psycopg2.errors.DependentObjectsStillExist) HATA:  diğer nesnelerin ona bağlı olması nedeniyle products tablosu kaldırılamıyor\n",
      "DETAIL:  orders tablosu üzerinde orders_product_no_fkey kısıtlaması, products tablosu nesnesine bağlıdır\n",
      "HINT:  Bağlı nesneleri de kaldırmak için DROP ... CASCADE kullanın.\n",
      "\n",
      "[SQL: DROP TABLE IF EXISTS products;]\n",
      "(Background on this error at: https://sqlalche.me/e/20/2j85)\n"
     ]
    }
   ],
   "source": [
    "%%sql\n",
    "DROP TABLE IF EXISTS products;\n",
    "CREATE TABLE products (\n",
    "\tproduct_no integer,\n",
    "\tname text,\n",
    "\tprice numeric CONSTRAINT positive_price CHECK (price > 0)\n",
    ");"
   ]
  },
  {
   "cell_type": "markdown",
   "id": "e93e2383-04d9-47ad-a7ed-1ec3f2390cd0",
   "metadata": {},
   "source": [
    "- Adding constraint using multiple columns."
   ]
  },
  {
   "cell_type": "code",
   "execution_count": 33,
   "id": "59a5c320-8e6a-45f5-b3bd-246f8944dfd9",
   "metadata": {},
   "outputs": [
    {
     "name": "stdout",
     "output_type": "stream",
     "text": [
      " * postgresql://postgres@localhost/mydb\n",
      "Done.\n"
     ]
    },
    {
     "data": {
      "text/plain": [
       "[]"
      ]
     },
     "execution_count": 33,
     "metadata": {},
     "output_type": "execute_result"
    }
   ],
   "source": [
    "%sql ALTER TABLE products ADD CONSTRAINT product_no_and_price CHECK (product_no > 0 and price > 0);"
   ]
  },
  {
   "cell_type": "markdown",
   "id": "579fb99c-0422-46df-a5d3-1383f61782a1",
   "metadata": {},
   "source": [
    "- Adding constraint for all columns."
   ]
  },
  {
   "cell_type": "code",
   "execution_count": 34,
   "id": "55f4d122-9ff3-43f2-a62d-1013c582548f",
   "metadata": {},
   "outputs": [
    {
     "name": "stdout",
     "output_type": "stream",
     "text": [
      " * postgresql://postgres@localhost/mydb\n",
      "(psycopg2.errors.CheckViolation) HATA:  check constraint \"lock_table\" of relation \"products\" is violated by some row\n",
      "\n",
      "[SQL: ALTER TABLE products ADD CONSTRAINT lock_table CHECK (false);]\n",
      "(Background on this error at: https://sqlalche.me/e/20/gkpj)\n"
     ]
    }
   ],
   "source": [
    "%sql ALTER TABLE products ADD CONSTRAINT lock_table CHECK (false);"
   ]
  },
  {
   "cell_type": "markdown",
   "id": "08881218-0323-4abf-b098-3b9cd3cb658c",
   "metadata": {},
   "source": [
    "- Check constraing can be applied only new added or modified records.\n",
    "- To achieve this NOT VALID should be used."
   ]
  },
  {
   "cell_type": "markdown",
   "id": "45f03b44-1525-4989-a6d4-0cf92c34d6a7",
   "metadata": {},
   "source": [
    "- First cleaning constraints."
   ]
  },
  {
   "cell_type": "code",
   "execution_count": 35,
   "id": "f5c32f36-3ac7-48f3-9d5e-5525d7705ba2",
   "metadata": {},
   "outputs": [
    {
     "name": "stdout",
     "output_type": "stream",
     "text": [
      " * postgresql://postgres@localhost/mydb\n",
      "Done.\n",
      "Done.\n"
     ]
    },
    {
     "data": {
      "text/plain": [
       "[]"
      ]
     },
     "execution_count": 35,
     "metadata": {},
     "output_type": "execute_result"
    }
   ],
   "source": [
    "%%sql \n",
    "ALTER TABLE products DROP CONSTRAINT IF EXISTS product_no_and_price;\n",
    "ALTER TABLE products DROP CONSTRAINT IF EXISTS lock_table;"
   ]
  },
  {
   "cell_type": "markdown",
   "id": "5e75dc43-f0ea-4532-82f8-51fc2af0febf",
   "metadata": {},
   "source": [
    "- Inserting values to product table to see effect of new constraints on old values."
   ]
  },
  {
   "cell_type": "code",
   "execution_count": 36,
   "id": "8a752ce4-4cc9-413f-8744-51c35757b32c",
   "metadata": {},
   "outputs": [
    {
     "name": "stdout",
     "output_type": "stream",
     "text": [
      " * postgresql://postgres@localhost/mydb\n",
      "(psycopg2.errors.UniqueViolation) HATA:  tekrar eden kayıt, \"products_pkey\" tekil kısıtlamasını ihlal etmektedir\n",
      "DETAIL:  \"(product_no)=(1)\" anahtarı zaten mevcut\n",
      "\n",
      "[SQL: INSERT INTO products VALUES (1, 'product-1', 10);]\n",
      "(Background on this error at: https://sqlalche.me/e/20/gkpj)\n"
     ]
    }
   ],
   "source": [
    "%%sql\n",
    "INSERT INTO products VALUES (1, 'product-1', 10);\n",
    "INSERT INTO products VALUES (2, 'product-2', 20);\n",
    "SELECT * FROM products;"
   ]
  },
  {
   "cell_type": "markdown",
   "id": "2b8e95b3-d48d-44a8-b8b7-68744bf8e638",
   "metadata": {},
   "source": [
    "- First see when adding new constraing without NOT VALID property.\n",
    "- It throws error because there are rows which not comply with new constraint."
   ]
  },
  {
   "cell_type": "code",
   "execution_count": 37,
   "id": "6ac5b1bd-d637-4049-acdc-ec11cb94e7ca",
   "metadata": {},
   "outputs": [
    {
     "name": "stdout",
     "output_type": "stream",
     "text": [
      " * postgresql://postgres@localhost/mydb\n",
      "(psycopg2.errors.CheckViolation) HATA:  check constraint \"lock_table\" of relation \"products\" is violated by some row\n",
      "\n",
      "[SQL: ALTER TABLE products ADD CONSTRAINT lock_table CHECK (false);]\n",
      "(Background on this error at: https://sqlalche.me/e/20/gkpj)\n"
     ]
    }
   ],
   "source": [
    "%sql ALTER TABLE products ADD CONSTRAINT lock_table CHECK (false);"
   ]
  },
  {
   "cell_type": "markdown",
   "id": "a8e069ef-8c4b-44dd-a376-b186fde7c4db",
   "metadata": {},
   "source": [
    "- Now when using NOT VALID, constraint does not check old values\n",
    "- So there will be no error thrown."
   ]
  },
  {
   "cell_type": "code",
   "execution_count": 38,
   "id": "4fc3467e-278d-44a4-b5f9-31682639510a",
   "metadata": {},
   "outputs": [
    {
     "name": "stdout",
     "output_type": "stream",
     "text": [
      " * postgresql://postgres@localhost/mydb\n",
      "Done.\n"
     ]
    },
    {
     "data": {
      "text/plain": [
       "[]"
      ]
     },
     "execution_count": 38,
     "metadata": {},
     "output_type": "execute_result"
    }
   ],
   "source": [
    "%sql ALTER TABLE products ADD CONSTRAINT lock_table CHECK (false) NOT VALID;"
   ]
  },
  {
   "cell_type": "markdown",
   "id": "09fb8a94-2244-4682-b83b-2d356d4cd1d8",
   "metadata": {},
   "source": [
    "- You can check the constraint for old values manually.\n",
    "- To do that you can use VALIDATE command.\n",
    "- This statement throws error if there is any record that violates new constraint."
   ]
  },
  {
   "cell_type": "code",
   "execution_count": 39,
   "id": "7cecc841-32ed-4174-a4b1-91930c507fd3",
   "metadata": {},
   "outputs": [
    {
     "name": "stdout",
     "output_type": "stream",
     "text": [
      " * postgresql://postgres@localhost/mydb\n",
      "(psycopg2.errors.CheckViolation) HATA:  check constraint \"lock_table\" of relation \"products\" is violated by some row\n",
      "\n",
      "[SQL: ALTER TABLE products VALIDATE CONSTRAINT lock_table;]\n",
      "(Background on this error at: https://sqlalche.me/e/20/gkpj)\n"
     ]
    }
   ],
   "source": [
    "%sql ALTER TABLE products VALIDATE CONSTRAINT lock_table;"
   ]
  },
  {
   "cell_type": "markdown",
   "id": "1f200c72-1010-495e-a985-e00d8e75f4ee",
   "metadata": {},
   "source": [
    "- Also when inserting new value to table it will throw error.\n",
    "- Because constraint does not allow new records."
   ]
  },
  {
   "cell_type": "code",
   "execution_count": 40,
   "id": "18109720-60b6-4f05-a69c-516510484718",
   "metadata": {},
   "outputs": [
    {
     "name": "stdout",
     "output_type": "stream",
     "text": [
      " * postgresql://postgres@localhost/mydb\n",
      "(psycopg2.errors.CheckViolation) HATA:  \"products\" tablosuna girilen yeni satır \"lock_table\" check kısıtlamasını ihlal ediyor\n",
      "DETAIL:  Hata veren satır (3, product-3, 30) içeriyor.\n",
      "\n",
      "[SQL: INSERT INTO products VALUES (3, 'product-3' , 30);]\n",
      "(Background on this error at: https://sqlalche.me/e/20/gkpj)\n"
     ]
    }
   ],
   "source": [
    "%sql INSERT INTO products VALUES (3, 'product-3', 30);"
   ]
  },
  {
   "cell_type": "markdown",
   "id": "f5c0d53d-6e6e-4769-80d4-858bb35dc7fe",
   "metadata": {},
   "source": [
    "#### Constraint property DEFERRABLE (Independent from book)"
   ]
  },
  {
   "cell_type": "markdown",
   "id": "706a23b2-1d57-4715-8834-68aa697b9f93",
   "metadata": {},
   "source": [
    "- For constraints there is also DEFERRABLE property is available.\n",
    "- DEFERRABLE specifies action timing for constraints.\n",
    "- It specifies will constraint applied immediately or applied end of transaction.\n",
    "- Usage is: CONSTRAINT ... [ DEFERRABLE | NOT DEFERRABLE ] [ INITIALLY DEFERRED | INITIALLY IMMEDIATE ]\n",
    "    - [ DEFERRABLE | NOT DEFERRABLE ]: default value is NOT DEFERRABLE.\n",
    "    - [ INITIALLY DEFERRED | INITIALLY IMMEDIATE ]: default value is INITIALLY IMMEDIATE.\n",
    "- INITIALLY DEFERRED means in all operations constraint will be checked immediately before insert/update.\n",
    "- INITIALLY DEFERRED means checking constraint wil be deferred until end of transaction (commit, rollback or error states).\n",
    "- Actually this cases will be initial case for DEFERRABLE. That means you can change DEFERRED or IMMEDIATE status in the transaction. But this change is only valid in transaction. Does not affect other transactions.\n",
    "    - For example when defining foreign key constraint with DEFERRABLE without specifying immediate or deferred, its default value is INITIALLY IMMEDIATE.\n",
    "        - SET CONSTRAINT ... DEFERRED\n",
    "    - So when in transaction if foreign key will be given later in the transaction, you can set status to DEFERRED and foreign key constraint will be checked end of transaction.\n",
    "        - SET CONSTRAINT ... IMMEDIATE\n",
    "    - The reverse could have also been done. A constraint can be defined INITIALLY DEFERRED and you may want to see result of an operation without waiting end of transaction. So you can change it to IMMEDIATE in the transaction. Then constraint will be checked immediately.\n",
    "- If NOT DEFERRABLE used, you can not change the defer status in the transaction temporarily.\n",
    "- Yes it can be changed by using ALTER TABLE statement but if affects all latter transactions. Since this action involves modifying the database schema, it is not recommended to use it indiscriminately.\n",
    "    - ALTER TABLE ... DROP CONSTRAINT ...;\n",
    "    - ALTER TABLE ... ADD CONSTRAINT ... FOREIGN KEY (...) REFERENCES ... DEFERRABLE INITIALLY DEFERRED;"
   ]
  },
  {
   "cell_type": "markdown",
   "id": "115f322e-7e5d-4eb9-bedc-bf9243ae7768",
   "metadata": {},
   "source": [
    "- To see the effects in this section auto-commit will be disabled.\n",
    "- Do not forget to re-open for other sections."
   ]
  },
  {
   "cell_type": "code",
   "execution_count": 41,
   "id": "28d61801-7bf4-41d4-a17b-bfe9660f0184",
   "metadata": {},
   "outputs": [],
   "source": [
    "%config SqlMagic.autocommit=False"
   ]
  },
  {
   "cell_type": "markdown",
   "id": "f10e7271-70df-4273-af5d-26718373e8f3",
   "metadata": {
    "jp-MarkdownHeadingCollapsed": true
   },
   "source": [
    "###### e.1 DEFERRABLE NOT DEFERRABLE usage"
   ]
  },
  {
   "cell_type": "markdown",
   "id": "8e02da5d-0dfb-4c36-b934-467d3ad80a6b",
   "metadata": {},
   "source": [
    "- Since default value for deferration is NOT DEFERRABLE, unique_product_no constraint will be NOT DEFERRABLE "
   ]
  },
  {
   "cell_type": "code",
   "execution_count": 42,
   "id": "851f8ad9-2f1b-4e8c-bab3-2f7e386b7448",
   "metadata": {},
   "outputs": [
    {
     "name": "stdout",
     "output_type": "stream",
     "text": [
      " * postgresql://postgres@localhost/mydb\n",
      "(psycopg2.errors.DependentObjectsStillExist) HATA:  diğer nesnelerin ona bağlı olması nedeniyle products tablosu kaldırılamıyor\n",
      "DETAIL:  orders tablosu üzerinde orders_product_no_fkey kısıtlaması, products tablosu nesnesine bağlıdır\n",
      "HINT:  Bağlı nesneleri de kaldırmak için DROP ... CASCADE kullanın.\n",
      "\n",
      "[SQL: DROP TABLE IF EXISTS products;]\n",
      "(Background on this error at: https://sqlalche.me/e/20/2j85)\n"
     ]
    }
   ],
   "source": [
    "%%sql\n",
    "DROP TABLE IF EXISTS products;\n",
    "CREATE TABLE products (\n",
    "\tproduct_no integer CONSTRAINT unique_product_no UNIQUE,\n",
    "\tname text,\n",
    "\tprice numeric\n",
    ");\n",
    "COMMIT;"
   ]
  },
  {
   "cell_type": "markdown",
   "id": "8ec87d98-ce90-42fe-a615-0be28b858d98",
   "metadata": {},
   "source": [
    "- Second insertion will throw error immediately without waiting the transaction ends. \n",
    "- Since error thrown in transaction, it rolls back and none of the insertions will be reflected in the table."
   ]
  },
  {
   "cell_type": "code",
   "execution_count": 43,
   "id": "8642bcbe-6239-4684-bfd7-0912c193572e",
   "metadata": {},
   "outputs": [
    {
     "name": "stdout",
     "output_type": "stream",
     "text": [
      " * postgresql://postgres@localhost/mydb\n",
      "Done.\n",
      "(psycopg2.errors.CheckViolation) HATA:  \"products\" tablosuna girilen yeni satır \"lock_table\" check kısıtlamasını ihlal ediyor\n",
      "DETAIL:  Hata veren satır (1, product-1, 10) içeriyor.\n",
      "\n",
      "[SQL: INSERT INTO products VALUES (1, 'product-1', 10);]\n",
      "(Background on this error at: https://sqlalche.me/e/20/gkpj)\n"
     ]
    }
   ],
   "source": [
    "%%sql\n",
    "BEGIN;\n",
    "INSERT INTO products VALUES (1, 'product-1', 10);\n",
    "INSERT INTO products VALUES (1, 'product-1', 10);\n",
    "INSERT INTO products VALUES (2, 'product-2', 20);\n",
    "COMMIT;"
   ]
  },
  {
   "cell_type": "code",
   "execution_count": 44,
   "id": "ff345427-9885-4478-b289-f670e8199270",
   "metadata": {},
   "outputs": [
    {
     "name": "stdout",
     "output_type": "stream",
     "text": [
      " * postgresql://postgres@localhost/mydb\n",
      "1 rows affected.\n"
     ]
    },
    {
     "data": {
      "text/html": [
       "<table>\n",
       "    <thead>\n",
       "        <tr>\n",
       "            <th>product_no</th>\n",
       "            <th>name</th>\n",
       "            <th>price</th>\n",
       "        </tr>\n",
       "    </thead>\n",
       "    <tbody>\n",
       "        <tr>\n",
       "            <td>1</td>\n",
       "            <td>product-1</td>\n",
       "            <td>10</td>\n",
       "        </tr>\n",
       "    </tbody>\n",
       "</table>"
      ],
      "text/plain": [
       "[(1, 'product-1', Decimal('10'))]"
      ]
     },
     "execution_count": 44,
     "metadata": {},
     "output_type": "execute_result"
    }
   ],
   "source": [
    "%sql SELECT * FROM products;"
   ]
  },
  {
   "cell_type": "markdown",
   "id": "9b26064b-c3b7-4787-90fe-3cff03218a12",
   "metadata": {
    "jp-MarkdownHeadingCollapsed": true
   },
   "source": [
    "###### e.2 DEFERRABLE INITIALLY DEFERRED usage"
   ]
  },
  {
   "cell_type": "markdown",
   "id": "582651dc-f874-41ce-97ac-b43340ac5f51",
   "metadata": {},
   "source": [
    "- Creating table with INITIALLY DEFERRED statement."
   ]
  },
  {
   "cell_type": "code",
   "execution_count": 45,
   "id": "3c28a89f-009f-4e2c-b41c-8e2a051fc094",
   "metadata": {},
   "outputs": [
    {
     "name": "stdout",
     "output_type": "stream",
     "text": [
      " * postgresql://postgres@localhost/mydb\n",
      "(psycopg2.errors.DependentObjectsStillExist) HATA:  diğer nesnelerin ona bağlı olması nedeniyle products tablosu kaldırılamıyor\n",
      "DETAIL:  orders tablosu üzerinde orders_product_no_fkey kısıtlaması, products tablosu nesnesine bağlıdır\n",
      "HINT:  Bağlı nesneleri de kaldırmak için DROP ... CASCADE kullanın.\n",
      "\n",
      "[SQL: DROP TABLE IF EXISTS products;]\n",
      "(Background on this error at: https://sqlalche.me/e/20/2j85)\n"
     ]
    }
   ],
   "source": [
    "%%sql\n",
    "DROP TABLE IF EXISTS products;\n",
    "CREATE TABLE products (\n",
    "\tproduct_no integer CONSTRAINT unique_product_no UNIQUE DEFERRABLE INITIALLY DEFERRED,\n",
    "\tname text,\n",
    "\tprice numeric\n",
    ");\n",
    "COMMIT;"
   ]
  },
  {
   "cell_type": "markdown",
   "id": "00a254bf-a638-4140-be65-a11f15da9e89",
   "metadata": {},
   "source": [
    "- In this transaction second insertion will not throw error. Because unique constraint check deferred until transaction ends.\n",
    "- In third statement products with id 1 are deleted.\n",
    "- And in fourth statement a product with id 1 is inserted to empty table.\n",
    "- At the end of transaction there is only 1 record which has id 1.\n",
    "- So transaction commit successfully because all records comply with unique constraint."
   ]
  },
  {
   "cell_type": "code",
   "execution_count": 46,
   "id": "95e7a784-8c5c-4b79-932d-af2db90adbee",
   "metadata": {},
   "outputs": [
    {
     "name": "stdout",
     "output_type": "stream",
     "text": [
      " * postgresql://postgres@localhost/mydb\n",
      "Done.\n",
      "(psycopg2.errors.CheckViolation) HATA:  \"products\" tablosuna girilen yeni satır \"lock_table\" check kısıtlamasını ihlal ediyor\n",
      "DETAIL:  Hata veren satır (1, product-1, 10) içeriyor.\n",
      "\n",
      "[SQL: INSERT INTO products VALUES (1, 'product-1', 10);]\n",
      "(Background on this error at: https://sqlalche.me/e/20/gkpj)\n"
     ]
    }
   ],
   "source": [
    "%%sql\n",
    "BEGIN;\n",
    "INSERT INTO products VALUES (1, 'product-1', 10);\n",
    "INSERT INTO products VALUES (1, 'product-1', 10);\n",
    "DELETE FROM products where product_no=1;\n",
    "INSERT INTO products VALUES (1, 'product-1', 10);\n",
    "COMMIT;"
   ]
  },
  {
   "cell_type": "markdown",
   "id": "78d1d3f2-a9f2-4780-9a18-d3ea3844ff31",
   "metadata": {},
   "source": [
    "- In the end there is only 1 record in table."
   ]
  },
  {
   "cell_type": "code",
   "execution_count": 47,
   "id": "1cf05cef-f9d1-423d-a839-64f9e715dd2d",
   "metadata": {},
   "outputs": [
    {
     "name": "stdout",
     "output_type": "stream",
     "text": [
      " * postgresql://postgres@localhost/mydb\n",
      "1 rows affected.\n"
     ]
    },
    {
     "data": {
      "text/html": [
       "<table>\n",
       "    <thead>\n",
       "        <tr>\n",
       "            <th>product_no</th>\n",
       "            <th>name</th>\n",
       "            <th>price</th>\n",
       "        </tr>\n",
       "    </thead>\n",
       "    <tbody>\n",
       "        <tr>\n",
       "            <td>1</td>\n",
       "            <td>product-1</td>\n",
       "            <td>10</td>\n",
       "        </tr>\n",
       "    </tbody>\n",
       "</table>"
      ],
      "text/plain": [
       "[(1, 'product-1', Decimal('10'))]"
      ]
     },
     "execution_count": 47,
     "metadata": {},
     "output_type": "execute_result"
    }
   ],
   "source": [
    "%sql SELECT * FROM products;"
   ]
  },
  {
   "cell_type": "markdown",
   "id": "536d1ee9-8474-4150-8714-259f474e709e",
   "metadata": {},
   "source": [
    "- An example that gives an error.\n",
    "- But the error will be thrown at the end of transaction."
   ]
  },
  {
   "cell_type": "code",
   "execution_count": 48,
   "id": "bb26d390-2dde-4f53-888b-53c3d879dd37",
   "metadata": {},
   "outputs": [
    {
     "name": "stdout",
     "output_type": "stream",
     "text": [
      " * postgresql://postgres@localhost/mydb\n",
      "Done.\n",
      "(psycopg2.errors.CheckViolation) HATA:  \"products\" tablosuna girilen yeni satır \"lock_table\" check kısıtlamasını ihlal ediyor\n",
      "DETAIL:  Hata veren satır (1, product-1, 10) içeriyor.\n",
      "\n",
      "[SQL: INSERT INTO products VALUES (1, 'product-1', 10);]\n",
      "(Background on this error at: https://sqlalche.me/e/20/gkpj)\n"
     ]
    }
   ],
   "source": [
    "%%sql\n",
    "BEGIN;\n",
    "INSERT INTO products VALUES (1, 'product-1', 10);\n",
    "INSERT INTO products VALUES (1, 'product-1', 10);\n",
    "COMMIT;"
   ]
  },
  {
   "cell_type": "markdown",
   "id": "3ffd5c42-3f35-4ade-bdf6-fb4ae4a8c62f",
   "metadata": {
    "jp-MarkdownHeadingCollapsed": true
   },
   "source": [
    "###### e.3 Changing DEFERRABLE status in transaction"
   ]
  },
  {
   "cell_type": "markdown",
   "id": "4849b54e-8c92-4d05-9acb-8aa8f518dd05",
   "metadata": {},
   "source": [
    "- First creating a table with DEFERRABLE INITIALLY IMMEDIATE"
   ]
  },
  {
   "cell_type": "code",
   "execution_count": 49,
   "id": "5c0251ab-95a1-46b3-ac20-965394b08b25",
   "metadata": {},
   "outputs": [
    {
     "name": "stdout",
     "output_type": "stream",
     "text": [
      " * postgresql://postgres@localhost/mydb\n",
      "(psycopg2.errors.DependentObjectsStillExist) HATA:  diğer nesnelerin ona bağlı olması nedeniyle products tablosu kaldırılamıyor\n",
      "DETAIL:  orders tablosu üzerinde orders_product_no_fkey kısıtlaması, products tablosu nesnesine bağlıdır\n",
      "HINT:  Bağlı nesneleri de kaldırmak için DROP ... CASCADE kullanın.\n",
      "\n",
      "[SQL: DROP TABLE IF EXISTS products;]\n",
      "(Background on this error at: https://sqlalche.me/e/20/2j85)\n"
     ]
    }
   ],
   "source": [
    "%%sql\n",
    "DROP TABLE IF EXISTS products;\n",
    "CREATE TABLE products (\n",
    "\tproduct_no integer CONSTRAINT unique_product_no UNIQUE DEFERRABLE INITIALLY IMMEDIATE,\n",
    "\tname text,\n",
    "\tprice numeric\n",
    ");\n",
    "COMMIT;"
   ]
  },
  {
   "cell_type": "markdown",
   "id": "4afd3a50-8a63-4af1-984d-b36a39f4f95e",
   "metadata": {},
   "source": [
    "- In this transaction after adding a record to table changed CONSTRAINT status to DEFERRED.\n",
    "- When trying to add new record with same id do not throw error, because constraint deferred until transaction ends.\n",
    "- Since no error thrown, deleting records with id 1, adding new records with id 2 and 1 execute successfully.\n",
    "- When transaction ends unique constraint check validates that all records.\n",
    "- Since all records comply with constraint there is 2 record in the table in the end."
   ]
  },
  {
   "cell_type": "code",
   "execution_count": 50,
   "id": "6e7cefd4-091c-44ba-bd2f-211ce27cbc9e",
   "metadata": {},
   "outputs": [
    {
     "name": "stdout",
     "output_type": "stream",
     "text": [
      " * postgresql://postgres@localhost/mydb\n",
      "Done.\n",
      "(psycopg2.errors.CheckViolation) HATA:  \"products\" tablosuna girilen yeni satır \"lock_table\" check kısıtlamasını ihlal ediyor\n",
      "DETAIL:  Hata veren satır (1, product-1, 10) içeriyor.\n",
      "\n",
      "[SQL: INSERT INTO products VALUES (1, 'product-1', 10);]\n",
      "(Background on this error at: https://sqlalche.me/e/20/gkpj)\n"
     ]
    }
   ],
   "source": [
    "%%sql\n",
    "BEGIN;\n",
    "INSERT INTO products VALUES (1, 'product-1', 10);\n",
    "SET CONSTRAINTS unique_product_no DEFERRED;\n",
    "INSERT INTO products VALUES (1, 'product-1', 10);\n",
    "DELETE FROM products WHERE product_no = 1;\n",
    "INSERT INTO products VALUES (2, 'product-2', 20);\n",
    "INSERT INTO products VALUES (1, 'product-1', 10);\n",
    "COMMIT;"
   ]
  },
  {
   "cell_type": "code",
   "execution_count": 51,
   "id": "9e01317d-e9a2-4b3b-8454-ff99e7f9a694",
   "metadata": {},
   "outputs": [
    {
     "name": "stdout",
     "output_type": "stream",
     "text": [
      " * postgresql://postgres@localhost/mydb\n",
      "1 rows affected.\n"
     ]
    },
    {
     "data": {
      "text/html": [
       "<table>\n",
       "    <thead>\n",
       "        <tr>\n",
       "            <th>product_no</th>\n",
       "            <th>name</th>\n",
       "            <th>price</th>\n",
       "        </tr>\n",
       "    </thead>\n",
       "    <tbody>\n",
       "        <tr>\n",
       "            <td>1</td>\n",
       "            <td>product-1</td>\n",
       "            <td>10</td>\n",
       "        </tr>\n",
       "    </tbody>\n",
       "</table>"
      ],
      "text/plain": [
       "[(1, 'product-1', Decimal('10'))]"
      ]
     },
     "execution_count": 51,
     "metadata": {},
     "output_type": "execute_result"
    }
   ],
   "source": [
    "%sql SELECT * FROM products;"
   ]
  },
  {
   "cell_type": "markdown",
   "id": "3e352b98-b7eb-4029-91f1-1ca23be16b3c",
   "metadata": {},
   "source": [
    "###### e.4 Changing DEFERRABILITY"
   ]
  },
  {
   "cell_type": "markdown",
   "id": "debdc511-e814-4dde-998c-653832dcb8ea",
   "metadata": {},
   "source": [
    "- Not specified deferrability so it is NOT DEFERRABLE"
   ]
  },
  {
   "cell_type": "code",
   "execution_count": 52,
   "id": "9c67b467-62bc-4c54-955a-1453fbe4e4e8",
   "metadata": {},
   "outputs": [
    {
     "name": "stdout",
     "output_type": "stream",
     "text": [
      " * postgresql://postgres@localhost/mydb\n",
      "(psycopg2.errors.DependentObjectsStillExist) HATA:  diğer nesnelerin ona bağlı olması nedeniyle products tablosu kaldırılamıyor\n",
      "DETAIL:  orders tablosu üzerinde orders_product_no_fkey kısıtlaması, products tablosu nesnesine bağlıdır\n",
      "HINT:  Bağlı nesneleri de kaldırmak için DROP ... CASCADE kullanın.\n",
      "\n",
      "[SQL: DROP TABLE IF EXISTS products;]\n",
      "(Background on this error at: https://sqlalche.me/e/20/2j85)\n"
     ]
    }
   ],
   "source": [
    "%%sql\n",
    "DROP TABLE IF EXISTS products;\n",
    "CREATE TABLE products (\n",
    "\tproduct_no integer CONSTRAINT unique_product_no UNIQUE,\n",
    "\tname text,\n",
    "\tprice numeric\n",
    ");\n",
    "COMMIT;"
   ]
  },
  {
   "cell_type": "markdown",
   "id": "87fa0268-48ba-4239-a8e6-296700fbd08d",
   "metadata": {},
   "source": [
    "- Since unique_product_no is not deferrable, when change constraint to DEFERRED will cause error."
   ]
  },
  {
   "cell_type": "code",
   "execution_count": 53,
   "id": "fccd1d6e-23f8-4782-ac90-650bbd9f1a64",
   "metadata": {},
   "outputs": [
    {
     "name": "stdout",
     "output_type": "stream",
     "text": [
      " * postgresql://postgres@localhost/mydb\n",
      "Done.\n",
      "(psycopg2.errors.CheckViolation) HATA:  \"products\" tablosuna girilen yeni satır \"lock_table\" check kısıtlamasını ihlal ediyor\n",
      "DETAIL:  Hata veren satır (1, product-1, 10) içeriyor.\n",
      "\n",
      "[SQL: INSERT INTO products VALUES (1, 'product-1', 10);]\n",
      "(Background on this error at: https://sqlalche.me/e/20/gkpj)\n"
     ]
    }
   ],
   "source": [
    "%%sql\n",
    "BEGIN;\n",
    "INSERT INTO products VALUES (1, 'product-1', 10);\n",
    "SET CONSTRAINTS unique_product_no DEFERRED;\n",
    "COMMIT;"
   ]
  },
  {
   "cell_type": "markdown",
   "id": "97624cb9-f1f7-4bbf-a953-98d335663634",
   "metadata": {},
   "source": [
    "- To make NOT DEFERRABLE constraint to DEFERRED, ALTER TABLE used.\n",
    "- This is not temporarily in transaction and affects all latter transactions."
   ]
  },
  {
   "cell_type": "code",
   "execution_count": 54,
   "id": "01974848-00cc-4868-ac0a-18a716510c09",
   "metadata": {},
   "outputs": [
    {
     "name": "stdout",
     "output_type": "stream",
     "text": [
      " * postgresql://postgres@localhost/mydb\n",
      "Done.\n",
      "(psycopg2.errors.CheckViolation) HATA:  \"products\" tablosuna girilen yeni satır \"lock_table\" check kısıtlamasını ihlal ediyor\n",
      "DETAIL:  Hata veren satır (1, product-1, 10) içeriyor.\n",
      "\n",
      "[SQL: INSERT INTO products VALUES (1, 'product-1', 10);]\n",
      "(Background on this error at: https://sqlalche.me/e/20/gkpj)\n"
     ]
    }
   ],
   "source": [
    "%%sql\n",
    "BEGIN;\n",
    "INSERT INTO products VALUES (1, 'product-1', 10);\n",
    "ALTER TABLE products DROP CONSTRAINT unique_product_no;\n",
    "ALTER TABLE products ADD CONSTRAINT unique_product_no UNIQUE(product_no) DEFERRABLE INITIALLY DEFERRED;\n",
    "INSERT INTO products VALUES (1, 'product-1', 10);\n",
    "DELETE FROM products WHERE product_no = 1;\n",
    "INSERT INTO products VALUES (2, 'product-2', 20);\n",
    "INSERT INTO products VALUES (1, 'product-1', 10);\n",
    "COMMIT;"
   ]
  },
  {
   "cell_type": "code",
   "execution_count": 55,
   "id": "25d8745a-d270-4d9b-9b61-e6fb32a33018",
   "metadata": {},
   "outputs": [
    {
     "name": "stdout",
     "output_type": "stream",
     "text": [
      " * postgresql://postgres@localhost/mydb\n",
      "1 rows affected.\n"
     ]
    },
    {
     "data": {
      "text/html": [
       "<table>\n",
       "    <thead>\n",
       "        <tr>\n",
       "            <th>product_no</th>\n",
       "            <th>name</th>\n",
       "            <th>price</th>\n",
       "        </tr>\n",
       "    </thead>\n",
       "    <tbody>\n",
       "        <tr>\n",
       "            <td>1</td>\n",
       "            <td>product-1</td>\n",
       "            <td>10</td>\n",
       "        </tr>\n",
       "    </tbody>\n",
       "</table>"
      ],
      "text/plain": [
       "[(1, 'product-1', Decimal('10'))]"
      ]
     },
     "execution_count": 55,
     "metadata": {},
     "output_type": "execute_result"
    }
   ],
   "source": [
    "%sql SELECT * FROM products;"
   ]
  },
  {
   "cell_type": "code",
   "execution_count": 56,
   "id": "def12d54-948c-4665-8d85-e262705d70af",
   "metadata": {},
   "outputs": [],
   "source": [
    "%config SqlMagic.autocommit=True"
   ]
  },
  {
   "cell_type": "markdown",
   "id": "77e521c4-6894-44f7-b618-b87ba47a901a",
   "metadata": {
    "jp-MarkdownHeadingCollapsed": true
   },
   "source": [
    "#### 5.5.2. Not-Null Constraints"
   ]
  },
  {
   "cell_type": "markdown",
   "id": "960c249a-884b-44ba-bb21-cbe511abcb06",
   "metadata": {},
   "source": [
    "- <i>NOT NULL</i> constraint is a column constraint. You can not write it as table constraint.\n",
    "    - <i>product_no integer NOT NULL</i> is correct usage.\n",
    "    - But there is no usage like this: <del><i>CONSTRAINT not_null NOT NULL (product_no)</i></del>.\n",
    "- <i>product_no integer NOT NULL</i> and <i>CONSTRAINT product_no_not_null CHECK (product_no IS NOT NULL)</i> is functionally equivalent. But NOT NULL constraint is more optimized.\n",
    "    - With using CONSTRAINT it became table constraing and while defining explicit name it can be removed bey using name.\n",
    "        - <i>ALTER TABLE ... DROP CONSTRAINT ...;</i>\n",
    "- Since <i>NOT NULL</i> is column constraint and it can not be explicitly named, you can remove it with using <i>ALTER TABLE ... ALTER COLUMN ... DROP NUT NULL;</i>\n",
    "- In column there can be multiple constraints.\n",
    "    - Example: <i>price numeric NOT NULL CHECK (price > 0)</i>"
   ]
  },
  {
   "cell_type": "markdown",
   "id": "2d91bc46-256a-4ebf-85fd-6167ba577cbf",
   "metadata": {},
   "source": [
    "- NOT NULL example"
   ]
  },
  {
   "cell_type": "code",
   "execution_count": 57,
   "id": "9ea19c4d-ab29-4944-b681-118960177330",
   "metadata": {},
   "outputs": [
    {
     "name": "stdout",
     "output_type": "stream",
     "text": [
      " * postgresql://postgres@localhost/mydb\n",
      "(psycopg2.errors.DependentObjectsStillExist) HATA:  diğer nesnelerin ona bağlı olması nedeniyle products tablosu kaldırılamıyor\n",
      "DETAIL:  orders tablosu üzerinde orders_product_no_fkey kısıtlaması, products tablosu nesnesine bağlıdır\n",
      "HINT:  Bağlı nesneleri de kaldırmak için DROP ... CASCADE kullanın.\n",
      "\n",
      "[SQL: DROP TABLE IF EXISTS products;]\n",
      "(Background on this error at: https://sqlalche.me/e/20/2j85)\n"
     ]
    }
   ],
   "source": [
    "%%sql\n",
    "DROP TABLE IF EXISTS products;\n",
    "CREATE TABLE products (\n",
    "    product_no integer NOT NULL,\n",
    "    name text NOT NULL,\n",
    "    price numeric\n",
    ");"
   ]
  },
  {
   "cell_type": "markdown",
   "id": "973d05a6-bd1e-4189-8bde-3a494cb02401",
   "metadata": {},
   "source": [
    "- Violating NOT NULL constraint"
   ]
  },
  {
   "cell_type": "code",
   "execution_count": 58,
   "id": "65f615b2-2c3f-45cc-b937-d3cbb983e45e",
   "metadata": {},
   "outputs": [
    {
     "name": "stdout",
     "output_type": "stream",
     "text": [
      " * postgresql://postgres@localhost/mydb\n",
      "(psycopg2.errors.NotNullViolation) HATA:  null value in column \"product_no\" of relation \"products\" violates not-null constraint\n",
      "DETAIL:  Hata veren satır (null, null, 10) içeriyor.\n",
      "\n",
      "[SQL: INSERT INTO products(price) VALUES (10);]\n",
      "(Background on this error at: https://sqlalche.me/e/20/gkpj)\n"
     ]
    }
   ],
   "source": [
    "%sql INSERT INTO products(price) VALUES (10);"
   ]
  },
  {
   "cell_type": "markdown",
   "id": "af3cf52a-e5da-4bb4-bddc-65efcb6e4ce5",
   "metadata": {},
   "source": [
    "- Remove not null constraint example"
   ]
  },
  {
   "cell_type": "code",
   "execution_count": 59,
   "id": "4ec41f0f-9a13-46b4-94c7-cdd54ce0bed4",
   "metadata": {},
   "outputs": [
    {
     "name": "stdout",
     "output_type": "stream",
     "text": [
      " * postgresql://postgres@localhost/mydb\n",
      "(psycopg2.errors.InvalidTableDefinition) HATA:  \"product_no\" sütunu bir birincil anahtardır\n",
      "\n",
      "[SQL: ALTER TABLE PRODUCTS \n",
      "    ALTER COLUMN product_no DROP NOT NULL,\n",
      "    ALTER COLUMN name DROP NOT NULL;]\n",
      "(Background on this error at: https://sqlalche.me/e/20/f405)\n"
     ]
    }
   ],
   "source": [
    "%%sql\n",
    "ALTER TABLE PRODUCTS \n",
    "    ALTER COLUMN product_no DROP NOT NULL,\n",
    "    ALTER COLUMN name DROP NOT NULL;"
   ]
  },
  {
   "cell_type": "markdown",
   "id": "caa31db9-9782-4118-90b7-812d39148ef4",
   "metadata": {},
   "source": [
    "- Not violating after dropping NOT NULL constraint"
   ]
  },
  {
   "cell_type": "code",
   "execution_count": 60,
   "id": "13566793-3bf2-451a-b5dd-8b11db79872c",
   "metadata": {},
   "outputs": [
    {
     "name": "stdout",
     "output_type": "stream",
     "text": [
      " * postgresql://postgres@localhost/mydb\n",
      "(psycopg2.errors.NotNullViolation) HATA:  null value in column \"product_no\" of relation \"products\" violates not-null constraint\n",
      "DETAIL:  Hata veren satır (null, null, 10) içeriyor.\n",
      "\n",
      "[SQL: INSERT INTO products(price) VALUES (10);]\n",
      "(Background on this error at: https://sqlalche.me/e/20/gkpj)\n"
     ]
    }
   ],
   "source": [
    "%sql INSERT INTO products(price) VALUES (10);"
   ]
  },
  {
   "cell_type": "markdown",
   "id": "b7b11881-e16e-4d66-90af-ece887425d5c",
   "metadata": {},
   "source": [
    "- Multiple constraints in column example"
   ]
  },
  {
   "cell_type": "code",
   "execution_count": 61,
   "id": "429a37f2-0393-4a94-825d-3e0b88b40dc8",
   "metadata": {},
   "outputs": [
    {
     "name": "stdout",
     "output_type": "stream",
     "text": [
      " * postgresql://postgres@localhost/mydb\n",
      "(psycopg2.errors.DependentObjectsStillExist) HATA:  diğer nesnelerin ona bağlı olması nedeniyle products tablosu kaldırılamıyor\n",
      "DETAIL:  orders tablosu üzerinde orders_product_no_fkey kısıtlaması, products tablosu nesnesine bağlıdır\n",
      "HINT:  Bağlı nesneleri de kaldırmak için DROP ... CASCADE kullanın.\n",
      "\n",
      "[SQL: DROP TABLE IF EXISTS products;]\n",
      "(Background on this error at: https://sqlalche.me/e/20/2j85)\n"
     ]
    }
   ],
   "source": [
    "%%sql\n",
    "DROP TABLE IF EXISTS products;\n",
    "CREATE TABLE products (\n",
    "    product_no integer NOT NULL,\n",
    "    name text NOT NULL,\n",
    "    price numeric NOT NULL CHECK (price > 0)\n",
    ");"
   ]
  },
  {
   "cell_type": "markdown",
   "id": "b8297b60-dd81-442b-b394-51b1e273e93d",
   "metadata": {
    "jp-MarkdownHeadingCollapsed": true
   },
   "source": [
    "#### 5.5.3. Unique Constraints"
   ]
  },
  {
   "cell_type": "markdown",
   "id": "43f87696-35f0-4dbf-a388-ece673303201",
   "metadata": {},
   "source": [
    "- <i>UNIQUE</i> constraint can be written either as a column constraint or a table constraint.\n",
    "    - Table constraint: <i>product_no integer CONSTRAINT unique_product_no UNIQUE</i>\n",
    "        - Table constraint can be removed by using <i>ALTER TABLE ... DROP CONSTRAINT ...;</i>\n",
    "    - Column constraint: <i>product_no integer CONSTRAINT unique_product_no UNIQUE</i>\n",
    "        - Column constraint can not be removed by using <del><i>ALTER TABLE ... ALTER COLUMN DROP UNIQUE;</i></del>\n",
    "        - To remove constraint you first find the constraint name and remove with <i>ALTER TABLE ... DROP CONSTRAINT ...;</i>\n",
    "- <i>UNIQUE</i> constraint can be written for one column or multiple column group.\n",
    "    - For one column: <i>UNIQUE (product_no)</i>. This ensures product_no is unique.\n",
    "    - For multiple column: <i>UNIQUE (a,c)</i>. This ensures a and c pair is unique.\n",
    "        - For example when (a,c) = (1,1) (a,c) = (1,2) (a,c) = (2,1) can be inserted but (a,c) = (1,1) can not be inserted again.\n",
    "- When using UNIQUE constraint, a UNIQUE B-tree index will be added to table.\n",
    "- If you want to add UNIQUE constraint for only filtered rows you hould use partial index:\n",
    "  - <i>CREATE UNIQUE INDEX unique_active_product_no ON products (product_no) WHERE active = true;</i>\n",
    "- <i>UNIQUE</i> constraint on NULL values:\n",
    "    - NULL values will be seen as different in UNIQUE columns. So you can insert multiple NULL values for a UNIQUE column and you get no violation of constraint error.\n",
    "    - To prevent this situation you can use <i>NULLS NOT DISTINCT</i> statement: \"<i>product_no integer UNIQUE NULLS NOT DISTINCT</i>\"."
   ]
  },
  {
   "cell_type": "markdown",
   "id": "93bd7b43-3da5-47e7-9b7e-ec4f82c91594",
   "metadata": {
    "jp-MarkdownHeadingCollapsed": true
   },
   "source": [
    "##### Creating UNIQUE constraint for single column"
   ]
  },
  {
   "cell_type": "code",
   "execution_count": 62,
   "id": "016acca7-cb8d-4738-bfea-509c9c526c2f",
   "metadata": {},
   "outputs": [
    {
     "name": "stdout",
     "output_type": "stream",
     "text": [
      " * postgresql://postgres@localhost/mydb\n",
      "(psycopg2.errors.DependentObjectsStillExist) HATA:  diğer nesnelerin ona bağlı olması nedeniyle products tablosu kaldırılamıyor\n",
      "DETAIL:  orders tablosu üzerinde orders_product_no_fkey kısıtlaması, products tablosu nesnesine bağlıdır\n",
      "HINT:  Bağlı nesneleri de kaldırmak için DROP ... CASCADE kullanın.\n",
      "\n",
      "[SQL: DROP TABLE IF EXISTS products;]\n",
      "(Background on this error at: https://sqlalche.me/e/20/2j85)\n"
     ]
    }
   ],
   "source": [
    "%%sql\n",
    "DROP TABLE IF EXISTS products;\n",
    "CREATE TABLE products (\n",
    "    product_no integer UNIQUE,\n",
    "    name text,\n",
    "    price numeric\n",
    ");"
   ]
  },
  {
   "cell_type": "markdown",
   "id": "c54ca0c0-c814-4670-b491-7e0d8d8c8e28",
   "metadata": {},
   "source": [
    "- Violating unique constraint"
   ]
  },
  {
   "cell_type": "code",
   "execution_count": 63,
   "id": "37448f1c-1528-40ae-b8f8-0251d5eeca85",
   "metadata": {},
   "outputs": [
    {
     "name": "stdout",
     "output_type": "stream",
     "text": [
      " * postgresql://postgres@localhost/mydb\n",
      "(psycopg2.errors.CheckViolation) HATA:  \"products\" tablosuna girilen yeni satır \"lock_table\" check kısıtlamasını ihlal ediyor\n",
      "DETAIL:  Hata veren satır (1, name-1, 10) içeriyor.\n",
      "\n",
      "[SQL: INSERT INTO products VALUES (1, 'name-1', 10);]\n",
      "(Background on this error at: https://sqlalche.me/e/20/gkpj)\n"
     ]
    }
   ],
   "source": [
    "%%sql\n",
    "INSERT INTO products VALUES (1, 'name-1', 10);\n",
    "INSERT INTO products VALUES (1, 'name-1', 10);"
   ]
  },
  {
   "cell_type": "markdown",
   "id": "0cd7533a-2a6c-4d96-8ae1-961bfbca5b7e",
   "metadata": {
    "jp-MarkdownHeadingCollapsed": true
   },
   "source": [
    "##### Creating UNIQUE constraint for column pair"
   ]
  },
  {
   "cell_type": "code",
   "execution_count": 64,
   "id": "307c01f4-b6dd-4df4-bb0f-dc32e0a2bd14",
   "metadata": {},
   "outputs": [
    {
     "name": "stdout",
     "output_type": "stream",
     "text": [
      " * postgresql://postgres@localhost/mydb\n",
      "Done.\n",
      "Done.\n"
     ]
    },
    {
     "data": {
      "text/plain": [
       "[]"
      ]
     },
     "execution_count": 64,
     "metadata": {},
     "output_type": "execute_result"
    }
   ],
   "source": [
    "%%sql\n",
    "DROP TABLE IF EXISTS example;\n",
    "CREATE TABLE example (\n",
    "    a integer,\n",
    "    b integer,\n",
    "    c integer,\n",
    "    UNIQUE (a, c)\n",
    ");"
   ]
  },
  {
   "cell_type": "markdown",
   "id": "0ca80d60-9215-419b-90d5-980adc51e2ca",
   "metadata": {},
   "source": [
    "- Inserting values"
   ]
  },
  {
   "cell_type": "code",
   "execution_count": 65,
   "id": "8dda7159-7892-49c1-bdf9-1087724114b7",
   "metadata": {},
   "outputs": [
    {
     "name": "stdout",
     "output_type": "stream",
     "text": [
      " * postgresql://postgres@localhost/mydb\n",
      "1 rows affected.\n",
      "1 rows affected.\n",
      "1 rows affected.\n"
     ]
    },
    {
     "data": {
      "text/plain": [
       "[]"
      ]
     },
     "execution_count": 65,
     "metadata": {},
     "output_type": "execute_result"
    }
   ],
   "source": [
    "%%sql\n",
    "INSERT INTO example (a,c) VALUES ('1', '1');\n",
    "INSERT INTO example (a,c) VALUES ('1', '2');\n",
    "INSERT INTO example (a,c) VALUES ('2', '1');"
   ]
  },
  {
   "cell_type": "markdown",
   "id": "16708c4a-1f06-4149-9a5d-b392a37b67c8",
   "metadata": {},
   "source": [
    "- Violating constraint"
   ]
  },
  {
   "cell_type": "code",
   "execution_count": 66,
   "id": "d4c4bbf6-33b2-4237-b718-0ad613caa033",
   "metadata": {},
   "outputs": [
    {
     "name": "stdout",
     "output_type": "stream",
     "text": [
      " * postgresql://postgres@localhost/mydb\n",
      "(psycopg2.errors.UniqueViolation) HATA:  tekrar eden kayıt, \"example_a_c_key\" tekil kısıtlamasını ihlal etmektedir\n",
      "DETAIL:  \"(a, c)=(1, 1)\" anahtarı zaten mevcut\n",
      "\n",
      "[SQL: INSERT INTO example (a,c) VALUES ('1', '1' );]\n",
      "(Background on this error at: https://sqlalche.me/e/20/gkpj)\n"
     ]
    }
   ],
   "source": [
    "%sql INSERT INTO example (a,c) VALUES ('1', '1');"
   ]
  },
  {
   "cell_type": "markdown",
   "id": "0b41a181-6913-4354-af2e-9b6f4eecde2a",
   "metadata": {
    "jp-MarkdownHeadingCollapsed": true
   },
   "source": [
    "##### Removing UNIQUE constraint"
   ]
  },
  {
   "cell_type": "code",
   "execution_count": 67,
   "id": "98ef57a7-2171-4bc0-b68c-cefef239886b",
   "metadata": {},
   "outputs": [
    {
     "name": "stdout",
     "output_type": "stream",
     "text": [
      " * postgresql://postgres@localhost/mydb\n",
      "(psycopg2.errors.DependentObjectsStillExist) HATA:  diğer nesnelerin ona bağlı olması nedeniyle products tablosu kaldırılamıyor\n",
      "DETAIL:  orders tablosu üzerinde orders_product_no_fkey kısıtlaması, products tablosu nesnesine bağlıdır\n",
      "HINT:  Bağlı nesneleri de kaldırmak için DROP ... CASCADE kullanın.\n",
      "\n",
      "[SQL: DROP TABLE IF EXISTS products;]\n",
      "(Background on this error at: https://sqlalche.me/e/20/2j85)\n"
     ]
    }
   ],
   "source": [
    "%%sql\n",
    "DROP TABLE IF EXISTS products;\n",
    "CREATE TABLE products (\n",
    "    product_no integer,\n",
    "    name text,\n",
    "    price numeric,\n",
    "    CONSTRAINT unique_product_no UNIQUE (product_no)\n",
    ");"
   ]
  },
  {
   "cell_type": "code",
   "execution_count": 68,
   "id": "2079d842-f116-4a8b-ab3c-f0b602496963",
   "metadata": {},
   "outputs": [
    {
     "name": "stdout",
     "output_type": "stream",
     "text": [
      " * postgresql://postgres@localhost/mydb\n",
      "(psycopg2.errors.UndefinedObject) HATA:  \"unique_product_no\" kısıtlaması \"products\" nesnesinde mevcut değil\n",
      "\n",
      "[SQL: ALTER TABLE products DROP CONSTRAINT unique_product_no;]\n",
      "(Background on this error at: https://sqlalche.me/e/20/f405)\n"
     ]
    }
   ],
   "source": [
    "%sql ALTER TABLE products DROP CONSTRAINT unique_product_no;"
   ]
  },
  {
   "cell_type": "markdown",
   "id": "0fc0cfeb-a56b-41f0-ae19-85e7fc7edef7",
   "metadata": {},
   "source": [
    "##### Creating UNIQUE constraint for filtered records using partial INDEX"
   ]
  },
  {
   "cell_type": "code",
   "execution_count": 69,
   "id": "32e444e9-8e21-44ed-a805-a878ffe26800",
   "metadata": {},
   "outputs": [
    {
     "name": "stdout",
     "output_type": "stream",
     "text": [
      " * postgresql://postgres@localhost/mydb\n",
      "(psycopg2.errors.DependentObjectsStillExist) HATA:  diğer nesnelerin ona bağlı olması nedeniyle products tablosu kaldırılamıyor\n",
      "DETAIL:  orders tablosu üzerinde orders_product_no_fkey kısıtlaması, products tablosu nesnesine bağlıdır\n",
      "HINT:  Bağlı nesneleri de kaldırmak için DROP ... CASCADE kullanın.\n",
      "\n",
      "[SQL: DROP TABLE IF EXISTS products;]\n",
      "(Background on this error at: https://sqlalche.me/e/20/2j85)\n"
     ]
    }
   ],
   "source": [
    "%%sql\n",
    "DROP TABLE IF EXISTS products;\n",
    "CREATE TABLE products (\n",
    "    product_no integer,\n",
    "    name text,\n",
    "    price numeric,\n",
    "    active boolean\n",
    ");"
   ]
  },
  {
   "cell_type": "code",
   "execution_count": 70,
   "id": "70ad3062-e4a7-4385-a242-008674ee4574",
   "metadata": {},
   "outputs": [
    {
     "name": "stdout",
     "output_type": "stream",
     "text": [
      " * postgresql://postgres@localhost/mydb\n",
      "(psycopg2.errors.UndefinedColumn) HATA:  \"active\" sütunu mevcut değil\n",
      "LINE 1: ..._product_no_active ON products (product_no) WHERE active = t...\n",
      "                                                             ^\n",
      "\n",
      "[SQL: CREATE UNIQUE INDEX unique_index_products_product_no_active ON products (product_no) WHERE active = true;]\n",
      "(Background on this error at: https://sqlalche.me/e/20/f405)\n"
     ]
    }
   ],
   "source": [
    "%sql CREATE UNIQUE INDEX unique_index_products_product_no_active ON products (product_no) WHERE active = true;"
   ]
  },
  {
   "cell_type": "markdown",
   "id": "1866eaa3-9c90-455a-841e-c083a8fbc06e",
   "metadata": {},
   "source": [
    "- Violating constraint"
   ]
  },
  {
   "cell_type": "code",
   "execution_count": 71,
   "id": "e3d26e9e-0a97-42fe-9674-cb911674e601",
   "metadata": {},
   "outputs": [
    {
     "name": "stdout",
     "output_type": "stream",
     "text": [
      " * postgresql://postgres@localhost/mydb\n",
      "(psycopg2.errors.UndefinedColumn) HATA:  \"active\" kolonu \"products\" tablosunda mevcut değil\n",
      "LINE 1: INSERT INTO products (product_no, active) VALUES (1, true);\n",
      "                                          ^\n",
      "\n",
      "[SQL: INSERT INTO products (product_no, active) VALUES (1, true);]\n",
      "(Background on this error at: https://sqlalche.me/e/20/f405)\n"
     ]
    }
   ],
   "source": [
    "%%sql\n",
    "INSERT INTO products (product_no, active) VALUES (1, true);\n",
    "INSERT INTO products (product_no, active) VALUES (2, false);"
   ]
  },
  {
   "cell_type": "markdown",
   "id": "67c27574-b4e2-4d50-ae69-280937236c90",
   "metadata": {},
   "source": [
    "- This throws error because there is active product 1 "
   ]
  },
  {
   "cell_type": "code",
   "execution_count": 72,
   "id": "30e9f814-939f-4472-8ce1-2bf15194625e",
   "metadata": {},
   "outputs": [
    {
     "name": "stdout",
     "output_type": "stream",
     "text": [
      " * postgresql://postgres@localhost/mydb\n",
      "(psycopg2.errors.UndefinedColumn) HATA:  \"active\" kolonu \"products\" tablosunda mevcut değil\n",
      "LINE 1: INSERT INTO products (product_no, active) VALUES (1, true);\n",
      "                                          ^\n",
      "\n",
      "[SQL: INSERT INTO products (product_no, active) VALUES (1, true);]\n",
      "(Background on this error at: https://sqlalche.me/e/20/f405)\n"
     ]
    }
   ],
   "source": [
    "%sql INSERT INTO products (product_no, active) VALUES (1, true);"
   ]
  },
  {
   "cell_type": "markdown",
   "id": "1a1bfc03-51cf-4bd2-b84b-1f7d64b56298",
   "metadata": {},
   "source": [
    "- This is successful because there is product 2 but it is not active"
   ]
  },
  {
   "cell_type": "code",
   "execution_count": 73,
   "id": "0e5082fa-7ee8-4b53-8652-bfdab315f210",
   "metadata": {},
   "outputs": [
    {
     "name": "stdout",
     "output_type": "stream",
     "text": [
      " * postgresql://postgres@localhost/mydb\n",
      "(psycopg2.errors.UndefinedColumn) HATA:  \"active\" kolonu \"products\" tablosunda mevcut değil\n",
      "LINE 1: INSERT INTO products (product_no, active) VALUES (2, true);\n",
      "                                          ^\n",
      "\n",
      "[SQL: INSERT INTO products (product_no, active) VALUES (2, true);]\n",
      "(Background on this error at: https://sqlalche.me/e/20/f405)\n"
     ]
    }
   ],
   "source": [
    "%sql INSERT INTO products (product_no, active) VALUES (2, true);"
   ]
  },
  {
   "cell_type": "markdown",
   "id": "e144ea85-c621-4e3a-a758-e8b00fd1b8d2",
   "metadata": {
    "jp-MarkdownHeadingCollapsed": true
   },
   "source": [
    "##### Using NULL values without DISTINCT restriction"
   ]
  },
  {
   "cell_type": "code",
   "execution_count": 74,
   "id": "8974f834-2a9a-4c77-b50b-9f89814587cb",
   "metadata": {},
   "outputs": [
    {
     "name": "stdout",
     "output_type": "stream",
     "text": [
      " * postgresql://postgres@localhost/mydb\n",
      "Done.\n",
      "Done.\n"
     ]
    },
    {
     "data": {
      "text/plain": [
       "[]"
      ]
     },
     "execution_count": 74,
     "metadata": {},
     "output_type": "execute_result"
    }
   ],
   "source": [
    "%%sql\n",
    "DROP TABLE IF EXISTS users;\n",
    "CREATE TABLE users (\n",
    "    email TEXT UNIQUE\n",
    ");"
   ]
  },
  {
   "cell_type": "markdown",
   "id": "b09f644a-2b24-4506-8426-4dbb1505399a",
   "metadata": {},
   "source": [
    "- Inserting multiple NULL values does not throw error"
   ]
  },
  {
   "cell_type": "code",
   "execution_count": 75,
   "id": "e1281da1-c1ee-45e1-b136-65eac964b3a0",
   "metadata": {},
   "outputs": [
    {
     "name": "stdout",
     "output_type": "stream",
     "text": [
      " * postgresql://postgres@localhost/mydb\n",
      "1 rows affected.\n",
      "1 rows affected.\n"
     ]
    },
    {
     "data": {
      "text/plain": [
       "[]"
      ]
     },
     "execution_count": 75,
     "metadata": {},
     "output_type": "execute_result"
    }
   ],
   "source": [
    "%%sql\n",
    "INSERT INTO users VALUES (NULL);\n",
    "INSERT INTO users VALUES (NULL);"
   ]
  },
  {
   "cell_type": "code",
   "execution_count": 76,
   "id": "52153294-f9a0-48b6-b51c-a3f74a49e1f1",
   "metadata": {},
   "outputs": [
    {
     "name": "stdout",
     "output_type": "stream",
     "text": [
      " * postgresql://postgres@localhost/mydb\n",
      "2 rows affected.\n"
     ]
    },
    {
     "data": {
      "text/html": [
       "<table>\n",
       "    <thead>\n",
       "        <tr>\n",
       "            <th>email</th>\n",
       "        </tr>\n",
       "    </thead>\n",
       "    <tbody>\n",
       "        <tr>\n",
       "            <td>None</td>\n",
       "        </tr>\n",
       "        <tr>\n",
       "            <td>None</td>\n",
       "        </tr>\n",
       "    </tbody>\n",
       "</table>"
      ],
      "text/plain": [
       "[(None,), (None,)]"
      ]
     },
     "execution_count": 76,
     "metadata": {},
     "output_type": "execute_result"
    }
   ],
   "source": [
    "%sql SELECT * FROM users;"
   ]
  },
  {
   "cell_type": "markdown",
   "id": "c5d7538f-bb22-48c0-bf39-5607c96b2a23",
   "metadata": {
    "jp-MarkdownHeadingCollapsed": true
   },
   "source": [
    "##### Using NULL values with DISTINCT restriction"
   ]
  },
  {
   "cell_type": "code",
   "execution_count": 77,
   "id": "06357343-d2b9-4d06-8a27-67f8704af4f5",
   "metadata": {},
   "outputs": [
    {
     "name": "stdout",
     "output_type": "stream",
     "text": [
      " * postgresql://postgres@localhost/mydb\n",
      "Done.\n",
      "Done.\n"
     ]
    },
    {
     "data": {
      "text/plain": [
       "[]"
      ]
     },
     "execution_count": 77,
     "metadata": {},
     "output_type": "execute_result"
    }
   ],
   "source": [
    "%%sql\n",
    "DROP TABLE IF EXISTS users;\n",
    "CREATE TABLE users (\n",
    "    email TEXT UNIQUE NULLS NOT DISTINCT\n",
    ");"
   ]
  },
  {
   "cell_type": "markdown",
   "id": "db098b5f-bc85-41b3-8177-94b3523aa958",
   "metadata": {},
   "source": [
    "- Violating UNIQUE constraint because NULLs are not distinct"
   ]
  },
  {
   "cell_type": "code",
   "execution_count": 78,
   "id": "bdd437b4-1456-4beb-8f5b-3bd4377e21f8",
   "metadata": {},
   "outputs": [
    {
     "name": "stdout",
     "output_type": "stream",
     "text": [
      " * postgresql://postgres@localhost/mydb\n",
      "1 rows affected.\n",
      "(psycopg2.errors.UniqueViolation) HATA:  tekrar eden kayıt, \"users_email_key\" tekil kısıtlamasını ihlal etmektedir\n",
      "DETAIL:  \"(email)=(null)\" anahtarı zaten mevcut\n",
      "\n",
      "[SQL: INSERT INTO users VALUES (NULL);]\n",
      "(Background on this error at: https://sqlalche.me/e/20/gkpj)\n"
     ]
    }
   ],
   "source": [
    "%%sql\n",
    "INSERT INTO users VALUES (NULL);\n",
    "INSERT INTO users VALUES (NULL);"
   ]
  },
  {
   "cell_type": "markdown",
   "id": "0b815f1b-359e-4272-92ab-24d2d0e275bd",
   "metadata": {
    "jp-MarkdownHeadingCollapsed": true
   },
   "source": [
    "#### 5.5.4. Primary Keys"
   ]
  },
  {
   "cell_type": "markdown",
   "id": "50b90ea2-45b2-46eb-b430-2b7b941c78f6",
   "metadata": {},
   "source": [
    "- <i>PRIMARY KEY</i> can be defined for single column or column pairs.\n",
    "    - <i>product_no integer PRIMARY KEY,</i>\n",
    "    - <i>PRIMARY KEY(a,c)</i>\n",
    "- Tables can have at most one primary key.\n",
    "- Behaviour of <i>PRIMARY KEY</i> and <i>UNIQUE NOT NULL</i> is equivalent.\n",
    "- Primary key creates B-tree index for interested column (or pair of columns)."
   ]
  },
  {
   "cell_type": "markdown",
   "id": "dea5ec47-0538-4506-a6e9-f63daedb5d42",
   "metadata": {},
   "source": [
    "##### Single column PRIMARY KEY"
   ]
  },
  {
   "cell_type": "code",
   "execution_count": 79,
   "id": "7c4cb890-dcb3-424f-a5af-5b28d1f7ee42",
   "metadata": {},
   "outputs": [
    {
     "name": "stdout",
     "output_type": "stream",
     "text": [
      " * postgresql://postgres@localhost/mydb\n",
      "(psycopg2.errors.DependentObjectsStillExist) HATA:  diğer nesnelerin ona bağlı olması nedeniyle products tablosu kaldırılamıyor\n",
      "DETAIL:  orders tablosu üzerinde orders_product_no_fkey kısıtlaması, products tablosu nesnesine bağlıdır\n",
      "HINT:  Bağlı nesneleri de kaldırmak için DROP ... CASCADE kullanın.\n",
      "\n",
      "[SQL: DROP TABLE IF EXISTS products;]\n",
      "(Background on this error at: https://sqlalche.me/e/20/2j85)\n"
     ]
    }
   ],
   "source": [
    "%%sql\n",
    "DROP TABLE IF EXISTS products;\n",
    "CREATE TABLE products (\n",
    "    product_no integer PRIMARY KEY,\n",
    "    name text,\n",
    "    price numeric\n",
    ");"
   ]
  },
  {
   "cell_type": "markdown",
   "id": "c311832a-071e-4c9e-94e9-f10236cb0cb9",
   "metadata": {},
   "source": [
    "- See index for PK"
   ]
  },
  {
   "cell_type": "code",
   "execution_count": 80,
   "id": "41c229b4-1c0d-4dd5-bcfa-9b9f9e94fa1a",
   "metadata": {},
   "outputs": [
    {
     "name": "stdout",
     "output_type": "stream",
     "text": [
      " * postgresql://postgres@localhost/mydb\n",
      "1 rows affected.\n"
     ]
    },
    {
     "data": {
      "text/html": [
       "<table>\n",
       "    <thead>\n",
       "        <tr>\n",
       "            <th>indexname</th>\n",
       "            <th>indexdef</th>\n",
       "        </tr>\n",
       "    </thead>\n",
       "    <tbody>\n",
       "        <tr>\n",
       "            <td>products_pkey</td>\n",
       "            <td>CREATE UNIQUE INDEX products_pkey ON public.products USING btree (product_no)</td>\n",
       "        </tr>\n",
       "    </tbody>\n",
       "</table>"
      ],
      "text/plain": [
       "[('products_pkey', 'CREATE UNIQUE INDEX products_pkey ON public.products USING btree (product_no)')]"
      ]
     },
     "execution_count": 80,
     "metadata": {},
     "output_type": "execute_result"
    }
   ],
   "source": [
    "%sql SELECT indexname, indexdef FROM pg_indexes WHERE tablename = 'products';"
   ]
  },
  {
   "cell_type": "markdown",
   "id": "2cef2a3a-4177-4392-8b0d-30c34dc7728c",
   "metadata": {},
   "source": [
    "- Violation of PK constraint"
   ]
  },
  {
   "cell_type": "code",
   "execution_count": 81,
   "id": "9028f588-1d8c-41ed-b398-0bae69732c49",
   "metadata": {},
   "outputs": [
    {
     "name": "stdout",
     "output_type": "stream",
     "text": [
      " * postgresql://postgres@localhost/mydb\n",
      "(psycopg2.errors.CheckViolation) HATA:  \"products\" tablosuna girilen yeni satır \"lock_table\" check kısıtlamasını ihlal ediyor\n",
      "DETAIL:  Hata veren satır (1, null, null) içeriyor.\n",
      "\n",
      "[SQL: INSERT INTO products (product_no) VALUES (1);]\n",
      "(Background on this error at: https://sqlalche.me/e/20/gkpj)\n"
     ]
    }
   ],
   "source": [
    "%%sql\n",
    "INSERT INTO products (product_no) VALUES (1);\n",
    "INSERT INTO products (product_no) VALUES (1);"
   ]
  },
  {
   "cell_type": "markdown",
   "id": "d8faecca-9bd2-489a-9bb2-45d394433238",
   "metadata": {},
   "source": [
    "##### Pair of columns PRIMARY KEY"
   ]
  },
  {
   "cell_type": "code",
   "execution_count": 82,
   "id": "17f4842c-aded-4aea-9e70-f252df93a510",
   "metadata": {},
   "outputs": [
    {
     "name": "stdout",
     "output_type": "stream",
     "text": [
      " * postgresql://postgres@localhost/mydb\n",
      "Done.\n",
      "Done.\n"
     ]
    },
    {
     "data": {
      "text/plain": [
       "[]"
      ]
     },
     "execution_count": 82,
     "metadata": {},
     "output_type": "execute_result"
    }
   ],
   "source": [
    "%%sql\n",
    "DROP TABLE IF EXISTS example;\n",
    "CREATE TABLE example (\n",
    "    a integer,\n",
    "    b integer,\n",
    "    c integer,\n",
    "    PRIMARY KEY (a,b)\n",
    ");"
   ]
  },
  {
   "cell_type": "markdown",
   "id": "b11ef161-feec-4e73-875b-e69500f33499",
   "metadata": {},
   "source": [
    "- Inserting values"
   ]
  },
  {
   "cell_type": "code",
   "execution_count": 83,
   "id": "b05607bc-f14f-4a5c-bf05-b5c72ff3e091",
   "metadata": {},
   "outputs": [
    {
     "name": "stdout",
     "output_type": "stream",
     "text": [
      " * postgresql://postgres@localhost/mydb\n",
      "1 rows affected.\n",
      "1 rows affected.\n",
      "1 rows affected.\n"
     ]
    },
    {
     "data": {
      "text/plain": [
       "[]"
      ]
     },
     "execution_count": 83,
     "metadata": {},
     "output_type": "execute_result"
    }
   ],
   "source": [
    "%%sql\n",
    "INSERT INTO example (a,b) VALUES (1,1);\n",
    "INSERT INTO example (a,b) VALUES (1,2);\n",
    "INSERT INTO example (a,b) VALUES (2,1);"
   ]
  },
  {
   "cell_type": "markdown",
   "id": "59c0ae0e-1f52-47a1-95cf-39d8cf07887e",
   "metadata": {},
   "source": [
    "- Violation of PK"
   ]
  },
  {
   "cell_type": "code",
   "execution_count": 84,
   "id": "e830cc04-71c3-48bf-9161-79ef0611e1ad",
   "metadata": {},
   "outputs": [
    {
     "name": "stdout",
     "output_type": "stream",
     "text": [
      " * postgresql://postgres@localhost/mydb\n",
      "(psycopg2.errors.UniqueViolation) HATA:  tekrar eden kayıt, \"example_pkey\" tekil kısıtlamasını ihlal etmektedir\n",
      "DETAIL:  \"(a, b)=(1, 1)\" anahtarı zaten mevcut\n",
      "\n",
      "[SQL: INSERT INTO example (a,b) VALUES (1,1);]\n",
      "(Background on this error at: https://sqlalche.me/e/20/gkpj)\n"
     ]
    }
   ],
   "source": [
    "%sql INSERT INTO example (a,b) VALUES (1,1);"
   ]
  },
  {
   "cell_type": "markdown",
   "id": "056cc473-9ac2-4d88-9168-2d8a916d9386",
   "metadata": {},
   "source": [
    "##### Adding PK with ALTER TABLE"
   ]
  },
  {
   "cell_type": "code",
   "execution_count": 85,
   "id": "5cf0a4a1-edfe-4722-b959-3827ae0005d1",
   "metadata": {},
   "outputs": [
    {
     "name": "stdout",
     "output_type": "stream",
     "text": [
      " * postgresql://postgres@localhost/mydb\n",
      "(psycopg2.errors.DependentObjectsStillExist) HATA:  diğer nesnelerin ona bağlı olması nedeniyle products tablosu kaldırılamıyor\n",
      "DETAIL:  orders tablosu üzerinde orders_product_no_fkey kısıtlaması, products tablosu nesnesine bağlıdır\n",
      "HINT:  Bağlı nesneleri de kaldırmak için DROP ... CASCADE kullanın.\n",
      "\n",
      "[SQL: DROP TABLE IF EXISTS products;]\n",
      "(Background on this error at: https://sqlalche.me/e/20/2j85)\n"
     ]
    }
   ],
   "source": [
    "%%sql\n",
    "DROP TABLE IF EXISTS products;\n",
    "CREATE TABLE products (\n",
    "    product_no integer,\n",
    "    name text,\n",
    "    price numeric\n",
    ");"
   ]
  },
  {
   "cell_type": "code",
   "execution_count": 86,
   "id": "de7e3ffb-6225-4dfb-86c2-dda6b74bd7eb",
   "metadata": {},
   "outputs": [
    {
     "name": "stdout",
     "output_type": "stream",
     "text": [
      " * postgresql://postgres@localhost/mydb\n",
      "(psycopg2.errors.InvalidTableDefinition) HATA:  \"products\" tablosunda birden çok birincil anahtara izin verilmez\n",
      "\n",
      "[SQL: ALTER TABLE products ADD CONSTRAINT pk_products_product_no PRIMARY KEY (product_no);]\n",
      "(Background on this error at: https://sqlalche.me/e/20/f405)\n"
     ]
    }
   ],
   "source": [
    "%sql ALTER TABLE products ADD CONSTRAINT pk_products_product_no PRIMARY KEY (product_no);"
   ]
  },
  {
   "cell_type": "markdown",
   "id": "015df288-9a0b-4a91-b5df-8881935b760c",
   "metadata": {},
   "source": [
    "#### 5.5.5. Foreign Keys"
   ]
  },
  {
   "cell_type": "markdown",
   "id": "808592be-13b1-4387-b265-877420bc8182",
   "metadata": {},
   "source": [
    "- <i>FOREIGN KEY</i> constraint specifies <i>referential integrity</i> between related tables.\n",
    "- FK can be used with specifying column name or only specifying table name.\n",
    "    - <i>product_no integer REFERENCES products (product_no)</i>\n",
    "    - <i>product_no integer REFERENCES products</i>\n",
    "- FOREIGN KEY does not create index automatically for interested column. To optimize querying on foreign key columns you can create an index.\n",
    "- FK can be specified for non-primary columns. But referenced column must have UNIQUE constraint.\n",
    "- You can reference same table in FK.\n",
    "- A table can have multiple foreign key constraints.\n",
    "    - This case can be used for many-to-many relationships.\n",
    "- When deleting a record which have references there are 5 actions:\n",
    "    - NO ACTION (default action):\n",
    "        - Default action if there is is not any action specified is NO ACTION.\n",
    "        - But you can define this action explicitly.\n",
    "        - This action prevents deleting any record which has references on other tables.\n",
    "    - RESTRICT (default action):\n",
    "        - This action is like NO ACTION which prevents deleting any record which has references on other tables.\n",
    "        - The difference between NO ACTION and RESTRICT is in transaction:\n",
    "            - NO ACTION can be defined as deferrable.\n",
    "                - <i>product_no integer REFERENCES products(product_no) ON DELETE NO ACTION DEFERRABLE INITIALLY DEFERRED,</i>\n",
    "                - Waits until end of transaction to apply FK constraint.\n",
    "            - RESTRICT can not be defined as deferrable.\n",
    "                - PostgreSQL allows you to define RESTRICT with DEFERRABLE, but it is not effective. It still behaves as restricted and take action immediately.\n",
    "    - CASCADE:\n",
    "        - This action deletes record with reference records.\n",
    "    - SET NULL:\n",
    "        - This action sets value of referenced column as NULL.\n",
    "    - SET DEFAULT:\n",
    "        - This action sets value of referenced column as DEFAULT value.\n",
    "        - Using SET DEFAULT is risky.\n",
    "        - When setting default value of fk column, default value must reference any product otherwise error will be raised."
   ]
  },
  {
   "cell_type": "markdown",
   "id": "6969c87a-faba-4cfe-b08a-2d98fb74bd84",
   "metadata": {
    "jp-MarkdownHeadingCollapsed": true
   },
   "source": [
    "##### Usage of FOREIGN KEY constraint"
   ]
  },
  {
   "cell_type": "markdown",
   "id": "c365f937-02f9-4d2c-ace5-59ce17691fff",
   "metadata": {},
   "source": [
    "- Defining FK constraint"
   ]
  },
  {
   "cell_type": "code",
   "execution_count": 87,
   "id": "a44962b5-71ae-406a-8df9-d05201325944",
   "metadata": {},
   "outputs": [
    {
     "name": "stdout",
     "output_type": "stream",
     "text": [
      " * postgresql://postgres@localhost/mydb\n",
      "Done.\n",
      "Done.\n",
      "Done.\n"
     ]
    },
    {
     "data": {
      "text/plain": [
       "[]"
      ]
     },
     "execution_count": 87,
     "metadata": {},
     "output_type": "execute_result"
    }
   ],
   "source": [
    "%%sql\n",
    "DROP TABLE IF EXISTS products, orders;\n",
    "CREATE TABLE products (\n",
    "    product_no integer PRIMARY KEY,\n",
    "    name text,\n",
    "    price numeric\n",
    ");\n",
    "CREATE TABLE orders (\n",
    "    order_id integer PRIMARY KEY,\n",
    "    product_no integer REFERENCES products (product_no),\n",
    "    quantity integer\n",
    ")"
   ]
  },
  {
   "cell_type": "markdown",
   "id": "1f75fa74-8380-4895-9dd5-0b7964a27f08",
   "metadata": {},
   "source": [
    "- Inserting product and related order "
   ]
  },
  {
   "cell_type": "code",
   "execution_count": 88,
   "id": "0b7b0498-0320-4a7e-b4f0-2e27e8df69ab",
   "metadata": {},
   "outputs": [
    {
     "name": "stdout",
     "output_type": "stream",
     "text": [
      " * postgresql://postgres@localhost/mydb\n",
      "1 rows affected.\n",
      "1 rows affected.\n"
     ]
    },
    {
     "data": {
      "text/plain": [
       "[]"
      ]
     },
     "execution_count": 88,
     "metadata": {},
     "output_type": "execute_result"
    }
   ],
   "source": [
    "%%sql\n",
    "INSERT INTO products VALUES (1, 'product-1', 10);\n",
    "INSERT INTO orders VALUES (1, 1, 10)"
   ]
  },
  {
   "cell_type": "markdown",
   "id": "31eda47c-9b70-4103-8930-04c7c7c77a37",
   "metadata": {},
   "source": [
    "- Inserting order which is not related with any product"
   ]
  },
  {
   "cell_type": "code",
   "execution_count": 89,
   "id": "9048e314-7f34-4e67-ba1c-66d498cfa8e7",
   "metadata": {},
   "outputs": [
    {
     "name": "stdout",
     "output_type": "stream",
     "text": [
      " * postgresql://postgres@localhost/mydb\n",
      "1 rows affected.\n"
     ]
    },
    {
     "data": {
      "text/plain": [
       "[]"
      ]
     },
     "execution_count": 89,
     "metadata": {},
     "output_type": "execute_result"
    }
   ],
   "source": [
    "%sql INSERT INTO orders VALUES (2, NULL, 10)"
   ]
  },
  {
   "cell_type": "markdown",
   "id": "6ba07eb1-21ed-4147-95ca-6798e9c2f55f",
   "metadata": {},
   "source": [
    "- Inserting order with a product which not exists will throw error"
   ]
  },
  {
   "cell_type": "code",
   "execution_count": 90,
   "id": "3d784ef6-118b-429a-b90f-c0b81aaa7ca9",
   "metadata": {},
   "outputs": [
    {
     "name": "stdout",
     "output_type": "stream",
     "text": [
      " * postgresql://postgres@localhost/mydb\n",
      "(psycopg2.errors.ForeignKeyViolation) HATA:  \"orders\" tablosu üzerindeki ekleme veya güncelleme işlemi \"orders_product_no_fkey\" foreign key kısıtlamasını ihlal ediyor\n",
      "DETAIL:  \"products\" tablosunda (product_no)=(2) anahtarı mevcut değildir.\n",
      "\n",
      "[SQL: INSERT INTO orders VALUES (3, 2, 10)]\n",
      "(Background on this error at: https://sqlalche.me/e/20/gkpj)\n"
     ]
    }
   ],
   "source": [
    "%sql INSERT INTO orders VALUES (3, 2, 10)"
   ]
  },
  {
   "cell_type": "markdown",
   "id": "689494ff-24fc-428a-8b92-b67f451fdcfd",
   "metadata": {
    "jp-MarkdownHeadingCollapsed": true
   },
   "source": [
    "##### Usage of FOREIGN KEY constraint as table constraint"
   ]
  },
  {
   "cell_type": "code",
   "execution_count": 91,
   "id": "bf914bd7-eda6-4289-8d57-ff06ba4c1fee",
   "metadata": {},
   "outputs": [
    {
     "name": "stdout",
     "output_type": "stream",
     "text": [
      " * postgresql://postgres@localhost/mydb\n",
      "Done.\n",
      "Done.\n",
      "Done.\n"
     ]
    },
    {
     "data": {
      "text/plain": [
       "[]"
      ]
     },
     "execution_count": 91,
     "metadata": {},
     "output_type": "execute_result"
    }
   ],
   "source": [
    "%%sql\n",
    "DROP TABLE IF EXISTS products, orders;\n",
    "CREATE TABLE products (\n",
    "    product_no integer PRIMARY KEY,\n",
    "    name text,\n",
    "    price numeric\n",
    ");\n",
    "CREATE TABLE orders (\n",
    "    order_id integer PRIMARY KEY,\n",
    "    product_no integer ,\n",
    "    quantity integer,\n",
    "    FOREIGN KEY (product_no) REFERENCES products(product_no)\n",
    ")"
   ]
  },
  {
   "cell_type": "markdown",
   "id": "5287a769-17d2-4992-939e-3473141a8315",
   "metadata": {
    "jp-MarkdownHeadingCollapsed": true
   },
   "source": [
    "##### Usage of FOREIGN KEY constraint for non-primary columns"
   ]
  },
  {
   "cell_type": "markdown",
   "id": "f1ad253b-be37-437c-ad8e-68cd555f6df9",
   "metadata": {},
   "source": [
    "- For non-unique referenced columns, error will be thrown"
   ]
  },
  {
   "cell_type": "code",
   "execution_count": 92,
   "id": "5f99abf0-1baf-4e71-9b68-c5aa086e628c",
   "metadata": {},
   "outputs": [
    {
     "name": "stdout",
     "output_type": "stream",
     "text": [
      " * postgresql://postgres@localhost/mydb\n",
      "Done.\n",
      "Done.\n",
      "(psycopg2.errors.InvalidForeignKey) HATA:  \"products\" referans edilen tablosunda belirtilen anahtarlara uyan bir unique constraint yok\n",
      "\n",
      "[SQL: CREATE TABLE orders (\n",
      "    order_id integer PRIMARY KEY,\n",
      "    product_no integer ,\n",
      "    quantity integer,\n",
      "    FOREIGN KEY (product_no) REFERENCES products(product_no)\n",
      ")]\n",
      "(Background on this error at: https://sqlalche.me/e/20/f405)\n"
     ]
    }
   ],
   "source": [
    "%%sql\n",
    "DROP TABLE IF EXISTS products, orders;\n",
    "CREATE TABLE products (\n",
    "    product_no integer,\n",
    "    name text,\n",
    "    price numeric\n",
    ");\n",
    "CREATE TABLE orders (\n",
    "    order_id integer PRIMARY KEY,\n",
    "    product_no integer ,\n",
    "    quantity integer,\n",
    "    FOREIGN KEY (product_no) REFERENCES products(product_no)\n",
    ")"
   ]
  },
  {
   "cell_type": "markdown",
   "id": "e9abda36-ca5f-4287-9377-ea3f7da98bf1",
   "metadata": {},
   "source": [
    "- For unique referenced columns, adding fk constraint will be successful"
   ]
  },
  {
   "cell_type": "code",
   "execution_count": 93,
   "id": "7deb66d5-178d-41a5-ba1b-c3b4d605f346",
   "metadata": {},
   "outputs": [
    {
     "name": "stdout",
     "output_type": "stream",
     "text": [
      " * postgresql://postgres@localhost/mydb\n",
      "Done.\n",
      "Done.\n",
      "Done.\n"
     ]
    },
    {
     "data": {
      "text/plain": [
       "[]"
      ]
     },
     "execution_count": 93,
     "metadata": {},
     "output_type": "execute_result"
    }
   ],
   "source": [
    "%%sql\n",
    "DROP TABLE IF EXISTS products, orders;\n",
    "CREATE TABLE products (\n",
    "    product_no integer UNIQUE,\n",
    "    name text,\n",
    "    price numeric\n",
    ");\n",
    "CREATE TABLE orders (\n",
    "    order_id integer PRIMARY KEY,\n",
    "    product_no integer ,\n",
    "    quantity integer,\n",
    "    FOREIGN KEY (product_no) REFERENCES products(product_no)\n",
    ")"
   ]
  },
  {
   "cell_type": "markdown",
   "id": "ac5b5c7f-0d84-4c80-84cf-c2d6afef1af4",
   "metadata": {},
   "source": [
    "- In contrast to a primary key column reference, when using a non-primary column for reference, you should specify the column name.\n",
    "- In that case, an error will be thrown."
   ]
  },
  {
   "cell_type": "code",
   "execution_count": 94,
   "id": "0818cb9d-d4d1-4fa5-a913-b1accff2eccf",
   "metadata": {},
   "outputs": [
    {
     "name": "stdout",
     "output_type": "stream",
     "text": [
      " * postgresql://postgres@localhost/mydb\n",
      "Done.\n",
      "Done.\n",
      "(psycopg2.errors.UndefinedObject) HATA:  referans edilen \"products\" tablosunda primary key mevcut değil\n",
      "\n",
      "[SQL: CREATE TABLE orders (\n",
      "    order_id integer PRIMARY KEY,\n",
      "    product_no integer ,\n",
      "    quantity integer,\n",
      "    FOREIGN KEY (product_no) REFERENCES products\n",
      ")]\n",
      "(Background on this error at: https://sqlalche.me/e/20/f405)\n"
     ]
    }
   ],
   "source": [
    "%%sql\n",
    "DROP TABLE IF EXISTS products, orders;\n",
    "CREATE TABLE products (\n",
    "    product_no integer UNIQUE,\n",
    "    name text,\n",
    "    price numeric\n",
    ");\n",
    "CREATE TABLE orders (\n",
    "    order_id integer PRIMARY KEY,\n",
    "    product_no integer ,\n",
    "    quantity integer,\n",
    "    FOREIGN KEY (product_no) REFERENCES products\n",
    ")"
   ]
  },
  {
   "cell_type": "markdown",
   "id": "997fe108-16fd-4640-aedf-64740aa4ef72",
   "metadata": {
    "jp-MarkdownHeadingCollapsed": true
   },
   "source": [
    "##### Usage of FOREIGN KEY for pair of columns"
   ]
  },
  {
   "cell_type": "code",
   "execution_count": 95,
   "id": "a9d045ed-1b5f-4c17-a1f1-bdab9708c0a9",
   "metadata": {},
   "outputs": [
    {
     "name": "stdout",
     "output_type": "stream",
     "text": [
      " * postgresql://postgres@localhost/mydb\n",
      "Done.\n",
      "Done.\n",
      "Done.\n"
     ]
    },
    {
     "data": {
      "text/plain": [
       "[]"
      ]
     },
     "execution_count": 95,
     "metadata": {},
     "output_type": "execute_result"
    }
   ],
   "source": [
    "%%sql\n",
    "DROP TABLE IF EXISTS t1, t2;\n",
    "CREATE TABLE t1 (\n",
    "    a integer,\n",
    "    b integer,\n",
    "    PRIMARY KEY (a,b)\n",
    ");\n",
    "CREATE TABLE t2 (\n",
    "    q integer PRIMARY KEY,\n",
    "    w integer,\n",
    "    e integer,\n",
    "    FOREIGN KEY (w, e) REFERENCES t1 (a, b)\n",
    ");"
   ]
  },
  {
   "cell_type": "markdown",
   "id": "5a37bcf5-ac8b-43e7-8278-1354faf1443f",
   "metadata": {},
   "source": [
    "- Inserting records for referenced tables"
   ]
  },
  {
   "cell_type": "code",
   "execution_count": 96,
   "id": "faf9b3e3-ffae-41a3-a902-2fa36ccebe95",
   "metadata": {},
   "outputs": [
    {
     "name": "stdout",
     "output_type": "stream",
     "text": [
      " * postgresql://postgres@localhost/mydb\n",
      "1 rows affected.\n",
      "1 rows affected.\n",
      "1 rows affected.\n",
      "1 rows affected.\n"
     ]
    },
    {
     "data": {
      "text/plain": [
       "[]"
      ]
     },
     "execution_count": 96,
     "metadata": {},
     "output_type": "execute_result"
    }
   ],
   "source": [
    "%%sql\n",
    "INSERT INTO t1 VALUES (1,1);\n",
    "INSERT INTO t1 VALUES (1,2);\n",
    "INSERT INTO t1 VALUES (2,1);\n",
    "INSERT INTO t2 VALUES (1,1,1);"
   ]
  },
  {
   "cell_type": "markdown",
   "id": "3a27322d-d431-447a-9a51-a787b4cd4676",
   "metadata": {},
   "source": [
    "- Inserting record that there is no related record for referenced table will throw error"
   ]
  },
  {
   "cell_type": "code",
   "execution_count": 97,
   "id": "e7610f02-c2a5-4ada-9e60-86a0fabbb6ad",
   "metadata": {},
   "outputs": [
    {
     "name": "stdout",
     "output_type": "stream",
     "text": [
      " * postgresql://postgres@localhost/mydb\n",
      "(psycopg2.errors.ForeignKeyViolation) HATA:  \"t2\" tablosu üzerindeki ekleme veya güncelleme işlemi \"t2_w_e_fkey\" foreign key kısıtlamasını ihlal ediyor\n",
      "DETAIL:  \"t1\" tablosunda (w, e)=(1, 3) anahtarı mevcut değildir.\n",
      "\n",
      "[SQL: INSERT INTO t2 VALUES (2,1,3);]\n",
      "(Background on this error at: https://sqlalche.me/e/20/gkpj)\n"
     ]
    }
   ],
   "source": [
    "%sql INSERT INTO t2 VALUES (2,1,3);"
   ]
  },
  {
   "cell_type": "markdown",
   "id": "52e4f741-c1e0-4374-97f4-7f7a26225652",
   "metadata": {
    "jp-MarkdownHeadingCollapsed": true
   },
   "source": [
    "##### Self referencing in FOREIGN KEY"
   ]
  },
  {
   "cell_type": "markdown",
   "id": "0f7910fc-9641-4f72-be48-1ef6dc8e99bf",
   "metadata": {},
   "source": [
    "- A table column with a foreign key can reference the same table."
   ]
  },
  {
   "cell_type": "code",
   "execution_count": 98,
   "id": "1d54d030-416c-457c-935c-cba73959b8d1",
   "metadata": {},
   "outputs": [
    {
     "name": "stdout",
     "output_type": "stream",
     "text": [
      " * postgresql://postgres@localhost/mydb\n",
      "Done.\n",
      "Done.\n"
     ]
    },
    {
     "data": {
      "text/plain": [
       "[]"
      ]
     },
     "execution_count": 98,
     "metadata": {},
     "output_type": "execute_result"
    }
   ],
   "source": [
    "%%sql\n",
    "DROP TABLE IF EXISTS tree;\n",
    "CREATE TABLE tree (\n",
    "    node_id integer PRIMARY KEY,\n",
    "    parent_id integer REFERENCES tree,\n",
    "    name text\n",
    ");"
   ]
  },
  {
   "cell_type": "markdown",
   "id": "a7287d51-e6a5-4df6-861d-dab902d94c86",
   "metadata": {},
   "source": [
    "- In this example parent of root node will be null"
   ]
  },
  {
   "cell_type": "code",
   "execution_count": 99,
   "id": "0500f6e8-9f63-43b7-8ed4-c412e9bea772",
   "metadata": {},
   "outputs": [
    {
     "name": "stdout",
     "output_type": "stream",
     "text": [
      " * postgresql://postgres@localhost/mydb\n",
      "1 rows affected.\n",
      "1 rows affected.\n",
      "1 rows affected.\n"
     ]
    },
    {
     "data": {
      "text/plain": [
       "[]"
      ]
     },
     "execution_count": 99,
     "metadata": {},
     "output_type": "execute_result"
    }
   ],
   "source": [
    "%%sql\n",
    "INSERT INTO tree VALUES (1, NULL, 'root');\n",
    "INSERT INTO tree VALUES (2, 1, 'child-1 of 1');\n",
    "INSERT INTO tree VALUES (3, 1, 'child-2 of 2');"
   ]
  },
  {
   "cell_type": "code",
   "execution_count": 100,
   "id": "c3a2000e-a0b7-4ddd-a72d-888f767ad730",
   "metadata": {},
   "outputs": [
    {
     "name": "stdout",
     "output_type": "stream",
     "text": [
      " * postgresql://postgres@localhost/mydb\n",
      "3 rows affected.\n"
     ]
    },
    {
     "data": {
      "text/html": [
       "<table>\n",
       "    <thead>\n",
       "        <tr>\n",
       "            <th>node_id</th>\n",
       "            <th>parent_id</th>\n",
       "            <th>name</th>\n",
       "        </tr>\n",
       "    </thead>\n",
       "    <tbody>\n",
       "        <tr>\n",
       "            <td>1</td>\n",
       "            <td>None</td>\n",
       "            <td>root</td>\n",
       "        </tr>\n",
       "        <tr>\n",
       "            <td>2</td>\n",
       "            <td>1</td>\n",
       "            <td>child-1 of 1</td>\n",
       "        </tr>\n",
       "        <tr>\n",
       "            <td>3</td>\n",
       "            <td>1</td>\n",
       "            <td>child-2 of 2</td>\n",
       "        </tr>\n",
       "    </tbody>\n",
       "</table>"
      ],
      "text/plain": [
       "[(1, None, 'root'), (2, 1, 'child-1 of 1'), (3, 1, 'child-2 of 2')]"
      ]
     },
     "execution_count": 100,
     "metadata": {},
     "output_type": "execute_result"
    }
   ],
   "source": [
    "%sql SELECT * FROM tree;"
   ]
  },
  {
   "cell_type": "markdown",
   "id": "8e990dbd-899a-497f-aaed-cd17f5ae426e",
   "metadata": {
    "jp-MarkdownHeadingCollapsed": true
   },
   "source": [
    "##### Multiple FOREIGN KEY constraints"
   ]
  },
  {
   "cell_type": "markdown",
   "id": "19ba34c5-f0b8-4803-bb94-db09b2ebf60f",
   "metadata": {},
   "source": [
    "- When to establish many-to-many relationship for order and products, a middle table with referencing this tables can be used."
   ]
  },
  {
   "cell_type": "code",
   "execution_count": 101,
   "id": "245a2033-e0e8-4d0a-943a-0c8da96853fa",
   "metadata": {},
   "outputs": [
    {
     "name": "stdout",
     "output_type": "stream",
     "text": [
      " * postgresql://postgres@localhost/mydb\n",
      "Done.\n",
      "Done.\n",
      "Done.\n",
      "Done.\n"
     ]
    },
    {
     "data": {
      "text/plain": [
       "[]"
      ]
     },
     "execution_count": 101,
     "metadata": {},
     "output_type": "execute_result"
    }
   ],
   "source": [
    "%%sql\n",
    "DROP TABLE IF EXISTS products, orders, order_items;\n",
    "CREATE TABLE products (\n",
    "    product_no integer PRIMARY KEY,\n",
    "    name text,\n",
    "    price numeric\n",
    ");\n",
    "CREATE TABLE orders (\n",
    "    order_id integer PRIMARY KEY,\n",
    "    shipping_address text\n",
    ");\n",
    "CREATE TABLE order_items (\n",
    "    product_no integer REFERENCES products,\n",
    "    order_id integer REFERENCES orders,\n",
    "    quantity integer,\n",
    "    PRIMARY KEY (product_no, order_id)\n",
    ");"
   ]
  },
  {
   "cell_type": "markdown",
   "id": "c8314004-c1de-455d-aa2f-5dc5b36c5dce",
   "metadata": {},
   "source": [
    "##### Actions when deleting referenced records"
   ]
  },
  {
   "cell_type": "markdown",
   "id": "6702a52a-3692-4e77-a7f1-cf9e49452772",
   "metadata": {
    "jp-MarkdownHeadingCollapsed": true
   },
   "source": [
    "###### Preventing delete action with NO ACTION (Default action)"
   ]
  },
  {
   "cell_type": "markdown",
   "id": "5a6dbdf5-5d4e-4e21-a45b-4146737a8a6b",
   "metadata": {},
   "source": [
    "- When not specifying delete action, it is automatically assigned as NO ACTION\n",
    "- But you can specify explicitly NO ACTION"
   ]
  },
  {
   "cell_type": "code",
   "execution_count": 102,
   "id": "7ca03445-d357-4880-8f88-bacd368557a0",
   "metadata": {},
   "outputs": [
    {
     "name": "stdout",
     "output_type": "stream",
     "text": [
      " * postgresql://postgres@localhost/mydb\n",
      "Done.\n",
      "Done.\n",
      "Done.\n"
     ]
    },
    {
     "data": {
      "text/plain": [
       "[]"
      ]
     },
     "execution_count": 102,
     "metadata": {},
     "output_type": "execute_result"
    }
   ],
   "source": [
    "%%sql\n",
    "DROP TABLE IF EXISTS products, orders CASCADE;\n",
    "CREATE TABLE products (\n",
    "    product_no integer PRIMARY KEY,\n",
    "    name text,\n",
    "    price numeric\n",
    ");\n",
    "CREATE TABLE orders (\n",
    "    order_id integer PRIMARY KEY,\n",
    "    product_no integer REFERENCES products(product_no) ON DELETE NO ACTION,\n",
    "    quantity integer\n",
    ");"
   ]
  },
  {
   "cell_type": "markdown",
   "id": "2de7998d-a4e9-4825-88c6-796b4d35aa63",
   "metadata": {},
   "source": [
    "- Inserting referenced records"
   ]
  },
  {
   "cell_type": "code",
   "execution_count": 103,
   "id": "7cdc5294-3da5-49ae-82b4-09ca88665e04",
   "metadata": {},
   "outputs": [
    {
     "name": "stdout",
     "output_type": "stream",
     "text": [
      " * postgresql://postgres@localhost/mydb\n",
      "1 rows affected.\n",
      "1 rows affected.\n"
     ]
    },
    {
     "data": {
      "text/plain": [
       "[]"
      ]
     },
     "execution_count": 103,
     "metadata": {},
     "output_type": "execute_result"
    }
   ],
   "source": [
    "%%sql\n",
    "INSERT INTO products VALUES (1, 'product-1', 10);\n",
    "INSERT INTO orders VALUES (1, 1, 10);"
   ]
  },
  {
   "cell_type": "markdown",
   "id": "6fd3c3ab-d85e-4f2b-878b-17cde3d85b0a",
   "metadata": {},
   "source": [
    "- When trying to delete a product which referenced in orders will raise error"
   ]
  },
  {
   "cell_type": "code",
   "execution_count": 104,
   "id": "3e16d499-a3bb-4e82-b8c1-683b5aceded3",
   "metadata": {},
   "outputs": [
    {
     "name": "stdout",
     "output_type": "stream",
     "text": [
      " * postgresql://postgres@localhost/mydb\n",
      "(psycopg2.errors.ForeignKeyViolation) HATA:  \"products\" tablosu üzerinde yapılan update veya delete işlemi \"orders\" tablosunun \"orders_product_no_fkey\" bütünlük kısıtlamasını ihlal ediyor\n",
      "DETAIL:  (product_no)=(1) anahtarı \"orders\" tablosundan hala referans edilmektedir.\n",
      "\n",
      "[SQL: DELETE FROM products WHERE product_no = 1;]\n",
      "(Background on this error at: https://sqlalche.me/e/20/gkpj)\n"
     ]
    }
   ],
   "source": [
    "%sql DELETE FROM products WHERE product_no = 1;"
   ]
  },
  {
   "cell_type": "markdown",
   "id": "db41f9ea-d64f-40f0-b46a-b41e7b4b19e8",
   "metadata": {},
   "source": [
    "- Deleting related orders before deleting product will be successful"
   ]
  },
  {
   "cell_type": "code",
   "execution_count": 105,
   "id": "00a49789-06d1-4dcc-8944-686cfee9ecce",
   "metadata": {},
   "outputs": [
    {
     "name": "stdout",
     "output_type": "stream",
     "text": [
      " * postgresql://postgres@localhost/mydb\n",
      "1 rows affected.\n",
      "1 rows affected.\n"
     ]
    },
    {
     "data": {
      "text/plain": [
       "[]"
      ]
     },
     "execution_count": 105,
     "metadata": {},
     "output_type": "execute_result"
    }
   ],
   "source": [
    "%%sql \n",
    "DELETE FROM orders WHERE order_id = 1;\n",
    "DELETE FROM products WHERE product_no = 1;"
   ]
  },
  {
   "cell_type": "markdown",
   "id": "3c15c563-cfbd-4708-a779-bf0132df13a0",
   "metadata": {
    "jp-MarkdownHeadingCollapsed": true
   },
   "source": [
    "###### Preventing delete action with RESTRICT"
   ]
  },
  {
   "cell_type": "code",
   "execution_count": 106,
   "id": "df924a82-7edf-46cb-bf2d-73ffc9eb306c",
   "metadata": {},
   "outputs": [
    {
     "name": "stdout",
     "output_type": "stream",
     "text": [
      " * postgresql://postgres@localhost/mydb\n",
      "Done.\n",
      "Done.\n",
      "Done.\n"
     ]
    },
    {
     "data": {
      "text/plain": [
       "[]"
      ]
     },
     "execution_count": 106,
     "metadata": {},
     "output_type": "execute_result"
    }
   ],
   "source": [
    "%%sql\n",
    "DROP TABLE IF EXISTS products, orders CASCADE;\n",
    "CREATE TABLE products (\n",
    "    product_no integer PRIMARY KEY,\n",
    "    name text,\n",
    "    price numeric\n",
    ");\n",
    "CREATE TABLE orders (\n",
    "    order_id integer PRIMARY KEY,\n",
    "    product_no integer REFERENCES products(product_no) ON DELETE RESTRICT,\n",
    "    quantity integer\n",
    ");"
   ]
  },
  {
   "cell_type": "markdown",
   "id": "2be4c280-09d3-4e66-8186-9c09350945e3",
   "metadata": {},
   "source": [
    "- Inserting referenced records"
   ]
  },
  {
   "cell_type": "code",
   "execution_count": 107,
   "id": "1849f139-7601-4729-9b11-7d4159bccef3",
   "metadata": {},
   "outputs": [
    {
     "name": "stdout",
     "output_type": "stream",
     "text": [
      " * postgresql://postgres@localhost/mydb\n",
      "1 rows affected.\n",
      "1 rows affected.\n"
     ]
    },
    {
     "data": {
      "text/plain": [
       "[]"
      ]
     },
     "execution_count": 107,
     "metadata": {},
     "output_type": "execute_result"
    }
   ],
   "source": [
    "%%sql\n",
    "INSERT INTO products VALUES (1, 'product-1', 10);\n",
    "INSERT INTO orders VALUES (1, 1, 10);"
   ]
  },
  {
   "cell_type": "markdown",
   "id": "708b563f-6ab7-4dff-b7b0-38876a98fb3a",
   "metadata": {},
   "source": [
    "- When trying to delete a product which referenced in orders will raise error"
   ]
  },
  {
   "cell_type": "code",
   "execution_count": 108,
   "id": "7c7b1301-bfa5-4288-9c11-7db27808c5e0",
   "metadata": {},
   "outputs": [
    {
     "name": "stdout",
     "output_type": "stream",
     "text": [
      " * postgresql://postgres@localhost/mydb\n",
      "(psycopg2.errors.ForeignKeyViolation) HATA:  \"products\" tablosu üzerinde yapılan update veya delete işlemi \"orders\" tablosunun \"orders_product_no_fkey\" bütünlük kısıtlamasını ihlal ediyor\n",
      "DETAIL:  (product_no)=(1) anahtarı \"orders\" tablosundan hala referans edilmektedir.\n",
      "\n",
      "[SQL: DELETE FROM products WHERE product_no = 1;]\n",
      "(Background on this error at: https://sqlalche.me/e/20/gkpj)\n"
     ]
    }
   ],
   "source": [
    "%sql DELETE FROM products WHERE product_no = 1;"
   ]
  },
  {
   "cell_type": "markdown",
   "id": "d950ed0f-4b40-491a-afd8-1dcbf68b5507",
   "metadata": {},
   "source": [
    "- Deleting related orders before deleting product will be successful"
   ]
  },
  {
   "cell_type": "code",
   "execution_count": 109,
   "id": "1beb8d1c-c1b6-413b-92f6-a13a0dfe2f98",
   "metadata": {},
   "outputs": [
    {
     "name": "stdout",
     "output_type": "stream",
     "text": [
      " * postgresql://postgres@localhost/mydb\n",
      "1 rows affected.\n",
      "1 rows affected.\n"
     ]
    },
    {
     "data": {
      "text/plain": [
       "[]"
      ]
     },
     "execution_count": 109,
     "metadata": {},
     "output_type": "execute_result"
    }
   ],
   "source": [
    "%%sql \n",
    "DELETE FROM orders WHERE order_id = 1;\n",
    "DELETE FROM products WHERE product_no = 1;"
   ]
  },
  {
   "cell_type": "markdown",
   "id": "a86ef73c-27f4-4fef-ba13-19fd0cbdeabf",
   "metadata": {
    "jp-MarkdownHeadingCollapsed": true
   },
   "source": [
    "###### Deleting related records automatically with CASCADE"
   ]
  },
  {
   "cell_type": "code",
   "execution_count": 110,
   "id": "5095e4be-42d7-4735-b314-02363d3cd40f",
   "metadata": {},
   "outputs": [
    {
     "name": "stdout",
     "output_type": "stream",
     "text": [
      " * postgresql://postgres@localhost/mydb\n",
      "Done.\n",
      "Done.\n",
      "Done.\n"
     ]
    },
    {
     "data": {
      "text/plain": [
       "[]"
      ]
     },
     "execution_count": 110,
     "metadata": {},
     "output_type": "execute_result"
    }
   ],
   "source": [
    "%%sql\n",
    "DROP TABLE IF EXISTS products, orders CASCADE;\n",
    "CREATE TABLE products (\n",
    "    product_no integer PRIMARY KEY,\n",
    "    name text,\n",
    "    price numeric\n",
    ");\n",
    "CREATE TABLE orders (\n",
    "    order_id integer PRIMARY KEY,\n",
    "    product_no integer REFERENCES products(product_no) ON DELETE CASCADE,\n",
    "    quantity integer\n",
    ");"
   ]
  },
  {
   "cell_type": "markdown",
   "id": "8d8c2952-0b87-4565-aa9f-9ee772c47721",
   "metadata": {},
   "source": [
    "- Inserting related records"
   ]
  },
  {
   "cell_type": "code",
   "execution_count": 111,
   "id": "dcdeeb7c-50a1-422c-a4be-41915e47b57e",
   "metadata": {},
   "outputs": [
    {
     "name": "stdout",
     "output_type": "stream",
     "text": [
      " * postgresql://postgres@localhost/mydb\n",
      "1 rows affected.\n",
      "1 rows affected.\n"
     ]
    },
    {
     "data": {
      "text/plain": [
       "[]"
      ]
     },
     "execution_count": 111,
     "metadata": {},
     "output_type": "execute_result"
    }
   ],
   "source": [
    "%%sql\n",
    "INSERT INTO products VALUES (1, 'product-1', 10);\n",
    "INSERT INTO orders VALUES (1, 1, 10);"
   ]
  },
  {
   "cell_type": "code",
   "execution_count": 112,
   "id": "b455e272-95a3-479e-986f-1083f65ac5b9",
   "metadata": {},
   "outputs": [
    {
     "name": "stdout",
     "output_type": "stream",
     "text": [
      " * postgresql://postgres@localhost/mydb\n",
      "1 rows affected.\n"
     ]
    },
    {
     "data": {
      "text/html": [
       "<table>\n",
       "    <thead>\n",
       "        <tr>\n",
       "            <th>product_no</th>\n",
       "            <th>name</th>\n",
       "            <th>price</th>\n",
       "        </tr>\n",
       "    </thead>\n",
       "    <tbody>\n",
       "        <tr>\n",
       "            <td>1</td>\n",
       "            <td>product-1</td>\n",
       "            <td>10</td>\n",
       "        </tr>\n",
       "    </tbody>\n",
       "</table>"
      ],
      "text/plain": [
       "[(1, 'product-1', Decimal('10'))]"
      ]
     },
     "execution_count": 112,
     "metadata": {},
     "output_type": "execute_result"
    }
   ],
   "source": [
    "%sql SELECT * FROM products;"
   ]
  },
  {
   "cell_type": "code",
   "execution_count": 113,
   "id": "3e4c5686-c031-4799-b125-44f733db5483",
   "metadata": {},
   "outputs": [
    {
     "name": "stdout",
     "output_type": "stream",
     "text": [
      " * postgresql://postgres@localhost/mydb\n",
      "1 rows affected.\n"
     ]
    },
    {
     "data": {
      "text/html": [
       "<table>\n",
       "    <thead>\n",
       "        <tr>\n",
       "            <th>order_id</th>\n",
       "            <th>product_no</th>\n",
       "            <th>quantity</th>\n",
       "        </tr>\n",
       "    </thead>\n",
       "    <tbody>\n",
       "        <tr>\n",
       "            <td>1</td>\n",
       "            <td>1</td>\n",
       "            <td>10</td>\n",
       "        </tr>\n",
       "    </tbody>\n",
       "</table>"
      ],
      "text/plain": [
       "[(1, 1, 10)]"
      ]
     },
     "execution_count": 113,
     "metadata": {},
     "output_type": "execute_result"
    }
   ],
   "source": [
    "%sql SELECT * FROM orders;"
   ]
  },
  {
   "cell_type": "markdown",
   "id": "ced2c0cc-bea3-41c5-9593-e6b73e5af93f",
   "metadata": {},
   "source": [
    "- Deleting product which has related orders will cause deleting orders"
   ]
  },
  {
   "cell_type": "code",
   "execution_count": 114,
   "id": "7459cbdd-aa3f-4d35-94c8-c1dadfd4e68e",
   "metadata": {},
   "outputs": [
    {
     "name": "stdout",
     "output_type": "stream",
     "text": [
      " * postgresql://postgres@localhost/mydb\n",
      "1 rows affected.\n"
     ]
    },
    {
     "data": {
      "text/plain": [
       "[]"
      ]
     },
     "execution_count": 114,
     "metadata": {},
     "output_type": "execute_result"
    }
   ],
   "source": [
    "%sql DELETE FROM products WHERE product_no = 1;"
   ]
  },
  {
   "cell_type": "markdown",
   "id": "e77db1be-d18d-4811-92f5-b067fc4ae573",
   "metadata": {},
   "source": [
    "- See that both product and order is deleted"
   ]
  },
  {
   "cell_type": "code",
   "execution_count": 115,
   "id": "de159c9a-ec83-4abb-be52-c92cd11b50a7",
   "metadata": {},
   "outputs": [
    {
     "name": "stdout",
     "output_type": "stream",
     "text": [
      " * postgresql://postgres@localhost/mydb\n",
      "0 rows affected.\n"
     ]
    },
    {
     "data": {
      "text/html": [
       "<table>\n",
       "    <thead>\n",
       "        <tr>\n",
       "            <th>product_no</th>\n",
       "            <th>name</th>\n",
       "            <th>price</th>\n",
       "        </tr>\n",
       "    </thead>\n",
       "    <tbody>\n",
       "    </tbody>\n",
       "</table>"
      ],
      "text/plain": [
       "[]"
      ]
     },
     "execution_count": 115,
     "metadata": {},
     "output_type": "execute_result"
    }
   ],
   "source": [
    "%sql SELECT * from products;"
   ]
  },
  {
   "cell_type": "code",
   "execution_count": 116,
   "id": "4753b503-6ff0-4865-b0c4-ae375a3f2bab",
   "metadata": {},
   "outputs": [
    {
     "name": "stdout",
     "output_type": "stream",
     "text": [
      " * postgresql://postgres@localhost/mydb\n",
      "0 rows affected.\n"
     ]
    },
    {
     "data": {
      "text/html": [
       "<table>\n",
       "    <thead>\n",
       "        <tr>\n",
       "            <th>order_id</th>\n",
       "            <th>product_no</th>\n",
       "            <th>quantity</th>\n",
       "        </tr>\n",
       "    </thead>\n",
       "    <tbody>\n",
       "    </tbody>\n",
       "</table>"
      ],
      "text/plain": [
       "[]"
      ]
     },
     "execution_count": 116,
     "metadata": {},
     "output_type": "execute_result"
    }
   ],
   "source": [
    "%sql SELECT * FROM orders;"
   ]
  },
  {
   "cell_type": "markdown",
   "id": "979b1326-926b-4000-b080-8c034bc4b08d",
   "metadata": {
    "jp-MarkdownHeadingCollapsed": true
   },
   "source": [
    "###### Deleting related records automatically with set NULL"
   ]
  },
  {
   "cell_type": "code",
   "execution_count": 117,
   "id": "2ecc1971-42da-465c-b5df-6b3a95f65cb9",
   "metadata": {},
   "outputs": [
    {
     "name": "stdout",
     "output_type": "stream",
     "text": [
      " * postgresql://postgres@localhost/mydb\n",
      "Done.\n",
      "Done.\n",
      "Done.\n"
     ]
    },
    {
     "data": {
      "text/plain": [
       "[]"
      ]
     },
     "execution_count": 117,
     "metadata": {},
     "output_type": "execute_result"
    }
   ],
   "source": [
    "%%sql\n",
    "DROP TABLE IF EXISTS products, orders CASCADE;\n",
    "CREATE TABLE products (\n",
    "    product_no integer PRIMARY KEY,\n",
    "    name text,\n",
    "    price numeric\n",
    ");\n",
    "CREATE TABLE orders (\n",
    "    order_id integer PRIMARY KEY,\n",
    "    product_no integer REFERENCES products(product_no) ON DELETE SET NULL,\n",
    "    quantity integer\n",
    ");"
   ]
  },
  {
   "cell_type": "markdown",
   "id": "4244da17-21f7-43a8-a035-c93bd3edc5e8",
   "metadata": {},
   "source": [
    "- Inserting related records"
   ]
  },
  {
   "cell_type": "code",
   "execution_count": 118,
   "id": "568b6695-b643-42cc-b572-a0470b34cbf7",
   "metadata": {},
   "outputs": [
    {
     "name": "stdout",
     "output_type": "stream",
     "text": [
      " * postgresql://postgres@localhost/mydb\n",
      "1 rows affected.\n",
      "1 rows affected.\n"
     ]
    },
    {
     "data": {
      "text/plain": [
       "[]"
      ]
     },
     "execution_count": 118,
     "metadata": {},
     "output_type": "execute_result"
    }
   ],
   "source": [
    "%%sql\n",
    "INSERT INTO products VALUES (1, 'product-1', 10);\n",
    "INSERT INTO orders VALUES (1, 1, 10);"
   ]
  },
  {
   "cell_type": "markdown",
   "id": "ce45c3ee-9c3a-4cb7-af90-084bafc81404",
   "metadata": {},
   "source": [
    "- Deleting product will cause setting product_no of related order to NULL"
   ]
  },
  {
   "cell_type": "code",
   "execution_count": 119,
   "id": "83be5d21-4216-4d02-991d-ebfb2d065d5d",
   "metadata": {},
   "outputs": [
    {
     "name": "stdout",
     "output_type": "stream",
     "text": [
      " * postgresql://postgres@localhost/mydb\n",
      "1 rows affected.\n"
     ]
    },
    {
     "data": {
      "text/plain": [
       "[]"
      ]
     },
     "execution_count": 119,
     "metadata": {},
     "output_type": "execute_result"
    }
   ],
   "source": [
    "%sql DELETE FROM products WHERE product_no = 1;"
   ]
  },
  {
   "cell_type": "markdown",
   "id": "970b2a44-9932-46cf-a345-3b8aa0f07a92",
   "metadata": {},
   "source": [
    "- See that product is deleted but order still exists"
   ]
  },
  {
   "cell_type": "code",
   "execution_count": 120,
   "id": "cc6fc46f-4df0-4ae5-96ec-d2c25762583f",
   "metadata": {},
   "outputs": [
    {
     "name": "stdout",
     "output_type": "stream",
     "text": [
      " * postgresql://postgres@localhost/mydb\n",
      "0 rows affected.\n"
     ]
    },
    {
     "data": {
      "text/html": [
       "<table>\n",
       "    <thead>\n",
       "        <tr>\n",
       "            <th>product_no</th>\n",
       "            <th>name</th>\n",
       "            <th>price</th>\n",
       "        </tr>\n",
       "    </thead>\n",
       "    <tbody>\n",
       "    </tbody>\n",
       "</table>"
      ],
      "text/plain": [
       "[]"
      ]
     },
     "execution_count": 120,
     "metadata": {},
     "output_type": "execute_result"
    }
   ],
   "source": [
    "%sql SELECT * FROM products;"
   ]
  },
  {
   "cell_type": "code",
   "execution_count": 121,
   "id": "d9362914-d72b-4369-8cf6-35449ba03109",
   "metadata": {},
   "outputs": [
    {
     "name": "stdout",
     "output_type": "stream",
     "text": [
      " * postgresql://postgres@localhost/mydb\n",
      "1 rows affected.\n"
     ]
    },
    {
     "data": {
      "text/html": [
       "<table>\n",
       "    <thead>\n",
       "        <tr>\n",
       "            <th>order_id</th>\n",
       "            <th>product_no</th>\n",
       "            <th>quantity</th>\n",
       "        </tr>\n",
       "    </thead>\n",
       "    <tbody>\n",
       "        <tr>\n",
       "            <td>1</td>\n",
       "            <td>None</td>\n",
       "            <td>10</td>\n",
       "        </tr>\n",
       "    </tbody>\n",
       "</table>"
      ],
      "text/plain": [
       "[(1, None, 10)]"
      ]
     },
     "execution_count": 121,
     "metadata": {},
     "output_type": "execute_result"
    }
   ],
   "source": [
    "%sql SELECT * FROM orders;"
   ]
  },
  {
   "cell_type": "markdown",
   "id": "18055b93-d410-4069-b704-d76adc87e022",
   "metadata": {
    "jp-MarkdownHeadingCollapsed": true
   },
   "source": [
    "###### Deleting related records automatically with SET DEFAULT"
   ]
  },
  {
   "cell_type": "markdown",
   "id": "a52dc98f-c712-4832-9bcb-15383ce34e58",
   "metadata": {},
   "source": [
    "- Using SET DEFAULT is risky.\n",
    "- When setting default value of fk column, default value must reference any product otherwise error will be raised."
   ]
  },
  {
   "cell_type": "code",
   "execution_count": 122,
   "id": "a7ac82fe-1ba1-4d58-87ac-b017b0c47d39",
   "metadata": {},
   "outputs": [
    {
     "name": "stdout",
     "output_type": "stream",
     "text": [
      " * postgresql://postgres@localhost/mydb\n",
      "Done.\n",
      "Done.\n",
      "Done.\n"
     ]
    },
    {
     "data": {
      "text/plain": [
       "[]"
      ]
     },
     "execution_count": 122,
     "metadata": {},
     "output_type": "execute_result"
    }
   ],
   "source": [
    "%%sql\n",
    "DROP TABLE IF EXISTS products, orders CASCADE;\n",
    "CREATE TABLE products (\n",
    "    product_no integer PRIMARY KEY,\n",
    "    name text,\n",
    "    price numeric\n",
    ");\n",
    "CREATE TABLE orders (\n",
    "    order_id integer PRIMARY KEY,\n",
    "    product_no integer DEFAULT 1 REFERENCES products(product_no) ON DELETE SET DEFAULT,\n",
    "    quantity integer\n",
    ");"
   ]
  },
  {
   "cell_type": "markdown",
   "id": "fd2aa4ce-f536-4881-b8ba-ab0934922ef4",
   "metadata": {},
   "source": [
    "- Inserting related records"
   ]
  },
  {
   "cell_type": "code",
   "execution_count": 123,
   "id": "6eba0b43-bf53-4dc7-95ac-c34e2964b890",
   "metadata": {},
   "outputs": [
    {
     "name": "stdout",
     "output_type": "stream",
     "text": [
      " * postgresql://postgres@localhost/mydb\n",
      "1 rows affected.\n",
      "1 rows affected.\n",
      "1 rows affected.\n",
      "1 rows affected.\n"
     ]
    },
    {
     "data": {
      "text/plain": [
       "[]"
      ]
     },
     "execution_count": 123,
     "metadata": {},
     "output_type": "execute_result"
    }
   ],
   "source": [
    "%%sql\n",
    "INSERT INTO products VALUES (1, 'product-1', 10);\n",
    "INSERT INTO products VALUES (2, 'product-2', 10);\n",
    "INSERT INTO orders VALUES (1, 1, 10);\n",
    "INSERT INTO orders VALUES (2, 2, 10);"
   ]
  },
  {
   "cell_type": "code",
   "execution_count": 124,
   "id": "a0d33cb7-743c-4dd7-9afa-41bbccbddd1d",
   "metadata": {},
   "outputs": [
    {
     "name": "stdout",
     "output_type": "stream",
     "text": [
      " * postgresql://postgres@localhost/mydb\n",
      "2 rows affected.\n"
     ]
    },
    {
     "data": {
      "text/html": [
       "<table>\n",
       "    <thead>\n",
       "        <tr>\n",
       "            <th>product_no</th>\n",
       "            <th>name</th>\n",
       "            <th>price</th>\n",
       "        </tr>\n",
       "    </thead>\n",
       "    <tbody>\n",
       "        <tr>\n",
       "            <td>1</td>\n",
       "            <td>product-1</td>\n",
       "            <td>10</td>\n",
       "        </tr>\n",
       "        <tr>\n",
       "            <td>2</td>\n",
       "            <td>product-2</td>\n",
       "            <td>10</td>\n",
       "        </tr>\n",
       "    </tbody>\n",
       "</table>"
      ],
      "text/plain": [
       "[(1, 'product-1', Decimal('10')), (2, 'product-2', Decimal('10'))]"
      ]
     },
     "execution_count": 124,
     "metadata": {},
     "output_type": "execute_result"
    }
   ],
   "source": [
    "%sql SELECT * FROM products;"
   ]
  },
  {
   "cell_type": "code",
   "execution_count": 125,
   "id": "dcb65873-60d5-4f27-8679-93255700304b",
   "metadata": {},
   "outputs": [
    {
     "name": "stdout",
     "output_type": "stream",
     "text": [
      " * postgresql://postgres@localhost/mydb\n",
      "2 rows affected.\n"
     ]
    },
    {
     "data": {
      "text/html": [
       "<table>\n",
       "    <thead>\n",
       "        <tr>\n",
       "            <th>order_id</th>\n",
       "            <th>product_no</th>\n",
       "            <th>quantity</th>\n",
       "        </tr>\n",
       "    </thead>\n",
       "    <tbody>\n",
       "        <tr>\n",
       "            <td>1</td>\n",
       "            <td>1</td>\n",
       "            <td>10</td>\n",
       "        </tr>\n",
       "        <tr>\n",
       "            <td>2</td>\n",
       "            <td>2</td>\n",
       "            <td>10</td>\n",
       "        </tr>\n",
       "    </tbody>\n",
       "</table>"
      ],
      "text/plain": [
       "[(1, 1, 10), (2, 2, 10)]"
      ]
     },
     "execution_count": 125,
     "metadata": {},
     "output_type": "execute_result"
    }
   ],
   "source": [
    "%sql SELECT * FROM orders;"
   ]
  },
  {
   "cell_type": "markdown",
   "id": "e3d7f0db-d51a-41cf-953a-b68f161854b3",
   "metadata": {},
   "source": [
    "- Deleting product with id 2 will cause the change of order with product_no 2.\n",
    "- New product_no value of order-2 will be 1. Since there is a product with product_no 1 there will be no error."
   ]
  },
  {
   "cell_type": "code",
   "execution_count": 126,
   "id": "3ad4a53b-557e-4cf6-aa72-f264d91e6683",
   "metadata": {},
   "outputs": [
    {
     "name": "stdout",
     "output_type": "stream",
     "text": [
      " * postgresql://postgres@localhost/mydb\n",
      "1 rows affected.\n"
     ]
    },
    {
     "data": {
      "text/plain": [
       "[]"
      ]
     },
     "execution_count": 126,
     "metadata": {},
     "output_type": "execute_result"
    }
   ],
   "source": [
    "%sql DELETE FROM products WHERE product_no = 2;"
   ]
  },
  {
   "cell_type": "code",
   "execution_count": 127,
   "id": "d536d723-8a9a-4356-a154-cb31c17d874c",
   "metadata": {},
   "outputs": [
    {
     "name": "stdout",
     "output_type": "stream",
     "text": [
      " * postgresql://postgres@localhost/mydb\n",
      "1 rows affected.\n"
     ]
    },
    {
     "data": {
      "text/html": [
       "<table>\n",
       "    <thead>\n",
       "        <tr>\n",
       "            <th>product_no</th>\n",
       "            <th>name</th>\n",
       "            <th>price</th>\n",
       "        </tr>\n",
       "    </thead>\n",
       "    <tbody>\n",
       "        <tr>\n",
       "            <td>1</td>\n",
       "            <td>product-1</td>\n",
       "            <td>10</td>\n",
       "        </tr>\n",
       "    </tbody>\n",
       "</table>"
      ],
      "text/plain": [
       "[(1, 'product-1', Decimal('10'))]"
      ]
     },
     "execution_count": 127,
     "metadata": {},
     "output_type": "execute_result"
    }
   ],
   "source": [
    "%sql SELECT * FROM products;"
   ]
  },
  {
   "cell_type": "code",
   "execution_count": 128,
   "id": "6e8a74c0-f80d-40fe-8efb-d8f7d3a8ed3e",
   "metadata": {},
   "outputs": [
    {
     "name": "stdout",
     "output_type": "stream",
     "text": [
      " * postgresql://postgres@localhost/mydb\n",
      "2 rows affected.\n"
     ]
    },
    {
     "data": {
      "text/html": [
       "<table>\n",
       "    <thead>\n",
       "        <tr>\n",
       "            <th>order_id</th>\n",
       "            <th>product_no</th>\n",
       "            <th>quantity</th>\n",
       "        </tr>\n",
       "    </thead>\n",
       "    <tbody>\n",
       "        <tr>\n",
       "            <td>1</td>\n",
       "            <td>1</td>\n",
       "            <td>10</td>\n",
       "        </tr>\n",
       "        <tr>\n",
       "            <td>2</td>\n",
       "            <td>1</td>\n",
       "            <td>10</td>\n",
       "        </tr>\n",
       "    </tbody>\n",
       "</table>"
      ],
      "text/plain": [
       "[(1, 1, 10), (2, 1, 10)]"
      ]
     },
     "execution_count": 128,
     "metadata": {},
     "output_type": "execute_result"
    }
   ],
   "source": [
    "%sql SELECT * FROM orders;"
   ]
  },
  {
   "cell_type": "markdown",
   "id": "ae93af6d-6168-4446-b06c-d544d68403b7",
   "metadata": {},
   "source": [
    "- Now deleting product with id 1 will cause the change of orders with product_no 1.\n",
    "- But since there is no record in products with product_no 1 an error will be raised."
   ]
  },
  {
   "cell_type": "code",
   "execution_count": 129,
   "id": "96993dcb-0d71-425e-b0db-ffe571582dc1",
   "metadata": {},
   "outputs": [
    {
     "name": "stdout",
     "output_type": "stream",
     "text": [
      " * postgresql://postgres@localhost/mydb\n",
      "(psycopg2.errors.ForeignKeyViolation) HATA:  \"products\" tablosu üzerinde yapılan update veya delete işlemi \"orders\" tablosunun \"orders_product_no_fkey\" bütünlük kısıtlamasını ihlal ediyor\n",
      "DETAIL:  (product_no)=(1) anahtarı \"orders\" tablosundan hala referans edilmektedir.\n",
      "\n",
      "[SQL: DELETE FROM products WHERE product_no = 1;]\n",
      "(Background on this error at: https://sqlalche.me/e/20/gkpj)\n"
     ]
    }
   ],
   "source": [
    "%sql DELETE FROM products WHERE product_no = 1;"
   ]
  },
  {
   "cell_type": "markdown",
   "id": "c8164eea-263c-4d2c-964a-d21317c930bb",
   "metadata": {},
   "source": [
    "###### Difference between NO ACTION and RESTRICTED"
   ]
  },
  {
   "cell_type": "markdown",
   "id": "5a442247-f07a-4146-abe3-644ac6e4f00b",
   "metadata": {},
   "source": [
    "- NO ACTION can be described as DEFERRABLE but restricted can not."
   ]
  },
  {
   "cell_type": "markdown",
   "id": "3efc4617-5b1e-43ab-b79d-11082110abf8",
   "metadata": {},
   "source": [
    "- To see the effects in this section auto-commit will be disabled.\n",
    "- Do not forget to re-open for other sections."
   ]
  },
  {
   "cell_type": "code",
   "execution_count": 130,
   "id": "7c1801ed-7728-4f60-9541-9c25ffcafd92",
   "metadata": {},
   "outputs": [],
   "source": [
    "%config SqlMagic.autocommit=False"
   ]
  },
  {
   "cell_type": "code",
   "execution_count": 131,
   "id": "3b685a24-6693-4de0-8002-deb0ea711623",
   "metadata": {},
   "outputs": [
    {
     "name": "stdout",
     "output_type": "stream",
     "text": [
      " * postgresql://postgres@localhost/mydb\n",
      "Done.\n",
      "Done.\n",
      "Done.\n",
      "Done.\n",
      "Done.\n"
     ]
    },
    {
     "data": {
      "text/plain": [
       "[]"
      ]
     },
     "execution_count": 131,
     "metadata": {},
     "output_type": "execute_result"
    }
   ],
   "source": [
    "%%sql\n",
    "BEGIN;\n",
    "DROP TABLE IF EXISTS products, orders CASCADE;\n",
    "CREATE TABLE products (\n",
    "    product_no integer PRIMARY KEY,\n",
    "    name text,\n",
    "    price numeric\n",
    ");\n",
    "CREATE TABLE orders (\n",
    "    order_id integer PRIMARY KEY,\n",
    "    product_no integer REFERENCES products(product_no) ON DELETE NO ACTION DEFERRABLE INITIALLY DEFERRED,\n",
    "    quantity integer\n",
    ");\n",
    "COMMIT;"
   ]
  },
  {
   "cell_type": "markdown",
   "id": "fc5190cd-1c1b-4e36-aa42-9fb674aac889",
   "metadata": {},
   "source": [
    "- Inserting related records"
   ]
  },
  {
   "cell_type": "code",
   "execution_count": 132,
   "id": "b49becab-898a-46ea-8fcd-ed1c81aad079",
   "metadata": {},
   "outputs": [
    {
     "name": "stdout",
     "output_type": "stream",
     "text": [
      " * postgresql://postgres@localhost/mydb\n",
      "Done.\n",
      "1 rows affected.\n",
      "1 rows affected.\n",
      "Done.\n"
     ]
    },
    {
     "data": {
      "text/plain": [
       "[]"
      ]
     },
     "execution_count": 132,
     "metadata": {},
     "output_type": "execute_result"
    }
   ],
   "source": [
    "%%sql\n",
    "BEGIN;\n",
    "INSERT INTO products VALUES (1, 'product-1', 10);\n",
    "INSERT INTO orders VALUES (1, 1, 10);\n",
    "COMMIT;"
   ]
  },
  {
   "cell_type": "markdown",
   "id": "409fcc95-6496-40cb-9ba7-d8e741c121a5",
   "metadata": {},
   "source": [
    "- In transaction first product then order can be deleted because FK check is deferred until transaction ends\n",
    "- See that both product and order deleted"
   ]
  },
  {
   "cell_type": "code",
   "execution_count": 133,
   "id": "40b62246-763d-4bf0-bb21-229debd00636",
   "metadata": {},
   "outputs": [
    {
     "name": "stdout",
     "output_type": "stream",
     "text": [
      " * postgresql://postgres@localhost/mydb\n",
      "Done.\n",
      "1 rows affected.\n",
      "1 rows affected.\n",
      "Done.\n"
     ]
    },
    {
     "data": {
      "text/plain": [
       "[]"
      ]
     },
     "execution_count": 133,
     "metadata": {},
     "output_type": "execute_result"
    }
   ],
   "source": [
    "%%sql\n",
    "BEGIN;\n",
    "DELETE FROM products WHERE product_no = 1;\n",
    "DELETE FROM orders WHERE product_no = 1;\n",
    "COMMIT;"
   ]
  },
  {
   "cell_type": "code",
   "execution_count": 134,
   "id": "a2e9bba4-35f7-4651-b3ae-02ab02bcdbad",
   "metadata": {},
   "outputs": [
    {
     "name": "stdout",
     "output_type": "stream",
     "text": [
      " * postgresql://postgres@localhost/mydb\n",
      "0 rows affected.\n"
     ]
    },
    {
     "data": {
      "text/html": [
       "<table>\n",
       "    <thead>\n",
       "        <tr>\n",
       "            <th>product_no</th>\n",
       "            <th>name</th>\n",
       "            <th>price</th>\n",
       "        </tr>\n",
       "    </thead>\n",
       "    <tbody>\n",
       "    </tbody>\n",
       "</table>"
      ],
      "text/plain": [
       "[]"
      ]
     },
     "execution_count": 134,
     "metadata": {},
     "output_type": "execute_result"
    }
   ],
   "source": [
    "%sql SELECT * FROM products;"
   ]
  },
  {
   "cell_type": "code",
   "execution_count": 135,
   "id": "ff8a58cb-e7d0-4762-a083-3faeff1fa73c",
   "metadata": {},
   "outputs": [
    {
     "name": "stdout",
     "output_type": "stream",
     "text": [
      " * postgresql://postgres@localhost/mydb\n",
      "0 rows affected.\n"
     ]
    },
    {
     "data": {
      "text/html": [
       "<table>\n",
       "    <thead>\n",
       "        <tr>\n",
       "            <th>order_id</th>\n",
       "            <th>product_no</th>\n",
       "            <th>quantity</th>\n",
       "        </tr>\n",
       "    </thead>\n",
       "    <tbody>\n",
       "    </tbody>\n",
       "</table>"
      ],
      "text/plain": [
       "[]"
      ]
     },
     "execution_count": 135,
     "metadata": {},
     "output_type": "execute_result"
    }
   ],
   "source": [
    "%sql SELECT * FROM orders;"
   ]
  },
  {
   "cell_type": "markdown",
   "id": "76759e76-2e03-4554-aa0d-d60dd0d35d85",
   "metadata": {},
   "source": [
    "- Even when defining RESTRICT as DEFERRED, it has no effect on transaction.\n",
    "- Still deleting product before delete order violates error even in transaction.\n",
    "- So it behaves as RESTRICT even if you define it as DEFERRED."
   ]
  },
  {
   "cell_type": "code",
   "execution_count": 136,
   "id": "94f7ed8a-b578-4874-81fd-87f5af3f6d48",
   "metadata": {},
   "outputs": [
    {
     "name": "stdout",
     "output_type": "stream",
     "text": [
      " * postgresql://postgres@localhost/mydb\n",
      "Done.\n",
      "Done.\n",
      "Done.\n",
      "Done.\n",
      "Done.\n"
     ]
    },
    {
     "data": {
      "text/plain": [
       "[]"
      ]
     },
     "execution_count": 136,
     "metadata": {},
     "output_type": "execute_result"
    }
   ],
   "source": [
    "%%sql\n",
    "BEGIN;\n",
    "DROP TABLE IF EXISTS products, orders CASCADE;\n",
    "CREATE TABLE products (\n",
    "    product_no integer PRIMARY KEY,\n",
    "    name text,\n",
    "    price numeric\n",
    ");\n",
    "CREATE TABLE orders (\n",
    "    order_id integer PRIMARY KEY,\n",
    "    product_no integer REFERENCES products(product_no) ON DELETE RESTRICT DEFERRABLE INITIALLY DEFERRED,\n",
    "    quantity integer\n",
    ");\n",
    "COMMIT;"
   ]
  },
  {
   "cell_type": "markdown",
   "id": "9273014f-ff9d-4dae-9de7-a713757d7355",
   "metadata": {},
   "source": [
    "- Inserting related records"
   ]
  },
  {
   "cell_type": "code",
   "execution_count": 137,
   "id": "fbed5192-366d-45ac-9999-8f3eac8cd88a",
   "metadata": {},
   "outputs": [
    {
     "name": "stdout",
     "output_type": "stream",
     "text": [
      " * postgresql://postgres@localhost/mydb\n",
      "Done.\n",
      "1 rows affected.\n",
      "1 rows affected.\n",
      "Done.\n"
     ]
    },
    {
     "data": {
      "text/plain": [
       "[]"
      ]
     },
     "execution_count": 137,
     "metadata": {},
     "output_type": "execute_result"
    }
   ],
   "source": [
    "%%sql\n",
    "BEGIN;\n",
    "INSERT INTO products VALUES (1, 'product-1', 10);\n",
    "INSERT INTO orders VALUES (1, 1, 10);\n",
    "COMMIT;"
   ]
  },
  {
   "cell_type": "markdown",
   "id": "cf393115-0d19-43e8-8cbf-b64e76aa91c6",
   "metadata": {},
   "source": [
    "- Delete product will raise error because FK constraint checks violation imeediately even if described as DEFERRED"
   ]
  },
  {
   "cell_type": "code",
   "execution_count": 138,
   "id": "26fecdef-7275-49fe-936d-8f1f44983fd8",
   "metadata": {},
   "outputs": [
    {
     "name": "stdout",
     "output_type": "stream",
     "text": [
      " * postgresql://postgres@localhost/mydb\n",
      "Done.\n",
      "(psycopg2.errors.ForeignKeyViolation) HATA:  \"products\" tablosu üzerinde yapılan update veya delete işlemi \"orders\" tablosunun \"orders_product_no_fkey\" bütünlük kısıtlamasını ihlal ediyor\n",
      "DETAIL:  (product_no)=(1) anahtarı \"orders\" tablosundan hala referans edilmektedir.\n",
      "\n",
      "[SQL: DELETE FROM products WHERE product_no = 1;]\n",
      "(Background on this error at: https://sqlalche.me/e/20/gkpj)\n"
     ]
    }
   ],
   "source": [
    "%%sql\n",
    "BEGIN;\n",
    "DELETE FROM products WHERE product_no = 1;\n",
    "DELETE FROM orders WHERE product_no = 1;\n",
    "COMMIT;"
   ]
  },
  {
   "cell_type": "code",
   "execution_count": 139,
   "id": "2c17c263-160c-4c6a-94ee-cc49dcb32381",
   "metadata": {},
   "outputs": [],
   "source": [
    "%config SqlMagic.autocommit=True"
   ]
  },
  {
   "cell_type": "markdown",
   "id": "bbf56ce8-ec56-4741-a177-7e7f6bc239e7",
   "metadata": {},
   "source": [
    "#### 5.5.6. Exclusion Constraints"
   ]
  },
  {
   "cell_type": "markdown",
   "id": "4b7715fb-c0ec-4ff3-b5f9-33cc599c4fea",
   "metadata": {},
   "source": [
    "- Exclusion constraint works like UNIQUE operator but it allows compare values to constraint other than equality operator.\n",
    "- Normally, a UNIQUE constraint prevents duplicate values in a column.\n",
    "- An Exclusion Constraint, on the other hand, enforces a \"cannot exist at the same time\" restriction using a specified operator.\n",
    "- Usage is  <i>EXCLUDE USING gist (point(lat, lon) WITH ~=)</i>\n",
    "    - When using exclude column will be indexed.\n",
    "    - In here gist specifies Generalized Search Tree algorithm will be used in indexing.\n",
    "    - Other alternatives: btree, spgist, brin.\n",
    "    - But gist is more common."
   ]
  },
  {
   "cell_type": "code",
   "execution_count": 140,
   "id": "54b330cc-b562-4f73-8a79-1f5c2acd023d",
   "metadata": {},
   "outputs": [
    {
     "name": "stdout",
     "output_type": "stream",
     "text": [
      " * postgresql://postgres@localhost/mydb\n",
      "Done.\n",
      "Done.\n"
     ]
    },
    {
     "data": {
      "text/plain": [
       "[]"
      ]
     },
     "execution_count": 140,
     "metadata": {},
     "output_type": "execute_result"
    }
   ],
   "source": [
    "%%sql\n",
    "DROP TABLE IF EXISTS locations;\n",
    "CREATE TABLE locations (\n",
    "    id SERIAL PRIMARY KEY,\n",
    "    lat DOUBLE PRECISION NOT NULL,\n",
    "    lon DOUBLE PRECISION NOT NULL,\n",
    "    EXCLUDE USING gist (point(lat, lon) WITH ~=)\n",
    ");"
   ]
  },
  {
   "cell_type": "markdown",
   "id": "313aa5b5-b7e0-4e5a-a8da-f0e65a43ad3c",
   "metadata": {},
   "source": [
    "- Inserting same point will raise exception"
   ]
  },
  {
   "cell_type": "code",
   "execution_count": 141,
   "id": "75dce6f5-3aa4-4db0-9c81-e2fba1eb7ddd",
   "metadata": {},
   "outputs": [
    {
     "name": "stdout",
     "output_type": "stream",
     "text": [
      " * postgresql://postgres@localhost/mydb\n",
      "1 rows affected.\n",
      "(psycopg2.errors.ExclusionViolation) HATA:  uyuşmayan kayıt, \"locations_point_excl\" exclusion kısıtlamasını ihlal etmektedir\n",
      "DETAIL:  (point(lat, lon))=((10,15)) anahtarı, mevcut (point(lat, lon))=((10,15)) anahtarıyla uyuşmuyor.\n",
      "\n",
      "[SQL: INSERT INTO locations VALUES (2, 10.0, 15.0);]\n",
      "(Background on this error at: https://sqlalche.me/e/20/gkpj)\n"
     ]
    }
   ],
   "source": [
    "%%sql\n",
    "INSERT INTO locations VALUES (1, 10.0, 15.0);\n",
    "INSERT INTO locations VALUES (2, 10.0, 15.0);"
   ]
  },
  {
   "cell_type": "markdown",
   "id": "40162102-fe89-4005-b6e5-ce9ac0a42cf9",
   "metadata": {},
   "source": [
    "- Another example using date range"
   ]
  },
  {
   "cell_type": "code",
   "execution_count": 142,
   "id": "512690ea-3064-41d9-a0b6-19ed6273b7a3",
   "metadata": {},
   "outputs": [
    {
     "name": "stdout",
     "output_type": "stream",
     "text": [
      " * postgresql://postgres@localhost/mydb\n",
      "Done.\n",
      "Done.\n",
      "Done.\n"
     ]
    },
    {
     "data": {
      "text/plain": [
       "[]"
      ]
     },
     "execution_count": 142,
     "metadata": {},
     "output_type": "execute_result"
    }
   ],
   "source": [
    "%%sql\n",
    "CREATE EXTENSION IF NOT EXISTS btree_gist; \n",
    "DROP TABLE IF EXISTS reservations;\n",
    "CREATE TABLE reservations (\n",
    "    id SERIAL PRIMARY KEY,\n",
    "    room_id INTEGER NOT NULL,\n",
    "    start_date DATE NOT NULL,\n",
    "    end_date DATE NOT NULL,\n",
    "    EXCLUDE USING gist (\n",
    "        room_id WITH =,  -- Aynı oda numarasının tekrarını engeller\n",
    "        daterange(start_date, end_date, '[]') WITH &&  -- Tarihler çakışamaz\n",
    "    )\n",
    ");"
   ]
  },
  {
   "cell_type": "markdown",
   "id": "826e1915-9889-4266-88ea-dfd82bb2929c",
   "metadata": {},
   "source": [
    "- Inserting reservations"
   ]
  },
  {
   "cell_type": "code",
   "execution_count": 143,
   "id": "f740171f-6af3-42c6-8da8-3656e7bd1420",
   "metadata": {},
   "outputs": [
    {
     "name": "stdout",
     "output_type": "stream",
     "text": [
      " * postgresql://postgres@localhost/mydb\n",
      "1 rows affected.\n",
      "1 rows affected.\n"
     ]
    },
    {
     "data": {
      "text/plain": [
       "[]"
      ]
     },
     "execution_count": 143,
     "metadata": {},
     "output_type": "execute_result"
    }
   ],
   "source": [
    "%%sql\n",
    "INSERT INTO reservations (room_id, start_date, end_date) VALUES (1, '2025-03-01', '2025-03-04');\n",
    "INSERT INTO reservations (room_id, start_date, end_date) VALUES (1, '2025-03-05', '2025-03-07');"
   ]
  },
  {
   "cell_type": "markdown",
   "id": "17a95c8b-7f13-4db3-98e7-75e15b8ccb40",
   "metadata": {},
   "source": [
    "- Inserting a record which dates collide with another record will raise error"
   ]
  },
  {
   "cell_type": "code",
   "execution_count": 144,
   "id": "eb63b6e9-5320-4104-8864-620fc1d9e37f",
   "metadata": {},
   "outputs": [
    {
     "name": "stdout",
     "output_type": "stream",
     "text": [
      " * postgresql://postgres@localhost/mydb\n",
      "(psycopg2.errors.ExclusionViolation) HATA:  uyuşmayan kayıt, \"reservations_room_id_daterange_excl\" exclusion kısıtlamasını ihlal etmektedir\n",
      "DETAIL:  (room_id, daterange(start_date, end_date, '[]'::text))=(1, [2025-03-06,2025-03-07)) anahtarı, mevcut (room_id, daterange(start_date, end_date, '[]'::text))=(1, [2025-03-05,2025-03-08)) anahtarıyla uyuşmuyor.\n",
      "\n",
      "[SQL: INSERT INTO reservations (room_id, start_date, end_date) VALUES (1, '2025-03-06' , '2025-03-06' );]\n",
      "(Background on this error at: https://sqlalche.me/e/20/gkpj)\n"
     ]
    }
   ],
   "source": [
    "%sql INSERT INTO reservations (room_id, start_date, end_date) VALUES (1, '2025-03-06', '2025-03-06');"
   ]
  },
  {
   "cell_type": "markdown",
   "id": "a79a897b-c992-4a73-a589-f5baa0c499c1",
   "metadata": {},
   "source": [
    "### 5.7. Modifying Tables"
   ]
  },
  {
   "cell_type": "code",
   "execution_count": null,
   "id": "2d7c9fd0-a1e6-4d1a-a57a-f7d8e7572c57",
   "metadata": {},
   "outputs": [],
   "source": []
  }
 ],
 "metadata": {
  "kernelspec": {
   "display_name": "Python 3 (ipykernel)",
   "language": "python",
   "name": "python3"
  },
  "language_info": {
   "codemirror_mode": {
    "name": "ipython",
    "version": 3
   },
   "file_extension": ".py",
   "mimetype": "text/x-python",
   "name": "python",
   "nbconvert_exporter": "python",
   "pygments_lexer": "ipython3",
   "version": "3.12.3"
  }
 },
 "nbformat": 4,
 "nbformat_minor": 5
}
