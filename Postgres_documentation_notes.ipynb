{
 "cells": [
  {
   "cell_type": "markdown",
   "id": "71ecfbb1-b4ea-4d2a-b4fa-6c52e05508e9",
   "metadata": {},
   "source": [
    "<h1>Notes From PostgreSQL Documentation</h1>"
   ]
  },
  {
   "cell_type": "markdown",
   "id": "bb02d75e-2328-4d24-a478-3aa854c5e024",
   "metadata": {},
   "source": [
    "<h3>Installing Dependencies</h3>"
   ]
  },
  {
   "cell_type": "markdown",
   "id": "871fac63-20be-4a6c-9b47-fd87a0a7db72",
   "metadata": {},
   "source": [
    "<b>Install dependencies and after installment finished restart the notebook.</b>"
   ]
  },
  {
   "cell_type": "code",
   "execution_count": null,
   "id": "d27951d3-c39d-4ff8-831f-b96cf7132554",
   "metadata": {},
   "outputs": [],
   "source": [
    "#!pip install jupyter ipython-sql jupyterlab_sql_editor[all]"
   ]
  },
  {
   "cell_type": "markdown",
   "id": "80e1eb63-20a2-4928-8a04-d938e990d248",
   "metadata": {},
   "source": [
    "<h3>Initializing Notebook and Connections</h3>"
   ]
  },
  {
   "cell_type": "markdown",
   "id": "61cb4ad7-5ffc-4729-a5db-59ac369299a4",
   "metadata": {},
   "source": [
    "<b>This steps will be executed every start/restart of kernel or notebook</b>"
   ]
  },
  {
   "cell_type": "code",
   "execution_count": null,
   "id": "f0e4c455-c05c-4f55-a5d0-4d3793289f56",
   "metadata": {},
   "outputs": [],
   "source": [
    "%load_ext sql"
   ]
  },
  {
   "cell_type": "code",
   "execution_count": null,
   "id": "75c51ddb-bdd9-4368-91fa-de11f2b5f22e",
   "metadata": {},
   "outputs": [],
   "source": [
    "%config SqlMagic.style = '_DEPRECATED_DEFAULT'"
   ]
  },
  {
   "cell_type": "markdown",
   "id": "d2f7a1c8-1ada-4bea-a8f2-c17a8576e463",
   "metadata": {},
   "source": [
    "Connecting to DB\n",
    "Usage: &lt;db_vendor&gt;://[username:password]@&lt;serverip&gt;/&lt;dbname&gt;"
   ]
  },
  {
   "cell_type": "code",
   "execution_count": null,
   "id": "43803a46-1a0f-4d8f-b188-24e18c1b07ab",
   "metadata": {},
   "outputs": [],
   "source": [
    "%sql postgresql://postgres@localhost/mydb"
   ]
  },
  {
   "cell_type": "markdown",
   "id": "d404bfdb-58c1-4acc-b0c5-f0a379d344e6",
   "metadata": {},
   "source": [
    "Testing connection"
   ]
  },
  {
   "cell_type": "code",
   "execution_count": null,
   "id": "b94d4f72-2c18-4fc1-9262-8175dec52758",
   "metadata": {},
   "outputs": [],
   "source": [
    "%sql select 'CONNECTION SUCCESSFULLY INITIALIZED' as result"
   ]
  },
  {
   "cell_type": "markdown",
   "id": "5404170c-2c47-469a-ac4c-cd1bf177db2e",
   "metadata": {},
   "source": [
    "<h2>Chapter 5. Data Definition</h2>"
   ]
  },
  {
   "cell_type": "markdown",
   "id": "be0c8dee-eda7-43e1-bce8-dc7e61756a79",
   "metadata": {
    "jp-MarkdownHeadingCollapsed": true
   },
   "source": [
    "### 5.1. Table Basics"
   ]
  },
  {
   "cell_type": "markdown",
   "id": "b80b1c5d-7e51-4f1f-a55e-77d6c50c9bce",
   "metadata": {},
   "source": [
    "##### a. Creating Table"
   ]
  },
  {
   "cell_type": "markdown",
   "id": "498d56a6-1e9c-45e9-b556-2747439fe12f",
   "metadata": {},
   "source": [
    "For details check reference <a href=\"https://www.postgresql.org/docs/current/sql-createtable.html\">https://www.postgresql.org/docs/current/sql-createtable.html</a>"
   ]
  },
  {
   "cell_type": "code",
   "execution_count": null,
   "id": "1a097853-f3f5-4d67-b201-2decacb78bf2",
   "metadata": {},
   "outputs": [],
   "source": [
    "%%sql\n",
    "DROP TABLE IF EXISTS products;\n",
    "CREATE TABLE products (\n",
    "\tproduct_no integer,\n",
    "\tname text,\n",
    "\tprice numeric\n",
    ");"
   ]
  },
  {
   "cell_type": "markdown",
   "id": "fb0943b0-4ac8-4b23-b5bc-d8e09b9ca451",
   "metadata": {},
   "source": [
    "##### b. Deleting Table"
   ]
  },
  {
   "cell_type": "markdown",
   "id": "d50ac4de-d94e-4e2c-9567-cde46b15d42c",
   "metadata": {},
   "source": [
    "For details check reference <a href=\"https://www.postgresql.org/docs/current/sql-droptable.html\">https://www.postgresql.org/docs/current/sql-droptable.html</a>"
   ]
  },
  {
   "cell_type": "markdown",
   "id": "2bfca6e8-c0d0-4896-b397-509ec77eb05d",
   "metadata": {},
   "source": [
    "- IF EXISTS is optional. This statement prevents throwing error when table does not exist in DB."
   ]
  },
  {
   "cell_type": "code",
   "execution_count": null,
   "id": "c04fd27b-2957-4a34-9233-0eb3b21f9c6f",
   "metadata": {},
   "outputs": [],
   "source": [
    "%%sql\n",
    "DROP TABLE IF EXISTS products;"
   ]
  },
  {
   "cell_type": "markdown",
   "id": "6bbe8679-dc48-4283-9279-bc1f70654dd3",
   "metadata": {},
   "source": [
    "##### c. Creating Table with DEFAULT value"
   ]
  },
  {
   "cell_type": "code",
   "execution_count": null,
   "id": "de7d7b54-0eed-49b5-9aff-092e224bf33e",
   "metadata": {},
   "outputs": [],
   "source": [
    "%%sql\n",
    "DROP TABLE IF EXISTS products;\n",
    "CREATE TABLE products (\n",
    "\tproduct_no integer,\n",
    "\tname text,\n",
    "\tprice numeric DEFAULT 9.99,\n",
    "\tdate timestamp DEFAULT CURRENT_TIMESTAMP\n",
    ");"
   ]
  },
  {
   "cell_type": "markdown",
   "id": "8c84c175-75a8-483a-9838-fc162c9859e6",
   "metadata": {
    "jp-MarkdownHeadingCollapsed": true
   },
   "source": [
    "### 5.3. Identity Columns"
   ]
  },
  {
   "cell_type": "markdown",
   "id": "15a3972a-baad-4223-934e-e95565c7b6c1",
   "metadata": {
    "jp-MarkdownHeadingCollapsed": true
   },
   "source": [
    "##### a. Creating table with IDENTITY column"
   ]
  },
  {
   "cell_type": "markdown",
   "id": "ad1e3c70-73b0-4bd4-8bd3-8cc2d24b2481",
   "metadata": {},
   "source": [
    "- When using <i>IDENTITY</i> column with <i>GENERATED</i> it means value of column will be created automatically\n",
    "- <i>GENERATED ALWAYS</i> means you can not insert manual values when adding/updating for this field.\n",
    "- <i>GENERATED BY DEFAULT</i> means you can insert manual values when adding/updating for this field\n",
    "- When using <i>GENERATED BY DEFAULT</i> you must be careful:\n",
    "    - Generating values will be using a sequential. That means it starts from 1 and goes on.\n",
    "    - If identity column is described as UNIQUE:\n",
    "        - You insert a record without inserting a manual value for identity column.\n",
    "        - After that you give identity column value by hand and that value is 2.\n",
    "            - It will be successfully inserted.\n",
    "            - But sequence value is still remains as 2.\n",
    "        - Then you inserted a record without inserting a manual value for identity column again.\n",
    "            - Since sequence value is 2 and there is a record also has valued 2, it will throw duplicated value error.\n",
    "    - If identity column is not described as UNIQUE:\n",
    "        - You insert a record without inserting a manual value for identity column.\n",
    "        - After that you give identity column value by hand and that value is 2.\n",
    "            - It will be successfully inserted.\n",
    "            - But sequence value is still remains as 2.\n",
    "        - Then you inserted a record without inserting a manual value for identity column again.\n",
    "            - Since sequence value is 2 it will insert record with identity column has value as 2.\n",
    "            - But there are two record which their identity columns has value as 2.\n",
    "- Even when using <i>GENERATED ALWAYS</i> there are duplicated value or error risks:\n",
    "    - By using OVERRIDING SYSTEM VALUE, you can enter identity column values manually.\n",
    "    - Same cases above (GENERATED BY DEFAULT) are also effective for this. "
   ]
  },
  {
   "cell_type": "markdown",
   "id": "aebe1e63-03fb-498d-8c03-d7218b920d47",
   "metadata": {
    "jp-MarkdownHeadingCollapsed": true
   },
   "source": [
    "##### b. Example usage of <i>GENERATED ALWAYS</i>"
   ]
  },
  {
   "cell_type": "markdown",
   "id": "37e3f630-35cc-46a6-96d8-89b3c9152fa7",
   "metadata": {},
   "source": [
    "- Creating table with GENERATED ALWAYS AS IDENTITY column"
   ]
  },
  {
   "cell_type": "code",
   "execution_count": null,
   "id": "6954220e-6395-4224-86ae-991d8620cdf7",
   "metadata": {},
   "outputs": [],
   "source": [
    "%%sql\n",
    "DROP TABLE IF EXISTS people;\n",
    "CREATE TABLE people (\n",
    "\tid bigint GENERATED ALWAYS AS IDENTITY,\n",
    "\tname varchar(80),\n",
    "\taddress varchar(80)\n",
    ");"
   ]
  },
  {
   "cell_type": "markdown",
   "id": "23752483-84ef-45b7-ab04-72b3b68f3cd1",
   "metadata": {},
   "source": [
    "- Record will be inserted successfully and id will be automatically assigned as 1"
   ]
  },
  {
   "cell_type": "code",
   "execution_count": null,
   "id": "393d20ec-7f12-48c5-b028-20aa4991c30c",
   "metadata": {},
   "outputs": [],
   "source": [
    "%%sql \n",
    "INSERT INTO people (name, address) VALUES ('A', 'foo');\n",
    "SELECT * FROM people;"
   ]
  },
  {
   "cell_type": "markdown",
   "id": "0a7c3633-7cbd-4f9d-a9d1-9016bf765a0d",
   "metadata": {},
   "source": [
    "- Throws error because of id column is generated always and given an id value"
   ]
  },
  {
   "cell_type": "code",
   "execution_count": null,
   "id": "f6f68156-b488-44f9-842a-a96663c9f37b",
   "metadata": {},
   "outputs": [],
   "source": [
    "%sql INSERT INTO people (id, name, address) VALUES (2, 'B', 'bar');"
   ]
  },
  {
   "cell_type": "markdown",
   "id": "613c15d4-2f8e-460d-863b-0b008c814ec3",
   "metadata": {},
   "source": [
    "- Will not throw error and insert record successfully"
   ]
  },
  {
   "cell_type": "code",
   "execution_count": null,
   "id": "d95dd55b-26cb-49a9-908c-dd62212e9af9",
   "metadata": {},
   "outputs": [],
   "source": [
    "%%sql \n",
    "INSERT INTO people (id, name, address) OVERRIDING SYSTEM VALUE VALUES (2, 'B', 'bar');"
   ]
  },
  {
   "cell_type": "markdown",
   "id": "227c43d5-f0cf-4890-aaee-11db8ae64266",
   "metadata": {},
   "source": [
    "- Insert will be successful but since sequence for id value is still 2 and there is a record which id is 2, there is two record which has id 2."
   ]
  },
  {
   "cell_type": "code",
   "execution_count": null,
   "id": "62da32a0-45eb-42e1-be8e-24def64963a7",
   "metadata": {},
   "outputs": [],
   "source": [
    "%%sql \n",
    "INSERT INTO people (name, address) VALUES ('C', 'baz');\n",
    "SELECT * FROM people;"
   ]
  },
  {
   "cell_type": "markdown",
   "id": "54568a92-08f8-47d5-bbc1-734890ce5ee0",
   "metadata": {
    "jp-MarkdownHeadingCollapsed": true
   },
   "source": [
    "##### c. Example usage of <i>GENERATED BY DEFAULT with UNIQUE descriptor</i>"
   ]
  },
  {
   "cell_type": "markdown",
   "id": "80203457-0617-4897-85c1-c532d7bbfef9",
   "metadata": {},
   "source": [
    "- Creating table with GENERATED BY DEFAULT AS IDENTITY column"
   ]
  },
  {
   "cell_type": "code",
   "execution_count": null,
   "id": "63430648-aa29-4178-a229-1a8d10bdb335",
   "metadata": {},
   "outputs": [],
   "source": [
    "%%sql\n",
    "DROP TABLE IF EXISTS people;\n",
    "CREATE TABLE people (\n",
    "\tid bigint UNIQUE GENERATED BY DEFAULT AS IDENTITY,\n",
    "\tname varchar(80),\n",
    "\taddress varchar(80)\n",
    ");"
   ]
  },
  {
   "cell_type": "markdown",
   "id": "4323ae66-5cca-4ee5-9920-84b4ecee051b",
   "metadata": {},
   "source": [
    "- First record will be inserted successfully and id will be automatically assigned as 1.\n",
    "- Second record will be inserted successfully."
   ]
  },
  {
   "cell_type": "code",
   "execution_count": null,
   "id": "49746b82-8b1f-4e06-bb32-613e4ddaef42",
   "metadata": {},
   "outputs": [],
   "source": [
    "%%sql \n",
    "INSERT INTO people (name, address) VALUES ('A', 'foo');\n",
    "INSERT INTO people (id, name, address) VALUES (2, 'B', 'bar');\n",
    "SELECT * FROM people;"
   ]
  },
  {
   "cell_type": "markdown",
   "id": "8592f884-a409-4167-a77d-52e0fb55eeb9",
   "metadata": {},
   "source": [
    "- Error will be thrown because sequence for id value is still 2 and there is a record which id is 2"
   ]
  },
  {
   "cell_type": "code",
   "execution_count": null,
   "id": "9c1ac9ff-d091-43a4-8dbf-dd71e968cc4e",
   "metadata": {},
   "outputs": [],
   "source": [
    "%%sql \n",
    "INSERT INTO people (name, address) VALUES ('C', 'baz');"
   ]
  },
  {
   "cell_type": "markdown",
   "id": "7601ee48-ab03-4aad-aebf-2fcdaea2ba5e",
   "metadata": {
    "jp-MarkdownHeadingCollapsed": true
   },
   "source": [
    "##### d. Example usage of <i>GENERATED BY DEFAULT without UNIQUE descriptor</i>"
   ]
  },
  {
   "cell_type": "markdown",
   "id": "c8890b67-aa95-4cf0-8f88-dab49c5955f6",
   "metadata": {},
   "source": [
    "- Creating table with GENERATED BY DEFAULT AS IDENTITY column"
   ]
  },
  {
   "cell_type": "code",
   "execution_count": null,
   "id": "1e03537d-d796-4345-bc7c-fb5b49c51bb5",
   "metadata": {},
   "outputs": [],
   "source": [
    "%%sql\n",
    "DROP TABLE IF EXISTS people;\n",
    "CREATE TABLE people (\n",
    "\tid bigint GENERATED BY DEFAULT AS IDENTITY,\n",
    "\tname varchar(80),\n",
    "\taddress varchar(80)\n",
    ");"
   ]
  },
  {
   "cell_type": "markdown",
   "id": "f2a6d7ff-8239-4f89-8b09-73502383fa18",
   "metadata": {},
   "source": [
    "- First record will be inserted successfully and id will be automatically assigned as 1.\n",
    "- Second record will be inserted successfully."
   ]
  },
  {
   "cell_type": "code",
   "execution_count": null,
   "id": "75d951cd-e141-4c41-8d6f-42f705c7e1bf",
   "metadata": {},
   "outputs": [],
   "source": [
    "%%sql \n",
    "INSERT INTO people (name, address) VALUES ('A', 'foo');\n",
    "INSERT INTO people (id, name, address) VALUES (2, 'B', 'bar');\n",
    "SELECT * FROM people;"
   ]
  },
  {
   "cell_type": "markdown",
   "id": "b41385c5-e451-40ee-a578-21a5d8738e17",
   "metadata": {},
   "source": [
    "- Insert will be successful but since sequence for id value is still 2 and there is a record which id is 2, there is two record which has id 2."
   ]
  },
  {
   "cell_type": "code",
   "execution_count": null,
   "id": "68bca926-8d5d-4110-b1e5-3fadd4acc433",
   "metadata": {},
   "outputs": [],
   "source": [
    "%%sql \n",
    "INSERT INTO people (name, address) VALUES ('C', 'baz');\n",
    "SELECT * FROM people;"
   ]
  },
  {
   "cell_type": "markdown",
   "id": "e1da44de-9b0c-4cbc-9a75-9040c2550a60",
   "metadata": {
    "jp-MarkdownHeadingCollapsed": true
   },
   "source": [
    "##### e. Usage of DEFAULT value"
   ]
  },
  {
   "cell_type": "markdown",
   "id": "27d11bff-0b78-4bc2-87b9-9ba85e82813b",
   "metadata": {},
   "source": [
    "- DEFAULT also can be used to specify the sequence explicitly.\n",
    "- Especially in UPDATE command when update generated column value and get it from sequence, you can use DEFAULT."
   ]
  },
  {
   "cell_type": "markdown",
   "id": "ee2b5702-8d9b-48a2-b852-49d18a7f44af",
   "metadata": {},
   "source": [
    "- Creating table has generated column"
   ]
  },
  {
   "cell_type": "code",
   "execution_count": null,
   "id": "b31da8eb-20ad-483d-a928-43f4c9d0333a",
   "metadata": {},
   "outputs": [],
   "source": [
    "%%sql\n",
    "DROP TABLE IF EXISTS people;\n",
    "CREATE TABLE people (\n",
    "\tid bigint GENERATED ALWAYS AS IDENTITY,\n",
    "\tname varchar(80),\n",
    "\taddress varchar(80)\n",
    ");"
   ]
  },
  {
   "cell_type": "markdown",
   "id": "9bd2631b-ff7c-475f-a5f3-1566a2bce632",
   "metadata": {},
   "source": [
    "- Inserting values.\n",
    "- When inserting values id will be fetched from a sequence.\n",
    "- First record has id 1, and second has id 2.\n",
    "- After insertions completed, current value of sequence will be 3."
   ]
  },
  {
   "cell_type": "code",
   "execution_count": null,
   "id": "98c04427-13b9-41b3-9706-b5c0f223f515",
   "metadata": {},
   "outputs": [],
   "source": [
    "%%sql\n",
    "INSERT INTO people (name, address) VALUES ('A', 'foo');\n",
    "INSERT INTO people (name, address) VALUES ('B', 'bar');\n",
    "SELECT * FROM people;"
   ]
  },
  {
   "cell_type": "markdown",
   "id": "a3f668f3-1a5d-4f26-bf88-df2e269292d2",
   "metadata": {},
   "source": [
    "- Inserting value using DEFAULT.\n",
    "- Using DEFAULT means use sequence to insert value.\n",
    "- So the value will be current value of sequence (3) and current value of sequence increases."
   ]
  },
  {
   "cell_type": "code",
   "execution_count": null,
   "id": "7d818527-3d15-4f60-a6be-4c4a58b3313d",
   "metadata": {},
   "outputs": [],
   "source": [
    "%%sql \n",
    "INSERT INTO people (id, name, address) VALUES (DEFAULT, 'C', 'baz');\n",
    "SELECT * FROM people;"
   ]
  },
  {
   "cell_type": "markdown",
   "id": "0df363ab-941c-43c1-8d8e-0ea2adda6e9b",
   "metadata": {},
   "source": [
    "- DEFAULT value also can be used in UPDATE statement.\n",
    "- When using update statement, id value will be fetched from sequence still.\n",
    "- So new id of third record will be 4.\n",
    "- The other use of DEFAULT is in name column. Default value of name is NULL because it is not specified a default value."
   ]
  },
  {
   "cell_type": "code",
   "execution_count": null,
   "id": "a4fd6cd8-0942-4adc-b430-6b0937e58332",
   "metadata": {},
   "outputs": [],
   "source": [
    "%%sql\n",
    "UPDATE people SET id=DEFAULT, name=DEFAULT, address='qwe' where id = 3;\n",
    "SELECT * FROM people; "
   ]
  },
  {
   "cell_type": "markdown",
   "id": "8e211fe7-fcd5-4e80-929e-a66f5e796973",
   "metadata": {
    "jp-MarkdownHeadingCollapsed": true
   },
   "source": [
    "### 5.4. Generated Columns"
   ]
  },
  {
   "cell_type": "markdown",
   "id": "6350b0c7-1a12-4c6c-bbd0-5af766ba44f9",
   "metadata": {},
   "source": [
    "- Syntax is GENERATED [ALWAYS|BY DEFAULT] AS ... STORED\n",
    "- Creates a calculated column by using a column as base column.\n",
    "- Example usages:\n",
    "    - When you have to calculate a value using a column frequently, then you can store the calculated value in another column.\n",
    "        - By that way you can also index that column and make optimizations.\n",
    "    - When calculating, if base column is NULL then generated column will be also NULL.\n",
    "    - (From documentation) Generated columns maintain access privileges separately from their underlying base columns.\n",
    "        - So, it is possible to arrange it so that a particular role can read from a generated column but not from the underlying base columns.\n",
    "        - For example you can hide email value from users except current user is admin (for simplicity current_user used instead of role based query).\n",
    "            - To achive this there are 2 columns for email: email and visible_email\n",
    "            - visible_email will be generated using email.\n",
    "            - When getting visible_email if current user is admin email will be seen, but is not admin ***** will be seen in results.\n",
    "            - To prevent other users get email by using email column, user rights will be revoked.\n",
    "            - ```sql\n",
    "                CREATE TABLE users (\n",
    "                    id SERIAL PRIMARY KEY,\n",
    "                    email VARCHAR(200) NOT NULL,\n",
    "                    visible_email VARCHAR(200) GENERATED ALWAYS AS (\n",
    "                        CASE \n",
    "                            WHEN current_user = 'admin' THEN email\n",
    "                            ELSE '*****'\n",
    "                        END\n",
    "                    ) STORED\n",
    "                );\n",
    "                REVOKE SELECT ON users FROM PUBLIC;\n",
    "                GRANT SELECT (id, visible_email) ON users TO PUBLIC;\n",
    "                GRANT SELECT (id, email, visible_email) ON users TO admin;\n",
    "              ```\n",
    "     "
   ]
  },
  {
   "cell_type": "markdown",
   "id": "3269ff91-ace7-4d93-869b-e5b446bb12d9",
   "metadata": {
    "jp-MarkdownHeadingCollapsed": true
   },
   "source": [
    "##### a. Creating table with GENERATED column"
   ]
  },
  {
   "cell_type": "code",
   "execution_count": null,
   "id": "28167ed0-b4b5-4fec-9bd7-d578c7ca6c9a",
   "metadata": {},
   "outputs": [],
   "source": [
    "%%sql\n",
    "DROP TABLE IF EXISTS people;\n",
    "CREATE TABLE people (\n",
    "\tid bigint PRIMARY KEY GENERATED ALWAYS AS IDENTITY,\n",
    "\tname varchar(80),\n",
    "\taddress varchar(80),\n",
    "\theight_cm numeric,\n",
    "\theight_in numeric GENERATED ALWAYS AS (height_cm / 2.54) STORED\n",
    ");"
   ]
  },
  {
   "cell_type": "markdown",
   "id": "126e6fac-b6e6-40dd-b7b0-e104f81b10f2",
   "metadata": {},
   "source": [
    "- Inserting values to table with GENERATED column.\n",
    "- See that when height_cm is null, generated column is also null."
   ]
  },
  {
   "cell_type": "code",
   "execution_count": null,
   "id": "5777e4a8-56ef-45a1-b4bc-e3e4d1c7ff96",
   "metadata": {},
   "outputs": [],
   "source": [
    "%%sql\n",
    "INSERT INTO people (name, address, height_cm) VALUES ('A', 'foo', 170); \n",
    "INSERT INTO people (name, address) VALUES ('B', 'bar');\n",
    "SELECT * FROM people;"
   ]
  },
  {
   "cell_type": "markdown",
   "id": "87e1546c-d647-4c0e-a3d4-de6f3efe0174",
   "metadata": {},
   "source": [
    "### 5.5. Constraints"
   ]
  },
  {
   "cell_type": "markdown",
   "id": "53782462-857c-42ba-9564-1450cebffeef",
   "metadata": {},
   "source": [
    "#### 5.5.1. Check Constraints"
   ]
  },
  {
   "cell_type": "markdown",
   "id": "10332056-419a-4b5b-ae1c-3a0bd29fd0d5",
   "metadata": {},
   "source": [
    "##### a. Creating table with check constraint"
   ]
  },
  {
   "cell_type": "code",
   "execution_count": null,
   "id": "6d4f8f0c-9d89-4903-a2b0-e6c9fa858b33",
   "metadata": {},
   "outputs": [],
   "source": [
    "%%sql\n",
    "DROP TABLE IF EXISTS products;\n",
    "CREATE TABLE products (\n",
    "\tproduct_no integer,\n",
    "\tname text,\n",
    "\tprice numeric CHECK (price > 0)\n",
    ");"
   ]
  },
  {
   "cell_type": "markdown",
   "id": "8b23cc6b-2d7b-417f-b706-ae9ecb71183a",
   "metadata": {},
   "source": [
    "- Inserting record to table has check constraint\n",
    "- Operation will throw error because of price should be greater than zero."
   ]
  },
  {
   "cell_type": "code",
   "execution_count": null,
   "id": "d54a5857-987d-4354-bf94-583dfce670d5",
   "metadata": {},
   "outputs": [],
   "source": [
    "%sql INSERT INTO products VALUES (1, 'product-1', 0);"
   ]
  },
  {
   "cell_type": "markdown",
   "id": "e105eed4-7faa-48b7-8e35-3b16f2a8d3b5",
   "metadata": {
    "jp-MarkdownHeadingCollapsed": true
   },
   "source": [
    "##### b. Creating table with check constraint which has name"
   ]
  },
  {
   "cell_type": "markdown",
   "id": "d8874c5b-1025-4fe8-87e8-555ba4813fce",
   "metadata": {},
   "source": [
    "- Giving a constraint name clarifies error messages and allows you to refer it when constraint needed to change"
   ]
  },
  {
   "cell_type": "code",
   "execution_count": null,
   "id": "0950a081-b1af-4d9d-83fb-5be201c0a434",
   "metadata": {},
   "outputs": [],
   "source": [
    "%%sql\n",
    "DROP TABLE IF EXISTS products;\n",
    "CREATE TABLE products (\n",
    "\tproduct_no integer,\n",
    "\tname text,\n",
    "\tprice numeric CONSTRAINT positive_price CHECK (price > 0)\n",
    ");"
   ]
  },
  {
   "cell_type": "markdown",
   "id": "7183e450-9224-4426-b282-7105315c6a02",
   "metadata": {},
   "source": [
    "- Inserting record to table has named check constraint\n",
    "- Operation will throw error because of price should be greater than zero.\n",
    "- See that error message includes constraint name (positive_price)."
   ]
  },
  {
   "cell_type": "code",
   "execution_count": null,
   "id": "ab83c65b-17db-4ea5-92bd-fcf7b7d09997",
   "metadata": {},
   "outputs": [],
   "source": [
    "%sql INSERT INTO products VALUES (1, 'product-1', 0);"
   ]
  },
  {
   "cell_type": "markdown",
   "id": "806e4c4b-a3e7-4f6c-beb4-8f4b1e05f531",
   "metadata": {
    "jp-MarkdownHeadingCollapsed": true
   },
   "source": [
    "##### c. Removing constraint from table and adding new constraint"
   ]
  },
  {
   "cell_type": "markdown",
   "id": "54f5c08a-8e33-4f70-ba56-1390a381af26",
   "metadata": {},
   "source": [
    "- First creating table with constraint and give a name to constraint."
   ]
  },
  {
   "cell_type": "code",
   "execution_count": null,
   "id": "b0437de4-6622-4433-a20d-df8f624d8842",
   "metadata": {},
   "outputs": [],
   "source": [
    "%%sql\n",
    "DROP TABLE IF EXISTS products;\n",
    "CREATE TABLE products (\n",
    "\tproduct_no integer,\n",
    "\tname text,\n",
    "\tprice numeric CONSTRAINT positive_price CHECK (price > 0)\n",
    ");"
   ]
  },
  {
   "cell_type": "markdown",
   "id": "10b74084-defa-4380-8559-b612689a57de",
   "metadata": {},
   "source": [
    "- Removing a constraint and adding new constraint.\n",
    "- Since constraint has a name it easy to remove using name.\n",
    "- When not given a name you should find constraint int pg tables. (For more: Google -> PostgreSQL drop constraint with unknown name)"
   ]
  },
  {
   "cell_type": "code",
   "execution_count": null,
   "id": "8d3b1e68-f9e2-42b3-8d73-3087545c5bf7",
   "metadata": {},
   "outputs": [],
   "source": [
    "%%sql\n",
    "ALTER TABLE products DROP CONSTRAINT positive_price;\n",
    "ALTER TABLE products ADD CONSTRAINT minimum_price CHECK (price >= 10.0);"
   ]
  },
  {
   "cell_type": "markdown",
   "id": "d39465c7-bfba-414b-8756-06f380b1e2ae",
   "metadata": {},
   "source": [
    "##### d. Other constraint informations"
   ]
  },
  {
   "cell_type": "markdown",
   "id": "5a678110-30ae-48f4-8944-09d8b99e4ab1",
   "metadata": {},
   "source": [
    "- Check constraint can be added for multiple columns or full table.\n",
    "- When adding new constraint to non-empty table, all records should complain new constraint. Otherwise constraint is violated by some row error will be thrown. (This is not always the case; details will be provided later.)"
   ]
  },
  {
   "cell_type": "markdown",
   "id": "ef5e323e-76ef-4279-9cae-010e9c07d9e4",
   "metadata": {},
   "source": [
    "- First recreating table for cleaning constraints."
   ]
  },
  {
   "cell_type": "code",
   "execution_count": null,
   "id": "692d8ab6-5352-4fd2-803d-f94c086b972c",
   "metadata": {},
   "outputs": [],
   "source": [
    "%%sql\n",
    "DROP TABLE IF EXISTS products;\n",
    "CREATE TABLE products (\n",
    "\tproduct_no integer,\n",
    "\tname text,\n",
    "\tprice numeric CONSTRAINT positive_price CHECK (price > 0)\n",
    ");"
   ]
  },
  {
   "cell_type": "markdown",
   "id": "e93e2383-04d9-47ad-a7ed-1ec3f2390cd0",
   "metadata": {},
   "source": [
    "- Adding constraint using multiple columns."
   ]
  },
  {
   "cell_type": "code",
   "execution_count": null,
   "id": "59a5c320-8e6a-45f5-b3bd-246f8944dfd9",
   "metadata": {},
   "outputs": [],
   "source": [
    "%sql ALTER TABLE products ADD CONSTRAINT product_no_and_price CHECK (product_no > 0 and price > 0);"
   ]
  },
  {
   "cell_type": "markdown",
   "id": "579fb99c-0422-46df-a5d3-1383f61782a1",
   "metadata": {},
   "source": [
    "- Adding constraint for all columns."
   ]
  },
  {
   "cell_type": "code",
   "execution_count": null,
   "id": "55f4d122-9ff3-43f2-a62d-1013c582548f",
   "metadata": {},
   "outputs": [],
   "source": [
    "%sql ALTER TABLE products ADD CONSTRAINT lock_table CHECK (false);"
   ]
  },
  {
   "cell_type": "markdown",
   "id": "08881218-0323-4abf-b098-3b9cd3cb658c",
   "metadata": {},
   "source": [
    "- Check constraing can be applied only new added or modified records.\n",
    "- To achieve this NOT VALID should be used."
   ]
  },
  {
   "cell_type": "markdown",
   "id": "45f03b44-1525-4989-a6d4-0cf92c34d6a7",
   "metadata": {},
   "source": [
    "- First cleaning constraints."
   ]
  },
  {
   "cell_type": "code",
   "execution_count": null,
   "id": "f5c32f36-3ac7-48f3-9d5e-5525d7705ba2",
   "metadata": {},
   "outputs": [],
   "source": [
    "%%sql \n",
    "ALTER TABLE products DROP CONSTRAINT IF EXISTS product_no_and_price;\n",
    "ALTER TABLE products DROP CONSTRAINT IF EXISTS lock_table;"
   ]
  },
  {
   "cell_type": "markdown",
   "id": "5e75dc43-f0ea-4532-82f8-51fc2af0febf",
   "metadata": {},
   "source": [
    "- Inserting values to product table to see effect of new constraints on old values."
   ]
  },
  {
   "cell_type": "code",
   "execution_count": null,
   "id": "8a752ce4-4cc9-413f-8744-51c35757b32c",
   "metadata": {},
   "outputs": [],
   "source": [
    "%%sql\n",
    "INSERT INTO products VALUES (1, 'product-1', 10);\n",
    "INSERT INTO products VALUES (2, 'product-2', 20);\n",
    "SELECT * FROM products;"
   ]
  },
  {
   "cell_type": "markdown",
   "id": "2b8e95b3-d48d-44a8-b8b7-68744bf8e638",
   "metadata": {},
   "source": [
    "- First see when adding new constraing without NOT VALID property.\n",
    "- It throws error because there are rows which not comply with new constraint."
   ]
  },
  {
   "cell_type": "code",
   "execution_count": null,
   "id": "6ac5b1bd-d637-4049-acdc-ec11cb94e7ca",
   "metadata": {},
   "outputs": [],
   "source": [
    "%sql ALTER TABLE products ADD CONSTRAINT lock_table CHECK (false);"
   ]
  },
  {
   "cell_type": "markdown",
   "id": "a8e069ef-8c4b-44dd-a376-b186fde7c4db",
   "metadata": {},
   "source": [
    "- Now when using NOT VALID, constraint does not check old values\n",
    "- So there will be no error thrown."
   ]
  },
  {
   "cell_type": "code",
   "execution_count": null,
   "id": "4fc3467e-278d-44a4-b5f9-31682639510a",
   "metadata": {},
   "outputs": [],
   "source": [
    "%sql ALTER TABLE products ADD CONSTRAINT lock_table CHECK (false) NOT VALID;"
   ]
  },
  {
   "cell_type": "markdown",
   "id": "09fb8a94-2244-4682-b83b-2d356d4cd1d8",
   "metadata": {},
   "source": [
    "- You can check the constraint for old values manually.\n",
    "- To do that you can use VALIDATE command.\n",
    "- This statement throws error if there is any record that violates new constraint."
   ]
  },
  {
   "cell_type": "code",
   "execution_count": null,
   "id": "7cecc841-32ed-4174-a4b1-91930c507fd3",
   "metadata": {},
   "outputs": [],
   "source": [
    "%sql ALTER TABLE products VALIDATE CONSTRAINT lock_table;"
   ]
  },
  {
   "cell_type": "markdown",
   "id": "1f200c72-1010-495e-a985-e00d8e75f4ee",
   "metadata": {},
   "source": [
    "- Also when inserting new value to table it will throw error.\n",
    "- Because constraint does not allow new records."
   ]
  },
  {
   "cell_type": "code",
   "execution_count": null,
   "id": "18109720-60b6-4f05-a69c-516510484718",
   "metadata": {},
   "outputs": [],
   "source": [
    "%sql INSERT INTO products VALUES (3, 'product-3', 30);"
   ]
  },
  {
   "cell_type": "markdown",
   "id": "f5c0d53d-6e6e-4769-80d4-858bb35dc7fe",
   "metadata": {
    "jp-MarkdownHeadingCollapsed": true
   },
   "source": [
    "#### Constraint property DEFERRABLE (Independent from book)"
   ]
  },
  {
   "cell_type": "markdown",
   "id": "706a23b2-1d57-4715-8834-68aa697b9f93",
   "metadata": {},
   "source": [
    "- For constraints there is also DEFERRABLE property is available.\n",
    "- DEFERRABLE specifies action timing for constraints.\n",
    "- It specifies will constraint applied immediately or applied end of transaction.\n",
    "- Usage is: CONSTRAINT ... [ DEFERRABLE | NOT DEFERRABLE ] [ INITIALLY DEFERRED | INITIALLY IMMEDIATE ]\n",
    "    - [ DEFERRABLE | NOT DEFERRABLE ]: default value is NOT DEFERRABLE.\n",
    "    - [ INITIALLY DEFERRED | INITIALLY IMMEDIATE ]: default value is INITIALLY IMMEDIATE.\n",
    "- INITIALLY DEFERRED means in all operations constraint will be checked immediately before insert/update.\n",
    "- INITIALLY DEFERRED means checking constraint wil be deferred until end of transaction (commit, rollback or error states).\n",
    "- Actually this cases will be initial case for DEFERRABLE. That means you can change DEFERRED or IMMEDIATE status in the transaction. But this change is only valid in transaction. Does not affect other transactions.\n",
    "    - For example when defining foreign key constraint with DEFERRABLE without specifying immediate or deferred, its default value is INITIALLY IMMEDIATE.\n",
    "        - SET CONSTRAINT ... DEFERRED\n",
    "    - So when in transaction if foreign key will be given later in the transaction, you can set status to DEFERRED and foreign key constraint will be checked end of transaction.\n",
    "        - SET CONSTRAINT ... IMMEDIATE\n",
    "    - The reverse could have also been done. A constraint can be defined INITIALLY DEFERRED and you may want to see result of an operation without waiting end of transaction. So you can change it to IMMEDIATE in the transaction. Then constraint will be checked immediately.\n",
    "- If NOT DEFERRABLE used, you can not change the defer status in the transaction temporarily.\n",
    "- Yes it can be changed by using ALTER TABLE statement but if affects all latter transactions. Since this action involves modifying the database schema, it is not recommended to use it indiscriminately.\n",
    "    - ALTER TABLE ... DROP CONSTRAINT ...;\n",
    "    - ALTER TABLE ... ADD CONSTRAINT ... FOREIGN KEY (...) REFERENCES ... DEFERRABLE INITIALLY DEFERRED;"
   ]
  },
  {
   "cell_type": "markdown",
   "id": "115f322e-7e5d-4eb9-bedc-bf9243ae7768",
   "metadata": {},
   "source": [
    "- To see the effects in this section auto-commit will be disabled.\n",
    "- Do not forget to re-open for other sections."
   ]
  },
  {
   "cell_type": "code",
   "execution_count": null,
   "id": "28d61801-7bf4-41d4-a17b-bfe9660f0184",
   "metadata": {},
   "outputs": [],
   "source": [
    "%config SqlMagic.autocommit=False"
   ]
  },
  {
   "cell_type": "markdown",
   "id": "f10e7271-70df-4273-af5d-26718373e8f3",
   "metadata": {
    "jp-MarkdownHeadingCollapsed": true
   },
   "source": [
    "###### e.1 DEFERRABLE NOT DEFERRABLE usage"
   ]
  },
  {
   "cell_type": "markdown",
   "id": "8e02da5d-0dfb-4c36-b934-467d3ad80a6b",
   "metadata": {},
   "source": [
    "- Since default value for deferration is NOT DEFERRABLE, unique_product_no constraint will be NOT DEFERRABLE "
   ]
  },
  {
   "cell_type": "code",
   "execution_count": null,
   "id": "851f8ad9-2f1b-4e8c-bab3-2f7e386b7448",
   "metadata": {},
   "outputs": [],
   "source": [
    "%%sql\n",
    "DROP TABLE IF EXISTS products;\n",
    "CREATE TABLE products (\n",
    "\tproduct_no integer CONSTRAINT unique_product_no UNIQUE,\n",
    "\tname text,\n",
    "\tprice numeric\n",
    ");\n",
    "COMMIT;"
   ]
  },
  {
   "cell_type": "markdown",
   "id": "8ec87d98-ce90-42fe-a615-0be28b858d98",
   "metadata": {},
   "source": [
    "- Second insertion will throw error immediately without waiting the transaction ends. \n",
    "- Since error thrown in transaction, it rolls back and none of the insertions will be reflected in the table."
   ]
  },
  {
   "cell_type": "code",
   "execution_count": null,
   "id": "8642bcbe-6239-4684-bfd7-0912c193572e",
   "metadata": {},
   "outputs": [],
   "source": [
    "%%sql\n",
    "BEGIN;\n",
    "INSERT INTO products VALUES (1, 'product-1', 10);\n",
    "INSERT INTO products VALUES (1, 'product-1', 10);\n",
    "INSERT INTO products VALUES (2, 'product-2', 20);\n",
    "COMMIT;"
   ]
  },
  {
   "cell_type": "code",
   "execution_count": null,
   "id": "ff345427-9885-4478-b289-f670e8199270",
   "metadata": {},
   "outputs": [],
   "source": [
    "%sql SELECT * FROM products;"
   ]
  },
  {
   "cell_type": "markdown",
   "id": "9b26064b-c3b7-4787-90fe-3cff03218a12",
   "metadata": {
    "jp-MarkdownHeadingCollapsed": true
   },
   "source": [
    "###### e.2 DEFERRABLE INITIALLY DEFERRED usage"
   ]
  },
  {
   "cell_type": "markdown",
   "id": "582651dc-f874-41ce-97ac-b43340ac5f51",
   "metadata": {},
   "source": [
    "- Creating table with INITIALLY DEFERRED statement."
   ]
  },
  {
   "cell_type": "code",
   "execution_count": null,
   "id": "3c28a89f-009f-4e2c-b41c-8e2a051fc094",
   "metadata": {},
   "outputs": [],
   "source": [
    "%%sql\n",
    "DROP TABLE IF EXISTS products;\n",
    "CREATE TABLE products (\n",
    "\tproduct_no integer CONSTRAINT unique_product_no UNIQUE DEFERRABLE INITIALLY DEFERRED,\n",
    "\tname text,\n",
    "\tprice numeric\n",
    ");\n",
    "COMMIT;"
   ]
  },
  {
   "cell_type": "markdown",
   "id": "00a254bf-a638-4140-be65-a11f15da9e89",
   "metadata": {},
   "source": [
    "- In this transaction second insertion will not throw error. Because unique constraint check deferred until transaction ends.\n",
    "- In third statement products with id 1 are deleted.\n",
    "- And in fourth statement a product with id 1 is inserted to empty table.\n",
    "- At the end of transaction there is only 1 record which has id 1.\n",
    "- So transaction commit successfully because all records comply with unique constraint."
   ]
  },
  {
   "cell_type": "code",
   "execution_count": null,
   "id": "95e7a784-8c5c-4b79-932d-af2db90adbee",
   "metadata": {},
   "outputs": [],
   "source": [
    "%%sql\n",
    "BEGIN;\n",
    "INSERT INTO products VALUES (1, 'product-1', 10);\n",
    "INSERT INTO products VALUES (1, 'product-1', 10);\n",
    "DELETE FROM products where product_no=1;\n",
    "INSERT INTO products VALUES (1, 'product-1', 10);\n",
    "COMMIT;"
   ]
  },
  {
   "cell_type": "markdown",
   "id": "78d1d3f2-a9f2-4780-9a18-d3ea3844ff31",
   "metadata": {},
   "source": [
    "- In the end there is only 1 record in table."
   ]
  },
  {
   "cell_type": "code",
   "execution_count": null,
   "id": "1cf05cef-f9d1-423d-a839-64f9e715dd2d",
   "metadata": {},
   "outputs": [],
   "source": [
    "%sql SELECT * FROM products;"
   ]
  },
  {
   "cell_type": "markdown",
   "id": "536d1ee9-8474-4150-8714-259f474e709e",
   "metadata": {},
   "source": [
    "- An example that gives an error.\n",
    "- But the error will be thrown at the end of transaction."
   ]
  },
  {
   "cell_type": "code",
   "execution_count": null,
   "id": "bb26d390-2dde-4f53-888b-53c3d879dd37",
   "metadata": {},
   "outputs": [],
   "source": [
    "%%sql\n",
    "BEGIN;\n",
    "INSERT INTO products VALUES (1, 'product-1', 10);\n",
    "INSERT INTO products VALUES (1, 'product-1', 10);\n",
    "COMMIT;"
   ]
  },
  {
   "cell_type": "markdown",
   "id": "3ffd5c42-3f35-4ade-bdf6-fb4ae4a8c62f",
   "metadata": {
    "jp-MarkdownHeadingCollapsed": true
   },
   "source": [
    "###### e.3 Changing DEFERRABLE status in transaction"
   ]
  },
  {
   "cell_type": "markdown",
   "id": "4849b54e-8c92-4d05-9acb-8aa8f518dd05",
   "metadata": {},
   "source": [
    "- First creating a table with DEFERRABLE INITIALLY IMMEDIATE"
   ]
  },
  {
   "cell_type": "code",
   "execution_count": null,
   "id": "5c0251ab-95a1-46b3-ac20-965394b08b25",
   "metadata": {},
   "outputs": [],
   "source": [
    "%%sql\n",
    "DROP TABLE IF EXISTS products;\n",
    "CREATE TABLE products (\n",
    "\tproduct_no integer CONSTRAINT unique_product_no UNIQUE DEFERRABLE INITIALLY IMMEDIATE,\n",
    "\tname text,\n",
    "\tprice numeric\n",
    ");\n",
    "COMMIT;"
   ]
  },
  {
   "cell_type": "markdown",
   "id": "4afd3a50-8a63-4af1-984d-b36a39f4f95e",
   "metadata": {},
   "source": [
    "- In this transaction after adding a record to table changed CONSTRAINT status to DEFERRED.\n",
    "- When trying to add new record with same id do not throw error, because constraint deferred until transaction ends.\n",
    "- Since no error thrown, deleting records with id 1, adding new records with id 2 and 1 execute successfully.\n",
    "- When transaction ends unique constraint check validates that all records.\n",
    "- Since all records comply with constraint there is 2 record in the table in the end."
   ]
  },
  {
   "cell_type": "code",
   "execution_count": null,
   "id": "6e7cefd4-091c-44ba-bd2f-211ce27cbc9e",
   "metadata": {},
   "outputs": [],
   "source": [
    "%%sql\n",
    "BEGIN;\n",
    "INSERT INTO products VALUES (1, 'product-1', 10);\n",
    "SET CONSTRAINTS unique_product_no DEFERRED;\n",
    "INSERT INTO products VALUES (1, 'product-1', 10);\n",
    "DELETE FROM products WHERE product_no = 1;\n",
    "INSERT INTO products VALUES (2, 'product-2', 20);\n",
    "INSERT INTO products VALUES (1, 'product-1', 10);\n",
    "COMMIT;"
   ]
  },
  {
   "cell_type": "code",
   "execution_count": null,
   "id": "9e01317d-e9a2-4b3b-8454-ff99e7f9a694",
   "metadata": {},
   "outputs": [],
   "source": [
    "%sql SELECT * FROM products;"
   ]
  },
  {
   "cell_type": "markdown",
   "id": "3e352b98-b7eb-4029-91f1-1ca23be16b3c",
   "metadata": {},
   "source": [
    "###### e.4 Changing DEFERRABILITY"
   ]
  },
  {
   "cell_type": "markdown",
   "id": "debdc511-e814-4dde-998c-653832dcb8ea",
   "metadata": {},
   "source": [
    "- Not specified deferrability so it is NOT DEFERRABLE"
   ]
  },
  {
   "cell_type": "code",
   "execution_count": null,
   "id": "9c67b467-62bc-4c54-955a-1453fbe4e4e8",
   "metadata": {},
   "outputs": [],
   "source": [
    "%%sql\n",
    "DROP TABLE IF EXISTS products;\n",
    "CREATE TABLE products (\n",
    "\tproduct_no integer CONSTRAINT unique_product_no UNIQUE,\n",
    "\tname text,\n",
    "\tprice numeric\n",
    ");\n",
    "COMMIT;"
   ]
  },
  {
   "cell_type": "markdown",
   "id": "87fa0268-48ba-4239-a8e6-296700fbd08d",
   "metadata": {},
   "source": [
    "- Since unique_product_no is not deferrable, when change constraint to DEFERRED will cause error."
   ]
  },
  {
   "cell_type": "code",
   "execution_count": null,
   "id": "fccd1d6e-23f8-4782-ac90-650bbd9f1a64",
   "metadata": {},
   "outputs": [],
   "source": [
    "%%sql\n",
    "BEGIN;\n",
    "INSERT INTO products VALUES (1, 'product-1', 10);\n",
    "SET CONSTRAINTS unique_product_no DEFERRED;\n",
    "COMMIT;"
   ]
  },
  {
   "cell_type": "markdown",
   "id": "97624cb9-f1f7-4bbf-a953-98d335663634",
   "metadata": {},
   "source": [
    "- To make NOT DEFERRABLE constraint to DEFERRED, ALTER TABLE used.\n",
    "- This is not temporarily in transaction and affects all latter transactions."
   ]
  },
  {
   "cell_type": "code",
   "execution_count": null,
   "id": "01974848-00cc-4868-ac0a-18a716510c09",
   "metadata": {},
   "outputs": [],
   "source": [
    "%%sql\n",
    "BEGIN;\n",
    "INSERT INTO products VALUES (1, 'product-1', 10);\n",
    "ALTER TABLE products DROP CONSTRAINT unique_product_no;\n",
    "ALTER TABLE products ADD CONSTRAINT unique_product_no UNIQUE(product_no) DEFERRABLE INITIALLY DEFERRED;\n",
    "INSERT INTO products VALUES (1, 'product-1', 10);\n",
    "DELETE FROM products WHERE product_no = 1;\n",
    "INSERT INTO products VALUES (2, 'product-2', 20);\n",
    "INSERT INTO products VALUES (1, 'product-1', 10);\n",
    "COMMIT;"
   ]
  },
  {
   "cell_type": "code",
   "execution_count": null,
   "id": "25d8745a-d270-4d9b-9b61-e6fb32a33018",
   "metadata": {},
   "outputs": [],
   "source": [
    "%sql SELECT * FROM products;"
   ]
  },
  {
   "cell_type": "code",
   "execution_count": null,
   "id": "41f7d337-4e26-4432-b45f-b60509964bdb",
   "metadata": {},
   "outputs": [],
   "source": []
  }
 ],
 "metadata": {
  "kernelspec": {
   "display_name": "Python 3 (ipykernel)",
   "language": "python",
   "name": "python3"
  },
  "language_info": {
   "codemirror_mode": {
    "name": "ipython",
    "version": 3
   },
   "file_extension": ".py",
   "mimetype": "text/x-python",
   "name": "python",
   "nbconvert_exporter": "python",
   "pygments_lexer": "ipython3",
   "version": "3.12.3"
  }
 },
 "nbformat": 4,
 "nbformat_minor": 5
}
